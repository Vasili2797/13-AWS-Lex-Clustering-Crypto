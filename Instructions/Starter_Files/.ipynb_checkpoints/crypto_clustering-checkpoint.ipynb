{
 "cells": [
  {
   "cell_type": "markdown",
   "metadata": {},
   "source": [
    "# Clustering Crypto"
   ]
  },
  {
   "cell_type": "code",
   "execution_count": 171,
   "metadata": {},
   "outputs": [],
   "source": [
    "# Initial imports\n",
    "import requests\n",
    "import pandas as pd\n",
    "import matplotlib.pyplot as plt\n",
    "import hvplot.pandas\n",
    "import plotly.express as px\n",
    "from sklearn.preprocessing import StandardScaler, MinMaxScaler\n",
    "from sklearn.decomposition import PCA\n",
    "from sklearn.cluster import KMeans\n",
    "from pathlib import Path"
   ]
  },
  {
   "cell_type": "markdown",
   "metadata": {},
   "source": [
    "### Fetching Cryptocurrency Data"
   ]
  },
  {
   "cell_type": "code",
   "execution_count": 172,
   "metadata": {},
   "outputs": [],
   "source": [
    "# Use the following endpoint to fetch json data\n",
    "url = \"https://min-api.cryptocompare.com/data/all/coinlist\""
   ]
  },
  {
   "cell_type": "code",
   "execution_count": 173,
   "metadata": {},
   "outputs": [],
   "source": [
    "# Create a DataFrame \n",
    "# HINT: You will need to use the 'Data' key from the json response, then transpose the DataFrame.\n"
   ]
  },
  {
   "cell_type": "code",
   "execution_count": 174,
   "metadata": {},
   "outputs": [
    {
     "data": {
      "text/html": [
       "<div>\n",
       "<style scoped>\n",
       "    .dataframe tbody tr th:only-of-type {\n",
       "        vertical-align: middle;\n",
       "    }\n",
       "\n",
       "    .dataframe tbody tr th {\n",
       "        vertical-align: top;\n",
       "    }\n",
       "\n",
       "    .dataframe thead th {\n",
       "        text-align: right;\n",
       "    }\n",
       "</style>\n",
       "<table border=\"1\" class=\"dataframe\">\n",
       "  <thead>\n",
       "    <tr style=\"text-align: right;\">\n",
       "      <th></th>\n",
       "      <th>Unnamed: 0</th>\n",
       "      <th>CoinName</th>\n",
       "      <th>Algorithm</th>\n",
       "      <th>IsTrading</th>\n",
       "      <th>ProofType</th>\n",
       "      <th>TotalCoinsMined</th>\n",
       "      <th>TotalCoinSupply</th>\n",
       "    </tr>\n",
       "  </thead>\n",
       "  <tbody>\n",
       "    <tr>\n",
       "      <th>0</th>\n",
       "      <td>42</td>\n",
       "      <td>42 Coin</td>\n",
       "      <td>Scrypt</td>\n",
       "      <td>True</td>\n",
       "      <td>PoW/PoS</td>\n",
       "      <td>4.199995e+01</td>\n",
       "      <td>42</td>\n",
       "    </tr>\n",
       "    <tr>\n",
       "      <th>1</th>\n",
       "      <td>365</td>\n",
       "      <td>365Coin</td>\n",
       "      <td>X11</td>\n",
       "      <td>True</td>\n",
       "      <td>PoW/PoS</td>\n",
       "      <td>NaN</td>\n",
       "      <td>2300000000</td>\n",
       "    </tr>\n",
       "    <tr>\n",
       "      <th>2</th>\n",
       "      <td>404</td>\n",
       "      <td>404Coin</td>\n",
       "      <td>Scrypt</td>\n",
       "      <td>True</td>\n",
       "      <td>PoW/PoS</td>\n",
       "      <td>1.055185e+09</td>\n",
       "      <td>532000000</td>\n",
       "    </tr>\n",
       "    <tr>\n",
       "      <th>3</th>\n",
       "      <td>611</td>\n",
       "      <td>SixEleven</td>\n",
       "      <td>SHA-256</td>\n",
       "      <td>True</td>\n",
       "      <td>PoW</td>\n",
       "      <td>NaN</td>\n",
       "      <td>611000</td>\n",
       "    </tr>\n",
       "    <tr>\n",
       "      <th>4</th>\n",
       "      <td>808</td>\n",
       "      <td>808</td>\n",
       "      <td>SHA-256</td>\n",
       "      <td>True</td>\n",
       "      <td>PoW/PoS</td>\n",
       "      <td>0.000000e+00</td>\n",
       "      <td>0</td>\n",
       "    </tr>\n",
       "    <tr>\n",
       "      <th>5</th>\n",
       "      <td>1337</td>\n",
       "      <td>EliteCoin</td>\n",
       "      <td>X13</td>\n",
       "      <td>True</td>\n",
       "      <td>PoW/PoS</td>\n",
       "      <td>2.927942e+10</td>\n",
       "      <td>314159265359</td>\n",
       "    </tr>\n",
       "    <tr>\n",
       "      <th>6</th>\n",
       "      <td>2015</td>\n",
       "      <td>2015 coin</td>\n",
       "      <td>X11</td>\n",
       "      <td>True</td>\n",
       "      <td>PoW/PoS</td>\n",
       "      <td>NaN</td>\n",
       "      <td>0</td>\n",
       "    </tr>\n",
       "    <tr>\n",
       "      <th>7</th>\n",
       "      <td>BTC</td>\n",
       "      <td>Bitcoin</td>\n",
       "      <td>SHA-256</td>\n",
       "      <td>True</td>\n",
       "      <td>PoW</td>\n",
       "      <td>1.792718e+07</td>\n",
       "      <td>21000000</td>\n",
       "    </tr>\n",
       "    <tr>\n",
       "      <th>8</th>\n",
       "      <td>ETH</td>\n",
       "      <td>Ethereum</td>\n",
       "      <td>Ethash</td>\n",
       "      <td>True</td>\n",
       "      <td>PoW</td>\n",
       "      <td>1.076842e+08</td>\n",
       "      <td>0</td>\n",
       "    </tr>\n",
       "    <tr>\n",
       "      <th>9</th>\n",
       "      <td>LTC</td>\n",
       "      <td>Litecoin</td>\n",
       "      <td>Scrypt</td>\n",
       "      <td>True</td>\n",
       "      <td>PoW</td>\n",
       "      <td>6.303924e+07</td>\n",
       "      <td>84000000</td>\n",
       "    </tr>\n",
       "  </tbody>\n",
       "</table>\n",
       "</div>"
      ],
      "text/plain": [
       "  Unnamed: 0   CoinName Algorithm  IsTrading ProofType  TotalCoinsMined  \\\n",
       "0         42    42 Coin    Scrypt       True   PoW/PoS     4.199995e+01   \n",
       "1        365    365Coin       X11       True   PoW/PoS              NaN   \n",
       "2        404    404Coin    Scrypt       True   PoW/PoS     1.055185e+09   \n",
       "3        611  SixEleven   SHA-256       True       PoW              NaN   \n",
       "4        808        808   SHA-256       True   PoW/PoS     0.000000e+00   \n",
       "5       1337  EliteCoin       X13       True   PoW/PoS     2.927942e+10   \n",
       "6       2015  2015 coin       X11       True   PoW/PoS              NaN   \n",
       "7        BTC    Bitcoin   SHA-256       True       PoW     1.792718e+07   \n",
       "8        ETH   Ethereum    Ethash       True       PoW     1.076842e+08   \n",
       "9        LTC   Litecoin    Scrypt       True       PoW     6.303924e+07   \n",
       "\n",
       "  TotalCoinSupply  \n",
       "0              42  \n",
       "1      2300000000  \n",
       "2       532000000  \n",
       "3          611000  \n",
       "4               0  \n",
       "5    314159265359  \n",
       "6               0  \n",
       "7        21000000  \n",
       "8               0  \n",
       "9        84000000  "
      ]
     },
     "execution_count": 174,
     "metadata": {},
     "output_type": "execute_result"
    }
   ],
   "source": [
    "# Alternatively, use the provided csv file:\n",
    "# file_path = Path(\"Resources/crypto_data.csv\")\n",
    "file_path = Path(\"Resources/crypto_data.csv\")\n",
    "# Create a DataFrame\n",
    "df = pd.read_csv(file_path)\n",
    "df.head(10)"
   ]
  },
  {
   "cell_type": "markdown",
   "metadata": {},
   "source": [
    "### Data Preprocessing"
   ]
  },
  {
   "cell_type": "code",
   "execution_count": 175,
   "metadata": {},
   "outputs": [
    {
     "data": {
      "text/html": [
       "<div>\n",
       "<style scoped>\n",
       "    .dataframe tbody tr th:only-of-type {\n",
       "        vertical-align: middle;\n",
       "    }\n",
       "\n",
       "    .dataframe tbody tr th {\n",
       "        vertical-align: top;\n",
       "    }\n",
       "\n",
       "    .dataframe thead th {\n",
       "        text-align: right;\n",
       "    }\n",
       "</style>\n",
       "<table border=\"1\" class=\"dataframe\">\n",
       "  <thead>\n",
       "    <tr style=\"text-align: right;\">\n",
       "      <th></th>\n",
       "      <th>CoinName</th>\n",
       "      <th>Algorithm</th>\n",
       "      <th>IsTrading</th>\n",
       "      <th>ProofType</th>\n",
       "      <th>TotalCoinsMined</th>\n",
       "      <th>TotalCoinSupply</th>\n",
       "    </tr>\n",
       "  </thead>\n",
       "  <tbody>\n",
       "    <tr>\n",
       "      <th>0</th>\n",
       "      <td>42 Coin</td>\n",
       "      <td>Scrypt</td>\n",
       "      <td>True</td>\n",
       "      <td>PoW/PoS</td>\n",
       "      <td>4.199995e+01</td>\n",
       "      <td>42</td>\n",
       "    </tr>\n",
       "    <tr>\n",
       "      <th>1</th>\n",
       "      <td>365Coin</td>\n",
       "      <td>X11</td>\n",
       "      <td>True</td>\n",
       "      <td>PoW/PoS</td>\n",
       "      <td>NaN</td>\n",
       "      <td>2300000000</td>\n",
       "    </tr>\n",
       "    <tr>\n",
       "      <th>2</th>\n",
       "      <td>404Coin</td>\n",
       "      <td>Scrypt</td>\n",
       "      <td>True</td>\n",
       "      <td>PoW/PoS</td>\n",
       "      <td>1.055185e+09</td>\n",
       "      <td>532000000</td>\n",
       "    </tr>\n",
       "    <tr>\n",
       "      <th>3</th>\n",
       "      <td>SixEleven</td>\n",
       "      <td>SHA-256</td>\n",
       "      <td>True</td>\n",
       "      <td>PoW</td>\n",
       "      <td>NaN</td>\n",
       "      <td>611000</td>\n",
       "    </tr>\n",
       "    <tr>\n",
       "      <th>4</th>\n",
       "      <td>808</td>\n",
       "      <td>SHA-256</td>\n",
       "      <td>True</td>\n",
       "      <td>PoW/PoS</td>\n",
       "      <td>0.000000e+00</td>\n",
       "      <td>0</td>\n",
       "    </tr>\n",
       "  </tbody>\n",
       "</table>\n",
       "</div>"
      ],
      "text/plain": [
       "    CoinName Algorithm  IsTrading ProofType  TotalCoinsMined TotalCoinSupply\n",
       "0    42 Coin    Scrypt       True   PoW/PoS     4.199995e+01              42\n",
       "1    365Coin       X11       True   PoW/PoS              NaN      2300000000\n",
       "2    404Coin    Scrypt       True   PoW/PoS     1.055185e+09       532000000\n",
       "3  SixEleven   SHA-256       True       PoW              NaN          611000\n",
       "4        808   SHA-256       True   PoW/PoS     0.000000e+00               0"
      ]
     },
     "execution_count": 175,
     "metadata": {},
     "output_type": "execute_result"
    }
   ],
   "source": [
    "# Keep only necessary columns:\n",
    "# 'CoinName','Algorithm','IsTrading','ProofType','TotalCoinsMined','TotalCoinSupply'\n",
    "df = df[['CoinName','Algorithm','IsTrading','ProofType','TotalCoinsMined','TotalCoinSupply']]\n",
    "df.head()"
   ]
  },
  {
   "cell_type": "code",
   "execution_count": 176,
   "metadata": {},
   "outputs": [
    {
     "data": {
      "text/html": [
       "<div>\n",
       "<style scoped>\n",
       "    .dataframe tbody tr th:only-of-type {\n",
       "        vertical-align: middle;\n",
       "    }\n",
       "\n",
       "    .dataframe tbody tr th {\n",
       "        vertical-align: top;\n",
       "    }\n",
       "\n",
       "    .dataframe thead th {\n",
       "        text-align: right;\n",
       "    }\n",
       "</style>\n",
       "<table border=\"1\" class=\"dataframe\">\n",
       "  <thead>\n",
       "    <tr style=\"text-align: right;\">\n",
       "      <th></th>\n",
       "      <th>CoinName</th>\n",
       "      <th>Algorithm</th>\n",
       "      <th>IsTrading</th>\n",
       "      <th>ProofType</th>\n",
       "      <th>TotalCoinsMined</th>\n",
       "      <th>TotalCoinSupply</th>\n",
       "    </tr>\n",
       "  </thead>\n",
       "  <tbody>\n",
       "    <tr>\n",
       "      <th>0</th>\n",
       "      <td>42 Coin</td>\n",
       "      <td>Scrypt</td>\n",
       "      <td>True</td>\n",
       "      <td>PoW/PoS</td>\n",
       "      <td>4.199995e+01</td>\n",
       "      <td>42</td>\n",
       "    </tr>\n",
       "    <tr>\n",
       "      <th>1</th>\n",
       "      <td>365Coin</td>\n",
       "      <td>X11</td>\n",
       "      <td>True</td>\n",
       "      <td>PoW/PoS</td>\n",
       "      <td>NaN</td>\n",
       "      <td>2300000000</td>\n",
       "    </tr>\n",
       "    <tr>\n",
       "      <th>2</th>\n",
       "      <td>404Coin</td>\n",
       "      <td>Scrypt</td>\n",
       "      <td>True</td>\n",
       "      <td>PoW/PoS</td>\n",
       "      <td>1.055185e+09</td>\n",
       "      <td>532000000</td>\n",
       "    </tr>\n",
       "    <tr>\n",
       "      <th>3</th>\n",
       "      <td>SixEleven</td>\n",
       "      <td>SHA-256</td>\n",
       "      <td>True</td>\n",
       "      <td>PoW</td>\n",
       "      <td>NaN</td>\n",
       "      <td>611000</td>\n",
       "    </tr>\n",
       "    <tr>\n",
       "      <th>4</th>\n",
       "      <td>808</td>\n",
       "      <td>SHA-256</td>\n",
       "      <td>True</td>\n",
       "      <td>PoW/PoS</td>\n",
       "      <td>0.000000e+00</td>\n",
       "      <td>0</td>\n",
       "    </tr>\n",
       "  </tbody>\n",
       "</table>\n",
       "</div>"
      ],
      "text/plain": [
       "    CoinName Algorithm  IsTrading ProofType  TotalCoinsMined TotalCoinSupply\n",
       "0    42 Coin    Scrypt       True   PoW/PoS     4.199995e+01              42\n",
       "1    365Coin       X11       True   PoW/PoS              NaN      2300000000\n",
       "2    404Coin    Scrypt       True   PoW/PoS     1.055185e+09       532000000\n",
       "3  SixEleven   SHA-256       True       PoW              NaN          611000\n",
       "4        808   SHA-256       True   PoW/PoS     0.000000e+00               0"
      ]
     },
     "execution_count": 176,
     "metadata": {},
     "output_type": "execute_result"
    }
   ],
   "source": [
    "# Keep only cryptocurrencies that are trading\n",
    "df_filtered = df[df['IsTrading'] == True]\n",
    "df_filtered.head()"
   ]
  },
  {
   "cell_type": "code",
   "execution_count": 177,
   "metadata": {},
   "outputs": [
    {
     "name": "stdout",
     "output_type": "stream",
     "text": [
      "459\n",
      "0\n"
     ]
    }
   ],
   "source": [
    "# Keep only cryptocurrencies with a working algorithm\n",
    "print(df_filtered['TotalCoinsMined'].isnull().sum())\n",
    "working_algorithm_df = df_filtered[df_filtered['TotalCoinsMined'].notna()]\n",
    "print(working_algorithm_df['TotalCoinsMined'].isnull().sum())"
   ]
  },
  {
   "cell_type": "code",
   "execution_count": 178,
   "metadata": {},
   "outputs": [
    {
     "data": {
      "text/html": [
       "<div>\n",
       "<style scoped>\n",
       "    .dataframe tbody tr th:only-of-type {\n",
       "        vertical-align: middle;\n",
       "    }\n",
       "\n",
       "    .dataframe tbody tr th {\n",
       "        vertical-align: top;\n",
       "    }\n",
       "\n",
       "    .dataframe thead th {\n",
       "        text-align: right;\n",
       "    }\n",
       "</style>\n",
       "<table border=\"1\" class=\"dataframe\">\n",
       "  <thead>\n",
       "    <tr style=\"text-align: right;\">\n",
       "      <th></th>\n",
       "      <th>CoinName</th>\n",
       "      <th>Algorithm</th>\n",
       "      <th>ProofType</th>\n",
       "      <th>TotalCoinsMined</th>\n",
       "      <th>TotalCoinSupply</th>\n",
       "    </tr>\n",
       "  </thead>\n",
       "  <tbody>\n",
       "    <tr>\n",
       "      <th>0</th>\n",
       "      <td>42 Coin</td>\n",
       "      <td>Scrypt</td>\n",
       "      <td>PoW/PoS</td>\n",
       "      <td>4.199995e+01</td>\n",
       "      <td>42</td>\n",
       "    </tr>\n",
       "    <tr>\n",
       "      <th>2</th>\n",
       "      <td>404Coin</td>\n",
       "      <td>Scrypt</td>\n",
       "      <td>PoW/PoS</td>\n",
       "      <td>1.055185e+09</td>\n",
       "      <td>532000000</td>\n",
       "    </tr>\n",
       "    <tr>\n",
       "      <th>4</th>\n",
       "      <td>808</td>\n",
       "      <td>SHA-256</td>\n",
       "      <td>PoW/PoS</td>\n",
       "      <td>0.000000e+00</td>\n",
       "      <td>0</td>\n",
       "    </tr>\n",
       "    <tr>\n",
       "      <th>5</th>\n",
       "      <td>EliteCoin</td>\n",
       "      <td>X13</td>\n",
       "      <td>PoW/PoS</td>\n",
       "      <td>2.927942e+10</td>\n",
       "      <td>314159265359</td>\n",
       "    </tr>\n",
       "    <tr>\n",
       "      <th>7</th>\n",
       "      <td>Bitcoin</td>\n",
       "      <td>SHA-256</td>\n",
       "      <td>PoW</td>\n",
       "      <td>1.792718e+07</td>\n",
       "      <td>21000000</td>\n",
       "    </tr>\n",
       "  </tbody>\n",
       "</table>\n",
       "</div>"
      ],
      "text/plain": [
       "    CoinName Algorithm ProofType  TotalCoinsMined TotalCoinSupply\n",
       "0    42 Coin    Scrypt   PoW/PoS     4.199995e+01              42\n",
       "2    404Coin    Scrypt   PoW/PoS     1.055185e+09       532000000\n",
       "4        808   SHA-256   PoW/PoS     0.000000e+00               0\n",
       "5  EliteCoin       X13   PoW/PoS     2.927942e+10    314159265359\n",
       "7    Bitcoin   SHA-256       PoW     1.792718e+07        21000000"
      ]
     },
     "execution_count": 178,
     "metadata": {},
     "output_type": "execute_result"
    }
   ],
   "source": [
    "# Remove the \"IsTrading\" column\n",
    "working_algorithm_df = working_algorithm_df.drop(['IsTrading'], axis=1)\n",
    "working_algorithm_df.head()"
   ]
  },
  {
   "cell_type": "code",
   "execution_count": 179,
   "metadata": {},
   "outputs": [
    {
     "data": {
      "text/html": [
       "<div>\n",
       "<style scoped>\n",
       "    .dataframe tbody tr th:only-of-type {\n",
       "        vertical-align: middle;\n",
       "    }\n",
       "\n",
       "    .dataframe tbody tr th {\n",
       "        vertical-align: top;\n",
       "    }\n",
       "\n",
       "    .dataframe thead th {\n",
       "        text-align: right;\n",
       "    }\n",
       "</style>\n",
       "<table border=\"1\" class=\"dataframe\">\n",
       "  <thead>\n",
       "    <tr style=\"text-align: right;\">\n",
       "      <th></th>\n",
       "      <th>CoinName</th>\n",
       "      <th>Algorithm</th>\n",
       "      <th>ProofType</th>\n",
       "      <th>TotalCoinsMined</th>\n",
       "      <th>TotalCoinSupply</th>\n",
       "    </tr>\n",
       "  </thead>\n",
       "  <tbody>\n",
       "    <tr>\n",
       "      <th>0</th>\n",
       "      <td>42 Coin</td>\n",
       "      <td>Scrypt</td>\n",
       "      <td>PoW/PoS</td>\n",
       "      <td>4.199995e+01</td>\n",
       "      <td>42</td>\n",
       "    </tr>\n",
       "    <tr>\n",
       "      <th>2</th>\n",
       "      <td>404Coin</td>\n",
       "      <td>Scrypt</td>\n",
       "      <td>PoW/PoS</td>\n",
       "      <td>1.055185e+09</td>\n",
       "      <td>532000000</td>\n",
       "    </tr>\n",
       "    <tr>\n",
       "      <th>4</th>\n",
       "      <td>808</td>\n",
       "      <td>SHA-256</td>\n",
       "      <td>PoW/PoS</td>\n",
       "      <td>0.000000e+00</td>\n",
       "      <td>0</td>\n",
       "    </tr>\n",
       "    <tr>\n",
       "      <th>5</th>\n",
       "      <td>EliteCoin</td>\n",
       "      <td>X13</td>\n",
       "      <td>PoW/PoS</td>\n",
       "      <td>2.927942e+10</td>\n",
       "      <td>314159265359</td>\n",
       "    </tr>\n",
       "    <tr>\n",
       "      <th>7</th>\n",
       "      <td>Bitcoin</td>\n",
       "      <td>SHA-256</td>\n",
       "      <td>PoW</td>\n",
       "      <td>1.792718e+07</td>\n",
       "      <td>21000000</td>\n",
       "    </tr>\n",
       "    <tr>\n",
       "      <th>...</th>\n",
       "      <td>...</td>\n",
       "      <td>...</td>\n",
       "      <td>...</td>\n",
       "      <td>...</td>\n",
       "      <td>...</td>\n",
       "    </tr>\n",
       "    <tr>\n",
       "      <th>1238</th>\n",
       "      <td>ZEPHYR</td>\n",
       "      <td>SHA-256</td>\n",
       "      <td>DPoS</td>\n",
       "      <td>2.000000e+09</td>\n",
       "      <td>2000000000</td>\n",
       "    </tr>\n",
       "    <tr>\n",
       "      <th>1242</th>\n",
       "      <td>Gapcoin</td>\n",
       "      <td>Scrypt</td>\n",
       "      <td>PoW/PoS</td>\n",
       "      <td>1.493105e+07</td>\n",
       "      <td>250000000</td>\n",
       "    </tr>\n",
       "    <tr>\n",
       "      <th>1245</th>\n",
       "      <td>Beldex</td>\n",
       "      <td>CryptoNight</td>\n",
       "      <td>PoW</td>\n",
       "      <td>9.802226e+08</td>\n",
       "      <td>1400222610</td>\n",
       "    </tr>\n",
       "    <tr>\n",
       "      <th>1246</th>\n",
       "      <td>Horizen</td>\n",
       "      <td>Equihash</td>\n",
       "      <td>PoW</td>\n",
       "      <td>7.296538e+06</td>\n",
       "      <td>21000000</td>\n",
       "    </tr>\n",
       "    <tr>\n",
       "      <th>1247</th>\n",
       "      <td>BitcoinPlus</td>\n",
       "      <td>Scrypt</td>\n",
       "      <td>PoS</td>\n",
       "      <td>1.283270e+05</td>\n",
       "      <td>1000000</td>\n",
       "    </tr>\n",
       "  </tbody>\n",
       "</table>\n",
       "<p>685 rows × 5 columns</p>\n",
       "</div>"
      ],
      "text/plain": [
       "         CoinName    Algorithm ProofType  TotalCoinsMined TotalCoinSupply\n",
       "0         42 Coin       Scrypt   PoW/PoS     4.199995e+01              42\n",
       "2         404Coin       Scrypt   PoW/PoS     1.055185e+09       532000000\n",
       "4             808      SHA-256   PoW/PoS     0.000000e+00               0\n",
       "5       EliteCoin          X13   PoW/PoS     2.927942e+10    314159265359\n",
       "7         Bitcoin      SHA-256       PoW     1.792718e+07        21000000\n",
       "...           ...          ...       ...              ...             ...\n",
       "1238       ZEPHYR      SHA-256      DPoS     2.000000e+09      2000000000\n",
       "1242      Gapcoin       Scrypt   PoW/PoS     1.493105e+07       250000000\n",
       "1245       Beldex  CryptoNight       PoW     9.802226e+08      1400222610\n",
       "1246      Horizen     Equihash       PoW     7.296538e+06        21000000\n",
       "1247  BitcoinPlus       Scrypt       PoS     1.283270e+05         1000000\n",
       "\n",
       "[685 rows x 5 columns]"
      ]
     },
     "execution_count": 179,
     "metadata": {},
     "output_type": "execute_result"
    }
   ],
   "source": [
    "# Remove rows with at least 1 null value\n",
    "working_algorithm_df.dropna(how='any',axis=0)"
   ]
  },
  {
   "cell_type": "code",
   "execution_count": 180,
   "metadata": {},
   "outputs": [
    {
     "data": {
      "text/html": [
       "<div>\n",
       "<style scoped>\n",
       "    .dataframe tbody tr th:only-of-type {\n",
       "        vertical-align: middle;\n",
       "    }\n",
       "\n",
       "    .dataframe tbody tr th {\n",
       "        vertical-align: top;\n",
       "    }\n",
       "\n",
       "    .dataframe thead th {\n",
       "        text-align: right;\n",
       "    }\n",
       "</style>\n",
       "<table border=\"1\" class=\"dataframe\">\n",
       "  <thead>\n",
       "    <tr style=\"text-align: right;\">\n",
       "      <th></th>\n",
       "      <th>CoinName</th>\n",
       "      <th>Algorithm</th>\n",
       "      <th>ProofType</th>\n",
       "      <th>TotalCoinsMined</th>\n",
       "      <th>TotalCoinSupply</th>\n",
       "    </tr>\n",
       "  </thead>\n",
       "  <tbody>\n",
       "    <tr>\n",
       "      <th>0</th>\n",
       "      <td>42 Coin</td>\n",
       "      <td>Scrypt</td>\n",
       "      <td>PoW/PoS</td>\n",
       "      <td>4.199995e+01</td>\n",
       "      <td>42</td>\n",
       "    </tr>\n",
       "    <tr>\n",
       "      <th>2</th>\n",
       "      <td>404Coin</td>\n",
       "      <td>Scrypt</td>\n",
       "      <td>PoW/PoS</td>\n",
       "      <td>1.055185e+09</td>\n",
       "      <td>532000000</td>\n",
       "    </tr>\n",
       "    <tr>\n",
       "      <th>5</th>\n",
       "      <td>EliteCoin</td>\n",
       "      <td>X13</td>\n",
       "      <td>PoW/PoS</td>\n",
       "      <td>2.927942e+10</td>\n",
       "      <td>314159265359</td>\n",
       "    </tr>\n",
       "    <tr>\n",
       "      <th>7</th>\n",
       "      <td>Bitcoin</td>\n",
       "      <td>SHA-256</td>\n",
       "      <td>PoW</td>\n",
       "      <td>1.792718e+07</td>\n",
       "      <td>21000000</td>\n",
       "    </tr>\n",
       "    <tr>\n",
       "      <th>8</th>\n",
       "      <td>Ethereum</td>\n",
       "      <td>Ethash</td>\n",
       "      <td>PoW</td>\n",
       "      <td>1.076842e+08</td>\n",
       "      <td>0</td>\n",
       "    </tr>\n",
       "    <tr>\n",
       "      <th>...</th>\n",
       "      <td>...</td>\n",
       "      <td>...</td>\n",
       "      <td>...</td>\n",
       "      <td>...</td>\n",
       "      <td>...</td>\n",
       "    </tr>\n",
       "    <tr>\n",
       "      <th>1238</th>\n",
       "      <td>ZEPHYR</td>\n",
       "      <td>SHA-256</td>\n",
       "      <td>DPoS</td>\n",
       "      <td>2.000000e+09</td>\n",
       "      <td>2000000000</td>\n",
       "    </tr>\n",
       "    <tr>\n",
       "      <th>1242</th>\n",
       "      <td>Gapcoin</td>\n",
       "      <td>Scrypt</td>\n",
       "      <td>PoW/PoS</td>\n",
       "      <td>1.493105e+07</td>\n",
       "      <td>250000000</td>\n",
       "    </tr>\n",
       "    <tr>\n",
       "      <th>1245</th>\n",
       "      <td>Beldex</td>\n",
       "      <td>CryptoNight</td>\n",
       "      <td>PoW</td>\n",
       "      <td>9.802226e+08</td>\n",
       "      <td>1400222610</td>\n",
       "    </tr>\n",
       "    <tr>\n",
       "      <th>1246</th>\n",
       "      <td>Horizen</td>\n",
       "      <td>Equihash</td>\n",
       "      <td>PoW</td>\n",
       "      <td>7.296538e+06</td>\n",
       "      <td>21000000</td>\n",
       "    </tr>\n",
       "    <tr>\n",
       "      <th>1247</th>\n",
       "      <td>BitcoinPlus</td>\n",
       "      <td>Scrypt</td>\n",
       "      <td>PoS</td>\n",
       "      <td>1.283270e+05</td>\n",
       "      <td>1000000</td>\n",
       "    </tr>\n",
       "  </tbody>\n",
       "</table>\n",
       "<p>532 rows × 5 columns</p>\n",
       "</div>"
      ],
      "text/plain": [
       "         CoinName    Algorithm ProofType  TotalCoinsMined TotalCoinSupply\n",
       "0         42 Coin       Scrypt   PoW/PoS     4.199995e+01              42\n",
       "2         404Coin       Scrypt   PoW/PoS     1.055185e+09       532000000\n",
       "5       EliteCoin          X13   PoW/PoS     2.927942e+10    314159265359\n",
       "7         Bitcoin      SHA-256       PoW     1.792718e+07        21000000\n",
       "8        Ethereum       Ethash       PoW     1.076842e+08               0\n",
       "...           ...          ...       ...              ...             ...\n",
       "1238       ZEPHYR      SHA-256      DPoS     2.000000e+09      2000000000\n",
       "1242      Gapcoin       Scrypt   PoW/PoS     1.493105e+07       250000000\n",
       "1245       Beldex  CryptoNight       PoW     9.802226e+08      1400222610\n",
       "1246      Horizen     Equihash       PoW     7.296538e+06        21000000\n",
       "1247  BitcoinPlus       Scrypt       PoS     1.283270e+05         1000000\n",
       "\n",
       "[532 rows x 5 columns]"
      ]
     },
     "execution_count": 180,
     "metadata": {},
     "output_type": "execute_result"
    }
   ],
   "source": [
    "# Remove rows with cryptocurrencies having no coins mined\n",
    "working_algorithm_df[working_algorithm_df.TotalCoinsMined > 0]"
   ]
  },
  {
   "cell_type": "code",
   "execution_count": 193,
   "metadata": {},
   "outputs": [
    {
     "data": {
      "text/html": [
       "<div>\n",
       "<style scoped>\n",
       "    .dataframe tbody tr th:only-of-type {\n",
       "        vertical-align: middle;\n",
       "    }\n",
       "\n",
       "    .dataframe tbody tr th {\n",
       "        vertical-align: top;\n",
       "    }\n",
       "\n",
       "    .dataframe thead th {\n",
       "        text-align: right;\n",
       "    }\n",
       "</style>\n",
       "<table border=\"1\" class=\"dataframe\">\n",
       "  <thead>\n",
       "    <tr style=\"text-align: right;\">\n",
       "      <th></th>\n",
       "      <th>CoinName</th>\n",
       "      <th>Algorithm</th>\n",
       "      <th>ProofType</th>\n",
       "      <th>TotalCoinsMined</th>\n",
       "      <th>TotalCoinSupply</th>\n",
       "    </tr>\n",
       "  </thead>\n",
       "  <tbody>\n",
       "    <tr>\n",
       "      <th>0</th>\n",
       "      <td>42 Coin</td>\n",
       "      <td>Scrypt</td>\n",
       "      <td>PoW/PoS</td>\n",
       "      <td>4.199995e+01</td>\n",
       "      <td>42</td>\n",
       "    </tr>\n",
       "    <tr>\n",
       "      <th>2</th>\n",
       "      <td>404Coin</td>\n",
       "      <td>Scrypt</td>\n",
       "      <td>PoW/PoS</td>\n",
       "      <td>1.055185e+09</td>\n",
       "      <td>532000000</td>\n",
       "    </tr>\n",
       "    <tr>\n",
       "      <th>4</th>\n",
       "      <td>808</td>\n",
       "      <td>SHA-256</td>\n",
       "      <td>PoW/PoS</td>\n",
       "      <td>0.000000e+00</td>\n",
       "      <td>0</td>\n",
       "    </tr>\n",
       "    <tr>\n",
       "      <th>5</th>\n",
       "      <td>EliteCoin</td>\n",
       "      <td>X13</td>\n",
       "      <td>PoW/PoS</td>\n",
       "      <td>2.927942e+10</td>\n",
       "      <td>314159265359</td>\n",
       "    </tr>\n",
       "    <tr>\n",
       "      <th>7</th>\n",
       "      <td>Bitcoin</td>\n",
       "      <td>SHA-256</td>\n",
       "      <td>PoW</td>\n",
       "      <td>1.792718e+07</td>\n",
       "      <td>21000000</td>\n",
       "    </tr>\n",
       "    <tr>\n",
       "      <th>...</th>\n",
       "      <td>...</td>\n",
       "      <td>...</td>\n",
       "      <td>...</td>\n",
       "      <td>...</td>\n",
       "      <td>...</td>\n",
       "    </tr>\n",
       "    <tr>\n",
       "      <th>1238</th>\n",
       "      <td>ZEPHYR</td>\n",
       "      <td>SHA-256</td>\n",
       "      <td>DPoS</td>\n",
       "      <td>2.000000e+09</td>\n",
       "      <td>2000000000</td>\n",
       "    </tr>\n",
       "    <tr>\n",
       "      <th>1242</th>\n",
       "      <td>Gapcoin</td>\n",
       "      <td>Scrypt</td>\n",
       "      <td>PoW/PoS</td>\n",
       "      <td>1.493105e+07</td>\n",
       "      <td>250000000</td>\n",
       "    </tr>\n",
       "    <tr>\n",
       "      <th>1245</th>\n",
       "      <td>Beldex</td>\n",
       "      <td>CryptoNight</td>\n",
       "      <td>PoW</td>\n",
       "      <td>9.802226e+08</td>\n",
       "      <td>1400222610</td>\n",
       "    </tr>\n",
       "    <tr>\n",
       "      <th>1246</th>\n",
       "      <td>Horizen</td>\n",
       "      <td>Equihash</td>\n",
       "      <td>PoW</td>\n",
       "      <td>7.296538e+06</td>\n",
       "      <td>21000000</td>\n",
       "    </tr>\n",
       "    <tr>\n",
       "      <th>1247</th>\n",
       "      <td>BitcoinPlus</td>\n",
       "      <td>Scrypt</td>\n",
       "      <td>PoS</td>\n",
       "      <td>1.283270e+05</td>\n",
       "      <td>1000000</td>\n",
       "    </tr>\n",
       "  </tbody>\n",
       "</table>\n",
       "<p>685 rows × 5 columns</p>\n",
       "</div>"
      ],
      "text/plain": [
       "         CoinName    Algorithm ProofType  TotalCoinsMined TotalCoinSupply\n",
       "0         42 Coin       Scrypt   PoW/PoS     4.199995e+01              42\n",
       "2         404Coin       Scrypt   PoW/PoS     1.055185e+09       532000000\n",
       "4             808      SHA-256   PoW/PoS     0.000000e+00               0\n",
       "5       EliteCoin          X13   PoW/PoS     2.927942e+10    314159265359\n",
       "7         Bitcoin      SHA-256       PoW     1.792718e+07        21000000\n",
       "...           ...          ...       ...              ...             ...\n",
       "1238       ZEPHYR      SHA-256      DPoS     2.000000e+09      2000000000\n",
       "1242      Gapcoin       Scrypt   PoW/PoS     1.493105e+07       250000000\n",
       "1245       Beldex  CryptoNight       PoW     9.802226e+08      1400222610\n",
       "1246      Horizen     Equihash       PoW     7.296538e+06        21000000\n",
       "1247  BitcoinPlus       Scrypt       PoS     1.283270e+05         1000000\n",
       "\n",
       "[685 rows x 5 columns]"
      ]
     },
     "execution_count": 193,
     "metadata": {},
     "output_type": "execute_result"
    }
   ],
   "source": [
    "# Drop rows where there are 'N/A' text values\n",
    "working_algorithm_df = working_algorithm_df[working_algorithm_df['CoinName'] != 'N/A']\n",
    "working_algorithm_df = working_algorithm_df[working_algorithm_df['Algorithm'] != 'N/A']\n",
    "working_algorithm_df = working_algorithm_df[working_algorithm_df['ProofType'] != 'N/A']\n",
    "working_algorithm_df = working_algorithm_df[working_algorithm_df['TotalCoinsMined'] != 'N/A']\n",
    "working_algorithm_df = working_algorithm_df[working_algorithm_df['TotalCoinSupply'] != 'N/A']\n",
    "working_algorithm_df"
   ]
  },
  {
   "cell_type": "code",
   "execution_count": 194,
   "metadata": {},
   "outputs": [
    {
     "data": {
      "text/plain": [
       "0              42 Coin\n",
       "2              404Coin\n",
       "4                  808\n",
       "5            EliteCoin\n",
       "7              Bitcoin\n",
       "8             Ethereum\n",
       "9             Litecoin\n",
       "10                Dash\n",
       "11              Monero\n",
       "12    Ethereum Classic\n",
       "Name: CoinName, dtype: object"
      ]
     },
     "execution_count": 194,
     "metadata": {},
     "output_type": "execute_result"
    }
   ],
   "source": [
    "# Store the 'CoinName'column in its own DataFrame prior to dropping it from crypto_df\n",
    "coinName = working_algorithm_df['CoinName']\n",
    "coinName.head(10)"
   ]
  },
  {
   "cell_type": "code",
   "execution_count": 195,
   "metadata": {},
   "outputs": [
    {
     "data": {
      "text/html": [
       "<div>\n",
       "<style scoped>\n",
       "    .dataframe tbody tr th:only-of-type {\n",
       "        vertical-align: middle;\n",
       "    }\n",
       "\n",
       "    .dataframe tbody tr th {\n",
       "        vertical-align: top;\n",
       "    }\n",
       "\n",
       "    .dataframe thead th {\n",
       "        text-align: right;\n",
       "    }\n",
       "</style>\n",
       "<table border=\"1\" class=\"dataframe\">\n",
       "  <thead>\n",
       "    <tr style=\"text-align: right;\">\n",
       "      <th></th>\n",
       "      <th>Algorithm</th>\n",
       "      <th>ProofType</th>\n",
       "      <th>TotalCoinsMined</th>\n",
       "      <th>TotalCoinSupply</th>\n",
       "    </tr>\n",
       "  </thead>\n",
       "  <tbody>\n",
       "    <tr>\n",
       "      <th>0</th>\n",
       "      <td>Scrypt</td>\n",
       "      <td>PoW/PoS</td>\n",
       "      <td>4.199995e+01</td>\n",
       "      <td>42</td>\n",
       "    </tr>\n",
       "    <tr>\n",
       "      <th>2</th>\n",
       "      <td>Scrypt</td>\n",
       "      <td>PoW/PoS</td>\n",
       "      <td>1.055185e+09</td>\n",
       "      <td>532000000</td>\n",
       "    </tr>\n",
       "    <tr>\n",
       "      <th>4</th>\n",
       "      <td>SHA-256</td>\n",
       "      <td>PoW/PoS</td>\n",
       "      <td>0.000000e+00</td>\n",
       "      <td>0</td>\n",
       "    </tr>\n",
       "    <tr>\n",
       "      <th>5</th>\n",
       "      <td>X13</td>\n",
       "      <td>PoW/PoS</td>\n",
       "      <td>2.927942e+10</td>\n",
       "      <td>314159265359</td>\n",
       "    </tr>\n",
       "    <tr>\n",
       "      <th>7</th>\n",
       "      <td>SHA-256</td>\n",
       "      <td>PoW</td>\n",
       "      <td>1.792718e+07</td>\n",
       "      <td>21000000</td>\n",
       "    </tr>\n",
       "    <tr>\n",
       "      <th>...</th>\n",
       "      <td>...</td>\n",
       "      <td>...</td>\n",
       "      <td>...</td>\n",
       "      <td>...</td>\n",
       "    </tr>\n",
       "    <tr>\n",
       "      <th>1238</th>\n",
       "      <td>SHA-256</td>\n",
       "      <td>DPoS</td>\n",
       "      <td>2.000000e+09</td>\n",
       "      <td>2000000000</td>\n",
       "    </tr>\n",
       "    <tr>\n",
       "      <th>1242</th>\n",
       "      <td>Scrypt</td>\n",
       "      <td>PoW/PoS</td>\n",
       "      <td>1.493105e+07</td>\n",
       "      <td>250000000</td>\n",
       "    </tr>\n",
       "    <tr>\n",
       "      <th>1245</th>\n",
       "      <td>CryptoNight</td>\n",
       "      <td>PoW</td>\n",
       "      <td>9.802226e+08</td>\n",
       "      <td>1400222610</td>\n",
       "    </tr>\n",
       "    <tr>\n",
       "      <th>1246</th>\n",
       "      <td>Equihash</td>\n",
       "      <td>PoW</td>\n",
       "      <td>7.296538e+06</td>\n",
       "      <td>21000000</td>\n",
       "    </tr>\n",
       "    <tr>\n",
       "      <th>1247</th>\n",
       "      <td>Scrypt</td>\n",
       "      <td>PoS</td>\n",
       "      <td>1.283270e+05</td>\n",
       "      <td>1000000</td>\n",
       "    </tr>\n",
       "  </tbody>\n",
       "</table>\n",
       "<p>685 rows × 4 columns</p>\n",
       "</div>"
      ],
      "text/plain": [
       "        Algorithm ProofType  TotalCoinsMined TotalCoinSupply\n",
       "0          Scrypt   PoW/PoS     4.199995e+01              42\n",
       "2          Scrypt   PoW/PoS     1.055185e+09       532000000\n",
       "4         SHA-256   PoW/PoS     0.000000e+00               0\n",
       "5             X13   PoW/PoS     2.927942e+10    314159265359\n",
       "7         SHA-256       PoW     1.792718e+07        21000000\n",
       "...           ...       ...              ...             ...\n",
       "1238      SHA-256      DPoS     2.000000e+09      2000000000\n",
       "1242       Scrypt   PoW/PoS     1.493105e+07       250000000\n",
       "1245  CryptoNight       PoW     9.802226e+08      1400222610\n",
       "1246     Equihash       PoW     7.296538e+06        21000000\n",
       "1247       Scrypt       PoS     1.283270e+05         1000000\n",
       "\n",
       "[685 rows x 4 columns]"
      ]
     },
     "execution_count": 195,
     "metadata": {},
     "output_type": "execute_result"
    }
   ],
   "source": [
    "# Drop the 'CoinName' column since it's not going to be used on the clustering algorithm\n",
    "Coin_Name_removed_df = working_algorithm_df.drop(columns=['CoinName'])\n",
    "Coin_Name_removed_df"
   ]
  },
  {
   "cell_type": "code",
   "execution_count": 196,
   "metadata": {},
   "outputs": [
    {
     "data": {
      "text/html": [
       "<div>\n",
       "<style scoped>\n",
       "    .dataframe tbody tr th:only-of-type {\n",
       "        vertical-align: middle;\n",
       "    }\n",
       "\n",
       "    .dataframe tbody tr th {\n",
       "        vertical-align: top;\n",
       "    }\n",
       "\n",
       "    .dataframe thead th {\n",
       "        text-align: right;\n",
       "    }\n",
       "</style>\n",
       "<table border=\"1\" class=\"dataframe\">\n",
       "  <thead>\n",
       "    <tr style=\"text-align: right;\">\n",
       "      <th></th>\n",
       "      <th>TotalCoinsMined</th>\n",
       "      <th>TotalCoinSupply</th>\n",
       "      <th>Algorithm_1GB AES Pattern Search</th>\n",
       "      <th>Algorithm_536</th>\n",
       "      <th>Algorithm_Argon2</th>\n",
       "      <th>Algorithm_Argon2d</th>\n",
       "      <th>Algorithm_BLAKE256</th>\n",
       "      <th>Algorithm_Blake</th>\n",
       "      <th>Algorithm_Blake2S</th>\n",
       "      <th>Algorithm_Blake2b</th>\n",
       "      <th>...</th>\n",
       "      <th>ProofType_PoW/PoS</th>\n",
       "      <th>ProofType_PoW/PoS</th>\n",
       "      <th>ProofType_PoW/PoW</th>\n",
       "      <th>ProofType_PoW/nPoS</th>\n",
       "      <th>ProofType_Pos</th>\n",
       "      <th>ProofType_Proof of Authority</th>\n",
       "      <th>ProofType_Proof of Trust</th>\n",
       "      <th>ProofType_TPoS</th>\n",
       "      <th>ProofType_Zero-Knowledge Proof</th>\n",
       "      <th>ProofType_dPoW/PoW</th>\n",
       "    </tr>\n",
       "  </thead>\n",
       "  <tbody>\n",
       "    <tr>\n",
       "      <th>0</th>\n",
       "      <td>4.199995e+01</td>\n",
       "      <td>42</td>\n",
       "      <td>0</td>\n",
       "      <td>0</td>\n",
       "      <td>0</td>\n",
       "      <td>0</td>\n",
       "      <td>0</td>\n",
       "      <td>0</td>\n",
       "      <td>0</td>\n",
       "      <td>0</td>\n",
       "      <td>...</td>\n",
       "      <td>1</td>\n",
       "      <td>0</td>\n",
       "      <td>0</td>\n",
       "      <td>0</td>\n",
       "      <td>0</td>\n",
       "      <td>0</td>\n",
       "      <td>0</td>\n",
       "      <td>0</td>\n",
       "      <td>0</td>\n",
       "      <td>0</td>\n",
       "    </tr>\n",
       "    <tr>\n",
       "      <th>2</th>\n",
       "      <td>1.055185e+09</td>\n",
       "      <td>532000000</td>\n",
       "      <td>0</td>\n",
       "      <td>0</td>\n",
       "      <td>0</td>\n",
       "      <td>0</td>\n",
       "      <td>0</td>\n",
       "      <td>0</td>\n",
       "      <td>0</td>\n",
       "      <td>0</td>\n",
       "      <td>...</td>\n",
       "      <td>1</td>\n",
       "      <td>0</td>\n",
       "      <td>0</td>\n",
       "      <td>0</td>\n",
       "      <td>0</td>\n",
       "      <td>0</td>\n",
       "      <td>0</td>\n",
       "      <td>0</td>\n",
       "      <td>0</td>\n",
       "      <td>0</td>\n",
       "    </tr>\n",
       "    <tr>\n",
       "      <th>4</th>\n",
       "      <td>0.000000e+00</td>\n",
       "      <td>0</td>\n",
       "      <td>0</td>\n",
       "      <td>0</td>\n",
       "      <td>0</td>\n",
       "      <td>0</td>\n",
       "      <td>0</td>\n",
       "      <td>0</td>\n",
       "      <td>0</td>\n",
       "      <td>0</td>\n",
       "      <td>...</td>\n",
       "      <td>1</td>\n",
       "      <td>0</td>\n",
       "      <td>0</td>\n",
       "      <td>0</td>\n",
       "      <td>0</td>\n",
       "      <td>0</td>\n",
       "      <td>0</td>\n",
       "      <td>0</td>\n",
       "      <td>0</td>\n",
       "      <td>0</td>\n",
       "    </tr>\n",
       "    <tr>\n",
       "      <th>5</th>\n",
       "      <td>2.927942e+10</td>\n",
       "      <td>314159265359</td>\n",
       "      <td>0</td>\n",
       "      <td>0</td>\n",
       "      <td>0</td>\n",
       "      <td>0</td>\n",
       "      <td>0</td>\n",
       "      <td>0</td>\n",
       "      <td>0</td>\n",
       "      <td>0</td>\n",
       "      <td>...</td>\n",
       "      <td>1</td>\n",
       "      <td>0</td>\n",
       "      <td>0</td>\n",
       "      <td>0</td>\n",
       "      <td>0</td>\n",
       "      <td>0</td>\n",
       "      <td>0</td>\n",
       "      <td>0</td>\n",
       "      <td>0</td>\n",
       "      <td>0</td>\n",
       "    </tr>\n",
       "    <tr>\n",
       "      <th>7</th>\n",
       "      <td>1.792718e+07</td>\n",
       "      <td>21000000</td>\n",
       "      <td>0</td>\n",
       "      <td>0</td>\n",
       "      <td>0</td>\n",
       "      <td>0</td>\n",
       "      <td>0</td>\n",
       "      <td>0</td>\n",
       "      <td>0</td>\n",
       "      <td>0</td>\n",
       "      <td>...</td>\n",
       "      <td>0</td>\n",
       "      <td>0</td>\n",
       "      <td>0</td>\n",
       "      <td>0</td>\n",
       "      <td>0</td>\n",
       "      <td>0</td>\n",
       "      <td>0</td>\n",
       "      <td>0</td>\n",
       "      <td>0</td>\n",
       "      <td>0</td>\n",
       "    </tr>\n",
       "    <tr>\n",
       "      <th>...</th>\n",
       "      <td>...</td>\n",
       "      <td>...</td>\n",
       "      <td>...</td>\n",
       "      <td>...</td>\n",
       "      <td>...</td>\n",
       "      <td>...</td>\n",
       "      <td>...</td>\n",
       "      <td>...</td>\n",
       "      <td>...</td>\n",
       "      <td>...</td>\n",
       "      <td>...</td>\n",
       "      <td>...</td>\n",
       "      <td>...</td>\n",
       "      <td>...</td>\n",
       "      <td>...</td>\n",
       "      <td>...</td>\n",
       "      <td>...</td>\n",
       "      <td>...</td>\n",
       "      <td>...</td>\n",
       "      <td>...</td>\n",
       "      <td>...</td>\n",
       "    </tr>\n",
       "    <tr>\n",
       "      <th>1238</th>\n",
       "      <td>2.000000e+09</td>\n",
       "      <td>2000000000</td>\n",
       "      <td>0</td>\n",
       "      <td>0</td>\n",
       "      <td>0</td>\n",
       "      <td>0</td>\n",
       "      <td>0</td>\n",
       "      <td>0</td>\n",
       "      <td>0</td>\n",
       "      <td>0</td>\n",
       "      <td>...</td>\n",
       "      <td>0</td>\n",
       "      <td>0</td>\n",
       "      <td>0</td>\n",
       "      <td>0</td>\n",
       "      <td>0</td>\n",
       "      <td>0</td>\n",
       "      <td>0</td>\n",
       "      <td>0</td>\n",
       "      <td>0</td>\n",
       "      <td>0</td>\n",
       "    </tr>\n",
       "    <tr>\n",
       "      <th>1242</th>\n",
       "      <td>1.493105e+07</td>\n",
       "      <td>250000000</td>\n",
       "      <td>0</td>\n",
       "      <td>0</td>\n",
       "      <td>0</td>\n",
       "      <td>0</td>\n",
       "      <td>0</td>\n",
       "      <td>0</td>\n",
       "      <td>0</td>\n",
       "      <td>0</td>\n",
       "      <td>...</td>\n",
       "      <td>1</td>\n",
       "      <td>0</td>\n",
       "      <td>0</td>\n",
       "      <td>0</td>\n",
       "      <td>0</td>\n",
       "      <td>0</td>\n",
       "      <td>0</td>\n",
       "      <td>0</td>\n",
       "      <td>0</td>\n",
       "      <td>0</td>\n",
       "    </tr>\n",
       "    <tr>\n",
       "      <th>1245</th>\n",
       "      <td>9.802226e+08</td>\n",
       "      <td>1400222610</td>\n",
       "      <td>0</td>\n",
       "      <td>0</td>\n",
       "      <td>0</td>\n",
       "      <td>0</td>\n",
       "      <td>0</td>\n",
       "      <td>0</td>\n",
       "      <td>0</td>\n",
       "      <td>0</td>\n",
       "      <td>...</td>\n",
       "      <td>0</td>\n",
       "      <td>0</td>\n",
       "      <td>0</td>\n",
       "      <td>0</td>\n",
       "      <td>0</td>\n",
       "      <td>0</td>\n",
       "      <td>0</td>\n",
       "      <td>0</td>\n",
       "      <td>0</td>\n",
       "      <td>0</td>\n",
       "    </tr>\n",
       "    <tr>\n",
       "      <th>1246</th>\n",
       "      <td>7.296538e+06</td>\n",
       "      <td>21000000</td>\n",
       "      <td>0</td>\n",
       "      <td>0</td>\n",
       "      <td>0</td>\n",
       "      <td>0</td>\n",
       "      <td>0</td>\n",
       "      <td>0</td>\n",
       "      <td>0</td>\n",
       "      <td>0</td>\n",
       "      <td>...</td>\n",
       "      <td>0</td>\n",
       "      <td>0</td>\n",
       "      <td>0</td>\n",
       "      <td>0</td>\n",
       "      <td>0</td>\n",
       "      <td>0</td>\n",
       "      <td>0</td>\n",
       "      <td>0</td>\n",
       "      <td>0</td>\n",
       "      <td>0</td>\n",
       "    </tr>\n",
       "    <tr>\n",
       "      <th>1247</th>\n",
       "      <td>1.283270e+05</td>\n",
       "      <td>1000000</td>\n",
       "      <td>0</td>\n",
       "      <td>0</td>\n",
       "      <td>0</td>\n",
       "      <td>0</td>\n",
       "      <td>0</td>\n",
       "      <td>0</td>\n",
       "      <td>0</td>\n",
       "      <td>0</td>\n",
       "      <td>...</td>\n",
       "      <td>0</td>\n",
       "      <td>0</td>\n",
       "      <td>0</td>\n",
       "      <td>0</td>\n",
       "      <td>0</td>\n",
       "      <td>0</td>\n",
       "      <td>0</td>\n",
       "      <td>0</td>\n",
       "      <td>0</td>\n",
       "      <td>0</td>\n",
       "    </tr>\n",
       "  </tbody>\n",
       "</table>\n",
       "<p>685 rows × 109 columns</p>\n",
       "</div>"
      ],
      "text/plain": [
       "      TotalCoinsMined TotalCoinSupply  Algorithm_1GB AES Pattern Search  \\\n",
       "0        4.199995e+01              42                                 0   \n",
       "2        1.055185e+09       532000000                                 0   \n",
       "4        0.000000e+00               0                                 0   \n",
       "5        2.927942e+10    314159265359                                 0   \n",
       "7        1.792718e+07        21000000                                 0   \n",
       "...               ...             ...                               ...   \n",
       "1238     2.000000e+09      2000000000                                 0   \n",
       "1242     1.493105e+07       250000000                                 0   \n",
       "1245     9.802226e+08      1400222610                                 0   \n",
       "1246     7.296538e+06        21000000                                 0   \n",
       "1247     1.283270e+05         1000000                                 0   \n",
       "\n",
       "      Algorithm_536  Algorithm_Argon2  Algorithm_Argon2d  Algorithm_BLAKE256  \\\n",
       "0                 0                 0                  0                   0   \n",
       "2                 0                 0                  0                   0   \n",
       "4                 0                 0                  0                   0   \n",
       "5                 0                 0                  0                   0   \n",
       "7                 0                 0                  0                   0   \n",
       "...             ...               ...                ...                 ...   \n",
       "1238              0                 0                  0                   0   \n",
       "1242              0                 0                  0                   0   \n",
       "1245              0                 0                  0                   0   \n",
       "1246              0                 0                  0                   0   \n",
       "1247              0                 0                  0                   0   \n",
       "\n",
       "      Algorithm_Blake  Algorithm_Blake2S  Algorithm_Blake2b  ...  \\\n",
       "0                   0                  0                  0  ...   \n",
       "2                   0                  0                  0  ...   \n",
       "4                   0                  0                  0  ...   \n",
       "5                   0                  0                  0  ...   \n",
       "7                   0                  0                  0  ...   \n",
       "...               ...                ...                ...  ...   \n",
       "1238                0                  0                  0  ...   \n",
       "1242                0                  0                  0  ...   \n",
       "1245                0                  0                  0  ...   \n",
       "1246                0                  0                  0  ...   \n",
       "1247                0                  0                  0  ...   \n",
       "\n",
       "      ProofType_PoW/PoS  ProofType_PoW/PoS   ProofType_PoW/PoW  \\\n",
       "0                     1                   0                  0   \n",
       "2                     1                   0                  0   \n",
       "4                     1                   0                  0   \n",
       "5                     1                   0                  0   \n",
       "7                     0                   0                  0   \n",
       "...                 ...                 ...                ...   \n",
       "1238                  0                   0                  0   \n",
       "1242                  1                   0                  0   \n",
       "1245                  0                   0                  0   \n",
       "1246                  0                   0                  0   \n",
       "1247                  0                   0                  0   \n",
       "\n",
       "      ProofType_PoW/nPoS  ProofType_Pos  ProofType_Proof of Authority  \\\n",
       "0                      0              0                             0   \n",
       "2                      0              0                             0   \n",
       "4                      0              0                             0   \n",
       "5                      0              0                             0   \n",
       "7                      0              0                             0   \n",
       "...                  ...            ...                           ...   \n",
       "1238                   0              0                             0   \n",
       "1242                   0              0                             0   \n",
       "1245                   0              0                             0   \n",
       "1246                   0              0                             0   \n",
       "1247                   0              0                             0   \n",
       "\n",
       "      ProofType_Proof of Trust  ProofType_TPoS  \\\n",
       "0                            0               0   \n",
       "2                            0               0   \n",
       "4                            0               0   \n",
       "5                            0               0   \n",
       "7                            0               0   \n",
       "...                        ...             ...   \n",
       "1238                         0               0   \n",
       "1242                         0               0   \n",
       "1245                         0               0   \n",
       "1246                         0               0   \n",
       "1247                         0               0   \n",
       "\n",
       "      ProofType_Zero-Knowledge Proof  ProofType_dPoW/PoW  \n",
       "0                                  0                   0  \n",
       "2                                  0                   0  \n",
       "4                                  0                   0  \n",
       "5                                  0                   0  \n",
       "7                                  0                   0  \n",
       "...                              ...                 ...  \n",
       "1238                               0                   0  \n",
       "1242                               0                   0  \n",
       "1245                               0                   0  \n",
       "1246                               0                   0  \n",
       "1247                               0                   0  \n",
       "\n",
       "[685 rows x 109 columns]"
      ]
     },
     "execution_count": 196,
     "metadata": {},
     "output_type": "execute_result"
    }
   ],
   "source": [
    "# Create dummy variables for text features\n",
    "x = pd.get_dummies(Coin_Name_removed_df,columns=['Algorithm','ProofType'])\n",
    "x"
   ]
  },
  {
   "cell_type": "code",
   "execution_count": 197,
   "metadata": {},
   "outputs": [
    {
     "name": "stdout",
     "output_type": "stream",
     "text": [
      "[[-0.10282804 -0.03823841 -0.03823596 -0.03823596 -0.03823596 -0.03823596\n",
      "  -0.05411338 -0.07664017 -0.03823596 -0.05411338 -0.05411338 -0.03823596\n",
      "  -0.03823596 -0.18216065 -0.05411338 -0.03823596 -0.03823596 -0.08574929\n",
      "  -0.03823596 -0.10160947 -0.06632365 -0.03823596 -0.03823596 -0.1642757\n",
      "  -0.03823596 -0.03823596 -0.13908716 -0.03823596 -0.03823596 -0.07664017\n",
      "  -0.03823596 -0.03823596 -0.03823596 -0.03823596 -0.06632365 -0.03823596\n",
      "  -0.07664017 -0.08574929 -0.07664017 -0.03823596 -0.03823596 -0.12775161\n",
      "  -0.1335313  -0.13908716 -0.03823596 -0.05411338 -0.03823596 -0.06632365\n",
      "  -0.1689039  -0.03823596 -0.03823596 -0.03823596 -0.07664017 -0.17342199\n",
      "  -0.33468341 -0.03823596 -0.08574929 -0.06632365 -0.05411338 -0.03823596\n",
      "   1.42042992 -0.06632365 -0.03823596 -0.03823596 -0.06632365 -0.06632365\n",
      "  -0.03823596 -0.03823596 -0.03823596 -0.03823596 -0.03823596 -0.03823596\n",
      "  -0.03823596 -0.41586681 -0.03823596 -0.19054822 -0.03823596 -0.10870529\n",
      "  -0.07664017 -0.09400279 -0.03823596 -0.03823596 -0.03823596 -0.03823596\n",
      "  -0.12171612 -0.03823596 -0.03823596 -0.03823596 -0.03823596 -0.03823596\n",
      "  -0.06632365 -0.42308595 -0.03823596 -0.05411338 -0.03823596 -0.03823596\n",
      "  -0.90921211 -0.03823596 -0.03823596  1.38379681 -0.03823596 -0.03823596\n",
      "  -0.03823596 -0.03823596 -0.03823596 -0.03823596 -0.03823596 -0.03823596\n",
      "  -0.03823596]]\n"
     ]
    }
   ],
   "source": [
    "# Standardize data\n",
    "x_scaled = StandardScaler().fit_transform(x)\n",
    "print(x_scaled[0:1])"
   ]
  },
  {
   "cell_type": "markdown",
   "metadata": {},
   "source": [
    "### Reducing Dimensions Using PCA"
   ]
  },
  {
   "cell_type": "code",
   "execution_count": 198,
   "metadata": {},
   "outputs": [],
   "source": [
    "# Use PCA to reduce dimensions to 3 principal components\n",
    "pca = PCA(n_components=3)\n",
    "x_pca = pca.fit_transform(x_scaled)"
   ]
  },
  {
   "cell_type": "code",
   "execution_count": 199,
   "metadata": {},
   "outputs": [
    {
     "data": {
      "text/html": [
       "<div>\n",
       "<style scoped>\n",
       "    .dataframe tbody tr th:only-of-type {\n",
       "        vertical-align: middle;\n",
       "    }\n",
       "\n",
       "    .dataframe tbody tr th {\n",
       "        vertical-align: top;\n",
       "    }\n",
       "\n",
       "    .dataframe thead th {\n",
       "        text-align: right;\n",
       "    }\n",
       "</style>\n",
       "<table border=\"1\" class=\"dataframe\">\n",
       "  <thead>\n",
       "    <tr style=\"text-align: right;\">\n",
       "      <th></th>\n",
       "      <th>PC 1</th>\n",
       "      <th>PC 2</th>\n",
       "      <th>PC 3</th>\n",
       "    </tr>\n",
       "  </thead>\n",
       "  <tbody>\n",
       "    <tr>\n",
       "      <th>0</th>\n",
       "      <td>-0.251722</td>\n",
       "      <td>1.200928</td>\n",
       "      <td>-0.462113</td>\n",
       "    </tr>\n",
       "    <tr>\n",
       "      <th>1</th>\n",
       "      <td>-0.237272</td>\n",
       "      <td>1.199798</td>\n",
       "      <td>-0.462433</td>\n",
       "    </tr>\n",
       "    <tr>\n",
       "      <th>2</th>\n",
       "      <td>-0.134037</td>\n",
       "      <td>0.755882</td>\n",
       "      <td>-0.239637</td>\n",
       "    </tr>\n",
       "    <tr>\n",
       "      <th>3</th>\n",
       "      <td>0.328295</td>\n",
       "      <td>1.895017</td>\n",
       "      <td>-0.542642</td>\n",
       "    </tr>\n",
       "    <tr>\n",
       "      <th>4</th>\n",
       "      <td>-0.171427</td>\n",
       "      <td>-1.514539</td>\n",
       "      <td>0.146344</td>\n",
       "    </tr>\n",
       "  </tbody>\n",
       "</table>\n",
       "</div>"
      ],
      "text/plain": [
       "       PC 1      PC 2      PC 3\n",
       "0 -0.251722  1.200928 -0.462113\n",
       "1 -0.237272  1.199798 -0.462433\n",
       "2 -0.134037  0.755882 -0.239637\n",
       "3  0.328295  1.895017 -0.542642\n",
       "4 -0.171427 -1.514539  0.146344"
      ]
     },
     "execution_count": 199,
     "metadata": {},
     "output_type": "execute_result"
    }
   ],
   "source": [
    "# Create a DataFrame with the principal components data\n",
    "x_pca = pd.DataFrame(\n",
    "    data=x_pca, columns=[\"PC 1\", \"PC 2\", \"PC 3\"] #PC stands for Principal Component\n",
    ")\n",
    "x_pca.head()"
   ]
  },
  {
   "cell_type": "markdown",
   "metadata": {},
   "source": [
    "### Clustering Crytocurrencies Using K-Means\n",
    "\n",
    "#### Find the Best Value for `k` Using the Elbow Curve"
   ]
  },
  {
   "cell_type": "code",
   "execution_count": 200,
   "metadata": {},
   "outputs": [
    {
     "data": {},
     "metadata": {},
     "output_type": "display_data"
    },
    {
     "data": {
      "application/vnd.holoviews_exec.v0+json": "",
      "text/html": [
       "<div id='2507'>\n",
       "\n",
       "\n",
       "\n",
       "\n",
       "\n",
       "  <div class=\"bk-root\" id=\"5b2a7f9f-74c0-443f-bda2-cf9c5af37aa4\" data-root-id=\"2507\"></div>\n",
       "</div>\n",
       "<script type=\"application/javascript\">(function(root) {\n",
       "  function embed_document(root) {\n",
       "  var docs_json = {\"bbc25ffa-f770-4675-8f23-598d14cfd59a\":{\"roots\":{\"references\":[{\"attributes\":{\"click_policy\":\"mute\",\"items\":[{\"id\":\"2563\"},{\"id\":\"2580\"},{\"id\":\"2599\"}],\"location\":[0,0],\"title\":\"Variable\"},\"id\":\"2562\",\"type\":\"Legend\"},{\"attributes\":{\"axis_label\":\"\",\"bounds\":\"auto\",\"formatter\":{\"id\":\"2546\"},\"major_label_orientation\":\"horizontal\",\"ticker\":{\"id\":\"2528\"}},\"id\":\"2527\",\"type\":\"LinearAxis\"},{\"attributes\":{},\"id\":\"2549\",\"type\":\"Selection\"},{\"attributes\":{\"data\":{\"Variable\":[\"PC 3\",\"PC 3\",\"PC 3\",\"PC 3\",\"PC 3\",\"PC 3\",\"PC 3\",\"PC 3\",\"PC 3\",\"PC 3\",\"PC 3\",\"PC 3\",\"PC 3\",\"PC 3\",\"PC 3\",\"PC 3\",\"PC 3\",\"PC 3\",\"PC 3\",\"PC 3\",\"PC 3\",\"PC 3\",\"PC 3\",\"PC 3\",\"PC 3\",\"PC 3\",\"PC 3\",\"PC 3\",\"PC 3\",\"PC 3\",\"PC 3\",\"PC 3\",\"PC 3\",\"PC 3\",\"PC 3\",\"PC 3\",\"PC 3\",\"PC 3\",\"PC 3\",\"PC 3\",\"PC 3\",\"PC 3\",\"PC 3\",\"PC 3\",\"PC 3\",\"PC 3\",\"PC 3\",\"PC 3\",\"PC 3\",\"PC 3\",\"PC 3\",\"PC 3\",\"PC 3\",\"PC 3\",\"PC 3\",\"PC 3\",\"PC 3\",\"PC 3\",\"PC 3\",\"PC 3\",\"PC 3\",\"PC 3\",\"PC 3\",\"PC 3\",\"PC 3\",\"PC 3\",\"PC 3\",\"PC 3\",\"PC 3\",\"PC 3\",\"PC 3\",\"PC 3\",\"PC 3\",\"PC 3\",\"PC 3\",\"PC 3\",\"PC 3\",\"PC 3\",\"PC 3\",\"PC 3\",\"PC 3\",\"PC 3\",\"PC 3\",\"PC 3\",\"PC 3\",\"PC 3\",\"PC 3\",\"PC 3\",\"PC 3\",\"PC 3\",\"PC 3\",\"PC 3\",\"PC 3\",\"PC 3\",\"PC 3\",\"PC 3\",\"PC 3\",\"PC 3\",\"PC 3\",\"PC 3\",\"PC 3\",\"PC 3\",\"PC 3\",\"PC 3\",\"PC 3\",\"PC 3\",\"PC 3\",\"PC 3\",\"PC 3\",\"PC 3\",\"PC 3\",\"PC 3\",\"PC 3\",\"PC 3\",\"PC 3\",\"PC 3\",\"PC 3\",\"PC 3\",\"PC 3\",\"PC 3\",\"PC 3\",\"PC 3\",\"PC 3\",\"PC 3\",\"PC 3\",\"PC 3\",\"PC 3\",\"PC 3\",\"PC 3\",\"PC 3\",\"PC 3\",\"PC 3\",\"PC 3\",\"PC 3\",\"PC 3\",\"PC 3\",\"PC 3\",\"PC 3\",\"PC 3\",\"PC 3\",\"PC 3\",\"PC 3\",\"PC 3\",\"PC 3\",\"PC 3\",\"PC 3\",\"PC 3\",\"PC 3\",\"PC 3\",\"PC 3\",\"PC 3\",\"PC 3\",\"PC 3\",\"PC 3\",\"PC 3\",\"PC 3\",\"PC 3\",\"PC 3\",\"PC 3\",\"PC 3\",\"PC 3\",\"PC 3\",\"PC 3\",\"PC 3\",\"PC 3\",\"PC 3\",\"PC 3\",\"PC 3\",\"PC 3\",\"PC 3\",\"PC 3\",\"PC 3\",\"PC 3\",\"PC 3\",\"PC 3\",\"PC 3\",\"PC 3\",\"PC 3\",\"PC 3\",\"PC 3\",\"PC 3\",\"PC 3\",\"PC 3\",\"PC 3\",\"PC 3\",\"PC 3\",\"PC 3\",\"PC 3\",\"PC 3\",\"PC 3\",\"PC 3\",\"PC 3\",\"PC 3\",\"PC 3\",\"PC 3\",\"PC 3\",\"PC 3\",\"PC 3\",\"PC 3\",\"PC 3\",\"PC 3\",\"PC 3\",\"PC 3\",\"PC 3\",\"PC 3\",\"PC 3\",\"PC 3\",\"PC 3\",\"PC 3\",\"PC 3\",\"PC 3\",\"PC 3\",\"PC 3\",\"PC 3\",\"PC 3\",\"PC 3\",\"PC 3\",\"PC 3\",\"PC 3\",\"PC 3\",\"PC 3\",\"PC 3\",\"PC 3\",\"PC 3\",\"PC 3\",\"PC 3\",\"PC 3\",\"PC 3\",\"PC 3\",\"PC 3\",\"PC 3\",\"PC 3\",\"PC 3\",\"PC 3\",\"PC 3\",\"PC 3\",\"PC 3\",\"PC 3\",\"PC 3\",\"PC 3\",\"PC 3\",\"PC 3\",\"PC 3\",\"PC 3\",\"PC 3\",\"PC 3\",\"PC 3\",\"PC 3\",\"PC 3\",\"PC 3\",\"PC 3\",\"PC 3\",\"PC 3\",\"PC 3\",\"PC 3\",\"PC 3\",\"PC 3\",\"PC 3\",\"PC 3\",\"PC 3\",\"PC 3\",\"PC 3\",\"PC 3\",\"PC 3\",\"PC 3\",\"PC 3\",\"PC 3\",\"PC 3\",\"PC 3\",\"PC 3\",\"PC 3\",\"PC 3\",\"PC 3\",\"PC 3\",\"PC 3\",\"PC 3\",\"PC 3\",\"PC 3\",\"PC 3\",\"PC 3\",\"PC 3\",\"PC 3\",\"PC 3\",\"PC 3\",\"PC 3\",\"PC 3\",\"PC 3\",\"PC 3\",\"PC 3\",\"PC 3\",\"PC 3\",\"PC 3\",\"PC 3\",\"PC 3\",\"PC 3\",\"PC 3\",\"PC 3\",\"PC 3\",\"PC 3\",\"PC 3\",\"PC 3\",\"PC 3\",\"PC 3\",\"PC 3\",\"PC 3\",\"PC 3\",\"PC 3\",\"PC 3\",\"PC 3\",\"PC 3\",\"PC 3\",\"PC 3\",\"PC 3\",\"PC 3\",\"PC 3\",\"PC 3\",\"PC 3\",\"PC 3\",\"PC 3\",\"PC 3\",\"PC 3\",\"PC 3\",\"PC 3\",\"PC 3\",\"PC 3\",\"PC 3\",\"PC 3\",\"PC 3\",\"PC 3\",\"PC 3\",\"PC 3\",\"PC 3\",\"PC 3\",\"PC 3\",\"PC 3\",\"PC 3\",\"PC 3\",\"PC 3\",\"PC 3\",\"PC 3\",\"PC 3\",\"PC 3\",\"PC 3\",\"PC 3\",\"PC 3\",\"PC 3\",\"PC 3\",\"PC 3\",\"PC 3\",\"PC 3\",\"PC 3\",\"PC 3\",\"PC 3\",\"PC 3\",\"PC 3\",\"PC 3\",\"PC 3\",\"PC 3\",\"PC 3\",\"PC 3\",\"PC 3\",\"PC 3\",\"PC 3\",\"PC 3\",\"PC 3\",\"PC 3\",\"PC 3\",\"PC 3\",\"PC 3\",\"PC 3\",\"PC 3\",\"PC 3\",\"PC 3\",\"PC 3\",\"PC 3\",\"PC 3\",\"PC 3\",\"PC 3\",\"PC 3\",\"PC 3\",\"PC 3\",\"PC 3\",\"PC 3\",\"PC 3\",\"PC 3\",\"PC 3\",\"PC 3\",\"PC 3\",\"PC 3\",\"PC 3\",\"PC 3\",\"PC 3\",\"PC 3\",\"PC 3\",\"PC 3\",\"PC 3\",\"PC 3\",\"PC 3\",\"PC 3\",\"PC 3\",\"PC 3\",\"PC 3\",\"PC 3\",\"PC 3\",\"PC 3\",\"PC 3\",\"PC 3\",\"PC 3\",\"PC 3\",\"PC 3\",\"PC 3\",\"PC 3\",\"PC 3\",\"PC 3\",\"PC 3\",\"PC 3\",\"PC 3\",\"PC 3\",\"PC 3\",\"PC 3\",\"PC 3\",\"PC 3\",\"PC 3\",\"PC 3\",\"PC 3\",\"PC 3\",\"PC 3\",\"PC 3\",\"PC 3\",\"PC 3\",\"PC 3\",\"PC 3\",\"PC 3\",\"PC 3\",\"PC 3\",\"PC 3\",\"PC 3\",\"PC 3\",\"PC 3\",\"PC 3\",\"PC 3\",\"PC 3\",\"PC 3\",\"PC 3\",\"PC 3\",\"PC 3\",\"PC 3\",\"PC 3\",\"PC 3\",\"PC 3\",\"PC 3\",\"PC 3\",\"PC 3\",\"PC 3\",\"PC 3\",\"PC 3\",\"PC 3\",\"PC 3\",\"PC 3\",\"PC 3\",\"PC 3\",\"PC 3\",\"PC 3\",\"PC 3\",\"PC 3\",\"PC 3\",\"PC 3\",\"PC 3\",\"PC 3\",\"PC 3\",\"PC 3\",\"PC 3\",\"PC 3\",\"PC 3\",\"PC 3\",\"PC 3\",\"PC 3\",\"PC 3\",\"PC 3\",\"PC 3\",\"PC 3\",\"PC 3\",\"PC 3\",\"PC 3\",\"PC 3\",\"PC 3\",\"PC 3\",\"PC 3\",\"PC 3\",\"PC 3\",\"PC 3\",\"PC 3\",\"PC 3\",\"PC 3\",\"PC 3\",\"PC 3\",\"PC 3\",\"PC 3\",\"PC 3\",\"PC 3\",\"PC 3\",\"PC 3\",\"PC 3\",\"PC 3\",\"PC 3\",\"PC 3\",\"PC 3\",\"PC 3\",\"PC 3\",\"PC 3\",\"PC 3\",\"PC 3\",\"PC 3\",\"PC 3\",\"PC 3\",\"PC 3\",\"PC 3\",\"PC 3\",\"PC 3\",\"PC 3\",\"PC 3\",\"PC 3\",\"PC 3\",\"PC 3\",\"PC 3\",\"PC 3\",\"PC 3\",\"PC 3\",\"PC 3\",\"PC 3\",\"PC 3\",\"PC 3\",\"PC 3\",\"PC 3\",\"PC 3\",\"PC 3\",\"PC 3\",\"PC 3\",\"PC 3\",\"PC 3\",\"PC 3\",\"PC 3\",\"PC 3\",\"PC 3\",\"PC 3\",\"PC 3\",\"PC 3\",\"PC 3\",\"PC 3\",\"PC 3\",\"PC 3\",\"PC 3\",\"PC 3\",\"PC 3\",\"PC 3\",\"PC 3\",\"PC 3\",\"PC 3\",\"PC 3\",\"PC 3\",\"PC 3\",\"PC 3\",\"PC 3\",\"PC 3\",\"PC 3\",\"PC 3\",\"PC 3\",\"PC 3\",\"PC 3\",\"PC 3\",\"PC 3\",\"PC 3\",\"PC 3\",\"PC 3\",\"PC 3\",\"PC 3\",\"PC 3\",\"PC 3\",\"PC 3\",\"PC 3\",\"PC 3\",\"PC 3\",\"PC 3\",\"PC 3\",\"PC 3\",\"PC 3\",\"PC 3\",\"PC 3\",\"PC 3\",\"PC 3\",\"PC 3\",\"PC 3\",\"PC 3\",\"PC 3\",\"PC 3\",\"PC 3\",\"PC 3\",\"PC 3\",\"PC 3\",\"PC 3\",\"PC 3\",\"PC 3\",\"PC 3\",\"PC 3\",\"PC 3\",\"PC 3\",\"PC 3\",\"PC 3\",\"PC 3\",\"PC 3\",\"PC 3\",\"PC 3\",\"PC 3\",\"PC 3\",\"PC 3\",\"PC 3\",\"PC 3\",\"PC 3\",\"PC 3\",\"PC 3\",\"PC 3\",\"PC 3\",\"PC 3\",\"PC 3\",\"PC 3\",\"PC 3\",\"PC 3\",\"PC 3\",\"PC 3\",\"PC 3\",\"PC 3\",\"PC 3\",\"PC 3\",\"PC 3\",\"PC 3\",\"PC 3\",\"PC 3\",\"PC 3\",\"PC 3\",\"PC 3\",\"PC 3\",\"PC 3\",\"PC 3\",\"PC 3\",\"PC 3\",\"PC 3\",\"PC 3\",\"PC 3\",\"PC 3\",\"PC 3\",\"PC 3\",\"PC 3\",\"PC 3\",\"PC 3\",\"PC 3\",\"PC 3\",\"PC 3\",\"PC 3\",\"PC 3\",\"PC 3\",\"PC 3\",\"PC 3\",\"PC 3\",\"PC 3\",\"PC 3\",\"PC 3\",\"PC 3\",\"PC 3\",\"PC 3\",\"PC 3\",\"PC 3\",\"PC 3\",\"PC 3\",\"PC 3\",\"PC 3\",\"PC 3\",\"PC 3\",\"PC 3\",\"PC 3\",\"PC 3\",\"PC 3\",\"PC 3\",\"PC 3\",\"PC 3\",\"PC 3\"],\"index\":[0,1,2,3,4,5,6,7,8,9,10,11,12,13,14,15,16,17,18,19,20,21,22,23,24,25,26,27,28,29,30,31,32,33,34,35,36,37,38,39,40,41,42,43,44,45,46,47,48,49,50,51,52,53,54,55,56,57,58,59,60,61,62,63,64,65,66,67,68,69,70,71,72,73,74,75,76,77,78,79,80,81,82,83,84,85,86,87,88,89,90,91,92,93,94,95,96,97,98,99,100,101,102,103,104,105,106,107,108,109,110,111,112,113,114,115,116,117,118,119,120,121,122,123,124,125,126,127,128,129,130,131,132,133,134,135,136,137,138,139,140,141,142,143,144,145,146,147,148,149,150,151,152,153,154,155,156,157,158,159,160,161,162,163,164,165,166,167,168,169,170,171,172,173,174,175,176,177,178,179,180,181,182,183,184,185,186,187,188,189,190,191,192,193,194,195,196,197,198,199,200,201,202,203,204,205,206,207,208,209,210,211,212,213,214,215,216,217,218,219,220,221,222,223,224,225,226,227,228,229,230,231,232,233,234,235,236,237,238,239,240,241,242,243,244,245,246,247,248,249,250,251,252,253,254,255,256,257,258,259,260,261,262,263,264,265,266,267,268,269,270,271,272,273,274,275,276,277,278,279,280,281,282,283,284,285,286,287,288,289,290,291,292,293,294,295,296,297,298,299,300,301,302,303,304,305,306,307,308,309,310,311,312,313,314,315,316,317,318,319,320,321,322,323,324,325,326,327,328,329,330,331,332,333,334,335,336,337,338,339,340,341,342,343,344,345,346,347,348,349,350,351,352,353,354,355,356,357,358,359,360,361,362,363,364,365,366,367,368,369,370,371,372,373,374,375,376,377,378,379,380,381,382,383,384,385,386,387,388,389,390,391,392,393,394,395,396,397,398,399,400,401,402,403,404,405,406,407,408,409,410,411,412,413,414,415,416,417,418,419,420,421,422,423,424,425,426,427,428,429,430,431,432,433,434,435,436,437,438,439,440,441,442,443,444,445,446,447,448,449,450,451,452,453,454,455,456,457,458,459,460,461,462,463,464,465,466,467,468,469,470,471,472,473,474,475,476,477,478,479,480,481,482,483,484,485,486,487,488,489,490,491,492,493,494,495,496,497,498,499,500,501,502,503,504,505,506,507,508,509,510,511,512,513,514,515,516,517,518,519,520,521,522,523,524,525,526,527,528,529,530,531,532,533,534,535,536,537,538,539,540,541,542,543,544,545,546,547,548,549,550,551,552,553,554,555,556,557,558,559,560,561,562,563,564,565,566,567,568,569,570,571,572,573,574,575,576,577,578,579,580,581,582,583,584,585,586,587,588,589,590,591,592,593,594,595,596,597,598,599,600,601,602,603,604,605,606,607,608,609,610,611,612,613,614,615,616,617,618,619,620,621,622,623,624,625,626,627,628,629,630,631,632,633,634,635,636,637,638,639,640,641,642,643,644,645,646,647,648,649,650,651,652,653,654,655,656,657,658,659,660,661,662,663,664,665,666,667,668,669,670,671,672,673,674,675,676,677,678,679,680,681,682,683,684],\"value\":{\"__ndarray__\":\"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\",\"dtype\":\"float64\",\"shape\":[685]}},\"selected\":{\"id\":\"2582\"},\"selection_policy\":{\"id\":\"2610\"}},\"id\":\"2581\",\"type\":\"ColumnDataSource\"},{\"attributes\":{\"line_alpha\":0.1,\"line_color\":\"#1f77b3\",\"line_width\":2,\"x\":{\"field\":\"index\"},\"y\":{\"field\":\"value\"}},\"id\":\"2552\",\"type\":\"Line\"},{\"attributes\":{\"label\":{\"value\":\"PC 2\"},\"renderers\":[{\"id\":\"2570\"}]},\"id\":\"2580\",\"type\":\"LegendItem\"},{\"attributes\":{\"bottom_units\":\"screen\",\"fill_alpha\":0.5,\"fill_color\":\"lightgrey\",\"left_units\":\"screen\",\"level\":\"overlay\",\"line_alpha\":1.0,\"line_color\":\"black\",\"line_dash\":[4,4],\"line_width\":2,\"render_mode\":\"css\",\"right_units\":\"screen\",\"top_units\":\"screen\"},\"id\":\"2536\",\"type\":\"BoxAnnotation\"},{\"attributes\":{},\"id\":\"2528\",\"type\":\"BasicTicker\"},{\"attributes\":{},\"id\":\"2597\",\"type\":\"UnionRenderers\"},{\"attributes\":{\"data_source\":{\"id\":\"2564\"},\"glyph\":{\"id\":\"2567\"},\"hover_glyph\":null,\"muted_glyph\":{\"id\":\"2569\"},\"nonselection_glyph\":{\"id\":\"2568\"},\"selection_glyph\":null,\"view\":{\"id\":\"2571\"}},\"id\":\"2570\",\"type\":\"GlyphRenderer\"},{\"attributes\":{\"margin\":[5,5,5,5],\"name\":\"HSpacer05183\",\"sizing_mode\":\"stretch_width\"},\"id\":\"2508\",\"type\":\"Spacer\"},{\"attributes\":{\"axis_label\":\"\",\"bounds\":\"auto\",\"formatter\":{\"id\":\"2544\"},\"major_label_orientation\":\"horizontal\",\"ticker\":{\"id\":\"2524\"}},\"id\":\"2523\",\"type\":\"LinearAxis\"},{\"attributes\":{\"source\":{\"id\":\"2548\"}},\"id\":\"2555\",\"type\":\"CDSView\"},{\"attributes\":{\"overlay\":{\"id\":\"2536\"}},\"id\":\"2534\",\"type\":\"BoxZoomTool\"},{\"attributes\":{\"label\":{\"value\":\"PC 1\"},\"renderers\":[{\"id\":\"2554\"}]},\"id\":\"2563\",\"type\":\"LegendItem\"},{\"attributes\":{\"label\":{\"value\":\"PC 3\"},\"renderers\":[{\"id\":\"2587\"}]},\"id\":\"2599\",\"type\":\"LegendItem\"},{\"attributes\":{\"active_drag\":\"auto\",\"active_inspect\":\"auto\",\"active_multi\":null,\"active_scroll\":\"auto\",\"active_tap\":\"auto\",\"tools\":[{\"id\":\"2511\"},{\"id\":\"2531\"},{\"id\":\"2532\"},{\"id\":\"2533\"},{\"id\":\"2534\"},{\"id\":\"2535\"}]},\"id\":\"2537\",\"type\":\"Toolbar\"},{\"attributes\":{},\"id\":\"2532\",\"type\":\"PanTool\"},{\"attributes\":{\"axis\":{\"id\":\"2527\"},\"dimension\":1,\"grid_line_color\":null,\"ticker\":null},\"id\":\"2530\",\"type\":\"Grid\"},{\"attributes\":{\"line_alpha\":0.2,\"line_color\":\"#ff7e0e\",\"line_width\":2,\"x\":{\"field\":\"index\"},\"y\":{\"field\":\"value\"}},\"id\":\"2569\",\"type\":\"Line\"},{\"attributes\":{},\"id\":\"2546\",\"type\":\"BasicTickFormatter\"},{\"attributes\":{\"margin\":[5,5,5,5],\"name\":\"HSpacer05184\",\"sizing_mode\":\"stretch_width\"},\"id\":\"2696\",\"type\":\"Spacer\"},{\"attributes\":{\"line_color\":\"#1f77b3\",\"line_width\":2,\"x\":{\"field\":\"index\"},\"y\":{\"field\":\"value\"}},\"id\":\"2551\",\"type\":\"Line\"},{\"attributes\":{},\"id\":\"2531\",\"type\":\"SaveTool\"},{\"attributes\":{\"data_source\":{\"id\":\"2581\"},\"glyph\":{\"id\":\"2584\"},\"hover_glyph\":null,\"muted_glyph\":{\"id\":\"2586\"},\"nonselection_glyph\":{\"id\":\"2585\"},\"selection_glyph\":null,\"view\":{\"id\":\"2588\"}},\"id\":\"2587\",\"type\":\"GlyphRenderer\"},{\"attributes\":{\"children\":[{\"id\":\"2508\"},{\"id\":\"2514\"},{\"id\":\"2696\"}],\"margin\":[0,0,0,0],\"name\":\"Row05179\",\"tags\":[\"embedded\"]},\"id\":\"2507\",\"type\":\"Row\"},{\"attributes\":{\"line_alpha\":0.1,\"line_color\":\"#2ba02b\",\"line_width\":2,\"x\":{\"field\":\"index\"},\"y\":{\"field\":\"value\"}},\"id\":\"2585\",\"type\":\"Line\"},{\"attributes\":{},\"id\":\"2535\",\"type\":\"ResetTool\"},{\"attributes\":{},\"id\":\"2544\",\"type\":\"BasicTickFormatter\"},{\"attributes\":{},\"id\":\"2533\",\"type\":\"WheelZoomTool\"},{\"attributes\":{\"text\":\"title\",\"text_color\":{\"value\":\"black\"},\"text_font_size\":{\"value\":\"12pt\"}},\"id\":\"2515\",\"type\":\"Title\"},{\"attributes\":{},\"id\":\"2578\",\"type\":\"UnionRenderers\"},{\"attributes\":{\"end\":684.0,\"reset_end\":684.0,\"reset_start\":0.0,\"tags\":[[[\"index\",\"index\",null]]]},\"id\":\"2509\",\"type\":\"Range1d\"},{\"attributes\":{\"data_source\":{\"id\":\"2548\"},\"glyph\":{\"id\":\"2551\"},\"hover_glyph\":null,\"muted_glyph\":{\"id\":\"2553\"},\"nonselection_glyph\":{\"id\":\"2552\"},\"selection_glyph\":null,\"view\":{\"id\":\"2555\"}},\"id\":\"2554\",\"type\":\"GlyphRenderer\"},{\"attributes\":{\"data\":{\"Variable\":[\"PC 1\",\"PC 1\",\"PC 1\",\"PC 1\",\"PC 1\",\"PC 1\",\"PC 1\",\"PC 1\",\"PC 1\",\"PC 1\",\"PC 1\",\"PC 1\",\"PC 1\",\"PC 1\",\"PC 1\",\"PC 1\",\"PC 1\",\"PC 1\",\"PC 1\",\"PC 1\",\"PC 1\",\"PC 1\",\"PC 1\",\"PC 1\",\"PC 1\",\"PC 1\",\"PC 1\",\"PC 1\",\"PC 1\",\"PC 1\",\"PC 1\",\"PC 1\",\"PC 1\",\"PC 1\",\"PC 1\",\"PC 1\",\"PC 1\",\"PC 1\",\"PC 1\",\"PC 1\",\"PC 1\",\"PC 1\",\"PC 1\",\"PC 1\",\"PC 1\",\"PC 1\",\"PC 1\",\"PC 1\",\"PC 1\",\"PC 1\",\"PC 1\",\"PC 1\",\"PC 1\",\"PC 1\",\"PC 1\",\"PC 1\",\"PC 1\",\"PC 1\",\"PC 1\",\"PC 1\",\"PC 1\",\"PC 1\",\"PC 1\",\"PC 1\",\"PC 1\",\"PC 1\",\"PC 1\",\"PC 1\",\"PC 1\",\"PC 1\",\"PC 1\",\"PC 1\",\"PC 1\",\"PC 1\",\"PC 1\",\"PC 1\",\"PC 1\",\"PC 1\",\"PC 1\",\"PC 1\",\"PC 1\",\"PC 1\",\"PC 1\",\"PC 1\",\"PC 1\",\"PC 1\",\"PC 1\",\"PC 1\",\"PC 1\",\"PC 1\",\"PC 1\",\"PC 1\",\"PC 1\",\"PC 1\",\"PC 1\",\"PC 1\",\"PC 1\",\"PC 1\",\"PC 1\",\"PC 1\",\"PC 1\",\"PC 1\",\"PC 1\",\"PC 1\",\"PC 1\",\"PC 1\",\"PC 1\",\"PC 1\",\"PC 1\",\"PC 1\",\"PC 1\",\"PC 1\",\"PC 1\",\"PC 1\",\"PC 1\",\"PC 1\",\"PC 1\",\"PC 1\",\"PC 1\",\"PC 1\",\"PC 1\",\"PC 1\",\"PC 1\",\"PC 1\",\"PC 1\",\"PC 1\",\"PC 1\",\"PC 1\",\"PC 1\",\"PC 1\",\"PC 1\",\"PC 1\",\"PC 1\",\"PC 1\",\"PC 1\",\"PC 1\",\"PC 1\",\"PC 1\",\"PC 1\",\"PC 1\",\"PC 1\",\"PC 1\",\"PC 1\",\"PC 1\",\"PC 1\",\"PC 1\",\"PC 1\",\"PC 1\",\"PC 1\",\"PC 1\",\"PC 1\",\"PC 1\",\"PC 1\",\"PC 1\",\"PC 1\",\"PC 1\",\"PC 1\",\"PC 1\",\"PC 1\",\"PC 1\",\"PC 1\",\"PC 1\",\"PC 1\",\"PC 1\",\"PC 1\",\"PC 1\",\"PC 1\",\"PC 1\",\"PC 1\",\"PC 1\",\"PC 1\",\"PC 1\",\"PC 1\",\"PC 1\",\"PC 1\",\"PC 1\",\"PC 1\",\"PC 1\",\"PC 1\",\"PC 1\",\"PC 1\",\"PC 1\",\"PC 1\",\"PC 1\",\"PC 1\",\"PC 1\",\"PC 1\",\"PC 1\",\"PC 1\",\"PC 1\",\"PC 1\",\"PC 1\",\"PC 1\",\"PC 1\",\"PC 1\",\"PC 1\",\"PC 1\",\"PC 1\",\"PC 1\",\"PC 1\",\"PC 1\",\"PC 1\",\"PC 1\",\"PC 1\",\"PC 1\",\"PC 1\",\"PC 1\",\"PC 1\",\"PC 1\",\"PC 1\",\"PC 1\",\"PC 1\",\"PC 1\",\"PC 1\",\"PC 1\",\"PC 1\",\"PC 1\",\"PC 1\",\"PC 1\",\"PC 1\",\"PC 1\",\"PC 1\",\"PC 1\",\"PC 1\",\"PC 1\",\"PC 1\",\"PC 1\",\"PC 1\",\"PC 1\",\"PC 1\",\"PC 1\",\"PC 1\",\"PC 1\",\"PC 1\",\"PC 1\",\"PC 1\",\"PC 1\",\"PC 1\",\"PC 1\",\"PC 1\",\"PC 1\",\"PC 1\",\"PC 1\",\"PC 1\",\"PC 1\",\"PC 1\",\"PC 1\",\"PC 1\",\"PC 1\",\"PC 1\",\"PC 1\",\"PC 1\",\"PC 1\",\"PC 1\",\"PC 1\",\"PC 1\",\"PC 1\",\"PC 1\",\"PC 1\",\"PC 1\",\"PC 1\",\"PC 1\",\"PC 1\",\"PC 1\",\"PC 1\",\"PC 1\",\"PC 1\",\"PC 1\",\"PC 1\",\"PC 1\",\"PC 1\",\"PC 1\",\"PC 1\",\"PC 1\",\"PC 1\",\"PC 1\",\"PC 1\",\"PC 1\",\"PC 1\",\"PC 1\",\"PC 1\",\"PC 1\",\"PC 1\",\"PC 1\",\"PC 1\",\"PC 1\",\"PC 1\",\"PC 1\",\"PC 1\",\"PC 1\",\"PC 1\",\"PC 1\",\"PC 1\",\"PC 1\",\"PC 1\",\"PC 1\",\"PC 1\",\"PC 1\",\"PC 1\",\"PC 1\",\"PC 1\",\"PC 1\",\"PC 1\",\"PC 1\",\"PC 1\",\"PC 1\",\"PC 1\",\"PC 1\",\"PC 1\",\"PC 1\",\"PC 1\",\"PC 1\",\"PC 1\",\"PC 1\",\"PC 1\",\"PC 1\",\"PC 1\",\"PC 1\",\"PC 1\",\"PC 1\",\"PC 1\",\"PC 1\",\"PC 1\",\"PC 1\",\"PC 1\",\"PC 1\",\"PC 1\",\"PC 1\",\"PC 1\",\"PC 1\",\"PC 1\",\"PC 1\",\"PC 1\",\"PC 1\",\"PC 1\",\"PC 1\",\"PC 1\",\"PC 1\",\"PC 1\",\"PC 1\",\"PC 1\",\"PC 1\",\"PC 1\",\"PC 1\",\"PC 1\",\"PC 1\",\"PC 1\",\"PC 1\",\"PC 1\",\"PC 1\",\"PC 1\",\"PC 1\",\"PC 1\",\"PC 1\",\"PC 1\",\"PC 1\",\"PC 1\",\"PC 1\",\"PC 1\",\"PC 1\",\"PC 1\",\"PC 1\",\"PC 1\",\"PC 1\",\"PC 1\",\"PC 1\",\"PC 1\",\"PC 1\",\"PC 1\",\"PC 1\",\"PC 1\",\"PC 1\",\"PC 1\",\"PC 1\",\"PC 1\",\"PC 1\",\"PC 1\",\"PC 1\",\"PC 1\",\"PC 1\",\"PC 1\",\"PC 1\",\"PC 1\",\"PC 1\",\"PC 1\",\"PC 1\",\"PC 1\",\"PC 1\",\"PC 1\",\"PC 1\",\"PC 1\",\"PC 1\",\"PC 1\",\"PC 1\",\"PC 1\",\"PC 1\",\"PC 1\",\"PC 1\",\"PC 1\",\"PC 1\",\"PC 1\",\"PC 1\",\"PC 1\",\"PC 1\",\"PC 1\",\"PC 1\",\"PC 1\",\"PC 1\",\"PC 1\",\"PC 1\",\"PC 1\",\"PC 1\",\"PC 1\",\"PC 1\",\"PC 1\",\"PC 1\",\"PC 1\",\"PC 1\",\"PC 1\",\"PC 1\",\"PC 1\",\"PC 1\",\"PC 1\",\"PC 1\",\"PC 1\",\"PC 1\",\"PC 1\",\"PC 1\",\"PC 1\",\"PC 1\",\"PC 1\",\"PC 1\",\"PC 1\",\"PC 1\",\"PC 1\",\"PC 1\",\"PC 1\",\"PC 1\",\"PC 1\",\"PC 1\",\"PC 1\",\"PC 1\",\"PC 1\",\"PC 1\",\"PC 1\",\"PC 1\",\"PC 1\",\"PC 1\",\"PC 1\",\"PC 1\",\"PC 1\",\"PC 1\",\"PC 1\",\"PC 1\",\"PC 1\",\"PC 1\",\"PC 1\",\"PC 1\",\"PC 1\",\"PC 1\",\"PC 1\",\"PC 1\",\"PC 1\",\"PC 1\",\"PC 1\",\"PC 1\",\"PC 1\",\"PC 1\",\"PC 1\",\"PC 1\",\"PC 1\",\"PC 1\",\"PC 1\",\"PC 1\",\"PC 1\",\"PC 1\",\"PC 1\",\"PC 1\",\"PC 1\",\"PC 1\",\"PC 1\",\"PC 1\",\"PC 1\",\"PC 1\",\"PC 1\",\"PC 1\",\"PC 1\",\"PC 1\",\"PC 1\",\"PC 1\",\"PC 1\",\"PC 1\",\"PC 1\",\"PC 1\",\"PC 1\",\"PC 1\",\"PC 1\",\"PC 1\",\"PC 1\",\"PC 1\",\"PC 1\",\"PC 1\",\"PC 1\",\"PC 1\",\"PC 1\",\"PC 1\",\"PC 1\",\"PC 1\",\"PC 1\",\"PC 1\",\"PC 1\",\"PC 1\",\"PC 1\",\"PC 1\",\"PC 1\",\"PC 1\",\"PC 1\",\"PC 1\",\"PC 1\",\"PC 1\",\"PC 1\",\"PC 1\",\"PC 1\",\"PC 1\",\"PC 1\",\"PC 1\",\"PC 1\",\"PC 1\",\"PC 1\",\"PC 1\",\"PC 1\",\"PC 1\",\"PC 1\",\"PC 1\",\"PC 1\",\"PC 1\",\"PC 1\",\"PC 1\",\"PC 1\",\"PC 1\",\"PC 1\",\"PC 1\",\"PC 1\",\"PC 1\",\"PC 1\",\"PC 1\",\"PC 1\",\"PC 1\",\"PC 1\",\"PC 1\",\"PC 1\",\"PC 1\",\"PC 1\",\"PC 1\",\"PC 1\",\"PC 1\",\"PC 1\",\"PC 1\",\"PC 1\",\"PC 1\",\"PC 1\",\"PC 1\",\"PC 1\",\"PC 1\",\"PC 1\",\"PC 1\",\"PC 1\",\"PC 1\",\"PC 1\",\"PC 1\",\"PC 1\",\"PC 1\",\"PC 1\",\"PC 1\",\"PC 1\",\"PC 1\",\"PC 1\",\"PC 1\",\"PC 1\",\"PC 1\",\"PC 1\",\"PC 1\",\"PC 1\",\"PC 1\",\"PC 1\",\"PC 1\",\"PC 1\",\"PC 1\",\"PC 1\",\"PC 1\",\"PC 1\",\"PC 1\",\"PC 1\",\"PC 1\",\"PC 1\",\"PC 1\",\"PC 1\",\"PC 1\",\"PC 1\",\"PC 1\",\"PC 1\",\"PC 1\",\"PC 1\",\"PC 1\",\"PC 1\",\"PC 1\",\"PC 1\",\"PC 1\",\"PC 1\",\"PC 1\",\"PC 1\",\"PC 1\",\"PC 1\",\"PC 1\",\"PC 1\",\"PC 1\",\"PC 1\",\"PC 1\",\"PC 1\",\"PC 1\",\"PC 1\",\"PC 1\",\"PC 1\",\"PC 1\",\"PC 1\",\"PC 1\",\"PC 1\",\"PC 1\",\"PC 1\",\"PC 1\",\"PC 1\",\"PC 1\",\"PC 1\",\"PC 1\",\"PC 1\",\"PC 1\",\"PC 1\",\"PC 1\",\"PC 1\",\"PC 1\",\"PC 1\",\"PC 1\",\"PC 1\",\"PC 1\",\"PC 1\",\"PC 1\",\"PC 1\",\"PC 1\",\"PC 1\",\"PC 1\",\"PC 1\",\"PC 1\",\"PC 1\",\"PC 1\",\"PC 1\",\"PC 1\",\"PC 1\",\"PC 1\",\"PC 1\",\"PC 1\",\"PC 1\",\"PC 1\",\"PC 1\",\"PC 1\",\"PC 1\",\"PC 1\",\"PC 1\",\"PC 1\",\"PC 1\",\"PC 1\",\"PC 1\",\"PC 1\",\"PC 1\",\"PC 1\",\"PC 1\",\"PC 1\",\"PC 1\",\"PC 1\",\"PC 1\",\"PC 1\",\"PC 1\",\"PC 1\",\"PC 1\",\"PC 1\",\"PC 1\"],\"index\":[0,1,2,3,4,5,6,7,8,9,10,11,12,13,14,15,16,17,18,19,20,21,22,23,24,25,26,27,28,29,30,31,32,33,34,35,36,37,38,39,40,41,42,43,44,45,46,47,48,49,50,51,52,53,54,55,56,57,58,59,60,61,62,63,64,65,66,67,68,69,70,71,72,73,74,75,76,77,78,79,80,81,82,83,84,85,86,87,88,89,90,91,92,93,94,95,96,97,98,99,100,101,102,103,104,105,106,107,108,109,110,111,112,113,114,115,116,117,118,119,120,121,122,123,124,125,126,127,128,129,130,131,132,133,134,135,136,137,138,139,140,141,142,143,144,145,146,147,148,149,150,151,152,153,154,155,156,157,158,159,160,161,162,163,164,165,166,167,168,169,170,171,172,173,174,175,176,177,178,179,180,181,182,183,184,185,186,187,188,189,190,191,192,193,194,195,196,197,198,199,200,201,202,203,204,205,206,207,208,209,210,211,212,213,214,215,216,217,218,219,220,221,222,223,224,225,226,227,228,229,230,231,232,233,234,235,236,237,238,239,240,241,242,243,244,245,246,247,248,249,250,251,252,253,254,255,256,257,258,259,260,261,262,263,264,265,266,267,268,269,270,271,272,273,274,275,276,277,278,279,280,281,282,283,284,285,286,287,288,289,290,291,292,293,294,295,296,297,298,299,300,301,302,303,304,305,306,307,308,309,310,311,312,313,314,315,316,317,318,319,320,321,322,323,324,325,326,327,328,329,330,331,332,333,334,335,336,337,338,339,340,341,342,343,344,345,346,347,348,349,350,351,352,353,354,355,356,357,358,359,360,361,362,363,364,365,366,367,368,369,370,371,372,373,374,375,376,377,378,379,380,381,382,383,384,385,386,387,388,389,390,391,392,393,394,395,396,397,398,399,400,401,402,403,404,405,406,407,408,409,410,411,412,413,414,415,416,417,418,419,420,421,422,423,424,425,426,427,428,429,430,431,432,433,434,435,436,437,438,439,440,441,442,443,444,445,446,447,448,449,450,451,452,453,454,455,456,457,458,459,460,461,462,463,464,465,466,467,468,469,470,471,472,473,474,475,476,477,478,479,480,481,482,483,484,485,486,487,488,489,490,491,492,493,494,495,496,497,498,499,500,501,502,503,504,505,506,507,508,509,510,511,512,513,514,515,516,517,518,519,520,521,522,523,524,525,526,527,528,529,530,531,532,533,534,535,536,537,538,539,540,541,542,543,544,545,546,547,548,549,550,551,552,553,554,555,556,557,558,559,560,561,562,563,564,565,566,567,568,569,570,571,572,573,574,575,576,577,578,579,580,581,582,583,584,585,586,587,588,589,590,591,592,593,594,595,596,597,598,599,600,601,602,603,604,605,606,607,608,609,610,611,612,613,614,615,616,617,618,619,620,621,622,623,624,625,626,627,628,629,630,631,632,633,634,635,636,637,638,639,640,641,642,643,644,645,646,647,648,649,650,651,652,653,654,655,656,657,658,659,660,661,662,663,664,665,666,667,668,669,670,671,672,673,674,675,676,677,678,679,680,681,682,683,684],\"value\":{\"__ndarray__\":\"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\",\"dtype\":\"float64\",\"shape\":[685]}},\"selected\":{\"id\":\"2549\"},\"selection_policy\":{\"id\":\"2578\"}},\"id\":\"2548\",\"type\":\"ColumnDataSource\"},{\"attributes\":{},\"id\":\"2582\",\"type\":\"Selection\"},{\"attributes\":{\"callback\":null,\"renderers\":[{\"id\":\"2554\"},{\"id\":\"2570\"},{\"id\":\"2587\"}],\"tags\":[\"hv_created\"],\"tooltips\":[[\"Variable\",\"@{Variable}\"],[\"index\",\"@{index}\"],[\"value\",\"@{value}\"]]},\"id\":\"2511\",\"type\":\"HoverTool\"},{\"attributes\":{\"source\":{\"id\":\"2581\"}},\"id\":\"2588\",\"type\":\"CDSView\"},{\"attributes\":{},\"id\":\"2519\",\"type\":\"LinearScale\"},{\"attributes\":{\"data\":{\"Variable\":[\"PC 2\",\"PC 2\",\"PC 2\",\"PC 2\",\"PC 2\",\"PC 2\",\"PC 2\",\"PC 2\",\"PC 2\",\"PC 2\",\"PC 2\",\"PC 2\",\"PC 2\",\"PC 2\",\"PC 2\",\"PC 2\",\"PC 2\",\"PC 2\",\"PC 2\",\"PC 2\",\"PC 2\",\"PC 2\",\"PC 2\",\"PC 2\",\"PC 2\",\"PC 2\",\"PC 2\",\"PC 2\",\"PC 2\",\"PC 2\",\"PC 2\",\"PC 2\",\"PC 2\",\"PC 2\",\"PC 2\",\"PC 2\",\"PC 2\",\"PC 2\",\"PC 2\",\"PC 2\",\"PC 2\",\"PC 2\",\"PC 2\",\"PC 2\",\"PC 2\",\"PC 2\",\"PC 2\",\"PC 2\",\"PC 2\",\"PC 2\",\"PC 2\",\"PC 2\",\"PC 2\",\"PC 2\",\"PC 2\",\"PC 2\",\"PC 2\",\"PC 2\",\"PC 2\",\"PC 2\",\"PC 2\",\"PC 2\",\"PC 2\",\"PC 2\",\"PC 2\",\"PC 2\",\"PC 2\",\"PC 2\",\"PC 2\",\"PC 2\",\"PC 2\",\"PC 2\",\"PC 2\",\"PC 2\",\"PC 2\",\"PC 2\",\"PC 2\",\"PC 2\",\"PC 2\",\"PC 2\",\"PC 2\",\"PC 2\",\"PC 2\",\"PC 2\",\"PC 2\",\"PC 2\",\"PC 2\",\"PC 2\",\"PC 2\",\"PC 2\",\"PC 2\",\"PC 2\",\"PC 2\",\"PC 2\",\"PC 2\",\"PC 2\",\"PC 2\",\"PC 2\",\"PC 2\",\"PC 2\",\"PC 2\",\"PC 2\",\"PC 2\",\"PC 2\",\"PC 2\",\"PC 2\",\"PC 2\",\"PC 2\",\"PC 2\",\"PC 2\",\"PC 2\",\"PC 2\",\"PC 2\",\"PC 2\",\"PC 2\",\"PC 2\",\"PC 2\",\"PC 2\",\"PC 2\",\"PC 2\",\"PC 2\",\"PC 2\",\"PC 2\",\"PC 2\",\"PC 2\",\"PC 2\",\"PC 2\",\"PC 2\",\"PC 2\",\"PC 2\",\"PC 2\",\"PC 2\",\"PC 2\",\"PC 2\",\"PC 2\",\"PC 2\",\"PC 2\",\"PC 2\",\"PC 2\",\"PC 2\",\"PC 2\",\"PC 2\",\"PC 2\",\"PC 2\",\"PC 2\",\"PC 2\",\"PC 2\",\"PC 2\",\"PC 2\",\"PC 2\",\"PC 2\",\"PC 2\",\"PC 2\",\"PC 2\",\"PC 2\",\"PC 2\",\"PC 2\",\"PC 2\",\"PC 2\",\"PC 2\",\"PC 2\",\"PC 2\",\"PC 2\",\"PC 2\",\"PC 2\",\"PC 2\",\"PC 2\",\"PC 2\",\"PC 2\",\"PC 2\",\"PC 2\",\"PC 2\",\"PC 2\",\"PC 2\",\"PC 2\",\"PC 2\",\"PC 2\",\"PC 2\",\"PC 2\",\"PC 2\",\"PC 2\",\"PC 2\",\"PC 2\",\"PC 2\",\"PC 2\",\"PC 2\",\"PC 2\",\"PC 2\",\"PC 2\",\"PC 2\",\"PC 2\",\"PC 2\",\"PC 2\",\"PC 2\",\"PC 2\",\"PC 2\",\"PC 2\",\"PC 2\",\"PC 2\",\"PC 2\",\"PC 2\",\"PC 2\",\"PC 2\",\"PC 2\",\"PC 2\",\"PC 2\",\"PC 2\",\"PC 2\",\"PC 2\",\"PC 2\",\"PC 2\",\"PC 2\",\"PC 2\",\"PC 2\",\"PC 2\",\"PC 2\",\"PC 2\",\"PC 2\",\"PC 2\",\"PC 2\",\"PC 2\",\"PC 2\",\"PC 2\",\"PC 2\",\"PC 2\",\"PC 2\",\"PC 2\",\"PC 2\",\"PC 2\",\"PC 2\",\"PC 2\",\"PC 2\",\"PC 2\",\"PC 2\",\"PC 2\",\"PC 2\",\"PC 2\",\"PC 2\",\"PC 2\",\"PC 2\",\"PC 2\",\"PC 2\",\"PC 2\",\"PC 2\",\"PC 2\",\"PC 2\",\"PC 2\",\"PC 2\",\"PC 2\",\"PC 2\",\"PC 2\",\"PC 2\",\"PC 2\",\"PC 2\",\"PC 2\",\"PC 2\",\"PC 2\",\"PC 2\",\"PC 2\",\"PC 2\",\"PC 2\",\"PC 2\",\"PC 2\",\"PC 2\",\"PC 2\",\"PC 2\",\"PC 2\",\"PC 2\",\"PC 2\",\"PC 2\",\"PC 2\",\"PC 2\",\"PC 2\",\"PC 2\",\"PC 2\",\"PC 2\",\"PC 2\",\"PC 2\",\"PC 2\",\"PC 2\",\"PC 2\",\"PC 2\",\"PC 2\",\"PC 2\",\"PC 2\",\"PC 2\",\"PC 2\",\"PC 2\",\"PC 2\",\"PC 2\",\"PC 2\",\"PC 2\",\"PC 2\",\"PC 2\",\"PC 2\",\"PC 2\",\"PC 2\",\"PC 2\",\"PC 2\",\"PC 2\",\"PC 2\",\"PC 2\",\"PC 2\",\"PC 2\",\"PC 2\",\"PC 2\",\"PC 2\",\"PC 2\",\"PC 2\",\"PC 2\",\"PC 2\",\"PC 2\",\"PC 2\",\"PC 2\",\"PC 2\",\"PC 2\",\"PC 2\",\"PC 2\",\"PC 2\",\"PC 2\",\"PC 2\",\"PC 2\",\"PC 2\",\"PC 2\",\"PC 2\",\"PC 2\",\"PC 2\",\"PC 2\",\"PC 2\",\"PC 2\",\"PC 2\",\"PC 2\",\"PC 2\",\"PC 2\",\"PC 2\",\"PC 2\",\"PC 2\",\"PC 2\",\"PC 2\",\"PC 2\",\"PC 2\",\"PC 2\",\"PC 2\",\"PC 2\",\"PC 2\",\"PC 2\",\"PC 2\",\"PC 2\",\"PC 2\",\"PC 2\",\"PC 2\",\"PC 2\",\"PC 2\",\"PC 2\",\"PC 2\",\"PC 2\",\"PC 2\",\"PC 2\",\"PC 2\",\"PC 2\",\"PC 2\",\"PC 2\",\"PC 2\",\"PC 2\",\"PC 2\",\"PC 2\",\"PC 2\",\"PC 2\",\"PC 2\",\"PC 2\",\"PC 2\",\"PC 2\",\"PC 2\",\"PC 2\",\"PC 2\",\"PC 2\",\"PC 2\",\"PC 2\",\"PC 2\",\"PC 2\",\"PC 2\",\"PC 2\",\"PC 2\",\"PC 2\",\"PC 2\",\"PC 2\",\"PC 2\",\"PC 2\",\"PC 2\",\"PC 2\",\"PC 2\",\"PC 2\",\"PC 2\",\"PC 2\",\"PC 2\",\"PC 2\",\"PC 2\",\"PC 2\",\"PC 2\",\"PC 2\",\"PC 2\",\"PC 2\",\"PC 2\",\"PC 2\",\"PC 2\",\"PC 2\",\"PC 2\",\"PC 2\",\"PC 2\",\"PC 2\",\"PC 2\",\"PC 2\",\"PC 2\",\"PC 2\",\"PC 2\",\"PC 2\",\"PC 2\",\"PC 2\",\"PC 2\",\"PC 2\",\"PC 2\",\"PC 2\",\"PC 2\",\"PC 2\",\"PC 2\",\"PC 2\",\"PC 2\",\"PC 2\",\"PC 2\",\"PC 2\",\"PC 2\",\"PC 2\",\"PC 2\",\"PC 2\",\"PC 2\",\"PC 2\",\"PC 2\",\"PC 2\",\"PC 2\",\"PC 2\",\"PC 2\",\"PC 2\",\"PC 2\",\"PC 2\",\"PC 2\",\"PC 2\",\"PC 2\",\"PC 2\",\"PC 2\",\"PC 2\",\"PC 2\",\"PC 2\",\"PC 2\",\"PC 2\",\"PC 2\",\"PC 2\",\"PC 2\",\"PC 2\",\"PC 2\",\"PC 2\",\"PC 2\",\"PC 2\",\"PC 2\",\"PC 2\",\"PC 2\",\"PC 2\",\"PC 2\",\"PC 2\",\"PC 2\",\"PC 2\",\"PC 2\",\"PC 2\",\"PC 2\",\"PC 2\",\"PC 2\",\"PC 2\",\"PC 2\",\"PC 2\",\"PC 2\",\"PC 2\",\"PC 2\",\"PC 2\",\"PC 2\",\"PC 2\",\"PC 2\",\"PC 2\",\"PC 2\",\"PC 2\",\"PC 2\",\"PC 2\",\"PC 2\",\"PC 2\",\"PC 2\",\"PC 2\",\"PC 2\",\"PC 2\",\"PC 2\",\"PC 2\",\"PC 2\",\"PC 2\",\"PC 2\",\"PC 2\",\"PC 2\",\"PC 2\",\"PC 2\",\"PC 2\",\"PC 2\",\"PC 2\",\"PC 2\",\"PC 2\",\"PC 2\",\"PC 2\",\"PC 2\",\"PC 2\",\"PC 2\",\"PC 2\",\"PC 2\",\"PC 2\",\"PC 2\",\"PC 2\",\"PC 2\",\"PC 2\",\"PC 2\",\"PC 2\",\"PC 2\",\"PC 2\",\"PC 2\",\"PC 2\",\"PC 2\",\"PC 2\",\"PC 2\",\"PC 2\",\"PC 2\",\"PC 2\",\"PC 2\",\"PC 2\",\"PC 2\",\"PC 2\",\"PC 2\",\"PC 2\",\"PC 2\",\"PC 2\",\"PC 2\",\"PC 2\",\"PC 2\",\"PC 2\",\"PC 2\",\"PC 2\",\"PC 2\",\"PC 2\",\"PC 2\",\"PC 2\",\"PC 2\",\"PC 2\",\"PC 2\",\"PC 2\",\"PC 2\",\"PC 2\",\"PC 2\",\"PC 2\",\"PC 2\",\"PC 2\",\"PC 2\",\"PC 2\",\"PC 2\",\"PC 2\",\"PC 2\",\"PC 2\",\"PC 2\",\"PC 2\",\"PC 2\",\"PC 2\",\"PC 2\",\"PC 2\",\"PC 2\",\"PC 2\",\"PC 2\",\"PC 2\",\"PC 2\",\"PC 2\",\"PC 2\",\"PC 2\",\"PC 2\",\"PC 2\",\"PC 2\",\"PC 2\",\"PC 2\",\"PC 2\",\"PC 2\",\"PC 2\",\"PC 2\",\"PC 2\",\"PC 2\",\"PC 2\",\"PC 2\",\"PC 2\",\"PC 2\",\"PC 2\",\"PC 2\",\"PC 2\",\"PC 2\",\"PC 2\",\"PC 2\",\"PC 2\",\"PC 2\",\"PC 2\",\"PC 2\",\"PC 2\",\"PC 2\",\"PC 2\",\"PC 2\",\"PC 2\",\"PC 2\",\"PC 2\",\"PC 2\",\"PC 2\",\"PC 2\",\"PC 2\",\"PC 2\",\"PC 2\",\"PC 2\",\"PC 2\",\"PC 2\",\"PC 2\",\"PC 2\",\"PC 2\",\"PC 2\",\"PC 2\",\"PC 2\",\"PC 2\",\"PC 2\",\"PC 2\",\"PC 2\",\"PC 2\",\"PC 2\",\"PC 2\",\"PC 2\",\"PC 2\",\"PC 2\",\"PC 2\",\"PC 2\",\"PC 2\",\"PC 2\",\"PC 2\",\"PC 2\",\"PC 2\",\"PC 2\",\"PC 2\",\"PC 2\",\"PC 2\",\"PC 2\",\"PC 2\",\"PC 2\",\"PC 2\",\"PC 2\",\"PC 2\",\"PC 2\",\"PC 2\",\"PC 2\",\"PC 2\",\"PC 2\",\"PC 2\",\"PC 2\",\"PC 2\",\"PC 2\",\"PC 2\",\"PC 2\",\"PC 2\",\"PC 2\",\"PC 2\",\"PC 2\",\"PC 2\",\"PC 2\",\"PC 2\",\"PC 2\",\"PC 2\",\"PC 2\",\"PC 2\",\"PC 2\",\"PC 2\",\"PC 2\",\"PC 2\",\"PC 2\",\"PC 2\",\"PC 2\"],\"index\":[0,1,2,3,4,5,6,7,8,9,10,11,12,13,14,15,16,17,18,19,20,21,22,23,24,25,26,27,28,29,30,31,32,33,34,35,36,37,38,39,40,41,42,43,44,45,46,47,48,49,50,51,52,53,54,55,56,57,58,59,60,61,62,63,64,65,66,67,68,69,70,71,72,73,74,75,76,77,78,79,80,81,82,83,84,85,86,87,88,89,90,91,92,93,94,95,96,97,98,99,100,101,102,103,104,105,106,107,108,109,110,111,112,113,114,115,116,117,118,119,120,121,122,123,124,125,126,127,128,129,130,131,132,133,134,135,136,137,138,139,140,141,142,143,144,145,146,147,148,149,150,151,152,153,154,155,156,157,158,159,160,161,162,163,164,165,166,167,168,169,170,171,172,173,174,175,176,177,178,179,180,181,182,183,184,185,186,187,188,189,190,191,192,193,194,195,196,197,198,199,200,201,202,203,204,205,206,207,208,209,210,211,212,213,214,215,216,217,218,219,220,221,222,223,224,225,226,227,228,229,230,231,232,233,234,235,236,237,238,239,240,241,242,243,244,245,246,247,248,249,250,251,252,253,254,255,256,257,258,259,260,261,262,263,264,265,266,267,268,269,270,271,272,273,274,275,276,277,278,279,280,281,282,283,284,285,286,287,288,289,290,291,292,293,294,295,296,297,298,299,300,301,302,303,304,305,306,307,308,309,310,311,312,313,314,315,316,317,318,319,320,321,322,323,324,325,326,327,328,329,330,331,332,333,334,335,336,337,338,339,340,341,342,343,344,345,346,347,348,349,350,351,352,353,354,355,356,357,358,359,360,361,362,363,364,365,366,367,368,369,370,371,372,373,374,375,376,377,378,379,380,381,382,383,384,385,386,387,388,389,390,391,392,393,394,395,396,397,398,399,400,401,402,403,404,405,406,407,408,409,410,411,412,413,414,415,416,417,418,419,420,421,422,423,424,425,426,427,428,429,430,431,432,433,434,435,436,437,438,439,440,441,442,443,444,445,446,447,448,449,450,451,452,453,454,455,456,457,458,459,460,461,462,463,464,465,466,467,468,469,470,471,472,473,474,475,476,477,478,479,480,481,482,483,484,485,486,487,488,489,490,491,492,493,494,495,496,497,498,499,500,501,502,503,504,505,506,507,508,509,510,511,512,513,514,515,516,517,518,519,520,521,522,523,524,525,526,527,528,529,530,531,532,533,534,535,536,537,538,539,540,541,542,543,544,545,546,547,548,549,550,551,552,553,554,555,556,557,558,559,560,561,562,563,564,565,566,567,568,569,570,571,572,573,574,575,576,577,578,579,580,581,582,583,584,585,586,587,588,589,590,591,592,593,594,595,596,597,598,599,600,601,602,603,604,605,606,607,608,609,610,611,612,613,614,615,616,617,618,619,620,621,622,623,624,625,626,627,628,629,630,631,632,633,634,635,636,637,638,639,640,641,642,643,644,645,646,647,648,649,650,651,652,653,654,655,656,657,658,659,660,661,662,663,664,665,666,667,668,669,670,671,672,673,674,675,676,677,678,679,680,681,682,683,684],\"value\":{\"__ndarray__\":\"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\",\"dtype\":\"float64\",\"shape\":[685]}},\"selected\":{\"id\":\"2565\"},\"selection_policy\":{\"id\":\"2597\"}},\"id\":\"2564\",\"type\":\"ColumnDataSource\"},{\"attributes\":{},\"id\":\"2610\",\"type\":\"UnionRenderers\"},{\"attributes\":{},\"id\":\"2524\",\"type\":\"BasicTicker\"},{\"attributes\":{\"end\":35.5187302741332,\"reset_end\":35.5187302741332,\"reset_start\":-5.950347069771109,\"start\":-5.950347069771109,\"tags\":[[[\"value\",\"value\",null]]]},\"id\":\"2510\",\"type\":\"Range1d\"},{\"attributes\":{\"line_color\":\"#2ba02b\",\"line_width\":2,\"x\":{\"field\":\"index\"},\"y\":{\"field\":\"value\"}},\"id\":\"2584\",\"type\":\"Line\"},{\"attributes\":{\"line_alpha\":0.1,\"line_color\":\"#ff7e0e\",\"line_width\":2,\"x\":{\"field\":\"index\"},\"y\":{\"field\":\"value\"}},\"id\":\"2568\",\"type\":\"Line\"},{\"attributes\":{\"axis\":{\"id\":\"2523\"},\"grid_line_color\":null,\"ticker\":null},\"id\":\"2526\",\"type\":\"Grid\"},{\"attributes\":{\"line_color\":\"#ff7e0e\",\"line_width\":2,\"x\":{\"field\":\"index\"},\"y\":{\"field\":\"value\"}},\"id\":\"2567\",\"type\":\"Line\"},{\"attributes\":{\"source\":{\"id\":\"2564\"}},\"id\":\"2571\",\"type\":\"CDSView\"},{\"attributes\":{\"line_alpha\":0.2,\"line_color\":\"#2ba02b\",\"line_width\":2,\"x\":{\"field\":\"index\"},\"y\":{\"field\":\"value\"}},\"id\":\"2586\",\"type\":\"Line\"},{\"attributes\":{\"line_alpha\":0.2,\"line_color\":\"#1f77b3\",\"line_width\":2,\"x\":{\"field\":\"index\"},\"y\":{\"field\":\"value\"}},\"id\":\"2553\",\"type\":\"Line\"},{\"attributes\":{},\"id\":\"2565\",\"type\":\"Selection\"},{\"attributes\":{},\"id\":\"2521\",\"type\":\"LinearScale\"},{\"attributes\":{\"below\":[{\"id\":\"2523\"}],\"center\":[{\"id\":\"2526\"},{\"id\":\"2530\"}],\"left\":[{\"id\":\"2527\"}],\"margin\":null,\"min_border_bottom\":10,\"min_border_left\":10,\"min_border_right\":10,\"min_border_top\":10,\"plot_height\":300,\"plot_width\":700,\"renderers\":[{\"id\":\"2554\"},{\"id\":\"2570\"},{\"id\":\"2587\"}],\"right\":[{\"id\":\"2562\"}],\"sizing_mode\":\"fixed\",\"title\":{\"id\":\"2515\"},\"toolbar\":{\"id\":\"2537\"},\"x_range\":{\"id\":\"2509\"},\"x_scale\":{\"id\":\"2519\"},\"y_range\":{\"id\":\"2510\"},\"y_scale\":{\"id\":\"2521\"}},\"id\":\"2514\",\"subtype\":\"Figure\",\"type\":\"Plot\"}],\"root_ids\":[\"2507\"]},\"title\":\"Bokeh Application\",\"version\":\"2.0.2\"}};\n",
       "  var render_items = [{\"docid\":\"bbc25ffa-f770-4675-8f23-598d14cfd59a\",\"root_ids\":[\"2507\"],\"roots\":{\"2507\":\"5b2a7f9f-74c0-443f-bda2-cf9c5af37aa4\"}}];\n",
       "  root.Bokeh.embed.embed_items_notebook(docs_json, render_items);\n",
       "  }\n",
       "if (root.Bokeh !== undefined) {\n",
       "    embed_document(root);\n",
       "  } else {\n",
       "    var attempts = 0;\n",
       "    var timer = setInterval(function(root) {\n",
       "      if (root.Bokeh !== undefined) {\n",
       "        clearInterval(timer);\n",
       "        embed_document(root);\n",
       "      } else if (document.readyState == \"complete\") {\n",
       "        attempts++;\n",
       "        if (attempts > 100) {\n",
       "          clearInterval(timer);\n",
       "          console.log(\"Bokeh: ERROR: Unable to run BokehJS code because BokehJS library is missing\");\n",
       "        }\n",
       "      }\n",
       "    }, 10, root)\n",
       "  }\n",
       "})(window);</script>"
      ],
      "text/plain": [
       ":NdOverlay   [Variable]\n",
       "   :Curve   [index]   (value)"
      ]
     },
     "execution_count": 200,
     "metadata": {
      "application/vnd.holoviews_exec.v0+json": {
       "id": "2507"
      }
     },
     "output_type": "execute_result"
    }
   ],
   "source": [
    "inertia = []\n",
    "k = list(range(1, 11))\n",
    "\n",
    "# Calculate the inertia for the range of k values\n",
    "for i in k:\n",
    "    km = KMeans(n_clusters=i, random_state=0)\n",
    "    km.fit(x_pca)\n",
    "    inertia.append(km.inertia_)\n",
    "\n",
    "    # Create the Elbow Curve using hvPlot\n",
    "elbow_data = {\"k\": k, \"inertia\": inertia}\n",
    "df_elbow = pd.DataFrame(x_pca)\n",
    "df_elbow.hvplot.line(title =\"title\")"
   ]
  },
  {
   "cell_type": "code",
   "execution_count": 201,
   "metadata": {},
   "outputs": [
    {
     "data": {
      "text/html": [
       "<div>\n",
       "<style scoped>\n",
       "    .dataframe tbody tr th:only-of-type {\n",
       "        vertical-align: middle;\n",
       "    }\n",
       "\n",
       "    .dataframe tbody tr th {\n",
       "        vertical-align: top;\n",
       "    }\n",
       "\n",
       "    .dataframe thead th {\n",
       "        text-align: right;\n",
       "    }\n",
       "</style>\n",
       "<table border=\"1\" class=\"dataframe\">\n",
       "  <thead>\n",
       "    <tr style=\"text-align: right;\">\n",
       "      <th></th>\n",
       "      <th>Algorithm</th>\n",
       "      <th>ProofType</th>\n",
       "      <th>TotalCoinsMined</th>\n",
       "      <th>TotalCoinSupply</th>\n",
       "      <th>PC 1</th>\n",
       "      <th>PC 2</th>\n",
       "      <th>PC 3</th>\n",
       "      <th>CoinName</th>\n",
       "      <th>Class</th>\n",
       "    </tr>\n",
       "  </thead>\n",
       "  <tbody>\n",
       "    <tr>\n",
       "      <th>0</th>\n",
       "      <td>Scrypt</td>\n",
       "      <td>PoW/PoS</td>\n",
       "      <td>4.199995e+01</td>\n",
       "      <td>42</td>\n",
       "      <td>-0.210848</td>\n",
       "      <td>1.151910</td>\n",
       "      <td>-0.436350</td>\n",
       "      <td>42 Coin</td>\n",
       "      <td>1.0</td>\n",
       "    </tr>\n",
       "    <tr>\n",
       "      <th>2</th>\n",
       "      <td>Scrypt</td>\n",
       "      <td>PoW/PoS</td>\n",
       "      <td>1.055185e+09</td>\n",
       "      <td>532000000</td>\n",
       "      <td>-0.132255</td>\n",
       "      <td>0.838138</td>\n",
       "      <td>-0.256210</td>\n",
       "      <td>404Coin</td>\n",
       "      <td>1.0</td>\n",
       "    </tr>\n",
       "    <tr>\n",
       "      <th>4</th>\n",
       "      <td>SHA-256</td>\n",
       "      <td>PoW/PoS</td>\n",
       "      <td>0.000000e+00</td>\n",
       "      <td>0</td>\n",
       "      <td>-0.222376</td>\n",
       "      <td>-1.423974</td>\n",
       "      <td>0.144223</td>\n",
       "      <td>808</td>\n",
       "      <td>0.0</td>\n",
       "    </tr>\n",
       "    <tr>\n",
       "      <th>5</th>\n",
       "      <td>X13</td>\n",
       "      <td>PoW/PoS</td>\n",
       "      <td>2.927942e+10</td>\n",
       "      <td>314159265359</td>\n",
       "      <td>-0.293813</td>\n",
       "      <td>-2.096455</td>\n",
       "      <td>0.233035</td>\n",
       "      <td>EliteCoin</td>\n",
       "      <td>0.0</td>\n",
       "    </tr>\n",
       "    <tr>\n",
       "      <th>7</th>\n",
       "      <td>SHA-256</td>\n",
       "      <td>PoW</td>\n",
       "      <td>1.792718e+07</td>\n",
       "      <td>21000000</td>\n",
       "      <td>-0.145559</td>\n",
       "      <td>1.469982</td>\n",
       "      <td>-0.397930</td>\n",
       "      <td>Bitcoin</td>\n",
       "      <td>1.0</td>\n",
       "    </tr>\n",
       "    <tr>\n",
       "      <th>8</th>\n",
       "      <td>Ethash</td>\n",
       "      <td>PoW</td>\n",
       "      <td>1.076842e+08</td>\n",
       "      <td>0</td>\n",
       "      <td>-0.323370</td>\n",
       "      <td>-2.174698</td>\n",
       "      <td>0.205279</td>\n",
       "      <td>Ethereum</td>\n",
       "      <td>0.0</td>\n",
       "    </tr>\n",
       "    <tr>\n",
       "      <th>9</th>\n",
       "      <td>Scrypt</td>\n",
       "      <td>PoW</td>\n",
       "      <td>6.303924e+07</td>\n",
       "      <td>84000000</td>\n",
       "      <td>-0.293733</td>\n",
       "      <td>-2.096465</td>\n",
       "      <td>0.233035</td>\n",
       "      <td>Litecoin</td>\n",
       "      <td>0.0</td>\n",
       "    </tr>\n",
       "    <tr>\n",
       "      <th>10</th>\n",
       "      <td>X11</td>\n",
       "      <td>PoW/PoS</td>\n",
       "      <td>9.031294e+06</td>\n",
       "      <td>22000000</td>\n",
       "      <td>-0.302296</td>\n",
       "      <td>-1.951748</td>\n",
       "      <td>0.252734</td>\n",
       "      <td>Dash</td>\n",
       "      <td>0.0</td>\n",
       "    </tr>\n",
       "    <tr>\n",
       "      <th>11</th>\n",
       "      <td>CryptoNight-V7</td>\n",
       "      <td>PoW</td>\n",
       "      <td>1.720114e+07</td>\n",
       "      <td>0</td>\n",
       "      <td>0.354555</td>\n",
       "      <td>0.775696</td>\n",
       "      <td>0.062724</td>\n",
       "      <td>Monero</td>\n",
       "      <td>1.0</td>\n",
       "    </tr>\n",
       "    <tr>\n",
       "      <th>12</th>\n",
       "      <td>Ethash</td>\n",
       "      <td>PoW</td>\n",
       "      <td>1.133597e+08</td>\n",
       "      <td>210000000</td>\n",
       "      <td>-0.098961</td>\n",
       "      <td>-1.726279</td>\n",
       "      <td>0.225898</td>\n",
       "      <td>Ethereum Classic</td>\n",
       "      <td>0.0</td>\n",
       "    </tr>\n",
       "  </tbody>\n",
       "</table>\n",
       "</div>"
      ],
      "text/plain": [
       "         Algorithm ProofType  TotalCoinsMined TotalCoinSupply      PC 1  \\\n",
       "0           Scrypt   PoW/PoS     4.199995e+01              42 -0.210848   \n",
       "2           Scrypt   PoW/PoS     1.055185e+09       532000000 -0.132255   \n",
       "4          SHA-256   PoW/PoS     0.000000e+00               0 -0.222376   \n",
       "5              X13   PoW/PoS     2.927942e+10    314159265359 -0.293813   \n",
       "7          SHA-256       PoW     1.792718e+07        21000000 -0.145559   \n",
       "8           Ethash       PoW     1.076842e+08               0 -0.323370   \n",
       "9           Scrypt       PoW     6.303924e+07        84000000 -0.293733   \n",
       "10             X11   PoW/PoS     9.031294e+06        22000000 -0.302296   \n",
       "11  CryptoNight-V7       PoW     1.720114e+07               0  0.354555   \n",
       "12          Ethash       PoW     1.133597e+08       210000000 -0.098961   \n",
       "\n",
       "        PC 2      PC 3          CoinName  Class  \n",
       "0   1.151910 -0.436350           42 Coin    1.0  \n",
       "2   0.838138 -0.256210           404Coin    1.0  \n",
       "4  -1.423974  0.144223               808    0.0  \n",
       "5  -2.096455  0.233035         EliteCoin    0.0  \n",
       "7   1.469982 -0.397930           Bitcoin    1.0  \n",
       "8  -2.174698  0.205279          Ethereum    0.0  \n",
       "9  -2.096465  0.233035          Litecoin    0.0  \n",
       "10 -1.951748  0.252734              Dash    0.0  \n",
       "11  0.775696  0.062724            Monero    1.0  \n",
       "12 -1.726279  0.225898  Ethereum Classic    0.0  "
      ]
     },
     "execution_count": 201,
     "metadata": {},
     "output_type": "execute_result"
    }
   ],
   "source": [
    "# Initialize the K-Means model\n",
    "model = KMeans(n_clusters=3, random_state=0)\n",
    "# Fit the model\n",
    "model.fit(x_pca)\n",
    "# Predict clusters\n",
    "predictions = model.predict(x_pca)\n",
    "# Create a new DataFrame including predicted clusters and cryptocurrencies features\n",
    "\n",
    "#x_pca[\"Class\"] = model.labels_\n",
    "x_pca\n",
    "#x_pca_fixed = x_pca.drop(['class'], axis=1)\n",
    "x_pca_fixed.head(5)\n",
    "dataset_worked = Coin_Name_removed_df.join(x_pca_fixed)\n",
    "\n",
    "#dataset.drop(['class'], axis=1)\n",
    "dataset_still_work = dataset_worked.drop(['Class'], axis=1)\n",
    "xpca_dataset_working = dataset_still_work.join(coinName)\n",
    "clustered_df = xpca_dataset_working.join(dataset_worked['Class'])\n",
    "clustered_df.head(10)"
   ]
  },
  {
   "cell_type": "code",
   "execution_count": null,
   "metadata": {},
   "outputs": [],
   "source": []
  },
  {
   "cell_type": "code",
   "execution_count": 72,
   "metadata": {},
   "outputs": [
    {
     "data": {
      "text/plain": [
       "0           42 Coin\n",
       "2           404Coin\n",
       "4               808\n",
       "5         EliteCoin\n",
       "7           Bitcoin\n",
       "           ...     \n",
       "1238         ZEPHYR\n",
       "1242        Gapcoin\n",
       "1245         Beldex\n",
       "1246        Horizen\n",
       "1247    BitcoinPlus\n",
       "Name: CoinName, Length: 685, dtype: object"
      ]
     },
     "execution_count": 72,
     "metadata": {},
     "output_type": "execute_result"
    }
   ],
   "source": [
    "coinName"
   ]
  },
  {
   "cell_type": "markdown",
   "metadata": {},
   "source": [
    "Running K-Means with `k=<your best value for k here>`"
   ]
  },
  {
   "cell_type": "markdown",
   "metadata": {},
   "source": [
    "### Visualizing Results\n",
    "\n",
    "#### 3D-Scatter with Clusters"
   ]
  },
  {
   "cell_type": "code",
   "execution_count": 207,
   "metadata": {},
   "outputs": [
    {
     "data": {
      "application/vnd.plotly.v1+json": {
       "config": {
        "plotlyServerURL": "https://plot.ly"
       },
       "data": [
        {
         "customdata": [
          [
           "Scrypt"
          ],
          [
           "Scrypt"
          ],
          [
           "SHA-256"
          ],
          [
           "X13"
          ],
          [
           "SHA-256"
          ],
          [
           "Ethash"
          ],
          [
           "Scrypt"
          ],
          [
           "X11"
          ],
          [
           "CryptoNight-V7"
          ],
          [
           "Ethash"
          ],
          [
           "Equihash"
          ],
          [
           "SHA-512"
          ],
          [
           "Multiple"
          ],
          [
           "SHA-256"
          ],
          [
           "X11"
          ],
          [
           "SHA-256"
          ],
          [
           "Scrypt"
          ],
          [
           "X15"
          ],
          [
           "X11"
          ],
          [
           "SHA-256"
          ],
          [
           "X13"
          ],
          [
           "X13"
          ],
          [
           "Scrypt"
          ],
          [
           "Scrypt"
          ],
          [
           "Scrypt"
          ],
          [
           "SHA-256"
          ],
          [
           "Scrypt"
          ],
          [
           "Multiple"
          ],
          [
           "Scrypt"
          ],
          [
           "SHA-256"
          ],
          [
           "Scrypt"
          ],
          [
           "Scrypt"
          ],
          [
           "Scrypt"
          ],
          [
           "Quark"
          ],
          [
           "Groestl"
          ],
          [
           "Scrypt"
          ],
          [
           "X11"
          ],
          [
           "Scrypt"
          ],
          [
           "Scrypt"
          ],
          [
           "Scrypt"
          ],
          [
           "Scrypt"
          ],
          [
           "Scrypt"
          ],
          [
           "Scrypt"
          ],
          [
           "Multiple"
          ],
          [
           "Scrypt"
          ],
          [
           "X11"
          ],
          [
           "Scrypt"
          ],
          [
           "SHA-256"
          ],
          [
           "Groestl"
          ],
          [
           "Multiple"
          ],
          [
           "X11"
          ],
          [
           "Scrypt"
          ],
          [
           "SHA-256"
          ],
          [
           "Scrypt"
          ],
          [
           "Scrypt"
          ],
          [
           "Scrypt"
          ],
          [
           "Scrypt"
          ],
          [
           "Scrypt"
          ],
          [
           "PoS"
          ],
          [
           "Scrypt"
          ],
          [
           "X11"
          ],
          [
           "NIST5"
          ],
          [
           "SHA-256"
          ],
          [
           "Scrypt"
          ],
          [
           "Scrypt"
          ],
          [
           "NeoScrypt"
          ],
          [
           "Scrypt"
          ],
          [
           "Scrypt"
          ],
          [
           "Scrypt"
          ],
          [
           "X11"
          ],
          [
           "X15"
          ],
          [
           "Scrypt"
          ],
          [
           "Multiple"
          ],
          [
           "X11"
          ],
          [
           "Scrypt"
          ],
          [
           "X11"
          ],
          [
           "SHA-256"
          ],
          [
           "X11"
          ],
          [
           "X13"
          ],
          [
           "Scrypt"
          ],
          [
           "Scrypt"
          ],
          [
           "Scrypt"
          ],
          [
           "Scrypt"
          ],
          [
           "X11"
          ],
          [
           "SHA3"
          ],
          [
           "Scrypt"
          ],
          [
           "HybridScryptHash256"
          ],
          [
           "Scrypt"
          ],
          [
           "Scrypt"
          ],
          [
           "SHA-256"
          ],
          [
           "Scrypt"
          ],
          [
           "X13"
          ],
          [
           "SHA-256"
          ],
          [
           "Scrypt"
          ],
          [
           "SHA-256"
          ],
          [
           "Scrypt"
          ],
          [
           "X13"
          ],
          [
           "NeoScrypt"
          ],
          [
           "Scrypt"
          ],
          [
           "Scrypt"
          ],
          [
           "Scrypt"
          ],
          [
           "Scrypt"
          ],
          [
           "Scrypt"
          ],
          [
           "Scrypt"
          ],
          [
           "X15"
          ],
          [
           "Scrypt"
          ],
          [
           "Scrypt"
          ],
          [
           "Scrypt-n"
          ],
          [
           "Scrypt"
          ],
          [
           "X11"
          ],
          [
           "X11"
          ],
          [
           "SHA-256"
          ],
          [
           "Multiple"
          ],
          [
           "SHA-256"
          ],
          [
           "PHI1612"
          ],
          [
           "X11"
          ],
          [
           "SHA-256"
          ],
          [
           "SHA-256"
          ],
          [
           "SHA-256"
          ],
          [
           "SHA-256"
          ],
          [
           "X11"
          ],
          [
           "Scrypt"
          ],
          [
           "Scrypt"
          ],
          [
           "X13"
          ],
          [
           "Scrypt"
          ],
          [
           "X11"
          ],
          [
           "Scrypt"
          ],
          [
           "Lyra2REv2"
          ],
          [
           "Scrypt"
          ],
          [
           "Scrypt"
          ],
          [
           "X11"
          ],
          [
           "Multiple"
          ],
          [
           "SHA-256"
          ],
          [
           "X13"
          ],
          [
           "Scrypt"
          ],
          [
           "Scrypt"
          ],
          [
           "CryptoNight"
          ],
          [
           "CryptoNight"
          ],
          [
           "Shabal256"
          ],
          [
           "Counterparty"
          ],
          [
           "Scrypt"
          ],
          [
           "SHA-256"
          ],
          [
           "SHA-256"
          ],
          [
           "Scrypt"
          ],
          [
           "Groestl"
          ],
          [
           "Scrypt"
          ],
          [
           "Scrypt"
          ],
          [
           "Scrypt"
          ],
          [
           "X13"
          ],
          [
           "Scrypt"
          ],
          [
           "Scrypt"
          ],
          [
           "Scrypt"
          ],
          [
           "SHA-256"
          ],
          [
           "Scrypt"
          ],
          [
           "X13"
          ],
          [
           "X13"
          ],
          [
           "Scrypt"
          ],
          [
           "X11"
          ],
          [
           "Momentum"
          ],
          [
           "Stanford Folding"
          ],
          [
           "X11"
          ],
          [
           "Multiple"
          ],
          [
           "QuBit"
          ],
          [
           "X15"
          ],
          [
           "Scrypt"
          ],
          [
           "Scrypt"
          ],
          [
           "Scrypt"
          ],
          [
           "Scrypt"
          ],
          [
           "SHA-256"
          ],
          [
           "M7 POW"
          ],
          [
           "Scrypt"
          ],
          [
           "X11"
          ],
          [
           "Scrypt"
          ],
          [
           "SHA-256"
          ],
          [
           "Scrypt"
          ],
          [
           "Scrypt"
          ],
          [
           "X11"
          ],
          [
           "X11"
          ],
          [
           "SHA3"
          ],
          [
           "X11"
          ],
          [
           "Scrypt"
          ],
          [
           "Lyra2RE"
          ],
          [
           "SHA-256"
          ],
          [
           "QUAIT"
          ],
          [
           "X11"
          ],
          [
           "vDPOS"
          ],
          [
           "X11"
          ],
          [
           "X11"
          ],
          [
           "Scrypt"
          ],
          [
           "Scrypt"
          ],
          [
           "Scrypt"
          ],
          [
           "Ethash"
          ],
          [
           "X11"
          ],
          [
           "X13"
          ],
          [
           "Blake2b"
          ],
          [
           "SHA-256"
          ],
          [
           "X13"
          ],
          [
           "X15"
          ],
          [
           "X11"
          ],
          [
           "SHA-256"
          ],
          [
           "BLAKE256"
          ],
          [
           "Scrypt"
          ],
          [
           "Scrypt"
          ],
          [
           "1GB AES Pattern Search"
          ],
          [
           "SHA-256"
          ],
          [
           "X11"
          ],
          [
           "Scrypt"
          ],
          [
           "CryptoNight"
          ],
          [
           "SHA-256"
          ],
          [
           "Quark"
          ],
          [
           "SHA-256"
          ],
          [
           "NIST5"
          ],
          [
           "Blake"
          ],
          [
           "Scrypt"
          ],
          [
           "Scrypt"
          ],
          [
           "SHA-256"
          ],
          [
           "X11"
          ],
          [
           "Scrypt"
          ],
          [
           "Scrypt-n"
          ],
          [
           "X11"
          ],
          [
           "Scrypt"
          ],
          [
           "Dagger"
          ],
          [
           "Scrypt"
          ],
          [
           "SHA-256"
          ],
          [
           "CryptoNight-Lite"
          ],
          [
           "X11GOST"
          ],
          [
           "X11"
          ],
          [
           "SHA-256"
          ],
          [
           "Scrypt"
          ],
          [
           "SHA-256"
          ],
          [
           "Scrypt"
          ],
          [
           "PoS"
          ],
          [
           "Scrypt"
          ],
          [
           "X11"
          ],
          [
           "X11"
          ],
          [
           "X11"
          ],
          [
           "X11"
          ],
          [
           "PoS"
          ],
          [
           "SHA-256"
          ],
          [
           "SHA-256"
          ],
          [
           "SHA-256"
          ],
          [
           "NIST5"
          ],
          [
           "X15"
          ],
          [
           "X11"
          ],
          [
           "NIST5"
          ],
          [
           "Scrypt"
          ],
          [
           "Scrypt"
          ],
          [
           "Scrypt"
          ],
          [
           "POS 3.0"
          ],
          [
           "Scrypt"
          ],
          [
           "Scrypt"
          ],
          [
           "Scrypt"
          ],
          [
           "X13"
          ],
          [
           "X11"
          ],
          [
           "X11"
          ],
          [
           "Equihash"
          ],
          [
           "X11"
          ],
          [
           "X11"
          ],
          [
           "Scrypt"
          ],
          [
           "CryptoNight"
          ],
          [
           "SHA-256"
          ],
          [
           "SHA-256"
          ],
          [
           "X11"
          ],
          [
           "Scrypt"
          ],
          [
           "Multiple"
          ],
          [
           "Scrypt"
          ],
          [
           "Scrypt"
          ],
          [
           "X11"
          ],
          [
           "Scrypt"
          ],
          [
           "SHA-256"
          ],
          [
           "Scrypt"
          ],
          [
           "Scrypt"
          ],
          [
           "SHA-256D"
          ],
          [
           "PoS"
          ],
          [
           "Scrypt"
          ],
          [
           "Scrypt"
          ],
          [
           "X11"
          ],
          [
           "Scrypt-n"
          ],
          [
           "Lyra2Z"
          ],
          [
           "SHA-256"
          ],
          [
           "PoS"
          ],
          [
           "X13"
          ],
          [
           "Quark"
          ],
          [
           "X14"
          ],
          [
           "PoS"
          ],
          [
           "SHA-256D"
          ],
          [
           "Ethash"
          ],
          [
           "SHA-256"
          ],
          [
           "Equihash"
          ],
          [
           "DPoS"
          ],
          [
           "X11"
          ],
          [
           "Scrypt"
          ],
          [
           "Scrypt"
          ],
          [
           "Equihash"
          ],
          [
           "X11"
          ],
          [
           "X13"
          ],
          [
           "X11"
          ],
          [
           "PoS"
          ],
          [
           "SHA-256D"
          ],
          [
           "Scrypt"
          ],
          [
           "Scrypt"
          ],
          [
           "Scrypt"
          ],
          [
           "X11"
          ],
          [
           "PoS"
          ],
          [
           "X11"
          ],
          [
           "SHA-256"
          ],
          [
           "Scrypt"
          ],
          [
           "X11"
          ],
          [
           "Scrypt"
          ],
          [
           "Scrypt"
          ],
          [
           "X11"
          ],
          [
           "CryptoNight"
          ],
          [
           "Scrypt"
          ],
          [
           "Scrypt"
          ],
          [
           "Scrypt"
          ],
          [
           "Scrypt"
          ],
          [
           "Quark"
          ],
          [
           "QuBit"
          ],
          [
           "Scrypt"
          ],
          [
           "CryptoNight"
          ],
          [
           "X11"
          ],
          [
           "Lyra2RE"
          ],
          [
           "X13"
          ],
          [
           "PoS"
          ],
          [
           "Scrypt"
          ],
          [
           "SHA-256"
          ],
          [
           "X11"
          ],
          [
           "X11"
          ],
          [
           "X11"
          ],
          [
           "Scrypt"
          ],
          [
           "X11"
          ],
          [
           "Scrypt"
          ],
          [
           "Scrypt"
          ],
          [
           "CryptoNight-V7"
          ],
          [
           "Scrypt"
          ],
          [
           "Scrypt"
          ],
          [
           "Keccak"
          ],
          [
           "Scrypt"
          ],
          [
           "X13"
          ],
          [
           "X11"
          ],
          [
           "Equihash"
          ],
          [
           "Scrypt"
          ],
          [
           "Scrypt"
          ],
          [
           "Lyra2RE"
          ],
          [
           "Ethash"
          ],
          [
           "X11"
          ],
          [
           "Scrypt"
          ],
          [
           "Dagger-Hashimoto"
          ],
          [
           "X11"
          ],
          [
           "Blake2S"
          ],
          [
           "X11"
          ],
          [
           "Scrypt"
          ],
          [
           "Scrypt"
          ],
          [
           "PoS"
          ],
          [
           "X11"
          ],
          [
           "NIST5"
          ],
          [
           "PoS"
          ],
          [
           "X11"
          ],
          [
           "Scrypt"
          ],
          [
           "Scrypt"
          ],
          [
           "Scrypt"
          ],
          [
           "Scrypt"
          ],
          [
           "SHA-256"
          ],
          [
           "X11"
          ],
          [
           "Scrypt"
          ],
          [
           "Scrypt"
          ],
          [
           "Scrypt"
          ],
          [
           "SHA-256"
          ],
          [
           "PoS"
          ],
          [
           "Scrypt"
          ],
          [
           "X11"
          ],
          [
           "X15"
          ],
          [
           "SHA-256"
          ],
          [
           "Scrypt"
          ],
          [
           "POS 3.0"
          ],
          [
           "CryptoNight-V7"
          ],
          [
           "536"
          ],
          [
           "Argon2d"
          ],
          [
           "Blake2b"
          ],
          [
           "Cloverhash"
          ],
          [
           "CryptoNight"
          ],
          [
           "NIST5"
          ],
          [
           "X11"
          ],
          [
           "NIST5"
          ],
          [
           "Skein"
          ],
          [
           "Scrypt"
          ],
          [
           "X13"
          ],
          [
           "Scrypt"
          ],
          [
           "X11"
          ],
          [
           "X11"
          ],
          [
           "X11"
          ],
          [
           "Scrypt"
          ],
          [
           "CryptoNight"
          ],
          [
           "X13"
          ],
          [
           "Time Travel"
          ],
          [
           "Scrypt"
          ],
          [
           "Keccak"
          ],
          [
           "SkunkHash v2 Raptor"
          ],
          [
           "X11"
          ],
          [
           "Skein"
          ],
          [
           "SHA-256"
          ],
          [
           "X11"
          ],
          [
           "Scrypt"
          ],
          [
           "Scrypt"
          ],
          [
           "VeChainThor Authority"
          ],
          [
           "Scrypt"
          ],
          [
           "PoS"
          ],
          [
           "Scrypt"
          ],
          [
           "Scrypt"
          ],
          [
           "Scrypt"
          ],
          [
           "Scrypt"
          ],
          [
           "Scrypt"
          ],
          [
           "Scrypt"
          ],
          [
           "Scrypt"
          ],
          [
           "Scrypt"
          ],
          [
           "CryptoNight"
          ],
          [
           "SHA-512"
          ],
          [
           "Ouroboros"
          ],
          [
           "X11"
          ],
          [
           "Equihash"
          ],
          [
           "NeoScrypt"
          ],
          [
           "X11"
          ],
          [
           "Scrypt"
          ],
          [
           "NeoScrypt"
          ],
          [
           "Lyra2REv2"
          ],
          [
           "Equihash"
          ],
          [
           "Scrypt"
          ],
          [
           "SHA-256"
          ],
          [
           "NIST5"
          ],
          [
           "PHI1612"
          ],
          [
           "Dagger"
          ],
          [
           "Scrypt"
          ],
          [
           "Quark"
          ],
          [
           "Scrypt"
          ],
          [
           "POS 2.0"
          ],
          [
           "Scrypt"
          ],
          [
           "SkunkHash"
          ],
          [
           "X11"
          ],
          [
           "Quark"
          ],
          [
           "SHA-256"
          ],
          [
           "X11"
          ],
          [
           "NeoScrypt"
          ],
          [
           "Scrypt"
          ],
          [
           "Ethash"
          ],
          [
           "Scrypt"
          ],
          [
           "NeoScrypt"
          ],
          [
           "Quark"
          ],
          [
           "X11"
          ],
          [
           "DPoS"
          ],
          [
           "NIST5"
          ],
          [
           "X13"
          ],
          [
           "Multiple"
          ],
          [
           "Scrypt"
          ],
          [
           "CryptoNight"
          ],
          [
           "CryptoNight"
          ],
          [
           "Ethash"
          ],
          [
           "NIST5"
          ],
          [
           "Quark"
          ],
          [
           "X11"
          ],
          [
           "SHA-256"
          ],
          [
           "CryptoNight-V7"
          ],
          [
           "Scrypt"
          ],
          [
           "Scrypt"
          ],
          [
           "Scrypt"
          ],
          [
           "X11"
          ],
          [
           "SHA-256"
          ],
          [
           "BLAKE256"
          ],
          [
           "X11"
          ],
          [
           "Scrypt"
          ],
          [
           "NeoScrypt"
          ],
          [
           "Quark"
          ],
          [
           "NeoScrypt"
          ],
          [
           "Scrypt"
          ],
          [
           "Scrypt"
          ],
          [
           "Scrypt"
          ],
          [
           "X11"
          ],
          [
           "X11"
          ],
          [
           "SHA-256"
          ],
          [
           "C11"
          ],
          [
           "Scrypt"
          ],
          [
           "Scrypt"
          ],
          [
           "POS 3.0"
          ],
          [
           "Ethash"
          ],
          [
           "Scrypt"
          ],
          [
           "CryptoNight"
          ],
          [
           "SkunkHash"
          ],
          [
           "Scrypt"
          ],
          [
           "CryptoNight"
          ],
          [
           "Equihash"
          ],
          [
           "Skein"
          ],
          [
           "Scrypt"
          ],
          [
           "Dagger"
          ],
          [
           "Lyra2REv2"
          ],
          [
           "X13"
          ],
          [
           "Proof-of-BibleHash"
          ],
          [
           "SHA-256 + Hive"
          ],
          [
           "Scrypt"
          ],
          [
           "Scrypt"
          ],
          [
           "Scrypt"
          ],
          [
           "NeoScrypt"
          ],
          [
           "Equihash"
          ],
          [
           "X11"
          ],
          [
           "C11"
          ],
          [
           "Proof-of-Authority"
          ],
          [
           "X11"
          ],
          [
           "XEVAN"
          ],
          [
           "Scrypt"
          ],
          [
           "VBFT"
          ],
          [
           "Ethash"
          ],
          [
           "X11"
          ],
          [
           "CryptoNight"
          ],
          [
           "NeoScrypt"
          ],
          [
           "Scrypt"
          ],
          [
           "IMesh"
          ],
          [
           "NIST5"
          ],
          [
           "Equihash"
          ],
          [
           "Scrypt"
          ],
          [
           "Scrypt"
          ],
          [
           "Equihash"
          ],
          [
           "Equihash"
          ],
          [
           "Scrypt"
          ],
          [
           "Lyra2Z"
          ],
          [
           "Equihash"
          ],
          [
           "Green Protocol"
          ],
          [
           "PoS"
          ],
          [
           "Scrypt"
          ],
          [
           "Scrypt"
          ],
          [
           "Semux BFT consensus"
          ],
          [
           "Scrypt"
          ],
          [
           "X11"
          ],
          [
           "Quark"
          ],
          [
           "PoS"
          ],
          [
           "CryptoNight"
          ],
          [
           "X16R"
          ],
          [
           "Scrypt"
          ],
          [
           "NIST5"
          ],
          [
           "Lyra2RE"
          ],
          [
           "XEVAN"
          ],
          [
           "Tribus"
          ],
          [
           "Scrypt"
          ],
          [
           "Lyra2Z"
          ],
          [
           "CryptoNight"
          ],
          [
           "CryptoNight Heavy"
          ],
          [
           "CryptoNight"
          ],
          [
           "Scrypt"
          ],
          [
           "Scrypt"
          ],
          [
           "Jump Consistent Hash"
          ],
          [
           "SHA-256D"
          ],
          [
           "CryptoNight"
          ],
          [
           "Scrypt"
          ],
          [
           "X15"
          ],
          [
           "Scrypt"
          ],
          [
           "Quark"
          ],
          [
           "SHA-256"
          ],
          [
           "DPoS"
          ],
          [
           "X16R"
          ],
          [
           "HMQ1725"
          ],
          [
           "X11"
          ],
          [
           "X16R"
          ],
          [
           "Quark"
          ],
          [
           "Quark"
          ],
          [
           "Scrypt"
          ],
          [
           "Zhash"
          ],
          [
           "Lyra2REv2"
          ],
          [
           "Quark"
          ],
          [
           "Scrypt"
          ],
          [
           "Scrypt"
          ],
          [
           "CryptoNight-V7"
          ],
          [
           "Cryptonight-GPU"
          ],
          [
           "Scrypt"
          ],
          [
           "XEVAN"
          ],
          [
           "CryptoNight Heavy"
          ],
          [
           "X11"
          ],
          [
           "X11"
          ],
          [
           "Scrypt"
          ],
          [
           "PoS"
          ],
          [
           "Lyra2REv2"
          ],
          [
           "Scrypt"
          ],
          [
           "SHA-256"
          ],
          [
           "Scrypt"
          ],
          [
           "Keccak"
          ],
          [
           "X11"
          ],
          [
           "X11"
          ],
          [
           "Quark"
          ],
          [
           "Scrypt"
          ],
          [
           "SHA-512"
          ],
          [
           "X16R"
          ],
          [
           "ECC 256K1"
          ],
          [
           "NeoScrypt"
          ],
          [
           "Equihash"
          ],
          [
           "XEVAN"
          ],
          [
           "Quark"
          ],
          [
           "CryptoNight Heavy X"
          ],
          [
           "Lyra2Z"
          ],
          [
           "Ethash"
          ],
          [
           "SHA-256"
          ],
          [
           "XEVAN"
          ],
          [
           "Ethash"
          ],
          [
           "X11"
          ],
          [
           "CryptoNight"
          ],
          [
           "Quark"
          ],
          [
           "SkunkHash"
          ],
          [
           "Quark"
          ],
          [
           "Argon2"
          ],
          [
           "Blake"
          ],
          [
           "Blake"
          ],
          [
           "SHA-256"
          ],
          [
           "Equihash"
          ],
          [
           "Exosis"
          ],
          [
           "Scrypt"
          ],
          [
           "Scrypt"
          ],
          [
           "Equihash"
          ],
          [
           "Quark"
          ],
          [
           "Equihash"
          ],
          [
           "Quark"
          ],
          [
           "Scrypt"
          ],
          [
           "QuBit"
          ],
          [
           "X11"
          ],
          [
           "Scrypt"
          ],
          [
           "Equihash1927"
          ],
          [
           "XEVAN"
          ],
          [
           "SHA-256D"
          ],
          [
           "X11"
          ],
          [
           "SHA-256"
          ],
          [
           "SHA-256"
          ],
          [
           "X13"
          ],
          [
           "SHA-256"
          ],
          [
           "X11"
          ],
          [
           "DPoS"
          ],
          [
           "X11"
          ],
          [
           "Scrypt"
          ],
          [
           "X11"
          ],
          [
           "Scrypt"
          ],
          [
           "X11"
          ],
          [
           "NeoScrypt"
          ],
          [
           "QuBit"
          ],
          [
           "Scrypt"
          ],
          [
           "Blake"
          ],
          [
           "Scrypt"
          ],
          [
           "SHA-256"
          ],
          [
           "Scrypt"
          ],
          [
           "X11"
          ],
          [
           "CryptoNight"
          ],
          [
           "Scrypt"
          ],
          [
           "Scrypt"
          ],
          [
           "SHA-256"
          ],
          [
           "X11"
          ],
          [
           "SHA-256"
          ],
          [
           "Scrypt"
          ],
          [
           "CryptoNight"
          ],
          [
           "Scrypt"
          ],
          [
           "SHA-256"
          ],
          [
           "Scrypt"
          ],
          [
           "Groestl"
          ],
          [
           "X11"
          ],
          [
           "Scrypt"
          ],
          [
           "PoS"
          ],
          [
           "Scrypt"
          ],
          [
           "Scrypt"
          ],
          [
           "X11"
          ],
          [
           "SHA-256"
          ],
          [
           "DPoS"
          ],
          [
           "Scrypt"
          ],
          [
           "Scrypt"
          ],
          [
           "Scrypt"
          ],
          [
           "NeoScrypt"
          ],
          [
           "Scrypt"
          ],
          [
           "SHA3-256"
          ],
          [
           "Multiple"
          ],
          [
           "X13"
          ],
          [
           "Equihash+Scrypt"
          ],
          [
           "DPoS"
          ],
          [
           "Ethash"
          ],
          [
           "DPoS"
          ],
          [
           "Ethash"
          ],
          [
           "SHA-256"
          ],
          [
           "Leased POS"
          ],
          [
           "PoS"
          ],
          [
           "TRC10"
          ],
          [
           "PoS"
          ],
          [
           "SHA-256"
          ],
          [
           "Scrypt"
          ],
          [
           "CryptoNight"
          ],
          [
           "Equihash"
          ],
          [
           "Scrypt"
          ]
         ],
         "hovertemplate": "<b>%{hovertext}</b><br><br>PC 3=%{x}<br>PC 2=%{y}<br>PC 1=%{z}<br>Algorithm=%{customdata[0]}<br>Class=%{marker.color}<extra></extra>",
         "hovertext": [
          "42 Coin",
          "404Coin",
          "808",
          "EliteCoin",
          "Bitcoin",
          "Ethereum",
          "Litecoin",
          "Dash",
          "Monero",
          "Ethereum Classic",
          "ZCash",
          "Bitshares",
          "DigiByte",
          "BitcoinDark",
          "Bitstake",
          "PayCoin",
          "ProsperCoin",
          "KoboCoin",
          "Spreadcoin",
          "ACoin",
          "Aero Coin",
          "ApexCoin",
          "ArchCoin",
          "Argentum",
          "Aurora Coin",
          "BetaCoin",
          "BlueCoin",
          "MyriadCoin",
          "MoonCoin",
          "ZetaCoin",
          "SexCoin",
          "Quatloo",
          "EnergyCoin",
          "QuarkCoin",
          "Riecoin",
          "Digitalcoin ",
          "LimeCoinX",
          "BitBar",
          "BitMark",
          "CashCoin",
          "Catcoin",
          "CryptoBullion",
          "CannaCoin",
          "CinderCoin",
          "CoolCoin",
          "CryptCoin",
          "CasinoCoin",
          "eMark",
          "Diamond",
          "Verge",
          "DarkCash",
          "DarkShibe",
          "DevCoin",
          "EarthCoin",
          "E-Gulden",
          "Elacoin",
          "Einsteinium",
          "Emerald",
          "Exclusive Coin",
          "Flappy Coin",
          "Fuel2Coin",
          "FIBRE",
          "FireRoosterCoin",
          "FlutterCoin",
          "Franko",
          "FeatherCoin",
          "GrandCoin",
          "GlobalCoin",
          "GoldCoin",
          "GlyphCoin",
          "Halcyon",
          "HoboNickels",
          "HunterCoin",
          "HyperStake",
          "Infinite Coin",
          "IOCoin",
          "IXcoin",
          "JumBucks Coin",
          "JudgeCoin",
          "KrugerCoin",
          "LuckyCoin",
          "Litebar ",
          "LitecoinDark",
          "LibrexCoin",
          "MaxCoin",
          "MegaCoin",
          "MediterraneanCoin",
          "MintCoin",
          "MinCoin",
          "MazaCoin",
          "Nautilus Coin",
          "NavCoin",
          "NoirBits",
          "NobleCoin",
          "Namecoin",
          "NyanCoin",
          "OpalCoin",
          "Orbitcoin",
          "PotCoin",
          "PhoenixCoin",
          "Reddcoin",
          "RipOffCoin",
          "RonPaulCoin",
          "StableCoin",
          "ShieldCoin",
          "SilkCoin",
          "SmartCoin",
          "SpainCoin",
          "SecureCoin",
          "SuperCoin",
          "SyncCoin",
          "SysCoin",
          "TeslaCoin",
          "TigerCoin",
          "TittieCoin",
          "TorCoin",
          "TerraCoin",
          "Umbrella",
          "UnbreakableCoin",
          "Unobtanium",
          "UroCoin",
          "UnitaryStatus Dollar",
          "UltraCoin",
          "Utility Coin",
          "ViaCoin",
          "VootCoin",
          "VeriCoin",
          "Vertcoin",
          "WorldCoin",
          "SocialXbotCoin",
          "X11 Coin",
          "Crypti",
          "JouleCoin",
          "StealthCoin",
          "XXXCoin",
          "ZCC Coin",
          "ByteCoin",
          "DigitalNote ",
          "BurstCoin",
          "StorjCoin",
          "MonaCoin",
          "Neutron",
          "Sling Coin",
          "KryptCoin",
          "FairCoin",
          "Gulden",
          "RubyCoin",
          "PesetaCoin",
          "Kore",
          "Wild Beast Coin",
          "Dnotes",
          "Flo",
          "MaieutiCoin",
          "8BIT Coin",
          "Sativa Coin",
          "AeroMe",
          "ArtByte",
          "MasterTraderCoin",
          "BitCredit",
          "Folding Coin",
          "Ucoin",
          "Unitus",
          "CypherPunkCoin",
          "MaryJane Coin",
          "OmniCron",
          "CyberCoin",
          "Vtorrent",
          "GreenCoin",
          "Unattanium",
          "Cryptonite",
          "Gridmaster",
          "ConSpiracy Coin ",
          "MasterCoin",
          "SoonCoin",
          "1Credit",
          "ViorCoin",
          "IslaCoin",
          "Quicksilver coin",
          "Nexus",
          "MarsCoin ",
          "Singular",
          "Crypto",
          "Anarchists Prime",
          "Droidz",
          "BowsCoin",
          "CryptoCircuits",
          "Squall Coin",
          "Milllionaire Coin",
          "Song Coin",
          "BitZeny",
          "Diggits",
          "Expanse",
          "MapCoin",
          "Paycon",
          "Siacoin",
          "Emercoin",
          "BlitzCoin",
          "EverGreenCoin",
          "MindCoin",
          "I0coin",
          "Decred",
          "DogeCoinDark",
          "Revolution VR",
          "HOdlcoin",
          "EDRCoin",
          "Hitcoin",
          "Gamecredits",
          "Dashcoin",
          "DubaiCoin",
          "BiosCrypto",
          "CarpeDiemCoin",
          "PWR Coin",
          "TrumpCoin",
          "BillaryCoin",
          "EthereumScrypt",
          "Phalanx",
          "SunShotCoin",
          "GPU Coin",
          "HempCoin",
          "Adzcoin",
          "VirtaCoin",
          "SoilCoin",
          "YoCoin",
          "Universal Currency",
          "AEON",
          "SibCoin",
          "EuropeCoin",
          "Anti Bitcoin",
          "ZeitCoin",
          "SwingCoin",
          "SafeExchangeCoin",
          "Nebuchadnezzar",
          "Francs",
          "BolivarCoin",
          "GIZMOcoin",
          "SecretCoin",
          "Ratecoin",
          "Digital Bullion Gold",
          "Revenu",
          "Clinton",
          "Clockcoin",
          "VIP Tokens",
          "OrlyCoin",
          "BitSend",
          "16BitCoin",
          "ChessCoin",
          "ReeCoin",
          "Omni",
          "Let it Ride",
          "PutinCoin",
          "iBankCoin",
          "Frankywillcoin",
          "MudraCoin",
          "PizzaCoin",
          "Lutetium Coin",
          "Komodo",
          "GoldBlocks",
          "WayCoin",
          "CarterCoin",
          "Karbo",
          "BitTokens",
          "ZayedCoin",
          "MustangCoin",
          "ZoneCoin",
          "Circuits of Value",
          "RootCoin",
          "DopeCoin",
          "PROUD Money",
          "BitCurrency",
          "DollarCoin",
          "Swiscoin",
          "Shilling",
          "BuzzCoin",
          "Opair",
          "PesoBit",
          "GBR Coin",
          "Halloween Coin",
          "FujiCoin",
          "ZCoin",
          "LeaCoin",
          "CoffeeCoin",
          "RoyalCoin",
          "Zurcoin",
          "GanjaCoin V2",
          "TeamUP",
          "LanaCoin",
          "Elementrem",
          "CashOut",
          "ZClassic",
          "ARK",
          "InsaneCoin",
          "LuckChain",
          "KiloCoin",
          "Hush",
          "ArtexCoin",
          "EmberCoin",
          "XenixCoin",
          "FreeCoin",
          "NPCcoin",
          "PLNCoin",
          "Icobid",
          "AquariusCoin",
          "Kurrent",
          "Creatio",
          "Eternity",
          "Eurocoin",
          "BitcoinFast",
          "Stakenet",
          "BitConnect Coin",
          "MoneyCoin",
          "Enigma",
          "Cannabis Industry Coin",
          "Russiacoin",
          "PandaCoin",
          "GameUnits",
          "GAKHcoin",
          "Allsafe",
          "LiteCreed",
          "OsmiumCoin",
          "Bikercoins",
          "NeptuneClassic",
          "HexxCoin",
          "GoldenBird",
          "Ride My Car",
          "Klingon Empire Darsek",
          "Internet of People",
          "KushCoin",
          "Eryllium",
          "MarxCoin",
          "Printerium",
          "PacCoin",
          "Impeach",
          "Solarflarecoin",
          "Citadel",
          "Zilbercoin",
          "FirstCoin",
          "CreativeChain",
          "BeaverCoin",
          "FindCoin",
          "VaultCoin",
          "Zero",
          "OpenChat",
          "Canada eCoin",
          "Zoin",
          "Musicoin",
          "BnrtxCoin",
          "RenosCoin",
          "DubaiCoin",
          "VirtacoinPlus",
          "TajCoin",
          "Impact",
          "EB3coin",
          "Universe",
          "Atmos",
          "HappyCoin",
          "Coinonat",
          "MacronCoin",
          "Condensate",
          "Independent Money System",
          "ArgusCoin",
          "LomoCoin",
          "Bitcoin Scrypt",
          "ProCurrency",
          "GoldReserve",
          "BenjiRolls",
          "ParallelCoin",
          "GrowthCoin",
          "ILCoin",
          "Phreak",
          "Degas Coin",
          "ZSEcoin",
          "HTML5 Coin",
          "Ultimate Secure Cash",
          "EquiTrader",
          "QTUM",
          "Quantum Resistant Ledger",
          "Espers",
          "Dynamic",
          "Nano",
          "ChanCoin",
          "Dinastycoin",
          "Denarius",
          "DigitalPrice",
          "Virta Unique Coin",
          "Bitcoin Planet",
          "Unify",
          "BritCoin",
          "SocialCoin",
          "Octanox",
          "ArcticCoin",
          "DAS",
          "Linda",
          "LeviarCoin",
          "DeepOnion",
          "Bitcore",
          "gCn Coin",
          "SmartCash",
          "Signatum",
          "Onix",
          "Cream",
          "Bitcoin Cash",
          "Monoeci",
          "CampusCoin",
          "Draftcoin",
          "Vechain",
          "Sojourn Coin",
          "Stakecoin",
          "NewYorkCoin",
          "LiteBitcoin",
          "FrazCoin",
          "Kronecoin",
          "AdCoin",
          "Linx",
          "CoinonatX",
          "Ethereum Dark",
          "Sumokoin",
          "Obsidian",
          "Cardano",
          "Regalcoin",
          "BitcoinZ",
          "TrezarCoin",
          "Elements",
          "TerraNovaCoin",
          "VIVO Coin",
          "Rupee",
          "Bitcoin Gold",
          "WomenCoin",
          "Theresa May Coin",
          "NamoCoin",
          "LUXCoin",
          "Pirl",
          "Xios",
          "Bitcloud 2.0",
          "eBoost",
          "KekCoin",
          "BlackholeCoin",
          "AltCommunity Coin",
          "Pure",
          "Rupaya",
          "Infinity Economics",
          "Pura",
          "Innova",
          "Bitdeal",
          "Ellaism",
          "Sakuracoin",
          "GoByte",
          "Castle",
          "Magnet",
          "Lamden Tau",
          "Electra",
          "Bitcoin Diamond",
          "SHIELD",
          "Cash & Back Coin",
          "UltraNote",
          "BitCoal",
          "DaxxCoin",
          "Bulwark",
          "Kalkulus",
          "AC3",
          "CHIPS",
          "Lethean",
          "GermanCoin",
          "LiteCoin Ultra",
          "PopularCoin",
          "PhantomX",
          "HTML Coin",
          "Photon",
          "Sucre",
          "Fantasy Cash",
          "SparksPay",
          "Digiwage",
          "GunCoin",
          "IrishCoin",
          "Trollcoin",
          "Litecoin Plus",
          "Monkey Project",
          "Pioneer Coin",
          "UnitedBitcoin",
          "Interzone",
          "OP Coin",
          "Valorbit",
          "TokenPay",
          "1717 Masonic Commemorative Token",
          "My Big Coin",
          "TurtleCoin",
          "MUNcoin",
          "Unified Society USDEX",
          "Niobio Cash",
          "Bitcoin Private",
          "Skeincoin",
          "ShareChain",
          "Travelflex",
          "KREDS",
          "Tokyo Coin",
          "BiblePay",
          "LitecoinCash",
          "BitFlip",
          "LottoCoin",
          "LeafCoin",
          "Cerberus",
          "Bitcoin Hush",
          "Crypto Improvement Fund",
          "Stipend",
          "Poa Network",
          "Pushi",
          "Ellerium",
          "Velox",
          "Ontology",
          "Callisto Network",
          "Curium",
          "BitTube",
          "Dinero",
          "Poseidon",
          "Aidos Kuneen",
          "Bitspace",
          "Snowgem",
          "Briacoin",
          "Ignition",
          "Bitrolium",
          "Bitcoin Interest",
          "MedicCoin",
          "Alpenschillling",
          "Zelcash",
          "Bitcoin Green",
          "Deviant Coin",
          "Abjcoin",
          "Profit Hunters Coin",
          "Semux",
          "BitBlocks",
          "FuturoCoin",
          "Carebit",
          "Zealium",
          "Monero Classic",
          "Proton",
          "iDealCash",
          "Jumpcoin",
          "Infinex",
          "Bitcoin Incognito",
          "KEYCO",
          "HollyWoodCoin",
          "GINcoin",
          "PlatinCoin",
          "Loki",
          "Newton Coin",
          "Swisscoin",
          "Xt3ch",
          "MassGrid",
          "TheVig",
          "PluraCoin",
          "EmaratCoin",
          "Dekado",
          "Lynx",
          "Poseidon Quark",
          "BitcoinWSpectrum",
          "Muse",
          "Motion",
          "PlusOneCoin",
          "Axe",
          "Trivechain",
          "Dystem",
          "Giant",
          "Peony Coin",
          "SafeCoin",
          "Absolute Coin",
          "Vitae",
          "HexCoin",
          "TPCash",
          "Webchain",
          "Ryo",
          "MUSDcoin",
          "Urals Coin",
          "Qwertycoin",
          "ARENON",
          "EUNO",
          "MMOCoin",
          "Ketan",
          "NIX",
          "Safe Trade Coin",
          "Project Pai",
          "Mont Blanc",
          "XDNA",
          "PAXEX",
          "Azart",
          "Apollon",
          "ThunderStake",
          "Kcash",
          "Xchange",
          "Acute Angle Cloud",
          "Traid",
          "CrypticCoin",
          "Bettex coin",
          "ZestCoin",
          "X-CASH",
          "Actinium",
          "ETHER-1",
          "Bitcoin SV",
          "BitMoney",
          "Bitcoiin2Gen",
          "Junson Ming Chan Coin",
          "FREDEnergy",
          "Zenad",
          "C25 Coin",
          "HerbCoin",
          "Aquachain",
          "Universal Molecule",
          "Lithium",
          "Smart Bitcoin",
          "PirateCash",
          "Exosis",
          "Block-Logic",
          "Oduwa",
          "Beam",
          "Galilel",
          "Bithereum",
          "Crypto Sports",
          "Credit",
          "SLICE",
          "Dash Platinum",
          "Nasdacoin",
          "Vidulum",
          "Beetle Coin",
          "Titan Coin",
          "Award",
          "BlockStamp",
          "BLAST",
          "Bitcoin Rhodium",
          "GlobalToken",
          "Insane Coin",
          "ALAX",
          "The Freedom Coin",
          "LiteDoge",
          "Boolberry",
          "SolarCoin",
          "TruckCoin",
          "UFO Coin",
          "Ascension Coin",
          "OrangeCoin",
          "BlakeCoin",
          "BitstarCoin",
          "NeosCoin",
          "HyperCoin",
          "PinkCoin",
          "FantomCoin ",
          "Crypto Escudo",
          "AudioCoin",
          "IncaKoin",
          "Piggy Coin",
          "Crown Coin",
          "Genstake",
          "Quazar Coin",
          "SmileyCoin",
          "ParkByte",
          "XiaoMiCoin",
          "Groestlcoin",
          "CapriCoin",
          " ClubCoin",
          "Radium",
          "Bata",
          "Pakcoin",
          "Creditbit ",
          "OKCash",
          "Lisk",
          "HiCoin",
          "WhiteCoin",
          "Dotcoin",
          "FriendshipCoin",
          "The Hempcoin",
          "Fiii",
          "JoinCoin",
          "Triangles Coin",
          "Vollar",
          "EOS",
          "Reality Clash",
          "Oxycoin",
          "iOlite",
          "TigerCash",
          "Waves",
          "Particl",
          "BitTorrent",
          "Nxt",
          "ZEPHYR",
          "Gapcoin",
          "Beldex",
          "Horizen",
          "BitcoinPlus"
         ],
         "legendgroup": "",
         "marker": {
          "color": [
           1,
           1,
           0,
           0,
           1,
           0,
           0,
           0,
           1,
           0,
           1,
           1,
           1,
           0,
           0,
           0,
           1,
           1,
           0,
           0,
           0,
           0,
           0,
           1,
           1,
           0,
           0,
           1,
           0,
           1,
           1,
           1,
           0,
           1,
           0,
           0,
           0,
           0,
           0,
           1,
           1,
           0,
           1,
           0,
           1,
           1,
           0,
           1,
           0,
           1,
           1,
           0,
           0,
           0,
           0,
           1,
           1,
           0,
           0,
           1,
           1,
           0,
           0,
           0,
           0,
           1,
           1,
           1,
           0,
           0,
           0,
           0,
           0,
           1,
           1,
           0,
           1,
           1,
           0,
           0,
           1,
           0,
           0,
           0,
           1,
           1,
           1,
           1,
           1,
           0,
           1,
           0,
           1,
           1,
           1,
           0,
           1,
           0,
           0,
           1,
           1,
           0,
           1,
           0,
           1,
           1,
           0,
           0,
           0,
           0,
           1,
           1,
           0,
           1,
           0,
           0,
           1,
           1,
           1,
           1,
           0,
           0,
           1,
           0,
           1,
           0,
           1,
           1,
           1,
           0,
           1,
           0,
           0,
           1,
           0,
           1,
           0,
           1,
           1,
           0,
           0,
           0,
           0,
           1,
           0,
           0,
           1,
           0,
           1,
           1,
           1,
           0,
           0,
           1,
           1,
           1,
           0,
           1,
           1,
           1,
           1,
           0,
           1,
           1,
           1,
           0,
           1,
           1,
           0,
           1,
           0,
           0,
           1,
           1,
           1,
           0,
           1,
           0,
           0,
           1,
           1,
           0,
           1,
           0,
           1,
           1,
           1,
           1,
           1,
           1,
           0,
           1,
           1,
           1,
           1,
           1,
           0,
           0,
           1,
           0,
           0,
           1,
           1,
           0,
           0,
           1,
           0,
           0,
           1,
           0,
           0,
           0,
           1,
           0,
           1,
           1,
           0,
           1,
           1,
           0,
           1,
           1,
           1,
           1,
           0,
           1,
           1,
           1,
           1,
           1,
           1,
           0,
           0,
           0,
           1,
           0,
           1,
           1,
           1,
           0,
           1,
           1,
           0,
           1,
           0,
           1,
           1,
           1,
           1,
           1,
           1,
           1,
           1,
           1,
           1,
           0,
           0,
           0,
           1,
           1,
           0,
           0,
           1,
           0,
           0,
           1,
           0,
           0,
           0,
           1,
           0,
           0,
           1,
           0,
           1,
           0,
           0,
           1,
           1,
           1,
           0,
           1,
           0,
           1,
           1,
           1,
           1,
           1,
           1,
           1,
           0,
           1,
           0,
           1,
           0,
           1,
           1,
           0,
           1,
           0,
           1,
           0,
           0,
           1,
           1,
           0,
           0,
           1,
           1,
           1,
           0,
           0,
           0,
           1,
           0,
           0,
           0,
           0,
           1,
           0,
           0,
           0,
           0,
           1,
           1,
           1,
           0,
           0,
           0,
           1,
           0,
           1,
           0,
           1,
           1,
           0,
           1,
           0,
           1,
           1,
           1,
           0,
           0,
           1,
           null,
           null,
           null,
           null,
           null,
           null,
           null,
           null,
           null,
           null,
           null,
           null,
           null,
           null,
           null,
           null,
           null,
           null,
           null,
           null,
           null,
           null,
           null,
           null,
           null,
           null,
           null,
           null,
           null,
           null,
           null,
           null,
           null,
           null,
           null,
           null,
           null,
           null,
           null,
           null,
           null,
           null,
           null,
           null,
           null,
           null,
           null,
           null,
           null,
           null,
           null,
           null,
           null,
           null,
           null,
           null,
           null,
           null,
           null,
           null,
           null,
           null,
           null,
           null,
           null,
           null,
           null,
           null,
           null,
           null,
           null,
           null,
           null,
           null,
           null,
           null,
           null,
           null,
           null,
           null,
           null,
           null,
           null,
           null,
           null,
           null,
           null,
           null,
           null,
           null,
           null,
           null,
           null,
           null,
           null,
           null,
           null,
           null,
           null,
           null,
           null,
           null,
           null,
           null,
           null,
           null,
           null,
           null,
           null,
           null,
           null,
           null,
           null,
           null,
           null,
           null,
           null,
           null,
           null,
           null,
           null,
           null,
           null,
           null,
           null,
           null,
           null,
           null,
           null,
           null,
           null,
           null,
           null,
           null,
           null,
           null,
           null,
           null,
           null,
           null,
           null,
           null,
           null,
           null,
           null,
           null,
           null,
           null,
           null,
           null,
           null,
           null,
           null,
           null,
           null,
           null,
           null,
           null,
           null,
           null,
           null,
           null,
           null,
           null,
           null,
           null,
           null,
           null,
           null,
           null,
           null,
           null,
           null,
           null,
           null,
           null,
           null,
           null,
           null,
           null,
           null,
           null,
           null,
           null,
           null,
           null,
           null,
           null,
           null,
           null,
           null,
           null,
           null,
           null,
           null,
           null,
           null,
           null,
           null,
           null,
           null,
           null,
           null,
           null,
           null,
           null,
           null,
           null,
           null,
           null,
           null,
           null,
           null,
           null,
           null,
           null,
           null,
           null,
           null,
           null,
           null,
           null,
           null,
           null,
           null,
           null,
           null,
           null,
           null,
           null,
           null,
           null,
           null,
           null,
           null,
           null,
           null,
           null,
           null,
           null,
           null,
           null,
           null,
           null,
           null,
           null,
           null,
           null,
           null,
           null,
           null,
           null,
           null,
           null,
           null,
           null,
           null,
           null,
           null,
           null,
           null,
           null,
           null,
           null,
           null,
           null,
           null,
           null,
           null,
           null,
           null,
           null,
           null,
           null,
           null,
           null,
           null,
           null,
           null,
           null,
           null,
           null,
           null,
           null,
           null,
           null,
           null,
           null,
           null,
           null,
           null,
           null,
           null,
           null,
           null,
           null,
           null,
           null,
           null,
           null,
           null,
           null,
           null,
           null,
           null,
           null,
           null,
           null,
           null,
           null,
           null,
           null,
           null,
           null,
           null,
           null,
           null,
           null,
           null,
           null,
           null,
           null,
           null,
           null,
           null,
           null,
           null,
           null,
           null,
           null,
           null,
           null,
           null,
           null,
           null,
           null,
           null,
           null,
           null,
           null,
           null
          ],
          "coloraxis": "coloraxis",
          "symbol": "circle"
         },
         "mode": "markers",
         "name": "",
         "scene": "scene",
         "showlegend": false,
         "type": "scatter3d",
         "x": [
          -0.43635024026733943,
          -0.25620979967839197,
          0.14422274674260824,
          0.2330351552310838,
          -0.3979297968638483,
          0.20527935756108798,
          0.233034620469201,
          0.25273416230249646,
          0.06272403602400071,
          0.2258977822082524,
          -0.2562099209784973,
          -0.3979289476219464,
          0.005048827905881891,
          -0.03591655065740783,
          0.0025042360313708534,
          0.144224432374282,
          -0.20616147769790974,
          -0.4363519454299104,
          0.22681157603301866,
          0.14420842871824938,
          -0.03592813268837071,
          -0.035919152798657386,
          0.002505284331672243,
          -0.4363502442694673,
          -0.4363502405229692,
          -0.035916687142239064,
          -0.03591645053589523,
          -0.17509048534820623,
          0.002504814527958858,
          -0.3996169908930298,
          -0.2562097996783928,
          -0.38642430301450015,
          0.2254725216267552,
          -0.3979289476351904,
          -0.03591600821313378,
          0.14245918626767928,
          -0.03709500904506588,
          -0.035917974334689975,
          -0.03593658833113152,
          -0.13666919269965924,
          -0.4846442253681787,
          0.14422443236879606,
          -0.22366045568724424,
          -0.03591611570391269,
          -0.4363586338595276,
          -0.1368270077831276,
          -0.044434379974515305,
          -0.3979306072864859,
          0.14422244943279575,
          -0.39792894763285364,
          -0.46742123324025525,
          -0.03593024886828054,
          -0.03591782538541989,
          -0.03591611204055135,
          -0.03591600865072732,
          -0.39792894762030495,
          -0.3619887626348763,
          -0.0359195955094756,
          0.30374393741050726,
          -0.25636154691473495,
          -0.1750920061443793,
          0.14422443210940317,
          -0.0361385494984103,
          0.14422304674149578,
          -0.03594747964110836,
          -0.4363711788301606,
          -0.43635719450233673,
          -0.4391065103543416,
          -0.03591600826762047,
          -0.035918286298415314,
          -0.03591841482318333,
          0.20214491996088074,
          -0.035916008316874665,
          -0.39792894772550014,
          0.08778829453052817,
          0.1442203387654259,
          -0.20050332773040652,
          -0.39792908229318963,
          0.14422443236867244,
          0.0025051709344700622,
          -0.4363549639602714,
          -0.0359181849908638,
          0.002505284446599085,
          0.15663965288845594,
          -0.43635024027432434,
          -0.3979296011669242,
          0.08778643915281836,
          -0.46742434461721105,
          -0.43636415988157523,
          0.2322854401211954,
          -0.1501726217528266,
          -0.03592242048817802,
          -0.17509048489397175,
          -0.3864289936214107,
          -0.1750930407057002,
          -0.03592893861840109,
          -0.4674214233412775,
          -0.03591602532050437,
          -0.03593032567179396,
          -0.43635037827081447,
          -0.46742123318771683,
          -0.035990528580184165,
          -0.39792894767016107,
          0.11468884758176223,
          -0.43635024026337893,
          -0.4363513314568969,
          0.1442244323830384,
          -0.03591600866165522,
          -0.035916066449091975,
          -0.03591651998481476,
          -0.43635024026337893,
          -0.3979290899343389,
          0.0025022547710405983,
          -0.43635024026337893,
          0.25658492701304236,
          0.14422304554678642,
          -0.6371815026042955,
          -0.023140958108285814,
          -0.4635886830720663,
          -0.3979289476148321,
          -0.035919071164770125,
          -0.03592311889820232,
          -0.17509988741801766,
          0.23304429291099568,
          -0.4674233998773943,
          0.23604177898345552,
          -0.2562138536630679,
          -0.20616147768068266,
          -0.5501041873259653,
          0.14422245807067816,
          -0.30554564584995514,
          -0.03593575369782118,
          0.19819097432800453,
          -0.39896297441959144,
          -0.035922574700531194,
          -0.2562102819693332,
          0.14218030669092005,
          0.13162900638509317,
          -0.43635024028636427,
          0.14422443230094786,
          0.20214489287098258,
          -0.035916123128789126,
          0.2842371936368867,
          -0.25620980082766115,
          0.17028377972456477,
          0.35050025915934446,
          -0.3979299282151225,
          0.14422443215318473,
          -0.17856708802230767,
          -0.25621021143356976,
          -0.015404502863238615,
          -0.03591662610332506,
          0.002504000543412719,
          -0.39792894761537917,
          -0.39792894772975873,
          -0.39794159897478715,
          0.14422443236978763,
          -0.25621136920153276,
          -0.48465207192245524,
          -0.48464422545232705,
          -0.43635024217882634,
          -0.03591606616419285,
          -0.08391408426439098,
          -0.43635066607414486,
          -0.4363596428804614,
          0.002505154757063135,
          -0.13673096734662044,
          -0.39793041121467226,
          0.14422384527956045,
          -0.4363504831369276,
          0.22687629055625186,
          -0.035926995166397406,
          -0.3979290023418996,
          -0.015409583455001106,
          -0.3979538410773174,
          0.20214492017978902,
          -0.20616171273668701,
          0.06780191744079776,
          0.23304281577039737,
          0.04235899438412387,
          -0.4363502457360857,
          0.0024278086549964785,
          -0.4363504708042112,
          0.002499513636263873,
          -0.015404502863238615,
          -0.2562109672009223,
          -0.1965502488751724,
          -0.4363512700054493,
          -0.4363505520343218,
          -0.39792894898300896,
          0.2565860430235819,
          -0.4674212355847626,
          -0.015402622887091799,
          -0.4363524962407385,
          -0.2562100372969813,
          -0.39792894816210295,
          0.002505283895825963,
          0.0024542497464518794,
          -0.43635026935861837,
          -0.03591600831140213,
          0.20527994246913667,
          -0.1750907598881398,
          -0.18025899924058308,
          0.10743878406659355,
          -0.03591630111906815,
          -0.20616284337576743,
          0.002502422104208955,
          0.25273420570575306,
          -0.4364442664342039,
          -0.03592539609617104,
          0.25658447567491394,
          0.002505283297330687,
          -0.17509387446982563,
          0.2614157991460611,
          -0.39793018573296085,
          -0.48895704333823803,
          -0.03592205644833036,
          -0.17509048541387867,
          -0.39793097161182256,
          -0.08421094535773278,
          -0.39794038942188575,
          -0.4363507451703895,
          -0.43635034838612224,
          -0.4363502927464347,
          -0.035916008316874665,
          0.005040091949908227,
          -0.39793056229906343,
          -0.17511824458893568,
          -0.43635224900391545,
          -0.5539261970184832,
          0.005048982222343563,
          -0.03591729417920109,
          0.2052744834354408,
          -0.03591771320309707,
          -0.3979289476580972,
          0.002505037737592111,
          -0.43720092462042803,
          -0.4674232938788063,
          -0.09237672859778574,
          -0.03591601372938164,
          -0.17509223963243858,
          -1.2241452832703303,
          -0.0359160136746545,
          -0.43635207765315276,
          0.2329340153799805,
          -0.008065029448771415,
          -0.3979296305787051,
          -0.2874572457949448,
          -0.4363503476021761,
          -0.4409065705116025,
          -0.48469693647729506,
          -0.43635044249347216,
          -0.35250319882225434,
          -0.3979289476350092,
          -0.0713725588790807,
          0.002488808613767189,
          0.11299356059286289,
          0.23304407888199535,
          -0.02030615153314713,
          -0.4363606755455277,
          0.2329344338754537,
          0.23299625044101718,
          -0.22338571556300843,
          0.002497730050758138,
          0.14422443226811144,
          -0.43635103268236897,
          -0.03628875253438045,
          0.09206001638830424,
          -0.035920284900252515,
          -0.1366696066402249,
          0.0025044872034380872,
          -0.030020474855270204,
          -0.43635025120879267,
          0.09387065104044941,
          -0.34249995587390847,
          -0.036856269910195257,
          0.2842276385678933,
          -0.4304546443497902,
          -0.39792915157226694,
          0.2171185862203339,
          0.002505284326199525,
          -0.4363503197872546,
          0.2527281473026694,
          -0.14769937663317875,
          0.06360302557838206,
          -0.4363511693992908,
          -0.4363502408106497,
          -0.03002005056068625,
          -0.4364822881655034,
          -0.17509412418447412,
          0.22905131045852015,
          -0.43730930720579125,
          0.2328821918920461,
          -0.4363522715080811,
          0.10915407621260698,
          -0.33263287051382245,
          -0.24379102115339285,
          -0.03591614151857395,
          -0.43635075380536886,
          0.20527950038612033,
          -0.4363502408106497,
          -0.2707538388435266,
          0.3455778885044868,
          -0.1366710041861641,
          -0.3979318410112134,
          0.15664446377967803,
          0.14402697742430637,
          -0.2929958886815004,
          -0.13666961622896276,
          0.2564237409460707,
          0.26237446681967075,
          0.18293089182829306,
          0.23275927101492294,
          0.034171926478238086,
          0.2708019929918883,
          0.14422443226811277,
          0.3603722644665058,
          -0.03591932635241415,
          -0.3979303997345854,
          0.14422443180840416,
          -0.06698711110382365,
          0.14421647608089166,
          -0.03592176934175073,
          -0.4363521751802104,
          0.005049542705937055,
          -0.43635114579552586,
          0.23293485693630625,
          -0.03598936962934773,
          -0.038697789166540736,
          -0.4363882565697532,
          0.0140033476382123,
          -0.3979478811677956,
          -0.03592256097912878,
          -0.1760307695623056,
          -0.43637393564426613,
          -0.035916013072656676,
          0.042263641137849944,
          0.2330452743041773,
          0.00495592961322585,
          0.05457041489715155,
          -0.4363516454589391,
          0.2328426881613036,
          0.2527341704370443,
          -0.17509049687180175,
          null,
          null,
          null,
          null,
          null,
          null,
          null,
          null,
          null,
          null,
          null,
          null,
          null,
          null,
          null,
          null,
          null,
          null,
          null,
          null,
          null,
          null,
          null,
          null,
          null,
          null,
          null,
          null,
          null,
          null,
          null,
          null,
          null,
          null,
          null,
          null,
          null,
          null,
          null,
          null,
          null,
          null,
          null,
          null,
          null,
          null,
          null,
          null,
          null,
          null,
          null,
          null,
          null,
          null,
          null,
          null,
          null,
          null,
          null,
          null,
          null,
          null,
          null,
          null,
          null,
          null,
          null,
          null,
          null,
          null,
          null,
          null,
          null,
          null,
          null,
          null,
          null,
          null,
          null,
          null,
          null,
          null,
          null,
          null,
          null,
          null,
          null,
          null,
          null,
          null,
          null,
          null,
          null,
          null,
          null,
          null,
          null,
          null,
          null,
          null,
          null,
          null,
          null,
          null,
          null,
          null,
          null,
          null,
          null,
          null,
          null,
          null,
          null,
          null,
          null,
          null,
          null,
          null,
          null,
          null,
          null,
          null,
          null,
          null,
          null,
          null,
          null,
          null,
          null,
          null,
          null,
          null,
          null,
          null,
          null,
          null,
          null,
          null,
          null,
          null,
          null,
          null,
          null,
          null,
          null,
          null,
          null,
          null,
          null,
          null,
          null,
          null,
          null,
          null,
          null,
          null,
          null,
          null,
          null,
          null,
          null,
          null,
          null,
          null,
          null,
          null,
          null,
          null,
          null,
          null,
          null,
          null,
          null,
          null,
          null,
          null,
          null,
          null,
          null,
          null,
          null,
          null,
          null,
          null,
          null,
          null,
          null,
          null,
          null,
          null,
          null,
          null,
          null,
          null,
          null,
          null,
          null,
          null,
          null,
          null,
          null,
          null,
          null,
          null,
          null,
          null,
          null,
          null,
          null,
          null,
          null,
          null,
          null,
          null,
          null,
          null,
          null,
          null,
          null,
          null,
          null,
          null,
          null,
          null,
          null,
          null,
          null,
          null,
          null,
          null,
          null,
          null,
          null,
          null,
          null,
          null,
          null,
          null,
          null,
          null,
          null,
          null,
          null,
          null,
          null,
          null,
          null,
          null,
          null,
          null,
          null,
          null,
          null,
          null,
          null,
          null,
          null,
          null,
          null,
          null,
          null,
          null,
          null,
          null,
          null,
          null,
          null,
          null,
          null,
          null,
          null,
          null,
          null,
          null,
          null,
          null,
          null,
          null,
          null,
          null,
          null,
          null,
          null,
          null,
          null,
          null,
          null,
          null,
          null,
          null,
          null,
          null,
          null,
          null,
          null,
          null,
          null,
          null,
          null,
          null,
          null,
          null,
          null,
          null,
          null,
          null,
          null,
          null,
          null,
          null,
          null,
          null,
          null,
          null,
          null,
          null,
          null,
          null,
          null,
          null,
          null,
          null,
          null,
          null,
          null,
          null,
          null,
          null,
          null,
          null,
          null,
          null,
          null,
          null,
          null,
          null,
          null,
          null,
          null,
          null,
          null
         ],
         "y": [
          1.151910377875843,
          0.8381383674030761,
          -1.4239741328569469,
          -2.096455013898982,
          1.46998231802173,
          -2.1746977758770054,
          -2.096465468240517,
          -1.9517477855781102,
          0.7756957118400354,
          -1.7262794201266995,
          0.8381359929926304,
          1.469998957525653,
          0.4151719932653382,
          -1.1101797201531074,
          -0.7921010556358035,
          -1.4239411030837987,
          1.5740926009185037,
          1.1518769650568133,
          -1.7083747371167335,
          -1.4242546949217205,
          -1.1104066574257434,
          -1.1102307091647483,
          -0.7920805127481672,
          1.151910299508385,
          1.1519103785115665,
          -1.1101823947457805,
          -1.1101777590810573,
          0.7289661057023388,
          -0.792089719502433,
          0.21636559180364898,
          0.83813836740307,
          1.1274018883559178,
          -1.7346134674327123,
          1.4699989575541386,
          -1.1101690925284011,
          -1.4585308312699936,
          -1.1332714966801851,
          -1.1102076189078396,
          -1.1105723505007359,
          1.047054685259448,
          1.7966209412910372,
          -1.4239411030719997,
          0.20337709613595273,
          -1.1101711978520217,
          1.1517459091157558,
          1.0439620874454885,
          -1.2770865650531116,
          1.4699664367661338,
          -1.4239799590181759,
          1.4699989575491121,
          1.9970368745183242,
          -1.1104481248089224,
          -1.1102047001777546,
          -1.1101711272403951,
          -1.1101690915872289,
          1.4699989575221217,
          2.5399306461162428,
          -1.1102393853763068,
          -2.2245306596033685,
          0.8351649765416815,
          0.7289362938043964,
          -1.4239411025140987,
          -1.1145282851417937,
          -1.4239682539996794,
          -1.1107857750493635,
          1.1515001102739841,
          1.1517741125197705,
          1.0978977838030537,
          -1.1101690924112122,
          -1.110213704976617,
          -1.1102162472420307,
          -2.1883592082573213,
          -1.1101690923052763,
          1.469998955341794,
          0.1337230927373794,
          -1.424021317115662,
          1.4508557439284038,
          1.469996319507959,
          -1.4239411030717335,
          -0.7920827374089079,
          1.1518178230471925,
          -1.1102117467436348,
          -0.7920805129953508,
          -1.4649771839228116,
          1.151910377976783,
          1.4699861509861227,
          0.1336867223659219,
          1.9969759005858512,
          1.1516377244666942,
          -2.3177842376877553,
          1.3233664504061553,
          -1.1102947368902516,
          0.728966104725374,
          1.1273099694670434,
          0.7289160183427938,
          -1.1104224605940807,
          1.997033148106105,
          -1.1101694276994278,
          -1.1104496424174695,
          1.1519076735232117,
          1.9970368744053257,
          -1.1116292944828168,
          1.4699989576293524,
          -1.1776838003302348,
          1.151910377953242,
          1.1518889970181663,
          -1.4239411031026317,
          -1.1101690915637252,
          -1.1101702339051016,
          -1.1101681721808978,
          1.151910377953242,
          1.4699961685798368,
          -0.7921398793874984,
          1.151910377953242,
          -2.1602956099199666,
          -1.42396827351258,
          2.150150470083729,
          1.3439492044621548,
          0.9179217387604061,
          1.469998957510351,
          -1.1102290901563274,
          -1.1103084058739787,
          0.7287818602676905,
          -2.0962759475064163,
          1.9969944199067173,
          -2.2768170283552895,
          0.8380590434676253,
          1.5740926008814515,
          2.0887676632691328,
          -1.423979789747963,
          1.0562286955193452,
          -1.1105560054933836,
          -2.314600568715451,
          1.4497390559443937,
          -1.1102977613897114,
          0.8381289175525245,
          -1.4639957543201347,
          0.09315412760405384,
          1.1519103780026785,
          -1.423941102926072,
          -2.1883591499925936,
          -1.110168845368767,
          -2.2590691588809615,
          0.8381383698749071,
          -1.9836979490409203,
          -2.2348578712010867,
          1.4699797871108249,
          -1.4239411026082645,
          0.6608494552706791,
          0.8381303033008597,
          1.3882801916313363,
          -1.1101811987301737,
          -0.7921056697247316,
          1.4699989575115284,
          1.4699989577575348,
          1.4697510470569857,
          -1.4239411030741325,
          0.8381076730975289,
          1.796467188785328,
          1.7966209414720227,
          1.1519103820729701,
          -1.1101702283225008,
          1.366266131649738,
          1.1519020389297467,
          1.1517261336956595,
          -0.79208305145025,
          1.045844199310064,
          1.4699702823734266,
          -1.4239526069781794,
          1.1519056210385767,
          -1.7071066694988601,
          -1.1103843721965232,
          1.4699990752168715,
          1.3881806374447654,
          1.469511317190436,
          -2.188359208728147,
          1.5740879945012076,
          -0.5836391108094537,
          -2.0963048928356227,
          0.5987865229529441,
          1.1519103897238938,
          -0.7935986894915237,
          1.1519058652130534,
          -0.7921935721780744,
          1.3882801916313363,
          0.8381154907045973,
          0.9738037530995838,
          1.151890276295049,
          1.151904268802416,
          1.469998960453014,
          -2.16027374692345,
          1.9970368795608722,
          1.3883170416599178,
          1.1518662287347614,
          0.8381337134659873,
          1.4699989586874165,
          -0.7920805118107523,
          -0.7930687008863696,
          1.1519098104056738,
          -1.1101690923170466,
          -2.1746862918470735,
          0.7289607203898576,
          0.3212423334424698,
          -1.5047413074355191,
          -1.110174832233553,
          1.5740658396313303,
          -0.7921364851949417,
          -1.9517469355124266,
          1.150067935377415,
          -1.1103530482970136,
          -2.160304459791317,
          -0.7920805105235138,
          0.7288996837788081,
          -2.1775997729664347,
          1.4699747069231524,
          2.1652365434627034,
          -1.1102871395194511,
          0.7289661058435865,
          1.4699593066341372,
          -0.4654771801878925,
          1.4697748003554794,
          1.1519004861871383,
          1.1519082625553376,
          1.1519094684967206,
          -1.1101690923052763,
          0.41500972582910894,
          1.4699673204937764,
          0.7284223544437789,
          1.1518710266415926,
          2.013881263628172,
          0.41517503961671953,
          -1.1101942843320858,
          -2.1747932780294144,
          -1.1102025019095025,
          1.4699989576034054,
          -0.7920853453205964,
          1.135246094155863,
          1.9969964933813553,
          1.2890235956473366,
          -1.1101690806641014,
          0.7289317184568317,
          2.8831688459345433,
          -1.1101690807818079,
          1.1518743777223606,
          -2.305075765785613,
          1.2486184436875494,
          1.469985577183949,
          0.6958719805683623,
          1.151908276386428,
          1.062626306568585,
          1.7955881432673095,
          1.1519064174984264,
          0.7649267860017216,
          1.469998957553748,
          1.2554960856679769,
          -0.7924033360966091,
          -1.5658827373257347,
          -2.0962801103628887,
          0.8066492721492715,
          1.1517059104109055,
          -2.305067573929613,
          -2.0972162122524325,
          1.3736522608596529,
          -0.792228485466172,
          -1.4239411028554476,
          1.1518948673544387,
          -1.1174728935205003,
          -1.2612694648446334,
          -1.1102528922410855,
          1.0470465641689626,
          -0.7920961332448163,
          -1.1993599447641068,
          1.1519104014945463,
          -0.2571243946900023,
          0.2699827265925302,
          -1.128593518310731,
          -2.2592563941967745,
          1.062720751383734,
          1.4699949636821543,
          1.2674376384060946,
          -0.7920805127363967,
          1.1519088199394887,
          -1.9518656512660126,
          0.3103452900963238,
          1.3124119936339604,
          1.1518921739318215,
          1.1519103791303071,
          0.5725379633415217,
          1.1493233420986522,
          0.7288947893019702,
          -2.381140385123302,
          1.1331174636798056,
          -2.3060912040589447,
          1.1518705831447156,
          -1.2666040917409214,
          1.6784294518841247,
          0.7971720067221103,
          -1.11017170242929,
          1.1519004334644982,
          -2.1746947687633478,
          1.1519103791303071,
          -0.7202142340104596,
          -2.481322606603741,
          1.0470191815374248,
          1.4699422637040829,
          -1.464882897601811,
          -1.4278102325118682,
          0.757329557131175,
          1.0470463856677423,
          -0.06995176122220817,
          -2.2601606330677435,
          -2.184090400608597,
          -2.3084991512917155,
          1.4255310813220727,
          -1.7460102661784096,
          -1.4239411028554503,
          -2.2403381199320744,
          -1.1102341016205033,
          1.4699705513758752,
          -1.423941101866713,
          -0.2650447524274084,
          -1.4240969968990262,
          -1.1102703139679955,
          1.1518724672710527,
          0.4151860016869877,
          1.151892632906953,
          -2.305059282815607,
          -1.1116065833771926,
          -1.1646756537340666,
          1.1511654480137807,
          -1.1348065411919495,
          1.4696279553783522,
          -1.1102974808380064,
          0.710541228063511,
          1.1514460727373539,
          -1.1101690820765797,
          0.5969179407651705,
          -2.0962565988641946,
          0.4133516513992741,
          1.6494870097643128,
          1.1518828711250197,
          -2.3068652819313282,
          -1.9517476261712625,
          0.7289658681004113,
          null,
          null,
          null,
          null,
          null,
          null,
          null,
          null,
          null,
          null,
          null,
          null,
          null,
          null,
          null,
          null,
          null,
          null,
          null,
          null,
          null,
          null,
          null,
          null,
          null,
          null,
          null,
          null,
          null,
          null,
          null,
          null,
          null,
          null,
          null,
          null,
          null,
          null,
          null,
          null,
          null,
          null,
          null,
          null,
          null,
          null,
          null,
          null,
          null,
          null,
          null,
          null,
          null,
          null,
          null,
          null,
          null,
          null,
          null,
          null,
          null,
          null,
          null,
          null,
          null,
          null,
          null,
          null,
          null,
          null,
          null,
          null,
          null,
          null,
          null,
          null,
          null,
          null,
          null,
          null,
          null,
          null,
          null,
          null,
          null,
          null,
          null,
          null,
          null,
          null,
          null,
          null,
          null,
          null,
          null,
          null,
          null,
          null,
          null,
          null,
          null,
          null,
          null,
          null,
          null,
          null,
          null,
          null,
          null,
          null,
          null,
          null,
          null,
          null,
          null,
          null,
          null,
          null,
          null,
          null,
          null,
          null,
          null,
          null,
          null,
          null,
          null,
          null,
          null,
          null,
          null,
          null,
          null,
          null,
          null,
          null,
          null,
          null,
          null,
          null,
          null,
          null,
          null,
          null,
          null,
          null,
          null,
          null,
          null,
          null,
          null,
          null,
          null,
          null,
          null,
          null,
          null,
          null,
          null,
          null,
          null,
          null,
          null,
          null,
          null,
          null,
          null,
          null,
          null,
          null,
          null,
          null,
          null,
          null,
          null,
          null,
          null,
          null,
          null,
          null,
          null,
          null,
          null,
          null,
          null,
          null,
          null,
          null,
          null,
          null,
          null,
          null,
          null,
          null,
          null,
          null,
          null,
          null,
          null,
          null,
          null,
          null,
          null,
          null,
          null,
          null,
          null,
          null,
          null,
          null,
          null,
          null,
          null,
          null,
          null,
          null,
          null,
          null,
          null,
          null,
          null,
          null,
          null,
          null,
          null,
          null,
          null,
          null,
          null,
          null,
          null,
          null,
          null,
          null,
          null,
          null,
          null,
          null,
          null,
          null,
          null,
          null,
          null,
          null,
          null,
          null,
          null,
          null,
          null,
          null,
          null,
          null,
          null,
          null,
          null,
          null,
          null,
          null,
          null,
          null,
          null,
          null,
          null,
          null,
          null,
          null,
          null,
          null,
          null,
          null,
          null,
          null,
          null,
          null,
          null,
          null,
          null,
          null,
          null,
          null,
          null,
          null,
          null,
          null,
          null,
          null,
          null,
          null,
          null,
          null,
          null,
          null,
          null,
          null,
          null,
          null,
          null,
          null,
          null,
          null,
          null,
          null,
          null,
          null,
          null,
          null,
          null,
          null,
          null,
          null,
          null,
          null,
          null,
          null,
          null,
          null,
          null,
          null,
          null,
          null,
          null,
          null,
          null,
          null,
          null,
          null,
          null,
          null,
          null,
          null,
          null,
          null,
          null,
          null,
          null,
          null,
          null,
          null,
          null,
          null,
          null
         ],
         "z": [
          -0.21084811919401558,
          -0.1322549679924482,
          -0.22237578811465955,
          -0.29381293060193725,
          -0.14555923257690187,
          -0.323370410032171,
          -0.2937333749990594,
          -0.30229612373873904,
          0.35455545714998604,
          -0.09896128871688263,
          -0.13223690144712721,
          -0.14568582831879093,
          -0.023285102891021918,
          -0.30113937624484,
          -0.2359016509115079,
          -0.22262708146176363,
          0.016621080442008527,
          -0.21059391185414322,
          -0.2351824049869426,
          -0.22024124927983835,
          -0.29941280952376365,
          -0.300751447717614,
          -0.23605794180410658,
          -0.21084752292729908,
          -0.2108481198246631,
          -0.30111902785367245,
          -0.3011542968440001,
          -0.10204639882252911,
          -0.23598789677346205,
          0.4262285907113379,
          -0.13225496799244252,
          -0.18549706098826146,
          -0.03555597015229093,
          -0.14568582832092933,
          -0.3012202332524613,
          0.04053459785209721,
          -0.1254551672692987,
          -0.30092712157887824,
          -0.29815220661173236,
          -0.03688410735742337,
          -0.08719364411567716,
          -0.22262708146264953,
          -0.2712586505300109,
          -0.30120421506439965,
          -0.20959682468576046,
          -0.013355527860418555,
          0.9687015545920674,
          -0.14543840744926395,
          -0.22233146248374097,
          -0.1456858283205521,
          -0.09218064061947817,
          -0.2990973229080991,
          -0.30094932746437025,
          -0.3012047531565916,
          -0.3012202333231186,
          -0.14568582831852586,
          -0.24045495223537197,
          -0.30068543935448744,
          -0.23076197791036288,
          -0.1096330956348341,
          -0.1018195963307087,
          -0.22262708150453286,
          -0.2680540191441395,
          -0.22242051465882295,
          -0.2965284621560035,
          -0.20772675221579798,
          -0.20981139908442,
          0.20008151629341514,
          -0.3012202332612593,
          -0.3008807982576323,
          -0.30086147424388177,
          -0.32102915024323087,
          -0.3012202332692122,
          -0.14568581181909893,
          -0.05854854891850362,
          -0.22201680637821078,
          0.006706482322125725,
          -0.1456657574198862,
          -0.22262708146266963,
          -0.23604101837226305,
          -0.21014395007239595,
          -0.3008957166877406,
          -0.23605794178554967,
          -0.26858108966146166,
          -0.2108481197845151,
          -0.14558839536216875,
          -0.05827185077385682,
          -0.09171675080212568,
          -0.20877367420305218,
          -0.050295883207429566,
          0.038525609962807815,
          -0.30026431757478356,
          -0.1020463987491852,
          -0.18479773937315802,
          -0.10166534137036706,
          -0.29929258590048824,
          -0.09215229080097136,
          -0.3012176832082134,
          -0.2990857862385768,
          -0.2108275443879594,
          -0.09218064061099489,
          -0.2901108790998124,
          -0.14568582832657606,
          -0.24176128812532174,
          -0.21084811978274776,
          -0.2106854511349738,
          -0.2226270814603499,
          -0.30122023332488307,
          -0.30121154974637293,
          -0.3012190780258811,
          -0.21084811978274776,
          -0.145664610040327,
          -0.23560627734788914,
          -0.21084811978274776,
          -0.2748600330800732,
          -0.22242036329925766,
          -0.1864886182875861,
          0.043603636799520236,
          -0.4799384611446519,
          -0.14568582831764215,
          -0.30076375081747425,
          -0.30016031063985965,
          -0.10064465334816732,
          -0.29517527225059537,
          -0.09185764198582891,
          0.3769226084275422,
          -0.1316513801511597,
          0.01662108044479018,
          -0.07788780581774744,
          -0.22233275029722122,
          0.0004433148255134978,
          -0.29827656794006496,
          -0.39420948700660463,
          0.008454539520262625,
          -0.3002413089536623,
          -0.13218307228009654,
          0.0821119720715734,
          -0.05103268619217775,
          -0.210848119786459,
          -0.22262708147360472,
          -0.3210291546173607,
          -0.3012202518075703,
          -0.3147144093643025,
          -0.13225496817801163,
          -0.17386869953156645,
          -0.37376681729482664,
          -0.14553994522370808,
          -0.22262708149746366,
          0.4161961418849359,
          -0.13219361248441822,
          0.07233774196449141,
          -0.3011281272693707,
          -0.23586654632414883,
          -0.14568582831773041,
          -0.14568582833619903,
          -0.14379971058579993,
          -0.22262708146248938,
          -0.13202139813111413,
          -0.08602388194726594,
          -0.08719364412926418,
          -0.21084812009202974,
          -0.3012115922192583,
          0.003645017761267474,
          -0.21078467228009862,
          -0.20944637439675245,
          -0.23603862691845318,
          -0.027674640083067255,
          -0.14546766247641263,
          -0.22253955872432676,
          -0.21081192715368033,
          -0.24482997708148932,
          -0.2995823607318902,
          -0.14568583715426847,
          0.07309515835814824,
          -0.14197571133246523,
          -0.3210291502078843,
          0.016656125821008273,
          0.016381629477570228,
          -0.29495505438623487,
          6.675709894460381,
          -0.21084812066641048,
          -0.22450755951864065,
          -0.21081378297930115,
          -0.2351977634979467,
          0.07233774196449141,
          -0.13208091952634907,
          -0.04193972669232401,
          -0.21069512799734372,
          -0.21080164086343092,
          -0.14568582853855785,
          -0.27502637244087724,
          -0.09218064099803937,
          0.07205739279892684,
          -0.21051218670715527,
          -0.1322195588202936,
          -0.14568582840600874,
          -0.2360579418744815,
          -0.22853090823138317,
          -0.21084379991694402,
          -0.30122023326832853,
          -0.32345776451525937,
          -0.10200543117378731,
          -0.25371488816237914,
          -0.3286350810946852,
          -0.3011765652655948,
          0.016824681883675675,
          -0.2356320147374019,
          -0.3023025914217716,
          -0.19683066592279375,
          -0.2998206828815057,
          -0.27479270693202074,
          -0.23605794197111885,
          -0.10154106440470566,
          -0.2646572431393731,
          -0.1455013201663965,
          -0.10438809767394343,
          -0.3003217732771513,
          -0.10204639883313292,
          -0.14538415424871176,
          -0.17742385612781092,
          -0.14398038879719374,
          -0.21077286101212583,
          -0.21083202322831937,
          -0.21084111193903846,
          -0.3012202332692122,
          -0.022043917788353178,
          -0.14544512928291825,
          -0.09790935245852417,
          -0.21054872436778282,
          0.49185842348342224,
          -0.023308263002278753,
          -0.30102856695841995,
          -0.3226438171288796,
          -0.3009660520274198,
          -0.14568582832462798,
          -0.23602117561644836,
          -0.08406125380983817,
          -0.0918734198084698,
          0.04282036625663686,
          -0.3012202341431545,
          -0.10178478682358758,
          6.712892182338339,
          -0.30122023413431787,
          -0.21057422453488744,
          -0.14698324440718413,
          0.7423113777688133,
          -0.1455840279495383,
          -0.2145781287866863,
          -0.21083212959657993,
          0.46843032014917985,
          -0.0793359756082346,
          -0.21081798664705173,
          -0.17469641397575986,
          -0.14568582832090016,
          0.21555546403913003,
          -0.2336018617209352,
          -0.30742100254226806,
          -0.29514357777035244,
          4.153033819302334,
          -0.20929250521152376,
          -0.14704557509687036,
          -0.28802082120419653,
          0.02179376863940917,
          -0.23493211347476256,
          -0.22262708147890684,
          -0.2107301013242944,
          -0.24565222606832626,
          0.33170643919969606,
          -0.3005826767214871,
          -0.03682232883216033,
          -0.23593910036198057,
          -0.23309414942464343,
          -0.21084812155007324,
          -0.09612587410062808,
          -0.2718393371333481,
          -0.16104569465111288,
          -0.3132899105665534,
          -0.14273136100789457,
          -0.14565544092146754,
          0.0799856354485281,
          -0.2360579418049903,
          -0.21083626609561884,
          -0.3013993932693407,
          -0.21202750209470259,
          -0.006927609226293691,
          -0.21070962031441695,
          -0.21084811987111415,
          -0.06171961014304716,
          -0.19116540968670664,
          -0.10150382780717122,
          0.43173524927158546,
          -0.06787009041121449,
          -0.139257675025466,
          -0.21054535209061978,
          -0.26084127076129865,
          0.1068367192321978,
          -0.17873941215477365,
          -0.30120037525977433,
          -0.21077237310948058,
          -0.3233931330854481,
          -0.21084811987111415,
          -0.5982751339524371,
          1.6793493505866013,
          -0.0366139978341428,
          -0.14525449549604538,
          -0.26929841509953706,
          -0.19319042835444605,
          -0.23819747109722517,
          -0.036820963784104585,
          0.782917750013424,
          -0.3438346316309762,
          -0.31902270181527514,
          -0.12093730358205743,
          0.5259116481140483,
          -0.24998439002242842,
          -0.22262708147890664,
          -0.32490759031640487,
          -0.3007256314305677,
          -0.14546967624899515,
          -0.2226270815531345,
          -0.1825363495479985,
          -0.22144102130883825,
          -0.300441438994387,
          -0.21055968922460136,
          -0.023391678681222064,
          -0.21071311487271777,
          -0.14710865364843007,
          -0.2902836659565824,
          0.11347195403590786,
          -0.20518063223815577,
          -0.27488804079675255,
          -0.14286321315474987,
          -0.3002434347110364,
          0.03813156961616136,
          -0.20731564345663775,
          -0.30122023403711484,
          6.689926119617378,
          -0.29532239020370504,
          -0.009435793083903302,
          0.2197251693025602,
          -0.21063882473991588,
          -0.13336842900541196,
          -0.3022973365114065,
          -0.10204459991718282,
          null,
          null,
          null,
          null,
          null,
          null,
          null,
          null,
          null,
          null,
          null,
          null,
          null,
          null,
          null,
          null,
          null,
          null,
          null,
          null,
          null,
          null,
          null,
          null,
          null,
          null,
          null,
          null,
          null,
          null,
          null,
          null,
          null,
          null,
          null,
          null,
          null,
          null,
          null,
          null,
          null,
          null,
          null,
          null,
          null,
          null,
          null,
          null,
          null,
          null,
          null,
          null,
          null,
          null,
          null,
          null,
          null,
          null,
          null,
          null,
          null,
          null,
          null,
          null,
          null,
          null,
          null,
          null,
          null,
          null,
          null,
          null,
          null,
          null,
          null,
          null,
          null,
          null,
          null,
          null,
          null,
          null,
          null,
          null,
          null,
          null,
          null,
          null,
          null,
          null,
          null,
          null,
          null,
          null,
          null,
          null,
          null,
          null,
          null,
          null,
          null,
          null,
          null,
          null,
          null,
          null,
          null,
          null,
          null,
          null,
          null,
          null,
          null,
          null,
          null,
          null,
          null,
          null,
          null,
          null,
          null,
          null,
          null,
          null,
          null,
          null,
          null,
          null,
          null,
          null,
          null,
          null,
          null,
          null,
          null,
          null,
          null,
          null,
          null,
          null,
          null,
          null,
          null,
          null,
          null,
          null,
          null,
          null,
          null,
          null,
          null,
          null,
          null,
          null,
          null,
          null,
          null,
          null,
          null,
          null,
          null,
          null,
          null,
          null,
          null,
          null,
          null,
          null,
          null,
          null,
          null,
          null,
          null,
          null,
          null,
          null,
          null,
          null,
          null,
          null,
          null,
          null,
          null,
          null,
          null,
          null,
          null,
          null,
          null,
          null,
          null,
          null,
          null,
          null,
          null,
          null,
          null,
          null,
          null,
          null,
          null,
          null,
          null,
          null,
          null,
          null,
          null,
          null,
          null,
          null,
          null,
          null,
          null,
          null,
          null,
          null,
          null,
          null,
          null,
          null,
          null,
          null,
          null,
          null,
          null,
          null,
          null,
          null,
          null,
          null,
          null,
          null,
          null,
          null,
          null,
          null,
          null,
          null,
          null,
          null,
          null,
          null,
          null,
          null,
          null,
          null,
          null,
          null,
          null,
          null,
          null,
          null,
          null,
          null,
          null,
          null,
          null,
          null,
          null,
          null,
          null,
          null,
          null,
          null,
          null,
          null,
          null,
          null,
          null,
          null,
          null,
          null,
          null,
          null,
          null,
          null,
          null,
          null,
          null,
          null,
          null,
          null,
          null,
          null,
          null,
          null,
          null,
          null,
          null,
          null,
          null,
          null,
          null,
          null,
          null,
          null,
          null,
          null,
          null,
          null,
          null,
          null,
          null,
          null,
          null,
          null,
          null,
          null,
          null,
          null,
          null,
          null,
          null,
          null,
          null,
          null,
          null,
          null,
          null,
          null,
          null,
          null,
          null,
          null,
          null,
          null,
          null,
          null,
          null,
          null,
          null,
          null,
          null,
          null,
          null,
          null,
          null,
          null,
          null,
          null,
          null
         ]
        }
       ],
       "layout": {
        "autosize": true,
        "coloraxis": {
         "colorbar": {
          "title": {
           "text": "Class"
          }
         },
         "colorscale": [
          [
           0,
           "#0d0887"
          ],
          [
           0.1111111111111111,
           "#46039f"
          ],
          [
           0.2222222222222222,
           "#7201a8"
          ],
          [
           0.3333333333333333,
           "#9c179e"
          ],
          [
           0.4444444444444444,
           "#bd3786"
          ],
          [
           0.5555555555555556,
           "#d8576b"
          ],
          [
           0.6666666666666666,
           "#ed7953"
          ],
          [
           0.7777777777777778,
           "#fb9f3a"
          ],
          [
           0.8888888888888888,
           "#fdca26"
          ],
          [
           1,
           "#f0f921"
          ]
         ]
        },
        "legend": {
         "tracegroupgap": 0,
         "x": 0,
         "y": 1
        },
        "margin": {
         "t": 60
        },
        "scene": {
         "aspectmode": "auto",
         "aspectratio": {
          "x": 1,
          "y": 1,
          "z": 1
         },
         "camera": {
          "center": {
           "x": 0,
           "y": 0,
           "z": 0
          },
          "eye": {
           "x": 1.7551758531095532,
           "y": 1.0752733802657861,
           "z": 0.8447537384106454
          },
          "projection": {
           "type": "perspective"
          },
          "up": {
           "x": 0,
           "y": 0,
           "z": 1
          }
         },
         "domain": {
          "x": [
           0,
           1
          ],
          "y": [
           0,
           1
          ]
         },
         "xaxis": {
          "title": {
           "text": "PC 3"
          },
          "type": "linear"
         },
         "yaxis": {
          "title": {
           "text": "PC 2"
          },
          "type": "linear"
         },
         "zaxis": {
          "title": {
           "text": "PC 1"
          },
          "type": "linear"
         }
        },
        "template": {
         "data": {
          "bar": [
           {
            "error_x": {
             "color": "#2a3f5f"
            },
            "error_y": {
             "color": "#2a3f5f"
            },
            "marker": {
             "line": {
              "color": "#E5ECF6",
              "width": 0.5
             }
            },
            "type": "bar"
           }
          ],
          "barpolar": [
           {
            "marker": {
             "line": {
              "color": "#E5ECF6",
              "width": 0.5
             }
            },
            "type": "barpolar"
           }
          ],
          "carpet": [
           {
            "aaxis": {
             "endlinecolor": "#2a3f5f",
             "gridcolor": "white",
             "linecolor": "white",
             "minorgridcolor": "white",
             "startlinecolor": "#2a3f5f"
            },
            "baxis": {
             "endlinecolor": "#2a3f5f",
             "gridcolor": "white",
             "linecolor": "white",
             "minorgridcolor": "white",
             "startlinecolor": "#2a3f5f"
            },
            "type": "carpet"
           }
          ],
          "choropleth": [
           {
            "colorbar": {
             "outlinewidth": 0,
             "ticks": ""
            },
            "type": "choropleth"
           }
          ],
          "contour": [
           {
            "colorbar": {
             "outlinewidth": 0,
             "ticks": ""
            },
            "colorscale": [
             [
              0,
              "#0d0887"
             ],
             [
              0.1111111111111111,
              "#46039f"
             ],
             [
              0.2222222222222222,
              "#7201a8"
             ],
             [
              0.3333333333333333,
              "#9c179e"
             ],
             [
              0.4444444444444444,
              "#bd3786"
             ],
             [
              0.5555555555555556,
              "#d8576b"
             ],
             [
              0.6666666666666666,
              "#ed7953"
             ],
             [
              0.7777777777777778,
              "#fb9f3a"
             ],
             [
              0.8888888888888888,
              "#fdca26"
             ],
             [
              1,
              "#f0f921"
             ]
            ],
            "type": "contour"
           }
          ],
          "contourcarpet": [
           {
            "colorbar": {
             "outlinewidth": 0,
             "ticks": ""
            },
            "type": "contourcarpet"
           }
          ],
          "heatmap": [
           {
            "colorbar": {
             "outlinewidth": 0,
             "ticks": ""
            },
            "colorscale": [
             [
              0,
              "#0d0887"
             ],
             [
              0.1111111111111111,
              "#46039f"
             ],
             [
              0.2222222222222222,
              "#7201a8"
             ],
             [
              0.3333333333333333,
              "#9c179e"
             ],
             [
              0.4444444444444444,
              "#bd3786"
             ],
             [
              0.5555555555555556,
              "#d8576b"
             ],
             [
              0.6666666666666666,
              "#ed7953"
             ],
             [
              0.7777777777777778,
              "#fb9f3a"
             ],
             [
              0.8888888888888888,
              "#fdca26"
             ],
             [
              1,
              "#f0f921"
             ]
            ],
            "type": "heatmap"
           }
          ],
          "heatmapgl": [
           {
            "colorbar": {
             "outlinewidth": 0,
             "ticks": ""
            },
            "colorscale": [
             [
              0,
              "#0d0887"
             ],
             [
              0.1111111111111111,
              "#46039f"
             ],
             [
              0.2222222222222222,
              "#7201a8"
             ],
             [
              0.3333333333333333,
              "#9c179e"
             ],
             [
              0.4444444444444444,
              "#bd3786"
             ],
             [
              0.5555555555555556,
              "#d8576b"
             ],
             [
              0.6666666666666666,
              "#ed7953"
             ],
             [
              0.7777777777777778,
              "#fb9f3a"
             ],
             [
              0.8888888888888888,
              "#fdca26"
             ],
             [
              1,
              "#f0f921"
             ]
            ],
            "type": "heatmapgl"
           }
          ],
          "histogram": [
           {
            "marker": {
             "colorbar": {
              "outlinewidth": 0,
              "ticks": ""
             }
            },
            "type": "histogram"
           }
          ],
          "histogram2d": [
           {
            "colorbar": {
             "outlinewidth": 0,
             "ticks": ""
            },
            "colorscale": [
             [
              0,
              "#0d0887"
             ],
             [
              0.1111111111111111,
              "#46039f"
             ],
             [
              0.2222222222222222,
              "#7201a8"
             ],
             [
              0.3333333333333333,
              "#9c179e"
             ],
             [
              0.4444444444444444,
              "#bd3786"
             ],
             [
              0.5555555555555556,
              "#d8576b"
             ],
             [
              0.6666666666666666,
              "#ed7953"
             ],
             [
              0.7777777777777778,
              "#fb9f3a"
             ],
             [
              0.8888888888888888,
              "#fdca26"
             ],
             [
              1,
              "#f0f921"
             ]
            ],
            "type": "histogram2d"
           }
          ],
          "histogram2dcontour": [
           {
            "colorbar": {
             "outlinewidth": 0,
             "ticks": ""
            },
            "colorscale": [
             [
              0,
              "#0d0887"
             ],
             [
              0.1111111111111111,
              "#46039f"
             ],
             [
              0.2222222222222222,
              "#7201a8"
             ],
             [
              0.3333333333333333,
              "#9c179e"
             ],
             [
              0.4444444444444444,
              "#bd3786"
             ],
             [
              0.5555555555555556,
              "#d8576b"
             ],
             [
              0.6666666666666666,
              "#ed7953"
             ],
             [
              0.7777777777777778,
              "#fb9f3a"
             ],
             [
              0.8888888888888888,
              "#fdca26"
             ],
             [
              1,
              "#f0f921"
             ]
            ],
            "type": "histogram2dcontour"
           }
          ],
          "mesh3d": [
           {
            "colorbar": {
             "outlinewidth": 0,
             "ticks": ""
            },
            "type": "mesh3d"
           }
          ],
          "parcoords": [
           {
            "line": {
             "colorbar": {
              "outlinewidth": 0,
              "ticks": ""
             }
            },
            "type": "parcoords"
           }
          ],
          "pie": [
           {
            "automargin": true,
            "type": "pie"
           }
          ],
          "scatter": [
           {
            "marker": {
             "colorbar": {
              "outlinewidth": 0,
              "ticks": ""
             }
            },
            "type": "scatter"
           }
          ],
          "scatter3d": [
           {
            "line": {
             "colorbar": {
              "outlinewidth": 0,
              "ticks": ""
             }
            },
            "marker": {
             "colorbar": {
              "outlinewidth": 0,
              "ticks": ""
             }
            },
            "type": "scatter3d"
           }
          ],
          "scattercarpet": [
           {
            "marker": {
             "colorbar": {
              "outlinewidth": 0,
              "ticks": ""
             }
            },
            "type": "scattercarpet"
           }
          ],
          "scattergeo": [
           {
            "marker": {
             "colorbar": {
              "outlinewidth": 0,
              "ticks": ""
             }
            },
            "type": "scattergeo"
           }
          ],
          "scattergl": [
           {
            "marker": {
             "colorbar": {
              "outlinewidth": 0,
              "ticks": ""
             }
            },
            "type": "scattergl"
           }
          ],
          "scattermapbox": [
           {
            "marker": {
             "colorbar": {
              "outlinewidth": 0,
              "ticks": ""
             }
            },
            "type": "scattermapbox"
           }
          ],
          "scatterpolar": [
           {
            "marker": {
             "colorbar": {
              "outlinewidth": 0,
              "ticks": ""
             }
            },
            "type": "scatterpolar"
           }
          ],
          "scatterpolargl": [
           {
            "marker": {
             "colorbar": {
              "outlinewidth": 0,
              "ticks": ""
             }
            },
            "type": "scatterpolargl"
           }
          ],
          "scatterternary": [
           {
            "marker": {
             "colorbar": {
              "outlinewidth": 0,
              "ticks": ""
             }
            },
            "type": "scatterternary"
           }
          ],
          "surface": [
           {
            "colorbar": {
             "outlinewidth": 0,
             "ticks": ""
            },
            "colorscale": [
             [
              0,
              "#0d0887"
             ],
             [
              0.1111111111111111,
              "#46039f"
             ],
             [
              0.2222222222222222,
              "#7201a8"
             ],
             [
              0.3333333333333333,
              "#9c179e"
             ],
             [
              0.4444444444444444,
              "#bd3786"
             ],
             [
              0.5555555555555556,
              "#d8576b"
             ],
             [
              0.6666666666666666,
              "#ed7953"
             ],
             [
              0.7777777777777778,
              "#fb9f3a"
             ],
             [
              0.8888888888888888,
              "#fdca26"
             ],
             [
              1,
              "#f0f921"
             ]
            ],
            "type": "surface"
           }
          ],
          "table": [
           {
            "cells": {
             "fill": {
              "color": "#EBF0F8"
             },
             "line": {
              "color": "white"
             }
            },
            "header": {
             "fill": {
              "color": "#C8D4E3"
             },
             "line": {
              "color": "white"
             }
            },
            "type": "table"
           }
          ]
         },
         "layout": {
          "annotationdefaults": {
           "arrowcolor": "#2a3f5f",
           "arrowhead": 0,
           "arrowwidth": 1
          },
          "autotypenumbers": "strict",
          "coloraxis": {
           "colorbar": {
            "outlinewidth": 0,
            "ticks": ""
           }
          },
          "colorscale": {
           "diverging": [
            [
             0,
             "#8e0152"
            ],
            [
             0.1,
             "#c51b7d"
            ],
            [
             0.2,
             "#de77ae"
            ],
            [
             0.3,
             "#f1b6da"
            ],
            [
             0.4,
             "#fde0ef"
            ],
            [
             0.5,
             "#f7f7f7"
            ],
            [
             0.6,
             "#e6f5d0"
            ],
            [
             0.7,
             "#b8e186"
            ],
            [
             0.8,
             "#7fbc41"
            ],
            [
             0.9,
             "#4d9221"
            ],
            [
             1,
             "#276419"
            ]
           ],
           "sequential": [
            [
             0,
             "#0d0887"
            ],
            [
             0.1111111111111111,
             "#46039f"
            ],
            [
             0.2222222222222222,
             "#7201a8"
            ],
            [
             0.3333333333333333,
             "#9c179e"
            ],
            [
             0.4444444444444444,
             "#bd3786"
            ],
            [
             0.5555555555555556,
             "#d8576b"
            ],
            [
             0.6666666666666666,
             "#ed7953"
            ],
            [
             0.7777777777777778,
             "#fb9f3a"
            ],
            [
             0.8888888888888888,
             "#fdca26"
            ],
            [
             1,
             "#f0f921"
            ]
           ],
           "sequentialminus": [
            [
             0,
             "#0d0887"
            ],
            [
             0.1111111111111111,
             "#46039f"
            ],
            [
             0.2222222222222222,
             "#7201a8"
            ],
            [
             0.3333333333333333,
             "#9c179e"
            ],
            [
             0.4444444444444444,
             "#bd3786"
            ],
            [
             0.5555555555555556,
             "#d8576b"
            ],
            [
             0.6666666666666666,
             "#ed7953"
            ],
            [
             0.7777777777777778,
             "#fb9f3a"
            ],
            [
             0.8888888888888888,
             "#fdca26"
            ],
            [
             1,
             "#f0f921"
            ]
           ]
          },
          "colorway": [
           "#636efa",
           "#EF553B",
           "#00cc96",
           "#ab63fa",
           "#FFA15A",
           "#19d3f3",
           "#FF6692",
           "#B6E880",
           "#FF97FF",
           "#FECB52"
          ],
          "font": {
           "color": "#2a3f5f"
          },
          "geo": {
           "bgcolor": "white",
           "lakecolor": "white",
           "landcolor": "#E5ECF6",
           "showlakes": true,
           "showland": true,
           "subunitcolor": "white"
          },
          "hoverlabel": {
           "align": "left"
          },
          "hovermode": "closest",
          "mapbox": {
           "style": "light"
          },
          "paper_bgcolor": "white",
          "plot_bgcolor": "#E5ECF6",
          "polar": {
           "angularaxis": {
            "gridcolor": "white",
            "linecolor": "white",
            "ticks": ""
           },
           "bgcolor": "#E5ECF6",
           "radialaxis": {
            "gridcolor": "white",
            "linecolor": "white",
            "ticks": ""
           }
          },
          "scene": {
           "xaxis": {
            "backgroundcolor": "#E5ECF6",
            "gridcolor": "white",
            "gridwidth": 2,
            "linecolor": "white",
            "showbackground": true,
            "ticks": "",
            "zerolinecolor": "white"
           },
           "yaxis": {
            "backgroundcolor": "#E5ECF6",
            "gridcolor": "white",
            "gridwidth": 2,
            "linecolor": "white",
            "showbackground": true,
            "ticks": "",
            "zerolinecolor": "white"
           },
           "zaxis": {
            "backgroundcolor": "#E5ECF6",
            "gridcolor": "white",
            "gridwidth": 2,
            "linecolor": "white",
            "showbackground": true,
            "ticks": "",
            "zerolinecolor": "white"
           }
          },
          "shapedefaults": {
           "line": {
            "color": "#2a3f5f"
           }
          },
          "ternary": {
           "aaxis": {
            "gridcolor": "white",
            "linecolor": "white",
            "ticks": ""
           },
           "baxis": {
            "gridcolor": "white",
            "linecolor": "white",
            "ticks": ""
           },
           "bgcolor": "#E5ECF6",
           "caxis": {
            "gridcolor": "white",
            "linecolor": "white",
            "ticks": ""
           }
          },
          "title": {
           "x": 0.05
          },
          "xaxis": {
           "automargin": true,
           "gridcolor": "white",
           "linecolor": "white",
           "ticks": "",
           "title": {
            "standoff": 15
           },
           "zerolinecolor": "white",
           "zerolinewidth": 2
          },
          "yaxis": {
           "automargin": true,
           "gridcolor": "white",
           "linecolor": "white",
           "ticks": "",
           "title": {
            "standoff": 15
           },
           "zerolinecolor": "white",
           "zerolinewidth": 2
          }
         }
        }
       }
      },
      "image/png": "[encoded data removed]",
      "text/html": [
       "<div>                            <div id=\"b391c951-79f2-4cf2-bf4d-6be82567dee7\" class=\"plotly-graph-div\" style=\"height:525px; width:800px;\"></div>            <script type=\"text/javascript\">                require([\"plotly\"], function(Plotly) {                    window.PLOTLYENV=window.PLOTLYENV || {};                                    if (document.getElementById(\"b391c951-79f2-4cf2-bf4d-6be82567dee7\")) {                    Plotly.newPlot(                        \"b391c951-79f2-4cf2-bf4d-6be82567dee7\",                        [{\"customdata\": [[\"Scrypt\"], [\"Scrypt\"], [\"SHA-256\"], [\"X13\"], [\"SHA-256\"], [\"Ethash\"], [\"Scrypt\"], [\"X11\"], [\"CryptoNight-V7\"], [\"Ethash\"], [\"Equihash\"], [\"SHA-512\"], [\"Multiple\"], [\"SHA-256\"], [\"X11\"], [\"SHA-256\"], [\"Scrypt\"], [\"X15\"], [\"X11\"], [\"SHA-256\"], [\"X13\"], [\"X13\"], [\"Scrypt\"], [\"Scrypt\"], [\"Scrypt\"], [\"SHA-256\"], [\"Scrypt\"], [\"Multiple\"], [\"Scrypt\"], [\"SHA-256\"], [\"Scrypt\"], [\"Scrypt\"], [\"Scrypt\"], [\"Quark\"], [\"Groestl\"], [\"Scrypt\"], [\"X11\"], [\"Scrypt\"], [\"Scrypt\"], [\"Scrypt\"], [\"Scrypt\"], [\"Scrypt\"], [\"Scrypt\"], [\"Multiple\"], [\"Scrypt\"], [\"X11\"], [\"Scrypt\"], [\"SHA-256\"], [\"Groestl\"], [\"Multiple\"], [\"X11\"], [\"Scrypt\"], [\"SHA-256\"], [\"Scrypt\"], [\"Scrypt\"], [\"Scrypt\"], [\"Scrypt\"], [\"Scrypt\"], [\"PoS\"], [\"Scrypt\"], [\"X11\"], [\"NIST5\"], [\"SHA-256\"], [\"Scrypt\"], [\"Scrypt\"], [\"NeoScrypt\"], [\"Scrypt\"], [\"Scrypt\"], [\"Scrypt\"], [\"X11\"], [\"X15\"], [\"Scrypt\"], [\"Multiple\"], [\"X11\"], [\"Scrypt\"], [\"X11\"], [\"SHA-256\"], [\"X11\"], [\"X13\"], [\"Scrypt\"], [\"Scrypt\"], [\"Scrypt\"], [\"Scrypt\"], [\"X11\"], [\"SHA3\"], [\"Scrypt\"], [\"HybridScryptHash256\"], [\"Scrypt\"], [\"Scrypt\"], [\"SHA-256\"], [\"Scrypt\"], [\"X13\"], [\"SHA-256\"], [\"Scrypt\"], [\"SHA-256\"], [\"Scrypt\"], [\"X13\"], [\"NeoScrypt\"], [\"Scrypt\"], [\"Scrypt\"], [\"Scrypt\"], [\"Scrypt\"], [\"Scrypt\"], [\"Scrypt\"], [\"X15\"], [\"Scrypt\"], [\"Scrypt\"], [\"Scrypt-n\"], [\"Scrypt\"], [\"X11\"], [\"X11\"], [\"SHA-256\"], [\"Multiple\"], [\"SHA-256\"], [\"PHI1612\"], [\"X11\"], [\"SHA-256\"], [\"SHA-256\"], [\"SHA-256\"], [\"SHA-256\"], [\"X11\"], [\"Scrypt\"], [\"Scrypt\"], [\"X13\"], [\"Scrypt\"], [\"X11\"], [\"Scrypt\"], [\"Lyra2REv2\"], [\"Scrypt\"], [\"Scrypt\"], [\"X11\"], [\"Multiple\"], [\"SHA-256\"], [\"X13\"], [\"Scrypt\"], [\"Scrypt\"], [\"CryptoNight\"], [\"CryptoNight\"], [\"Shabal256\"], [\"Counterparty\"], [\"Scrypt\"], [\"SHA-256\"], [\"SHA-256\"], [\"Scrypt\"], [\"Groestl\"], [\"Scrypt\"], [\"Scrypt\"], [\"Scrypt\"], [\"X13\"], [\"Scrypt\"], [\"Scrypt\"], [\"Scrypt\"], [\"SHA-256\"], [\"Scrypt\"], [\"X13\"], [\"X13\"], [\"Scrypt\"], [\"X11\"], [\"Momentum\"], [\"Stanford Folding\"], [\"X11\"], [\"Multiple\"], [\"QuBit\"], [\"X15\"], [\"Scrypt\"], [\"Scrypt\"], [\"Scrypt\"], [\"Scrypt\"], [\"SHA-256\"], [\"M7 POW\"], [\"Scrypt\"], [\"X11\"], [\"Scrypt\"], [\"SHA-256\"], [\"Scrypt\"], [\"Scrypt\"], [\"X11\"], [\"X11\"], [\"SHA3\"], [\"X11\"], [\"Scrypt\"], [\"Lyra2RE\"], [\"SHA-256\"], [\"QUAIT\"], [\"X11\"], [\"vDPOS\"], [\"X11\"], [\"X11\"], [\"Scrypt\"], [\"Scrypt\"], [\"Scrypt\"], [\"Ethash\"], [\"X11\"], [\"X13\"], [\"Blake2b\"], [\"SHA-256\"], [\"X13\"], [\"X15\"], [\"X11\"], [\"SHA-256\"], [\"BLAKE256\"], [\"Scrypt\"], [\"Scrypt\"], [\"1GB AES Pattern Search\"], [\"SHA-256\"], [\"X11\"], [\"Scrypt\"], [\"CryptoNight\"], [\"SHA-256\"], [\"Quark\"], [\"SHA-256\"], [\"NIST5\"], [\"Blake\"], [\"Scrypt\"], [\"Scrypt\"], [\"SHA-256\"], [\"X11\"], [\"Scrypt\"], [\"Scrypt-n\"], [\"X11\"], [\"Scrypt\"], [\"Dagger\"], [\"Scrypt\"], [\"SHA-256\"], [\"CryptoNight-Lite\"], [\"X11GOST\"], [\"X11\"], [\"SHA-256\"], [\"Scrypt\"], [\"SHA-256\"], [\"Scrypt\"], [\"PoS\"], [\"Scrypt\"], [\"X11\"], [\"X11\"], [\"X11\"], [\"X11\"], [\"PoS\"], [\"SHA-256\"], [\"SHA-256\"], [\"SHA-256\"], [\"NIST5\"], [\"X15\"], [\"X11\"], [\"NIST5\"], [\"Scrypt\"], [\"Scrypt\"], [\"Scrypt\"], [\"POS 3.0\"], [\"Scrypt\"], [\"Scrypt\"], [\"Scrypt\"], [\"X13\"], [\"X11\"], [\"X11\"], [\"Equihash\"], [\"X11\"], [\"X11\"], [\"Scrypt\"], [\"CryptoNight\"], [\"SHA-256\"], [\"SHA-256\"], [\"X11\"], [\"Scrypt\"], [\"Multiple\"], [\"Scrypt\"], [\"Scrypt\"], [\"X11\"], [\"Scrypt\"], [\"SHA-256\"], [\"Scrypt\"], [\"Scrypt\"], [\"SHA-256D\"], [\"PoS\"], [\"Scrypt\"], [\"Scrypt\"], [\"X11\"], [\"Scrypt-n\"], [\"Lyra2Z\"], [\"SHA-256\"], [\"PoS\"], [\"X13\"], [\"Quark\"], [\"X14\"], [\"PoS\"], [\"SHA-256D\"], [\"Ethash\"], [\"SHA-256\"], [\"Equihash\"], [\"DPoS\"], [\"X11\"], [\"Scrypt\"], [\"Scrypt\"], [\"Equihash\"], [\"X11\"], [\"X13\"], [\"X11\"], [\"PoS\"], [\"SHA-256D\"], [\"Scrypt\"], [\"Scrypt\"], [\"Scrypt\"], [\"X11\"], [\"PoS\"], [\"X11\"], [\"SHA-256\"], [\"Scrypt\"], [\"X11\"], [\"Scrypt\"], [\"Scrypt\"], [\"X11\"], [\"CryptoNight\"], [\"Scrypt\"], [\"Scrypt\"], [\"Scrypt\"], [\"Scrypt\"], [\"Quark\"], [\"QuBit\"], [\"Scrypt\"], [\"CryptoNight\"], [\"X11\"], [\"Lyra2RE\"], [\"X13\"], [\"PoS\"], [\"Scrypt\"], [\"SHA-256\"], [\"X11\"], [\"X11\"], [\"X11\"], [\"Scrypt\"], [\"X11\"], [\"Scrypt\"], [\"Scrypt\"], [\"CryptoNight-V7\"], [\"Scrypt\"], [\"Scrypt\"], [\"Keccak\"], [\"Scrypt\"], [\"X13\"], [\"X11\"], [\"Equihash\"], [\"Scrypt\"], [\"Scrypt\"], [\"Lyra2RE\"], [\"Ethash\"], [\"X11\"], [\"Scrypt\"], [\"Dagger-Hashimoto\"], [\"X11\"], [\"Blake2S\"], [\"X11\"], [\"Scrypt\"], [\"Scrypt\"], [\"PoS\"], [\"X11\"], [\"NIST5\"], [\"PoS\"], [\"X11\"], [\"Scrypt\"], [\"Scrypt\"], [\"Scrypt\"], [\"Scrypt\"], [\"SHA-256\"], [\"X11\"], [\"Scrypt\"], [\"Scrypt\"], [\"Scrypt\"], [\"SHA-256\"], [\"PoS\"], [\"Scrypt\"], [\"X11\"], [\"X15\"], [\"SHA-256\"], [\"Scrypt\"], [\"POS 3.0\"], [\"CryptoNight-V7\"], [\"536\"], [\"Argon2d\"], [\"Blake2b\"], [\"Cloverhash\"], [\"CryptoNight\"], [\"NIST5\"], [\"X11\"], [\"NIST5\"], [\"Skein\"], [\"Scrypt\"], [\"X13\"], [\"Scrypt\"], [\"X11\"], [\"X11\"], [\"X11\"], [\"Scrypt\"], [\"CryptoNight\"], [\"X13\"], [\"Time Travel\"], [\"Scrypt\"], [\"Keccak\"], [\"SkunkHash v2 Raptor\"], [\"X11\"], [\"Skein\"], [\"SHA-256\"], [\"X11\"], [\"Scrypt\"], [\"Scrypt\"], [\"VeChainThor Authority\"], [\"Scrypt\"], [\"PoS\"], [\"Scrypt\"], [\"Scrypt\"], [\"Scrypt\"], [\"Scrypt\"], [\"Scrypt\"], [\"Scrypt\"], [\"Scrypt\"], [\"Scrypt\"], [\"CryptoNight\"], [\"SHA-512\"], [\"Ouroboros\"], [\"X11\"], [\"Equihash\"], [\"NeoScrypt\"], [\"X11\"], [\"Scrypt\"], [\"NeoScrypt\"], [\"Lyra2REv2\"], [\"Equihash\"], [\"Scrypt\"], [\"SHA-256\"], [\"NIST5\"], [\"PHI1612\"], [\"Dagger\"], [\"Scrypt\"], [\"Quark\"], [\"Scrypt\"], [\"POS 2.0\"], [\"Scrypt\"], [\"SkunkHash\"], [\"X11\"], [\"Quark\"], [\"SHA-256\"], [\"X11\"], [\"NeoScrypt\"], [\"Scrypt\"], [\"Ethash\"], [\"Scrypt\"], [\"NeoScrypt\"], [\"Quark\"], [\"X11\"], [\"DPoS\"], [\"NIST5\"], [\"X13\"], [\"Multiple\"], [\"Scrypt\"], [\"CryptoNight\"], [\"CryptoNight\"], [\"Ethash\"], [\"NIST5\"], [\"Quark\"], [\"X11\"], [\"SHA-256\"], [\"CryptoNight-V7\"], [\"Scrypt\"], [\"Scrypt\"], [\"Scrypt\"], [\"X11\"], [\"SHA-256\"], [\"BLAKE256\"], [\"X11\"], [\"Scrypt\"], [\"NeoScrypt\"], [\"Quark\"], [\"NeoScrypt\"], [\"Scrypt\"], [\"Scrypt\"], [\"Scrypt\"], [\"X11\"], [\"X11\"], [\"SHA-256\"], [\"C11\"], [\"Scrypt\"], [\"Scrypt\"], [\"POS 3.0\"], [\"Ethash\"], [\"Scrypt\"], [\"CryptoNight\"], [\"SkunkHash\"], [\"Scrypt\"], [\"CryptoNight\"], [\"Equihash\"], [\"Skein\"], [\"Scrypt\"], [\"Dagger\"], [\"Lyra2REv2\"], [\"X13\"], [\"Proof-of-BibleHash\"], [\"SHA-256 + Hive\"], [\"Scrypt\"], [\"Scrypt\"], [\"Scrypt\"], [\"NeoScrypt\"], [\"Equihash\"], [\"X11\"], [\"C11\"], [\"Proof-of-Authority\"], [\"X11\"], [\"XEVAN\"], [\"Scrypt\"], [\"VBFT\"], [\"Ethash\"], [\"X11\"], [\"CryptoNight\"], [\"NeoScrypt\"], [\"Scrypt\"], [\"IMesh\"], [\"NIST5\"], [\"Equihash\"], [\"Scrypt\"], [\"Scrypt\"], [\"Equihash\"], [\"Equihash\"], [\"Scrypt\"], [\"Lyra2Z\"], [\"Equihash\"], [\"Green Protocol\"], [\"PoS\"], [\"Scrypt\"], [\"Scrypt\"], [\"Semux BFT consensus\"], [\"Scrypt\"], [\"X11\"], [\"Quark\"], [\"PoS\"], [\"CryptoNight\"], [\"X16R\"], [\"Scrypt\"], [\"NIST5\"], [\"Lyra2RE\"], [\"XEVAN\"], [\"Tribus\"], [\"Scrypt\"], [\"Lyra2Z\"], [\"CryptoNight\"], [\"CryptoNight Heavy\"], [\"CryptoNight\"], [\"Scrypt\"], [\"Scrypt\"], [\"Jump Consistent Hash\"], [\"SHA-256D\"], [\"CryptoNight\"], [\"Scrypt\"], [\"X15\"], [\"Scrypt\"], [\"Quark\"], [\"SHA-256\"], [\"DPoS\"], [\"X16R\"], [\"HMQ1725\"], [\"X11\"], [\"X16R\"], [\"Quark\"], [\"Quark\"], [\"Scrypt\"], [\"Zhash\"], [\"Lyra2REv2\"], [\"Quark\"], [\"Scrypt\"], [\"Scrypt\"], [\"CryptoNight-V7\"], [\"Cryptonight-GPU\"], [\"Scrypt\"], [\"XEVAN\"], [\"CryptoNight Heavy\"], [\"X11\"], [\"X11\"], [\"Scrypt\"], [\"PoS\"], [\"Lyra2REv2\"], [\"Scrypt\"], [\"SHA-256\"], [\"Scrypt\"], [\"Keccak\"], [\"X11\"], [\"X11\"], [\"Quark\"], [\"Scrypt\"], [\"SHA-512\"], [\"X16R\"], [\"ECC 256K1\"], [\"NeoScrypt\"], [\"Equihash\"], [\"XEVAN\"], [\"Quark\"], [\"CryptoNight Heavy X\"], [\"Lyra2Z\"], [\"Ethash\"], [\"SHA-256\"], [\"XEVAN\"], [\"Ethash\"], [\"X11\"], [\"CryptoNight\"], [\"Quark\"], [\"SkunkHash\"], [\"Quark\"], [\"Argon2\"], [\"Blake\"], [\"Blake\"], [\"SHA-256\"], [\"Equihash\"], [\"Exosis\"], [\"Scrypt\"], [\"Scrypt\"], [\"Equihash\"], [\"Quark\"], [\"Equihash\"], [\"Quark\"], [\"Scrypt\"], [\"QuBit\"], [\"X11\"], [\"Scrypt\"], [\"Equihash1927\"], [\"XEVAN\"], [\"SHA-256D\"], [\"X11\"], [\"SHA-256\"], [\"SHA-256\"], [\"X13\"], [\"SHA-256\"], [\"X11\"], [\"DPoS\"], [\"X11\"], [\"Scrypt\"], [\"X11\"], [\"Scrypt\"], [\"X11\"], [\"NeoScrypt\"], [\"QuBit\"], [\"Scrypt\"], [\"Blake\"], [\"Scrypt\"], [\"SHA-256\"], [\"Scrypt\"], [\"X11\"], [\"CryptoNight\"], [\"Scrypt\"], [\"Scrypt\"], [\"SHA-256\"], [\"X11\"], [\"SHA-256\"], [\"Scrypt\"], [\"CryptoNight\"], [\"Scrypt\"], [\"SHA-256\"], [\"Scrypt\"], [\"Groestl\"], [\"X11\"], [\"Scrypt\"], [\"PoS\"], [\"Scrypt\"], [\"Scrypt\"], [\"X11\"], [\"SHA-256\"], [\"DPoS\"], [\"Scrypt\"], [\"Scrypt\"], [\"Scrypt\"], [\"NeoScrypt\"], [\"Scrypt\"], [\"SHA3-256\"], [\"Multiple\"], [\"X13\"], [\"Equihash+Scrypt\"], [\"DPoS\"], [\"Ethash\"], [\"DPoS\"], [\"Ethash\"], [\"SHA-256\"], [\"Leased POS\"], [\"PoS\"], [\"TRC10\"], [\"PoS\"], [\"SHA-256\"], [\"Scrypt\"], [\"CryptoNight\"], [\"Equihash\"], [\"Scrypt\"]], \"hovertemplate\": \"<b>%{hovertext}</b><br><br>PC 3=%{x}<br>PC 2=%{y}<br>PC 1=%{z}<br>Algorithm=%{customdata[0]}<br>Class=%{marker.color}<extra></extra>\", \"hovertext\": [\"42 Coin\", \"404Coin\", \"808\", \"EliteCoin\", \"Bitcoin\", \"Ethereum\", \"Litecoin\", \"Dash\", \"Monero\", \"Ethereum Classic\", \"ZCash\", \"Bitshares\", \"DigiByte\", \"BitcoinDark\", \"Bitstake\", \"PayCoin\", \"ProsperCoin\", \"KoboCoin\", \"Spreadcoin\", \"ACoin\", \"Aero Coin\", \"ApexCoin\", \"ArchCoin\", \"Argentum\", \"Aurora Coin\", \"BetaCoin\", \"BlueCoin\", \"MyriadCoin\", \"MoonCoin\", \"ZetaCoin\", \"SexCoin\", \"Quatloo\", \"EnergyCoin\", \"QuarkCoin\", \"Riecoin\", \"Digitalcoin \", \"LimeCoinX\", \"BitBar\", \"BitMark\", \"CashCoin\", \"Catcoin\", \"CryptoBullion\", \"CannaCoin\", \"CinderCoin\", \"CoolCoin\", \"CryptCoin\", \"CasinoCoin\", \"eMark\", \"Diamond\", \"Verge\", \"DarkCash\", \"DarkShibe\", \"DevCoin\", \"EarthCoin\", \"E-Gulden\", \"Elacoin\", \"Einsteinium\", \"Emerald\", \"Exclusive Coin\", \"Flappy Coin\", \"Fuel2Coin\", \"FIBRE\", \"FireRoosterCoin\", \"FlutterCoin\", \"Franko\", \"FeatherCoin\", \"GrandCoin\", \"GlobalCoin\", \"GoldCoin\", \"GlyphCoin\", \"Halcyon\", \"HoboNickels\", \"HunterCoin\", \"HyperStake\", \"Infinite Coin\", \"IOCoin\", \"IXcoin\", \"JumBucks Coin\", \"JudgeCoin\", \"KrugerCoin\", \"LuckyCoin\", \"Litebar \", \"LitecoinDark\", \"LibrexCoin\", \"MaxCoin\", \"MegaCoin\", \"MediterraneanCoin\", \"MintCoin\", \"MinCoin\", \"MazaCoin\", \"Nautilus Coin\", \"NavCoin\", \"NoirBits\", \"NobleCoin\", \"Namecoin\", \"NyanCoin\", \"OpalCoin\", \"Orbitcoin\", \"PotCoin\", \"PhoenixCoin\", \"Reddcoin\", \"RipOffCoin\", \"RonPaulCoin\", \"StableCoin\", \"ShieldCoin\", \"SilkCoin\", \"SmartCoin\", \"SpainCoin\", \"SecureCoin\", \"SuperCoin\", \"SyncCoin\", \"SysCoin\", \"TeslaCoin\", \"TigerCoin\", \"TittieCoin\", \"TorCoin\", \"TerraCoin\", \"Umbrella\", \"UnbreakableCoin\", \"Unobtanium\", \"UroCoin\", \"UnitaryStatus Dollar\", \"UltraCoin\", \"Utility Coin\", \"ViaCoin\", \"VootCoin\", \"VeriCoin\", \"Vertcoin\", \"WorldCoin\", \"SocialXbotCoin\", \"X11 Coin\", \"Crypti\", \"JouleCoin\", \"StealthCoin\", \"XXXCoin\", \"ZCC Coin\", \"ByteCoin\", \"DigitalNote \", \"BurstCoin\", \"StorjCoin\", \"MonaCoin\", \"Neutron\", \"Sling Coin\", \"KryptCoin\", \"FairCoin\", \"Gulden\", \"RubyCoin\", \"PesetaCoin\", \"Kore\", \"Wild Beast Coin\", \"Dnotes\", \"Flo\", \"MaieutiCoin\", \"8BIT Coin\", \"Sativa Coin\", \"AeroMe\", \"ArtByte\", \"MasterTraderCoin\", \"BitCredit\", \"Folding Coin\", \"Ucoin\", \"Unitus\", \"CypherPunkCoin\", \"MaryJane Coin\", \"OmniCron\", \"CyberCoin\", \"Vtorrent\", \"GreenCoin\", \"Unattanium\", \"Cryptonite\", \"Gridmaster\", \"ConSpiracy Coin \", \"MasterCoin\", \"SoonCoin\", \"1Credit\", \"ViorCoin\", \"IslaCoin\", \"Quicksilver coin\", \"Nexus\", \"MarsCoin \", \"Singular\", \"Crypto\", \"Anarchists Prime\", \"Droidz\", \"BowsCoin\", \"CryptoCircuits\", \"Squall Coin\", \"Milllionaire Coin\", \"Song Coin\", \"BitZeny\", \"Diggits\", \"Expanse\", \"MapCoin\", \"Paycon\", \"Siacoin\", \"Emercoin\", \"BlitzCoin\", \"EverGreenCoin\", \"MindCoin\", \"I0coin\", \"Decred\", \"DogeCoinDark\", \"Revolution VR\", \"HOdlcoin\", \"EDRCoin\", \"Hitcoin\", \"Gamecredits\", \"Dashcoin\", \"DubaiCoin\", \"BiosCrypto\", \"CarpeDiemCoin\", \"PWR Coin\", \"TrumpCoin\", \"BillaryCoin\", \"EthereumScrypt\", \"Phalanx\", \"SunShotCoin\", \"GPU Coin\", \"HempCoin\", \"Adzcoin\", \"VirtaCoin\", \"SoilCoin\", \"YoCoin\", \"Universal Currency\", \"AEON\", \"SibCoin\", \"EuropeCoin\", \"Anti Bitcoin\", \"ZeitCoin\", \"SwingCoin\", \"SafeExchangeCoin\", \"Nebuchadnezzar\", \"Francs\", \"BolivarCoin\", \"GIZMOcoin\", \"SecretCoin\", \"Ratecoin\", \"Digital Bullion Gold\", \"Revenu\", \"Clinton\", \"Clockcoin\", \"VIP Tokens\", \"OrlyCoin\", \"BitSend\", \"16BitCoin\", \"ChessCoin\", \"ReeCoin\", \"Omni\", \"Let it Ride\", \"PutinCoin\", \"iBankCoin\", \"Frankywillcoin\", \"MudraCoin\", \"PizzaCoin\", \"Lutetium Coin\", \"Komodo\", \"GoldBlocks\", \"WayCoin\", \"CarterCoin\", \"Karbo\", \"BitTokens\", \"ZayedCoin\", \"MustangCoin\", \"ZoneCoin\", \"Circuits of Value\", \"RootCoin\", \"DopeCoin\", \"PROUD Money\", \"BitCurrency\", \"DollarCoin\", \"Swiscoin\", \"Shilling\", \"BuzzCoin\", \"Opair\", \"PesoBit\", \"GBR Coin\", \"Halloween Coin\", \"FujiCoin\", \"ZCoin\", \"LeaCoin\", \"CoffeeCoin\", \"RoyalCoin\", \"Zurcoin\", \"GanjaCoin V2\", \"TeamUP\", \"LanaCoin\", \"Elementrem\", \"CashOut\", \"ZClassic\", \"ARK\", \"InsaneCoin\", \"LuckChain\", \"KiloCoin\", \"Hush\", \"ArtexCoin\", \"EmberCoin\", \"XenixCoin\", \"FreeCoin\", \"NPCcoin\", \"PLNCoin\", \"Icobid\", \"AquariusCoin\", \"Kurrent\", \"Creatio\", \"Eternity\", \"Eurocoin\", \"BitcoinFast\", \"Stakenet\", \"BitConnect Coin\", \"MoneyCoin\", \"Enigma\", \"Cannabis Industry Coin\", \"Russiacoin\", \"PandaCoin\", \"GameUnits\", \"GAKHcoin\", \"Allsafe\", \"LiteCreed\", \"OsmiumCoin\", \"Bikercoins\", \"NeptuneClassic\", \"HexxCoin\", \"GoldenBird\", \"Ride My Car\", \"Klingon Empire Darsek\", \"Internet of People\", \"KushCoin\", \"Eryllium\", \"MarxCoin\", \"Printerium\", \"PacCoin\", \"Impeach\", \"Solarflarecoin\", \"Citadel\", \"Zilbercoin\", \"FirstCoin\", \"CreativeChain\", \"BeaverCoin\", \"FindCoin\", \"VaultCoin\", \"Zero\", \"OpenChat\", \"Canada eCoin\", \"Zoin\", \"Musicoin\", \"BnrtxCoin\", \"RenosCoin\", \"DubaiCoin\", \"VirtacoinPlus\", \"TajCoin\", \"Impact\", \"EB3coin\", \"Universe\", \"Atmos\", \"HappyCoin\", \"Coinonat\", \"MacronCoin\", \"Condensate\", \"Independent Money System\", \"ArgusCoin\", \"LomoCoin\", \"Bitcoin Scrypt\", \"ProCurrency\", \"GoldReserve\", \"BenjiRolls\", \"ParallelCoin\", \"GrowthCoin\", \"ILCoin\", \"Phreak\", \"Degas Coin\", \"ZSEcoin\", \"HTML5 Coin\", \"Ultimate Secure Cash\", \"EquiTrader\", \"QTUM\", \"Quantum Resistant Ledger\", \"Espers\", \"Dynamic\", \"Nano\", \"ChanCoin\", \"Dinastycoin\", \"Denarius\", \"DigitalPrice\", \"Virta Unique Coin\", \"Bitcoin Planet\", \"Unify\", \"BritCoin\", \"SocialCoin\", \"Octanox\", \"ArcticCoin\", \"DAS\", \"Linda\", \"LeviarCoin\", \"DeepOnion\", \"Bitcore\", \"gCn Coin\", \"SmartCash\", \"Signatum\", \"Onix\", \"Cream\", \"Bitcoin Cash\", \"Monoeci\", \"CampusCoin\", \"Draftcoin\", \"Vechain\", \"Sojourn Coin\", \"Stakecoin\", \"NewYorkCoin\", \"LiteBitcoin\", \"FrazCoin\", \"Kronecoin\", \"AdCoin\", \"Linx\", \"CoinonatX\", \"Ethereum Dark\", \"Sumokoin\", \"Obsidian\", \"Cardano\", \"Regalcoin\", \"BitcoinZ\", \"TrezarCoin\", \"Elements\", \"TerraNovaCoin\", \"VIVO Coin\", \"Rupee\", \"Bitcoin Gold\", \"WomenCoin\", \"Theresa May Coin\", \"NamoCoin\", \"LUXCoin\", \"Pirl\", \"Xios\", \"Bitcloud 2.0\", \"eBoost\", \"KekCoin\", \"BlackholeCoin\", \"AltCommunity Coin\", \"Pure\", \"Rupaya\", \"Infinity Economics\", \"Pura\", \"Innova\", \"Bitdeal\", \"Ellaism\", \"Sakuracoin\", \"GoByte\", \"Castle\", \"Magnet\", \"Lamden Tau\", \"Electra\", \"Bitcoin Diamond\", \"SHIELD\", \"Cash & Back Coin\", \"UltraNote\", \"BitCoal\", \"DaxxCoin\", \"Bulwark\", \"Kalkulus\", \"AC3\", \"CHIPS\", \"Lethean\", \"GermanCoin\", \"LiteCoin Ultra\", \"PopularCoin\", \"PhantomX\", \"HTML Coin\", \"Photon\", \"Sucre\", \"Fantasy Cash\", \"SparksPay\", \"Digiwage\", \"GunCoin\", \"IrishCoin\", \"Trollcoin\", \"Litecoin Plus\", \"Monkey Project\", \"Pioneer Coin\", \"UnitedBitcoin\", \"Interzone\", \"OP Coin\", \"Valorbit\", \"TokenPay\", \"1717 Masonic Commemorative Token\", \"My Big Coin\", \"TurtleCoin\", \"MUNcoin\", \"Unified Society USDEX\", \"Niobio Cash\", \"Bitcoin Private\", \"Skeincoin\", \"ShareChain\", \"Travelflex\", \"KREDS\", \"Tokyo Coin\", \"BiblePay\", \"LitecoinCash\", \"BitFlip\", \"LottoCoin\", \"LeafCoin\", \"Cerberus\", \"Bitcoin Hush\", \"Crypto Improvement Fund\", \"Stipend\", \"Poa Network\", \"Pushi\", \"Ellerium\", \"Velox\", \"Ontology\", \"Callisto Network\", \"Curium\", \"BitTube\", \"Dinero\", \"Poseidon\", \"Aidos Kuneen\", \"Bitspace\", \"Snowgem\", \"Briacoin\", \"Ignition\", \"Bitrolium\", \"Bitcoin Interest\", \"MedicCoin\", \"Alpenschillling\", \"Zelcash\", \"Bitcoin Green\", \"Deviant Coin\", \"Abjcoin\", \"Profit Hunters Coin\", \"Semux\", \"BitBlocks\", \"FuturoCoin\", \"Carebit\", \"Zealium\", \"Monero Classic\", \"Proton\", \"iDealCash\", \"Jumpcoin\", \"Infinex\", \"Bitcoin Incognito\", \"KEYCO\", \"HollyWoodCoin\", \"GINcoin\", \"PlatinCoin\", \"Loki\", \"Newton Coin\", \"Swisscoin\", \"Xt3ch\", \"MassGrid\", \"TheVig\", \"PluraCoin\", \"EmaratCoin\", \"Dekado\", \"Lynx\", \"Poseidon Quark\", \"BitcoinWSpectrum\", \"Muse\", \"Motion\", \"PlusOneCoin\", \"Axe\", \"Trivechain\", \"Dystem\", \"Giant\", \"Peony Coin\", \"SafeCoin\", \"Absolute Coin\", \"Vitae\", \"HexCoin\", \"TPCash\", \"Webchain\", \"Ryo\", \"MUSDcoin\", \"Urals Coin\", \"Qwertycoin\", \"ARENON\", \"EUNO\", \"MMOCoin\", \"Ketan\", \"NIX\", \"Safe Trade Coin\", \"Project Pai\", \"Mont Blanc\", \"XDNA\", \"PAXEX\", \"Azart\", \"Apollon\", \"ThunderStake\", \"Kcash\", \"Xchange\", \"Acute Angle Cloud\", \"Traid\", \"CrypticCoin\", \"Bettex coin\", \"ZestCoin\", \"X-CASH\", \"Actinium\", \"ETHER-1\", \"Bitcoin SV\", \"BitMoney\", \"Bitcoiin2Gen\", \"Junson Ming Chan Coin\", \"FREDEnergy\", \"Zenad\", \"C25 Coin\", \"HerbCoin\", \"Aquachain\", \"Universal Molecule\", \"Lithium\", \"Smart Bitcoin\", \"PirateCash\", \"Exosis\", \"Block-Logic\", \"Oduwa\", \"Beam\", \"Galilel\", \"Bithereum\", \"Crypto Sports\", \"Credit\", \"SLICE\", \"Dash Platinum\", \"Nasdacoin\", \"Vidulum\", \"Beetle Coin\", \"Titan Coin\", \"Award\", \"BlockStamp\", \"BLAST\", \"Bitcoin Rhodium\", \"GlobalToken\", \"Insane Coin\", \"ALAX\", \"The Freedom Coin\", \"LiteDoge\", \"Boolberry\", \"SolarCoin\", \"TruckCoin\", \"UFO Coin\", \"Ascension Coin\", \"OrangeCoin\", \"BlakeCoin\", \"BitstarCoin\", \"NeosCoin\", \"HyperCoin\", \"PinkCoin\", \"FantomCoin \", \"Crypto Escudo\", \"AudioCoin\", \"IncaKoin\", \"Piggy Coin\", \"Crown Coin\", \"Genstake\", \"Quazar Coin\", \"SmileyCoin\", \"ParkByte\", \"XiaoMiCoin\", \"Groestlcoin\", \"CapriCoin\", \" ClubCoin\", \"Radium\", \"Bata\", \"Pakcoin\", \"Creditbit \", \"OKCash\", \"Lisk\", \"HiCoin\", \"WhiteCoin\", \"Dotcoin\", \"FriendshipCoin\", \"The Hempcoin\", \"Fiii\", \"JoinCoin\", \"Triangles Coin\", \"Vollar\", \"EOS\", \"Reality Clash\", \"Oxycoin\", \"iOlite\", \"TigerCash\", \"Waves\", \"Particl\", \"BitTorrent\", \"Nxt\", \"ZEPHYR\", \"Gapcoin\", \"Beldex\", \"Horizen\", \"BitcoinPlus\"], \"legendgroup\": \"\", \"marker\": {\"color\": [1.0, 1.0, 0.0, 0.0, 1.0, 0.0, 0.0, 0.0, 1.0, 0.0, 1.0, 1.0, 1.0, 0.0, 0.0, 0.0, 1.0, 1.0, 0.0, 0.0, 0.0, 0.0, 0.0, 1.0, 1.0, 0.0, 0.0, 1.0, 0.0, 1.0, 1.0, 1.0, 0.0, 1.0, 0.0, 0.0, 0.0, 0.0, 0.0, 1.0, 1.0, 0.0, 1.0, 0.0, 1.0, 1.0, 0.0, 1.0, 0.0, 1.0, 1.0, 0.0, 0.0, 0.0, 0.0, 1.0, 1.0, 0.0, 0.0, 1.0, 1.0, 0.0, 0.0, 0.0, 0.0, 1.0, 1.0, 1.0, 0.0, 0.0, 0.0, 0.0, 0.0, 1.0, 1.0, 0.0, 1.0, 1.0, 0.0, 0.0, 1.0, 0.0, 0.0, 0.0, 1.0, 1.0, 1.0, 1.0, 1.0, 0.0, 1.0, 0.0, 1.0, 1.0, 1.0, 0.0, 1.0, 0.0, 0.0, 1.0, 1.0, 0.0, 1.0, 0.0, 1.0, 1.0, 0.0, 0.0, 0.0, 0.0, 1.0, 1.0, 0.0, 1.0, 0.0, 0.0, 1.0, 1.0, 1.0, 1.0, 0.0, 0.0, 1.0, 0.0, 1.0, 0.0, 1.0, 1.0, 1.0, 0.0, 1.0, 0.0, 0.0, 1.0, 0.0, 1.0, 0.0, 1.0, 1.0, 0.0, 0.0, 0.0, 0.0, 1.0, 0.0, 0.0, 1.0, 0.0, 1.0, 1.0, 1.0, 0.0, 0.0, 1.0, 1.0, 1.0, 0.0, 1.0, 1.0, 1.0, 1.0, 0.0, 1.0, 1.0, 1.0, 0.0, 1.0, 1.0, 0.0, 1.0, 0.0, 0.0, 1.0, 1.0, 1.0, 0.0, 1.0, 0.0, 0.0, 1.0, 1.0, 0.0, 1.0, 0.0, 1.0, 1.0, 1.0, 1.0, 1.0, 1.0, 0.0, 1.0, 1.0, 1.0, 1.0, 1.0, 0.0, 0.0, 1.0, 0.0, 0.0, 1.0, 1.0, 0.0, 0.0, 1.0, 0.0, 0.0, 1.0, 0.0, 0.0, 0.0, 1.0, 0.0, 1.0, 1.0, 0.0, 1.0, 1.0, 0.0, 1.0, 1.0, 1.0, 1.0, 0.0, 1.0, 1.0, 1.0, 1.0, 1.0, 1.0, 0.0, 0.0, 0.0, 1.0, 0.0, 1.0, 1.0, 1.0, 0.0, 1.0, 1.0, 0.0, 1.0, 0.0, 1.0, 1.0, 1.0, 1.0, 1.0, 1.0, 1.0, 1.0, 1.0, 1.0, 0.0, 0.0, 0.0, 1.0, 1.0, 0.0, 0.0, 1.0, 0.0, 0.0, 1.0, 0.0, 0.0, 0.0, 1.0, 0.0, 0.0, 1.0, 0.0, 1.0, 0.0, 0.0, 1.0, 1.0, 1.0, 0.0, 1.0, 0.0, 1.0, 1.0, 1.0, 1.0, 1.0, 1.0, 1.0, 0.0, 1.0, 0.0, 1.0, 0.0, 1.0, 1.0, 0.0, 1.0, 0.0, 1.0, 0.0, 0.0, 1.0, 1.0, 0.0, 0.0, 1.0, 1.0, 1.0, 0.0, 0.0, 0.0, 1.0, 0.0, 0.0, 0.0, 0.0, 1.0, 0.0, 0.0, 0.0, 0.0, 1.0, 1.0, 1.0, 0.0, 0.0, 0.0, 1.0, 0.0, 1.0, 0.0, 1.0, 1.0, 0.0, 1.0, 0.0, 1.0, 1.0, 1.0, 0.0, 0.0, 1.0, null, null, null, null, null, null, null, null, null, null, null, null, null, null, null, null, null, null, null, null, null, null, null, null, null, null, null, null, null, null, null, null, null, null, null, null, null, null, null, null, null, null, null, null, null, null, null, null, null, null, null, null, null, null, null, null, null, null, null, null, null, null, null, null, null, null, null, null, null, null, null, null, null, null, null, null, null, null, null, null, null, null, null, null, null, null, null, null, null, null, null, null, null, null, null, null, null, null, null, null, null, null, null, null, null, null, null, null, null, null, null, null, null, null, null, null, null, null, null, null, null, null, null, null, null, null, null, null, null, null, null, null, null, null, null, null, null, null, null, null, null, null, null, null, null, null, null, null, null, null, null, null, null, null, null, null, null, null, null, null, null, null, null, null, null, null, null, null, null, null, null, null, null, null, null, null, null, null, null, null, null, null, null, null, null, null, null, null, null, null, null, null, null, null, null, null, null, null, null, null, null, null, null, null, null, null, null, null, null, null, null, null, null, null, null, null, null, null, null, null, null, null, null, null, null, null, null, null, null, null, null, null, null, null, null, null, null, null, null, null, null, null, null, null, null, null, null, null, null, null, null, null, null, null, null, null, null, null, null, null, null, null, null, null, null, null, null, null, null, null, null, null, null, null, null, null, null, null, null, null, null, null, null, null, null, null, null, null, null, null, null, null, null, null, null, null, null, null, null, null, null, null, null, null, null, null, null, null, null, null, null, null, null, null, null, null, null, null, null, null, null, null, null, null, null, null, null, null, null, null, null, null, null, null, null, null, null, null, null, null, null], \"coloraxis\": \"coloraxis\", \"symbol\": \"circle\"}, \"mode\": \"markers\", \"name\": \"\", \"scene\": \"scene\", \"showlegend\": false, \"type\": \"scatter3d\", \"x\": [-0.43635024026733943, -0.25620979967839197, 0.14422274674260824, 0.2330351552310838, -0.3979297968638483, 0.20527935756108798, 0.233034620469201, 0.25273416230249646, 0.06272403602400071, 0.2258977822082524, -0.2562099209784973, -0.3979289476219464, 0.005048827905881891, -0.03591655065740783, 0.0025042360313708534, 0.144224432374282, -0.20616147769790974, -0.4363519454299104, 0.22681157603301866, 0.14420842871824938, -0.03592813268837071, -0.035919152798657386, 0.002505284331672243, -0.4363502442694673, -0.4363502405229692, -0.035916687142239064, -0.03591645053589523, -0.17509048534820623, 0.002504814527958858, -0.3996169908930298, -0.2562097996783928, -0.38642430301450015, 0.2254725216267552, -0.3979289476351904, -0.03591600821313378, 0.14245918626767928, -0.03709500904506588, -0.035917974334689975, -0.03593658833113152, -0.13666919269965924, -0.4846442253681787, 0.14422443236879606, -0.22366045568724424, -0.03591611570391269, -0.4363586338595276, -0.1368270077831276, -0.044434379974515305, -0.3979306072864859, 0.14422244943279575, -0.39792894763285364, -0.46742123324025525, -0.03593024886828054, -0.03591782538541989, -0.03591611204055135, -0.03591600865072732, -0.39792894762030495, -0.3619887626348763, -0.0359195955094756, 0.30374393741050726, -0.25636154691473495, -0.1750920061443793, 0.14422443210940317, -0.0361385494984103, 0.14422304674149578, -0.03594747964110836, -0.4363711788301606, -0.43635719450233673, -0.4391065103543416, -0.03591600826762047, -0.035918286298415314, -0.03591841482318333, 0.20214491996088074, -0.035916008316874665, -0.39792894772550014, 0.08778829453052817, 0.1442203387654259, -0.20050332773040652, -0.39792908229318963, 0.14422443236867244, 0.0025051709344700622, -0.4363549639602714, -0.0359181849908638, 0.002505284446599085, 0.15663965288845594, -0.43635024027432434, -0.3979296011669242, 0.08778643915281836, -0.46742434461721105, -0.43636415988157523, 0.2322854401211954, -0.1501726217528266, -0.03592242048817802, -0.17509048489397175, -0.3864289936214107, -0.1750930407057002, -0.03592893861840109, -0.4674214233412775, -0.03591602532050437, -0.03593032567179396, -0.43635037827081447, -0.46742123318771683, -0.035990528580184165, -0.39792894767016107, 0.11468884758176223, -0.43635024026337893, -0.4363513314568969, 0.1442244323830384, -0.03591600866165522, -0.035916066449091975, -0.03591651998481476, -0.43635024026337893, -0.3979290899343389, 0.0025022547710405983, -0.43635024026337893, 0.25658492701304236, 0.14422304554678642, -0.6371815026042955, -0.023140958108285814, -0.4635886830720663, -0.3979289476148321, -0.035919071164770125, -0.03592311889820232, -0.17509988741801766, 0.23304429291099568, -0.4674233998773943, 0.23604177898345552, -0.2562138536630679, -0.20616147768068266, -0.5501041873259653, 0.14422245807067816, -0.30554564584995514, -0.03593575369782118, 0.19819097432800453, -0.39896297441959144, -0.035922574700531194, -0.2562102819693332, 0.14218030669092005, 0.13162900638509317, -0.43635024028636427, 0.14422443230094786, 0.20214489287098258, -0.035916123128789126, 0.2842371936368867, -0.25620980082766115, 0.17028377972456477, 0.35050025915934446, -0.3979299282151225, 0.14422443215318473, -0.17856708802230767, -0.25621021143356976, -0.015404502863238615, -0.03591662610332506, 0.002504000543412719, -0.39792894761537917, -0.39792894772975873, -0.39794159897478715, 0.14422443236978763, -0.25621136920153276, -0.48465207192245524, -0.48464422545232705, -0.43635024217882634, -0.03591606616419285, -0.08391408426439098, -0.43635066607414486, -0.4363596428804614, 0.002505154757063135, -0.13673096734662044, -0.39793041121467226, 0.14422384527956045, -0.4363504831369276, 0.22687629055625186, -0.035926995166397406, -0.3979290023418996, -0.015409583455001106, -0.3979538410773174, 0.20214492017978902, -0.20616171273668701, 0.06780191744079776, 0.23304281577039737, 0.04235899438412387, -0.4363502457360857, 0.0024278086549964785, -0.4363504708042112, 0.002499513636263873, -0.015404502863238615, -0.2562109672009223, -0.1965502488751724, -0.4363512700054493, -0.4363505520343218, -0.39792894898300896, 0.2565860430235819, -0.4674212355847626, -0.015402622887091799, -0.4363524962407385, -0.2562100372969813, -0.39792894816210295, 0.002505283895825963, 0.0024542497464518794, -0.43635026935861837, -0.03591600831140213, 0.20527994246913667, -0.1750907598881398, -0.18025899924058308, 0.10743878406659355, -0.03591630111906815, -0.20616284337576743, 0.002502422104208955, 0.25273420570575306, -0.4364442664342039, -0.03592539609617104, 0.25658447567491394, 0.002505283297330687, -0.17509387446982563, 0.2614157991460611, -0.39793018573296085, -0.48895704333823803, -0.03592205644833036, -0.17509048541387867, -0.39793097161182256, -0.08421094535773278, -0.39794038942188575, -0.4363507451703895, -0.43635034838612224, -0.4363502927464347, -0.035916008316874665, 0.005040091949908227, -0.39793056229906343, -0.17511824458893568, -0.43635224900391545, -0.5539261970184832, 0.005048982222343563, -0.03591729417920109, 0.2052744834354408, -0.03591771320309707, -0.3979289476580972, 0.002505037737592111, -0.43720092462042803, -0.4674232938788063, -0.09237672859778574, -0.03591601372938164, -0.17509223963243858, -1.2241452832703303, -0.0359160136746545, -0.43635207765315276, 0.2329340153799805, -0.008065029448771415, -0.3979296305787051, -0.2874572457949448, -0.4363503476021761, -0.4409065705116025, -0.48469693647729506, -0.43635044249347216, -0.35250319882225434, -0.3979289476350092, -0.0713725588790807, 0.002488808613767189, 0.11299356059286289, 0.23304407888199535, -0.02030615153314713, -0.4363606755455277, 0.2329344338754537, 0.23299625044101718, -0.22338571556300843, 0.002497730050758138, 0.14422443226811144, -0.43635103268236897, -0.03628875253438045, 0.09206001638830424, -0.035920284900252515, -0.1366696066402249, 0.0025044872034380872, -0.030020474855270204, -0.43635025120879267, 0.09387065104044941, -0.34249995587390847, -0.036856269910195257, 0.2842276385678933, -0.4304546443497902, -0.39792915157226694, 0.2171185862203339, 0.002505284326199525, -0.4363503197872546, 0.2527281473026694, -0.14769937663317875, 0.06360302557838206, -0.4363511693992908, -0.4363502408106497, -0.03002005056068625, -0.4364822881655034, -0.17509412418447412, 0.22905131045852015, -0.43730930720579125, 0.2328821918920461, -0.4363522715080811, 0.10915407621260698, -0.33263287051382245, -0.24379102115339285, -0.03591614151857395, -0.43635075380536886, 0.20527950038612033, -0.4363502408106497, -0.2707538388435266, 0.3455778885044868, -0.1366710041861641, -0.3979318410112134, 0.15664446377967803, 0.14402697742430637, -0.2929958886815004, -0.13666961622896276, 0.2564237409460707, 0.26237446681967075, 0.18293089182829306, 0.23275927101492294, 0.034171926478238086, 0.2708019929918883, 0.14422443226811277, 0.3603722644665058, -0.03591932635241415, -0.3979303997345854, 0.14422443180840416, -0.06698711110382365, 0.14421647608089166, -0.03592176934175073, -0.4363521751802104, 0.005049542705937055, -0.43635114579552586, 0.23293485693630625, -0.03598936962934773, -0.038697789166540736, -0.4363882565697532, 0.0140033476382123, -0.3979478811677956, -0.03592256097912878, -0.1760307695623056, -0.43637393564426613, -0.035916013072656676, 0.042263641137849944, 0.2330452743041773, 0.00495592961322585, 0.05457041489715155, -0.4363516454589391, 0.2328426881613036, 0.2527341704370443, -0.17509049687180175, null, null, null, null, null, null, null, null, null, null, null, null, null, null, null, null, null, null, null, null, null, null, null, null, null, null, null, null, null, null, null, null, null, null, null, null, null, null, null, null, null, null, null, null, null, null, null, null, null, null, null, null, null, null, null, null, null, null, null, null, null, null, null, null, null, null, null, null, null, null, null, null, null, null, null, null, null, null, null, null, null, null, null, null, null, null, null, null, null, null, null, null, null, null, null, null, null, null, null, null, null, null, null, null, null, null, null, null, null, null, null, null, null, null, null, null, null, null, null, null, null, null, null, null, null, null, null, null, null, null, null, null, null, null, null, null, null, null, null, null, null, null, null, null, null, null, null, null, null, null, null, null, null, null, null, null, null, null, null, null, null, null, null, null, null, null, null, null, null, null, null, null, null, null, null, null, null, null, null, null, null, null, null, null, null, null, null, null, null, null, null, null, null, null, null, null, null, null, null, null, null, null, null, null, null, null, null, null, null, null, null, null, null, null, null, null, null, null, null, null, null, null, null, null, null, null, null, null, null, null, null, null, null, null, null, null, null, null, null, null, null, null, null, null, null, null, null, null, null, null, null, null, null, null, null, null, null, null, null, null, null, null, null, null, null, null, null, null, null, null, null, null, null, null, null, null, null, null, null, null, null, null, null, null, null, null, null, null, null, null, null, null, null, null, null, null, null, null, null, null, null, null, null, null, null, null, null, null, null, null, null, null, null, null, null, null, null, null, null, null, null, null, null, null, null, null, null, null, null, null, null, null, null, null, null, null, null, null, null, null, null], \"y\": [1.151910377875843, 0.8381383674030761, -1.4239741328569469, -2.096455013898982, 1.46998231802173, -2.1746977758770054, -2.096465468240517, -1.9517477855781102, 0.7756957118400354, -1.7262794201266995, 0.8381359929926304, 1.469998957525653, 0.4151719932653382, -1.1101797201531074, -0.7921010556358035, -1.4239411030837987, 1.5740926009185037, 1.1518769650568133, -1.7083747371167335, -1.4242546949217205, -1.1104066574257434, -1.1102307091647483, -0.7920805127481672, 1.151910299508385, 1.1519103785115665, -1.1101823947457805, -1.1101777590810573, 0.7289661057023388, -0.792089719502433, 0.21636559180364898, 0.83813836740307, 1.1274018883559178, -1.7346134674327123, 1.4699989575541386, -1.1101690925284011, -1.4585308312699936, -1.1332714966801851, -1.1102076189078396, -1.1105723505007359, 1.047054685259448, 1.7966209412910372, -1.4239411030719997, 0.20337709613595273, -1.1101711978520217, 1.1517459091157558, 1.0439620874454885, -1.2770865650531116, 1.4699664367661338, -1.4239799590181759, 1.4699989575491121, 1.9970368745183242, -1.1104481248089224, -1.1102047001777546, -1.1101711272403951, -1.1101690915872289, 1.4699989575221217, 2.5399306461162428, -1.1102393853763068, -2.2245306596033685, 0.8351649765416815, 0.7289362938043964, -1.4239411025140987, -1.1145282851417937, -1.4239682539996794, -1.1107857750493635, 1.1515001102739841, 1.1517741125197705, 1.0978977838030537, -1.1101690924112122, -1.110213704976617, -1.1102162472420307, -2.1883592082573213, -1.1101690923052763, 1.469998955341794, 0.1337230927373794, -1.424021317115662, 1.4508557439284038, 1.469996319507959, -1.4239411030717335, -0.7920827374089079, 1.1518178230471925, -1.1102117467436348, -0.7920805129953508, -1.4649771839228116, 1.151910377976783, 1.4699861509861227, 0.1336867223659219, 1.9969759005858512, 1.1516377244666942, -2.3177842376877553, 1.3233664504061553, -1.1102947368902516, 0.728966104725374, 1.1273099694670434, 0.7289160183427938, -1.1104224605940807, 1.997033148106105, -1.1101694276994278, -1.1104496424174695, 1.1519076735232117, 1.9970368744053257, -1.1116292944828168, 1.4699989576293524, -1.1776838003302348, 1.151910377953242, 1.1518889970181663, -1.4239411031026317, -1.1101690915637252, -1.1101702339051016, -1.1101681721808978, 1.151910377953242, 1.4699961685798368, -0.7921398793874984, 1.151910377953242, -2.1602956099199666, -1.42396827351258, 2.150150470083729, 1.3439492044621548, 0.9179217387604061, 1.469998957510351, -1.1102290901563274, -1.1103084058739787, 0.7287818602676905, -2.0962759475064163, 1.9969944199067173, -2.2768170283552895, 0.8380590434676253, 1.5740926008814515, 2.0887676632691328, -1.423979789747963, 1.0562286955193452, -1.1105560054933836, -2.314600568715451, 1.4497390559443937, -1.1102977613897114, 0.8381289175525245, -1.4639957543201347, 0.09315412760405384, 1.1519103780026785, -1.423941102926072, -2.1883591499925936, -1.110168845368767, -2.2590691588809615, 0.8381383698749071, -1.9836979490409203, -2.2348578712010867, 1.4699797871108249, -1.4239411026082645, 0.6608494552706791, 0.8381303033008597, 1.3882801916313363, -1.1101811987301737, -0.7921056697247316, 1.4699989575115284, 1.4699989577575348, 1.4697510470569857, -1.4239411030741325, 0.8381076730975289, 1.796467188785328, 1.7966209414720227, 1.1519103820729701, -1.1101702283225008, 1.366266131649738, 1.1519020389297467, 1.1517261336956595, -0.79208305145025, 1.045844199310064, 1.4699702823734266, -1.4239526069781794, 1.1519056210385767, -1.7071066694988601, -1.1103843721965232, 1.4699990752168715, 1.3881806374447654, 1.469511317190436, -2.188359208728147, 1.5740879945012076, -0.5836391108094537, -2.0963048928356227, 0.5987865229529441, 1.1519103897238938, -0.7935986894915237, 1.1519058652130534, -0.7921935721780744, 1.3882801916313363, 0.8381154907045973, 0.9738037530995838, 1.151890276295049, 1.151904268802416, 1.469998960453014, -2.16027374692345, 1.9970368795608722, 1.3883170416599178, 1.1518662287347614, 0.8381337134659873, 1.4699989586874165, -0.7920805118107523, -0.7930687008863696, 1.1519098104056738, -1.1101690923170466, -2.1746862918470735, 0.7289607203898576, 0.3212423334424698, -1.5047413074355191, -1.110174832233553, 1.5740658396313303, -0.7921364851949417, -1.9517469355124266, 1.150067935377415, -1.1103530482970136, -2.160304459791317, -0.7920805105235138, 0.7288996837788081, -2.1775997729664347, 1.4699747069231524, 2.1652365434627034, -1.1102871395194511, 0.7289661058435865, 1.4699593066341372, -0.4654771801878925, 1.4697748003554794, 1.1519004861871383, 1.1519082625553376, 1.1519094684967206, -1.1101690923052763, 0.41500972582910894, 1.4699673204937764, 0.7284223544437789, 1.1518710266415926, 2.013881263628172, 0.41517503961671953, -1.1101942843320858, -2.1747932780294144, -1.1102025019095025, 1.4699989576034054, -0.7920853453205964, 1.135246094155863, 1.9969964933813553, 1.2890235956473366, -1.1101690806641014, 0.7289317184568317, 2.8831688459345433, -1.1101690807818079, 1.1518743777223606, -2.305075765785613, 1.2486184436875494, 1.469985577183949, 0.6958719805683623, 1.151908276386428, 1.062626306568585, 1.7955881432673095, 1.1519064174984264, 0.7649267860017216, 1.469998957553748, 1.2554960856679769, -0.7924033360966091, -1.5658827373257347, -2.0962801103628887, 0.8066492721492715, 1.1517059104109055, -2.305067573929613, -2.0972162122524325, 1.3736522608596529, -0.792228485466172, -1.4239411028554476, 1.1518948673544387, -1.1174728935205003, -1.2612694648446334, -1.1102528922410855, 1.0470465641689626, -0.7920961332448163, -1.1993599447641068, 1.1519104014945463, -0.2571243946900023, 0.2699827265925302, -1.128593518310731, -2.2592563941967745, 1.062720751383734, 1.4699949636821543, 1.2674376384060946, -0.7920805127363967, 1.1519088199394887, -1.9518656512660126, 0.3103452900963238, 1.3124119936339604, 1.1518921739318215, 1.1519103791303071, 0.5725379633415217, 1.1493233420986522, 0.7288947893019702, -2.381140385123302, 1.1331174636798056, -2.3060912040589447, 1.1518705831447156, -1.2666040917409214, 1.6784294518841247, 0.7971720067221103, -1.11017170242929, 1.1519004334644982, -2.1746947687633478, 1.1519103791303071, -0.7202142340104596, -2.481322606603741, 1.0470191815374248, 1.4699422637040829, -1.464882897601811, -1.4278102325118682, 0.757329557131175, 1.0470463856677423, -0.06995176122220817, -2.2601606330677435, -2.184090400608597, -2.3084991512917155, 1.4255310813220727, -1.7460102661784096, -1.4239411028554503, -2.2403381199320744, -1.1102341016205033, 1.4699705513758752, -1.423941101866713, -0.2650447524274084, -1.4240969968990262, -1.1102703139679955, 1.1518724672710527, 0.4151860016869877, 1.151892632906953, -2.305059282815607, -1.1116065833771926, -1.1646756537340666, 1.1511654480137807, -1.1348065411919495, 1.4696279553783522, -1.1102974808380064, 0.710541228063511, 1.1514460727373539, -1.1101690820765797, 0.5969179407651705, -2.0962565988641946, 0.4133516513992741, 1.6494870097643128, 1.1518828711250197, -2.3068652819313282, -1.9517476261712625, 0.7289658681004113, null, null, null, null, null, null, null, null, null, null, null, null, null, null, null, null, null, null, null, null, null, null, null, null, null, null, null, null, null, null, null, null, null, null, null, null, null, null, null, null, null, null, null, null, null, null, null, null, null, null, null, null, null, null, null, null, null, null, null, null, null, null, null, null, null, null, null, null, null, null, null, null, null, null, null, null, null, null, null, null, null, null, null, null, null, null, null, null, null, null, null, null, null, null, null, null, null, null, null, null, null, null, null, null, null, null, null, null, null, null, null, null, null, null, null, null, null, null, null, null, null, null, null, null, null, null, null, null, null, null, null, null, null, null, null, null, null, null, null, null, null, null, null, null, null, null, null, null, null, null, null, null, null, null, null, null, null, null, null, null, null, null, null, null, null, null, null, null, null, null, null, null, null, null, null, null, null, null, null, null, null, null, null, null, null, null, null, null, null, null, null, null, null, null, null, null, null, null, null, null, null, null, null, null, null, null, null, null, null, null, null, null, null, null, null, null, null, null, null, null, null, null, null, null, null, null, null, null, null, null, null, null, null, null, null, null, null, null, null, null, null, null, null, null, null, null, null, null, null, null, null, null, null, null, null, null, null, null, null, null, null, null, null, null, null, null, null, null, null, null, null, null, null, null, null, null, null, null, null, null, null, null, null, null, null, null, null, null, null, null, null, null, null, null, null, null, null, null, null, null, null, null, null, null, null, null, null, null, null, null, null, null, null, null, null, null, null, null, null, null, null, null, null, null, null, null, null, null, null, null, null, null, null, null, null, null, null, null, null, null, null], \"z\": [-0.21084811919401558, -0.1322549679924482, -0.22237578811465955, -0.29381293060193725, -0.14555923257690187, -0.323370410032171, -0.2937333749990594, -0.30229612373873904, 0.35455545714998604, -0.09896128871688263, -0.13223690144712721, -0.14568582831879093, -0.023285102891021918, -0.30113937624484, -0.2359016509115079, -0.22262708146176363, 0.016621080442008527, -0.21059391185414322, -0.2351824049869426, -0.22024124927983835, -0.29941280952376365, -0.300751447717614, -0.23605794180410658, -0.21084752292729908, -0.2108481198246631, -0.30111902785367245, -0.3011542968440001, -0.10204639882252911, -0.23598789677346205, 0.4262285907113379, -0.13225496799244252, -0.18549706098826146, -0.03555597015229093, -0.14568582832092933, -0.3012202332524613, 0.04053459785209721, -0.1254551672692987, -0.30092712157887824, -0.29815220661173236, -0.03688410735742337, -0.08719364411567716, -0.22262708146264953, -0.2712586505300109, -0.30120421506439965, -0.20959682468576046, -0.013355527860418555, 0.9687015545920674, -0.14543840744926395, -0.22233146248374097, -0.1456858283205521, -0.09218064061947817, -0.2990973229080991, -0.30094932746437025, -0.3012047531565916, -0.3012202333231186, -0.14568582831852586, -0.24045495223537197, -0.30068543935448744, -0.23076197791036288, -0.1096330956348341, -0.1018195963307087, -0.22262708150453286, -0.2680540191441395, -0.22242051465882295, -0.2965284621560035, -0.20772675221579798, -0.20981139908442, 0.20008151629341514, -0.3012202332612593, -0.3008807982576323, -0.30086147424388177, -0.32102915024323087, -0.3012202332692122, -0.14568581181909893, -0.05854854891850362, -0.22201680637821078, 0.006706482322125725, -0.1456657574198862, -0.22262708146266963, -0.23604101837226305, -0.21014395007239595, -0.3008957166877406, -0.23605794178554967, -0.26858108966146166, -0.2108481197845151, -0.14558839536216875, -0.05827185077385682, -0.09171675080212568, -0.20877367420305218, -0.050295883207429566, 0.038525609962807815, -0.30026431757478356, -0.1020463987491852, -0.18479773937315802, -0.10166534137036706, -0.29929258590048824, -0.09215229080097136, -0.3012176832082134, -0.2990857862385768, -0.2108275443879594, -0.09218064061099489, -0.2901108790998124, -0.14568582832657606, -0.24176128812532174, -0.21084811978274776, -0.2106854511349738, -0.2226270814603499, -0.30122023332488307, -0.30121154974637293, -0.3012190780258811, -0.21084811978274776, -0.145664610040327, -0.23560627734788914, -0.21084811978274776, -0.2748600330800732, -0.22242036329925766, -0.1864886182875861, 0.043603636799520236, -0.4799384611446519, -0.14568582831764215, -0.30076375081747425, -0.30016031063985965, -0.10064465334816732, -0.29517527225059537, -0.09185764198582891, 0.3769226084275422, -0.1316513801511597, 0.01662108044479018, -0.07788780581774744, -0.22233275029722122, 0.0004433148255134978, -0.29827656794006496, -0.39420948700660463, 0.008454539520262625, -0.3002413089536623, -0.13218307228009654, 0.0821119720715734, -0.05103268619217775, -0.210848119786459, -0.22262708147360472, -0.3210291546173607, -0.3012202518075703, -0.3147144093643025, -0.13225496817801163, -0.17386869953156645, -0.37376681729482664, -0.14553994522370808, -0.22262708149746366, 0.4161961418849359, -0.13219361248441822, 0.07233774196449141, -0.3011281272693707, -0.23586654632414883, -0.14568582831773041, -0.14568582833619903, -0.14379971058579993, -0.22262708146248938, -0.13202139813111413, -0.08602388194726594, -0.08719364412926418, -0.21084812009202974, -0.3012115922192583, 0.003645017761267474, -0.21078467228009862, -0.20944637439675245, -0.23603862691845318, -0.027674640083067255, -0.14546766247641263, -0.22253955872432676, -0.21081192715368033, -0.24482997708148932, -0.2995823607318902, -0.14568583715426847, 0.07309515835814824, -0.14197571133246523, -0.3210291502078843, 0.016656125821008273, 0.016381629477570228, -0.29495505438623487, 6.675709894460381, -0.21084812066641048, -0.22450755951864065, -0.21081378297930115, -0.2351977634979467, 0.07233774196449141, -0.13208091952634907, -0.04193972669232401, -0.21069512799734372, -0.21080164086343092, -0.14568582853855785, -0.27502637244087724, -0.09218064099803937, 0.07205739279892684, -0.21051218670715527, -0.1322195588202936, -0.14568582840600874, -0.2360579418744815, -0.22853090823138317, -0.21084379991694402, -0.30122023326832853, -0.32345776451525937, -0.10200543117378731, -0.25371488816237914, -0.3286350810946852, -0.3011765652655948, 0.016824681883675675, -0.2356320147374019, -0.3023025914217716, -0.19683066592279375, -0.2998206828815057, -0.27479270693202074, -0.23605794197111885, -0.10154106440470566, -0.2646572431393731, -0.1455013201663965, -0.10438809767394343, -0.3003217732771513, -0.10204639883313292, -0.14538415424871176, -0.17742385612781092, -0.14398038879719374, -0.21077286101212583, -0.21083202322831937, -0.21084111193903846, -0.3012202332692122, -0.022043917788353178, -0.14544512928291825, -0.09790935245852417, -0.21054872436778282, 0.49185842348342224, -0.023308263002278753, -0.30102856695841995, -0.3226438171288796, -0.3009660520274198, -0.14568582832462798, -0.23602117561644836, -0.08406125380983817, -0.0918734198084698, 0.04282036625663686, -0.3012202341431545, -0.10178478682358758, 6.712892182338339, -0.30122023413431787, -0.21057422453488744, -0.14698324440718413, 0.7423113777688133, -0.1455840279495383, -0.2145781287866863, -0.21083212959657993, 0.46843032014917985, -0.0793359756082346, -0.21081798664705173, -0.17469641397575986, -0.14568582832090016, 0.21555546403913003, -0.2336018617209352, -0.30742100254226806, -0.29514357777035244, 4.153033819302334, -0.20929250521152376, -0.14704557509687036, -0.28802082120419653, 0.02179376863940917, -0.23493211347476256, -0.22262708147890684, -0.2107301013242944, -0.24565222606832626, 0.33170643919969606, -0.3005826767214871, -0.03682232883216033, -0.23593910036198057, -0.23309414942464343, -0.21084812155007324, -0.09612587410062808, -0.2718393371333481, -0.16104569465111288, -0.3132899105665534, -0.14273136100789457, -0.14565544092146754, 0.0799856354485281, -0.2360579418049903, -0.21083626609561884, -0.3013993932693407, -0.21202750209470259, -0.006927609226293691, -0.21070962031441695, -0.21084811987111415, -0.06171961014304716, -0.19116540968670664, -0.10150382780717122, 0.43173524927158546, -0.06787009041121449, -0.139257675025466, -0.21054535209061978, -0.26084127076129865, 0.1068367192321978, -0.17873941215477365, -0.30120037525977433, -0.21077237310948058, -0.3233931330854481, -0.21084811987111415, -0.5982751339524371, 1.6793493505866013, -0.0366139978341428, -0.14525449549604538, -0.26929841509953706, -0.19319042835444605, -0.23819747109722517, -0.036820963784104585, 0.782917750013424, -0.3438346316309762, -0.31902270181527514, -0.12093730358205743, 0.5259116481140483, -0.24998439002242842, -0.22262708147890664, -0.32490759031640487, -0.3007256314305677, -0.14546967624899515, -0.2226270815531345, -0.1825363495479985, -0.22144102130883825, -0.300441438994387, -0.21055968922460136, -0.023391678681222064, -0.21071311487271777, -0.14710865364843007, -0.2902836659565824, 0.11347195403590786, -0.20518063223815577, -0.27488804079675255, -0.14286321315474987, -0.3002434347110364, 0.03813156961616136, -0.20731564345663775, -0.30122023403711484, 6.689926119617378, -0.29532239020370504, -0.009435793083903302, 0.2197251693025602, -0.21063882473991588, -0.13336842900541196, -0.3022973365114065, -0.10204459991718282, null, null, null, null, null, null, null, null, null, null, null, null, null, null, null, null, null, null, null, null, null, null, null, null, null, null, null, null, null, null, null, null, null, null, null, null, null, null, null, null, null, null, null, null, null, null, null, null, null, null, null, null, null, null, null, null, null, null, null, null, null, null, null, null, null, null, null, null, null, null, null, null, null, null, null, null, null, null, null, null, null, null, null, null, null, null, null, null, null, null, null, null, null, null, null, null, null, null, null, null, null, null, null, null, null, null, null, null, null, null, null, null, null, null, null, null, null, null, null, null, null, null, null, null, null, null, null, null, null, null, null, null, null, null, null, null, null, null, null, null, null, null, null, null, null, null, null, null, null, null, null, null, null, null, null, null, null, null, null, null, null, null, null, null, null, null, null, null, null, null, null, null, null, null, null, null, null, null, null, null, null, null, null, null, null, null, null, null, null, null, null, null, null, null, null, null, null, null, null, null, null, null, null, null, null, null, null, null, null, null, null, null, null, null, null, null, null, null, null, null, null, null, null, null, null, null, null, null, null, null, null, null, null, null, null, null, null, null, null, null, null, null, null, null, null, null, null, null, null, null, null, null, null, null, null, null, null, null, null, null, null, null, null, null, null, null, null, null, null, null, null, null, null, null, null, null, null, null, null, null, null, null, null, null, null, null, null, null, null, null, null, null, null, null, null, null, null, null, null, null, null, null, null, null, null, null, null, null, null, null, null, null, null, null, null, null, null, null, null, null, null, null, null, null, null, null, null, null, null, null, null, null, null, null, null, null, null, null, null, null, null]}],                        {\"coloraxis\": {\"colorbar\": {\"title\": {\"text\": \"Class\"}}, \"colorscale\": [[0.0, \"#0d0887\"], [0.1111111111111111, \"#46039f\"], [0.2222222222222222, \"#7201a8\"], [0.3333333333333333, \"#9c179e\"], [0.4444444444444444, \"#bd3786\"], [0.5555555555555556, \"#d8576b\"], [0.6666666666666666, \"#ed7953\"], [0.7777777777777778, \"#fb9f3a\"], [0.8888888888888888, \"#fdca26\"], [1.0, \"#f0f921\"]]}, \"legend\": {\"tracegroupgap\": 0, \"x\": 0, \"y\": 1}, \"margin\": {\"t\": 60}, \"scene\": {\"domain\": {\"x\": [0.0, 1.0], \"y\": [0.0, 1.0]}, \"xaxis\": {\"title\": {\"text\": \"PC 3\"}}, \"yaxis\": {\"title\": {\"text\": \"PC 2\"}}, \"zaxis\": {\"title\": {\"text\": \"PC 1\"}}}, \"template\": {\"data\": {\"bar\": [{\"error_x\": {\"color\": \"#2a3f5f\"}, \"error_y\": {\"color\": \"#2a3f5f\"}, \"marker\": {\"line\": {\"color\": \"#E5ECF6\", \"width\": 0.5}}, \"type\": \"bar\"}], \"barpolar\": [{\"marker\": {\"line\": {\"color\": \"#E5ECF6\", \"width\": 0.5}}, \"type\": \"barpolar\"}], \"carpet\": [{\"aaxis\": {\"endlinecolor\": \"#2a3f5f\", \"gridcolor\": \"white\", \"linecolor\": \"white\", \"minorgridcolor\": \"white\", \"startlinecolor\": \"#2a3f5f\"}, \"baxis\": {\"endlinecolor\": \"#2a3f5f\", \"gridcolor\": \"white\", \"linecolor\": \"white\", \"minorgridcolor\": \"white\", \"startlinecolor\": \"#2a3f5f\"}, \"type\": \"carpet\"}], \"choropleth\": [{\"colorbar\": {\"outlinewidth\": 0, \"ticks\": \"\"}, \"type\": \"choropleth\"}], \"contour\": [{\"colorbar\": {\"outlinewidth\": 0, \"ticks\": \"\"}, \"colorscale\": [[0.0, \"#0d0887\"], [0.1111111111111111, \"#46039f\"], [0.2222222222222222, \"#7201a8\"], [0.3333333333333333, \"#9c179e\"], [0.4444444444444444, \"#bd3786\"], [0.5555555555555556, \"#d8576b\"], [0.6666666666666666, \"#ed7953\"], [0.7777777777777778, \"#fb9f3a\"], [0.8888888888888888, \"#fdca26\"], [1.0, \"#f0f921\"]], \"type\": \"contour\"}], \"contourcarpet\": [{\"colorbar\": {\"outlinewidth\": 0, \"ticks\": \"\"}, \"type\": \"contourcarpet\"}], \"heatmap\": [{\"colorbar\": {\"outlinewidth\": 0, \"ticks\": \"\"}, \"colorscale\": [[0.0, \"#0d0887\"], [0.1111111111111111, \"#46039f\"], [0.2222222222222222, \"#7201a8\"], [0.3333333333333333, \"#9c179e\"], [0.4444444444444444, \"#bd3786\"], [0.5555555555555556, \"#d8576b\"], [0.6666666666666666, \"#ed7953\"], [0.7777777777777778, \"#fb9f3a\"], [0.8888888888888888, \"#fdca26\"], [1.0, \"#f0f921\"]], \"type\": \"heatmap\"}], \"heatmapgl\": [{\"colorbar\": {\"outlinewidth\": 0, \"ticks\": \"\"}, \"colorscale\": [[0.0, \"#0d0887\"], [0.1111111111111111, \"#46039f\"], [0.2222222222222222, \"#7201a8\"], [0.3333333333333333, \"#9c179e\"], [0.4444444444444444, \"#bd3786\"], [0.5555555555555556, \"#d8576b\"], [0.6666666666666666, \"#ed7953\"], [0.7777777777777778, \"#fb9f3a\"], [0.8888888888888888, \"#fdca26\"], [1.0, \"#f0f921\"]], \"type\": \"heatmapgl\"}], \"histogram\": [{\"marker\": {\"colorbar\": {\"outlinewidth\": 0, \"ticks\": \"\"}}, \"type\": \"histogram\"}], \"histogram2d\": [{\"colorbar\": {\"outlinewidth\": 0, \"ticks\": \"\"}, \"colorscale\": [[0.0, \"#0d0887\"], [0.1111111111111111, \"#46039f\"], [0.2222222222222222, \"#7201a8\"], [0.3333333333333333, \"#9c179e\"], [0.4444444444444444, \"#bd3786\"], [0.5555555555555556, \"#d8576b\"], [0.6666666666666666, \"#ed7953\"], [0.7777777777777778, \"#fb9f3a\"], [0.8888888888888888, \"#fdca26\"], [1.0, \"#f0f921\"]], \"type\": \"histogram2d\"}], \"histogram2dcontour\": [{\"colorbar\": {\"outlinewidth\": 0, \"ticks\": \"\"}, \"colorscale\": [[0.0, \"#0d0887\"], [0.1111111111111111, \"#46039f\"], [0.2222222222222222, \"#7201a8\"], [0.3333333333333333, \"#9c179e\"], [0.4444444444444444, \"#bd3786\"], [0.5555555555555556, \"#d8576b\"], [0.6666666666666666, \"#ed7953\"], [0.7777777777777778, \"#fb9f3a\"], [0.8888888888888888, \"#fdca26\"], [1.0, \"#f0f921\"]], \"type\": \"histogram2dcontour\"}], \"mesh3d\": [{\"colorbar\": {\"outlinewidth\": 0, \"ticks\": \"\"}, \"type\": \"mesh3d\"}], \"parcoords\": [{\"line\": {\"colorbar\": {\"outlinewidth\": 0, \"ticks\": \"\"}}, \"type\": \"parcoords\"}], \"pie\": [{\"automargin\": true, \"type\": \"pie\"}], \"scatter\": [{\"marker\": {\"colorbar\": {\"outlinewidth\": 0, \"ticks\": \"\"}}, \"type\": \"scatter\"}], \"scatter3d\": [{\"line\": {\"colorbar\": {\"outlinewidth\": 0, \"ticks\": \"\"}}, \"marker\": {\"colorbar\": {\"outlinewidth\": 0, \"ticks\": \"\"}}, \"type\": \"scatter3d\"}], \"scattercarpet\": [{\"marker\": {\"colorbar\": {\"outlinewidth\": 0, \"ticks\": \"\"}}, \"type\": \"scattercarpet\"}], \"scattergeo\": [{\"marker\": {\"colorbar\": {\"outlinewidth\": 0, \"ticks\": \"\"}}, \"type\": \"scattergeo\"}], \"scattergl\": [{\"marker\": {\"colorbar\": {\"outlinewidth\": 0, \"ticks\": \"\"}}, \"type\": \"scattergl\"}], \"scattermapbox\": [{\"marker\": {\"colorbar\": {\"outlinewidth\": 0, \"ticks\": \"\"}}, \"type\": \"scattermapbox\"}], \"scatterpolar\": [{\"marker\": {\"colorbar\": {\"outlinewidth\": 0, \"ticks\": \"\"}}, \"type\": \"scatterpolar\"}], \"scatterpolargl\": [{\"marker\": {\"colorbar\": {\"outlinewidth\": 0, \"ticks\": \"\"}}, \"type\": \"scatterpolargl\"}], \"scatterternary\": [{\"marker\": {\"colorbar\": {\"outlinewidth\": 0, \"ticks\": \"\"}}, \"type\": \"scatterternary\"}], \"surface\": [{\"colorbar\": {\"outlinewidth\": 0, \"ticks\": \"\"}, \"colorscale\": [[0.0, \"#0d0887\"], [0.1111111111111111, \"#46039f\"], [0.2222222222222222, \"#7201a8\"], [0.3333333333333333, \"#9c179e\"], [0.4444444444444444, \"#bd3786\"], [0.5555555555555556, \"#d8576b\"], [0.6666666666666666, \"#ed7953\"], [0.7777777777777778, \"#fb9f3a\"], [0.8888888888888888, \"#fdca26\"], [1.0, \"#f0f921\"]], \"type\": \"surface\"}], \"table\": [{\"cells\": {\"fill\": {\"color\": \"#EBF0F8\"}, \"line\": {\"color\": \"white\"}}, \"header\": {\"fill\": {\"color\": \"#C8D4E3\"}, \"line\": {\"color\": \"white\"}}, \"type\": \"table\"}]}, \"layout\": {\"annotationdefaults\": {\"arrowcolor\": \"#2a3f5f\", \"arrowhead\": 0, \"arrowwidth\": 1}, \"autotypenumbers\": \"strict\", \"coloraxis\": {\"colorbar\": {\"outlinewidth\": 0, \"ticks\": \"\"}}, \"colorscale\": {\"diverging\": [[0, \"#8e0152\"], [0.1, \"#c51b7d\"], [0.2, \"#de77ae\"], [0.3, \"#f1b6da\"], [0.4, \"#fde0ef\"], [0.5, \"#f7f7f7\"], [0.6, \"#e6f5d0\"], [0.7, \"#b8e186\"], [0.8, \"#7fbc41\"], [0.9, \"#4d9221\"], [1, \"#276419\"]], \"sequential\": [[0.0, \"#0d0887\"], [0.1111111111111111, \"#46039f\"], [0.2222222222222222, \"#7201a8\"], [0.3333333333333333, \"#9c179e\"], [0.4444444444444444, \"#bd3786\"], [0.5555555555555556, \"#d8576b\"], [0.6666666666666666, \"#ed7953\"], [0.7777777777777778, \"#fb9f3a\"], [0.8888888888888888, \"#fdca26\"], [1.0, \"#f0f921\"]], \"sequentialminus\": [[0.0, \"#0d0887\"], [0.1111111111111111, \"#46039f\"], [0.2222222222222222, \"#7201a8\"], [0.3333333333333333, \"#9c179e\"], [0.4444444444444444, \"#bd3786\"], [0.5555555555555556, \"#d8576b\"], [0.6666666666666666, \"#ed7953\"], [0.7777777777777778, \"#fb9f3a\"], [0.8888888888888888, \"#fdca26\"], [1.0, \"#f0f921\"]]}, \"colorway\": [\"#636efa\", \"#EF553B\", \"#00cc96\", \"#ab63fa\", \"#FFA15A\", \"#19d3f3\", \"#FF6692\", \"#B6E880\", \"#FF97FF\", \"#FECB52\"], \"font\": {\"color\": \"#2a3f5f\"}, \"geo\": {\"bgcolor\": \"white\", \"lakecolor\": \"white\", \"landcolor\": \"#E5ECF6\", \"showlakes\": true, \"showland\": true, \"subunitcolor\": \"white\"}, \"hoverlabel\": {\"align\": \"left\"}, \"hovermode\": \"closest\", \"mapbox\": {\"style\": \"light\"}, \"paper_bgcolor\": \"white\", \"plot_bgcolor\": \"#E5ECF6\", \"polar\": {\"angularaxis\": {\"gridcolor\": \"white\", \"linecolor\": \"white\", \"ticks\": \"\"}, \"bgcolor\": \"#E5ECF6\", \"radialaxis\": {\"gridcolor\": \"white\", \"linecolor\": \"white\", \"ticks\": \"\"}}, \"scene\": {\"xaxis\": {\"backgroundcolor\": \"#E5ECF6\", \"gridcolor\": \"white\", \"gridwidth\": 2, \"linecolor\": \"white\", \"showbackground\": true, \"ticks\": \"\", \"zerolinecolor\": \"white\"}, \"yaxis\": {\"backgroundcolor\": \"#E5ECF6\", \"gridcolor\": \"white\", \"gridwidth\": 2, \"linecolor\": \"white\", \"showbackground\": true, \"ticks\": \"\", \"zerolinecolor\": \"white\"}, \"zaxis\": {\"backgroundcolor\": \"#E5ECF6\", \"gridcolor\": \"white\", \"gridwidth\": 2, \"linecolor\": \"white\", \"showbackground\": true, \"ticks\": \"\", \"zerolinecolor\": \"white\"}}, \"shapedefaults\": {\"line\": {\"color\": \"#2a3f5f\"}}, \"ternary\": {\"aaxis\": {\"gridcolor\": \"white\", \"linecolor\": \"white\", \"ticks\": \"\"}, \"baxis\": {\"gridcolor\": \"white\", \"linecolor\": \"white\", \"ticks\": \"\"}, \"bgcolor\": \"#E5ECF6\", \"caxis\": {\"gridcolor\": \"white\", \"linecolor\": \"white\", \"ticks\": \"\"}}, \"title\": {\"x\": 0.05}, \"xaxis\": {\"automargin\": true, \"gridcolor\": \"white\", \"linecolor\": \"white\", \"ticks\": \"\", \"title\": {\"standoff\": 15}, \"zerolinecolor\": \"white\", \"zerolinewidth\": 2}, \"yaxis\": {\"automargin\": true, \"gridcolor\": \"white\", \"linecolor\": \"white\", \"ticks\": \"\", \"title\": {\"standoff\": 15}, \"zerolinecolor\": \"white\", \"zerolinewidth\": 2}}}, \"width\": 800},                        {\"responsive\": true}                    ).then(function(){\n",
       "                            \n",
       "var gd = document.getElementById('b391c951-79f2-4cf2-bf4d-6be82567dee7');\n",
       "var x = new MutationObserver(function (mutations, observer) {{\n",
       "        var display = window.getComputedStyle(gd).display;\n",
       "        if (!display || display === 'none') {{\n",
       "            console.log([gd, 'removed!']);\n",
       "            Plotly.purge(gd);\n",
       "            observer.disconnect();\n",
       "        }}\n",
       "}});\n",
       "\n",
       "// Listen for the removal of the full notebook cells\n",
       "var notebookContainer = gd.closest('#notebook-container');\n",
       "if (notebookContainer) {{\n",
       "    x.observe(notebookContainer, {childList: true});\n",
       "}}\n",
       "\n",
       "// Listen for the clearing of the current output cell\n",
       "var outputEl = gd.closest('.output');\n",
       "if (outputEl) {{\n",
       "    x.observe(outputEl, {childList: true});\n",
       "}}\n",
       "\n",
       "                        })                };                });            </script>        </div>"
      ]
     },
     "metadata": {},
     "output_type": "display_data"
    }
   ],
   "source": [
    "# Create a 3D-Scatter with the PCA data and the clusters\n",
    "fig = px.scatter_3d(\n",
    "    clustered_df,\n",
    "    x=\"PC 3\",\n",
    "    y=\"PC 2\",\n",
    "    z=\"PC 1\",\n",
    "    color=\"Class\",\n",
    "    #symbol=\"Class\",\n",
    "    hover_name=\"CoinName\",\n",
    "    hover_data=[\"Algorithm\"],\n",
    "    width=800,\n",
    ")\n",
    "fig.update_layout(legend=dict(x=0, y=1))\n",
    "fig.show() #Ask about this one"
   ]
  },
  {
   "cell_type": "markdown",
   "metadata": {},
   "source": [
    "#### Table of Tradable Cryptocurrencies"
   ]
  },
  {
   "cell_type": "code",
   "execution_count": 213,
   "metadata": {},
   "outputs": [
    {
     "data": {},
     "metadata": {},
     "output_type": "display_data"
    },
    {
     "data": {
      "application/vnd.holoviews_exec.v0+json": "",
      "text/html": [
       "<div id='2758'>\n",
       "\n",
       "\n",
       "\n",
       "\n",
       "\n",
       "  <div class=\"bk-root\" id=\"2911e08c-3220-4d62-ba63-6e9d874d5fb1\" data-root-id=\"2758\"></div>\n",
       "</div>\n",
       "<script type=\"application/javascript\">(function(root) {\n",
       "  function embed_document(root) {\n",
       "  var docs_json = {\"0f5554dc-7643-45a4-8981-a4c6086d951a\":{\"roots\":{\"references\":[{\"attributes\":{},\"id\":\"2788\",\"type\":\"NumberEditor\"},{\"attributes\":{\"columns\":[{\"id\":\"2764\"},{\"id\":\"2769\"},{\"id\":\"2774\"},{\"id\":\"2779\"},{\"id\":\"2784\"},{\"id\":\"2789\"}],\"height\":300,\"reorderable\":false,\"source\":{\"id\":\"2760\"},\"view\":{\"id\":\"2793\"},\"width\":700},\"id\":\"2792\",\"type\":\"DataTable\"},{\"attributes\":{\"source\":{\"id\":\"2760\"}},\"id\":\"2793\",\"type\":\"CDSView\"},{\"attributes\":{\"format\":\"0,0.0[00000]\"},\"id\":\"2787\",\"type\":\"NumberFormatter\"},{\"attributes\":{\"data\":{\"Algorithm\":[\"Scrypt\",\"Scrypt\",\"SHA-256\",\"X13\",\"SHA-256\",\"Ethash\",\"Scrypt\",\"X11\",\"CryptoNight-V7\",\"Ethash\",\"Equihash\",\"SHA-512\",\"Multiple\",\"SHA-256\",\"X11\",\"SHA-256\",\"Scrypt\",\"X15\",\"X11\",\"SHA-256\",\"X13\",\"X13\",\"Scrypt\",\"Scrypt\",\"Scrypt\",\"SHA-256\",\"Scrypt\",\"Multiple\",\"Scrypt\",\"SHA-256\",\"Scrypt\",\"Scrypt\",\"Scrypt\",\"Quark\",\"Groestl\",\"Scrypt\",\"X11\",\"Scrypt\",\"Scrypt\",\"Scrypt\",\"Scrypt\",\"Scrypt\",\"Scrypt\",\"Multiple\",\"Scrypt\",\"X11\",\"Scrypt\",\"SHA-256\",\"Groestl\",\"Multiple\",\"X11\",\"Scrypt\",\"SHA-256\",\"Scrypt\",\"Scrypt\",\"Scrypt\",\"Scrypt\",\"Scrypt\",\"PoS\",\"Scrypt\",\"X11\",\"NIST5\",\"SHA-256\",\"Scrypt\",\"Scrypt\",\"NeoScrypt\",\"Scrypt\",\"Scrypt\",\"Scrypt\",\"X11\",\"X15\",\"Scrypt\",\"Multiple\",\"X11\",\"Scrypt\",\"X11\",\"SHA-256\",\"X11\",\"X13\",\"Scrypt\",\"Scrypt\",\"Scrypt\",\"Scrypt\",\"X11\",\"SHA3\",\"Scrypt\",\"HybridScryptHash256\",\"Scrypt\",\"Scrypt\",\"SHA-256\",\"Scrypt\",\"X13\",\"SHA-256\",\"Scrypt\",\"SHA-256\",\"Scrypt\",\"X13\",\"NeoScrypt\",\"Scrypt\",\"Scrypt\",\"Scrypt\",\"Scrypt\",\"Scrypt\",\"Scrypt\",\"X15\",\"Scrypt\",\"Scrypt\",\"Scrypt-n\",\"Scrypt\",\"X11\",\"X11\",\"SHA-256\",\"Multiple\",\"SHA-256\",\"PHI1612\",\"X11\",\"SHA-256\",\"SHA-256\",\"SHA-256\",\"SHA-256\",\"X11\",\"Scrypt\",\"Scrypt\",\"X13\",\"Scrypt\",\"X11\",\"Scrypt\",\"Lyra2REv2\",\"Scrypt\",\"Scrypt\",\"X11\",\"Multiple\",\"SHA-256\",\"X13\",\"Scrypt\",\"Scrypt\",\"CryptoNight\",\"CryptoNight\",\"Shabal256\",\"Counterparty\",\"Scrypt\",\"SHA-256\",\"SHA-256\",\"Scrypt\",\"Groestl\",\"Scrypt\",\"Scrypt\",\"Scrypt\",\"X13\",\"Scrypt\",\"Scrypt\",\"Scrypt\",\"SHA-256\",\"Scrypt\",\"X13\",\"X13\",\"Scrypt\",\"X11\",\"Momentum\",\"Stanford Folding\",\"X11\",\"Multiple\",\"QuBit\",\"X15\",\"Scrypt\",\"Scrypt\",\"Scrypt\",\"Scrypt\",\"SHA-256\",\"M7 POW\",\"Scrypt\",\"X11\",\"Scrypt\",\"SHA-256\",\"Scrypt\",\"Scrypt\",\"X11\",\"X11\",\"SHA3\",\"X11\",\"Scrypt\",\"Lyra2RE\",\"SHA-256\",\"QUAIT\",\"X11\",\"vDPOS\",\"X11\",\"X11\",\"Scrypt\",\"Scrypt\",\"Scrypt\",\"Ethash\",\"X11\",\"X13\",\"Blake2b\",\"SHA-256\",\"X13\",\"X15\",\"X11\",\"SHA-256\",\"BLAKE256\",\"Scrypt\",\"Scrypt\",\"1GB AES Pattern Search\",\"SHA-256\",\"X11\",\"Scrypt\",\"CryptoNight\",\"SHA-256\",\"Quark\",\"SHA-256\",\"NIST5\",\"Blake\",\"Scrypt\",\"Scrypt\",\"SHA-256\",\"X11\",\"Scrypt\",\"Scrypt-n\",\"X11\",\"Scrypt\",\"Dagger\",\"Scrypt\",\"SHA-256\",\"CryptoNight-Lite\",\"X11GOST\",\"X11\",\"SHA-256\",\"Scrypt\",\"SHA-256\",\"Scrypt\",\"PoS\",\"Scrypt\",\"X11\",\"X11\",\"X11\",\"X11\",\"PoS\",\"SHA-256\",\"SHA-256\",\"SHA-256\",\"NIST5\",\"X15\",\"X11\",\"NIST5\",\"Scrypt\",\"Scrypt\",\"Scrypt\",\"POS 3.0\",\"Scrypt\",\"Scrypt\",\"Scrypt\",\"X13\",\"X11\",\"X11\",\"Equihash\",\"X11\",\"X11\",\"Scrypt\",\"CryptoNight\",\"SHA-256\",\"SHA-256\",\"X11\",\"Scrypt\",\"Multiple\",\"Scrypt\",\"Scrypt\",\"X11\",\"Scrypt\",\"SHA-256\",\"Scrypt\",\"Scrypt\",\"SHA-256D\",\"PoS\",\"Scrypt\",\"Scrypt\",\"X11\",\"Scrypt-n\",\"Lyra2Z\",\"SHA-256\",\"PoS\",\"X13\",\"Quark\",\"X14\",\"PoS\",\"SHA-256D\",\"Ethash\",\"SHA-256\",\"Equihash\",\"DPoS\",\"X11\",\"Scrypt\",\"Scrypt\",\"Equihash\",\"X11\",\"X13\",\"X11\",\"PoS\",\"SHA-256D\",\"Scrypt\",\"Scrypt\",\"Scrypt\",\"X11\",\"PoS\",\"X11\",\"SHA-256\",\"Scrypt\",\"X11\",\"Scrypt\",\"Scrypt\",\"X11\",\"CryptoNight\",\"Scrypt\",\"Scrypt\",\"Scrypt\",\"Scrypt\",\"Quark\",\"QuBit\",\"Scrypt\",\"CryptoNight\",\"X11\",\"Lyra2RE\",\"X13\",\"PoS\",\"Scrypt\",\"SHA-256\",\"X11\",\"X11\",\"X11\",\"Scrypt\",\"X11\",\"Scrypt\",\"Scrypt\",\"CryptoNight-V7\",\"Scrypt\",\"Scrypt\",\"Keccak\",\"Scrypt\",\"X13\",\"X11\",\"Equihash\",\"Scrypt\",\"Scrypt\",\"Lyra2RE\",\"Ethash\",\"X11\",\"Scrypt\",\"Dagger-Hashimoto\",\"X11\",\"Blake2S\",\"X11\",\"Scrypt\",\"Scrypt\",\"PoS\",\"X11\",\"NIST5\",\"PoS\",\"X11\",\"Scrypt\",\"Scrypt\",\"Scrypt\",\"Scrypt\",\"SHA-256\",\"X11\",\"Scrypt\",\"Scrypt\",\"Scrypt\",\"SHA-256\",\"PoS\",\"Scrypt\",\"X11\",\"X15\",\"SHA-256\",\"Scrypt\",\"POS 3.0\",\"CryptoNight-V7\",\"536\",\"Argon2d\",\"Blake2b\",\"Cloverhash\",\"CryptoNight\",\"NIST5\",\"X11\",\"NIST5\",\"Skein\",\"Scrypt\",\"X13\",\"Scrypt\",\"X11\",\"X11\",\"X11\",\"Scrypt\",\"CryptoNight\",\"X13\",\"Time Travel\",\"Scrypt\",\"Keccak\",\"SkunkHash v2 Raptor\",\"X11\",\"Skein\",\"SHA-256\",\"X11\",\"Scrypt\",\"Scrypt\",\"VeChainThor Authority\",\"Scrypt\",\"PoS\",\"Scrypt\",\"Scrypt\",\"Scrypt\",\"Scrypt\",\"Scrypt\",\"Scrypt\",\"Scrypt\",\"Scrypt\",\"CryptoNight\",\"SHA-512\",\"Ouroboros\",\"X11\",\"Equihash\",\"NeoScrypt\",\"X11\",\"Scrypt\",\"NeoScrypt\",\"Lyra2REv2\",\"Equihash\",\"Scrypt\",\"SHA-256\",\"NIST5\",\"PHI1612\",\"Dagger\",\"Scrypt\",\"Quark\",\"Scrypt\",\"POS 2.0\",\"Scrypt\",\"SkunkHash\",\"X11\",\"Quark\",\"SHA-256\",\"X11\",\"NeoScrypt\",\"Scrypt\",\"Ethash\",\"Scrypt\",\"NeoScrypt\",\"Quark\",\"X11\",\"DPoS\",\"NIST5\",\"X13\",\"Multiple\",\"Scrypt\",\"CryptoNight\",\"CryptoNight\",\"Ethash\",\"NIST5\",\"Quark\",\"X11\",\"SHA-256\",\"CryptoNight-V7\",\"Scrypt\",\"Scrypt\",\"Scrypt\",\"X11\",\"SHA-256\",\"BLAKE256\",\"X11\",\"Scrypt\",\"NeoScrypt\",\"Quark\",\"NeoScrypt\",\"Scrypt\",\"Scrypt\",\"Scrypt\",\"X11\",\"X11\",\"SHA-256\",\"C11\",\"Scrypt\",\"Scrypt\",\"POS 3.0\",\"Ethash\",\"Scrypt\",\"CryptoNight\",\"SkunkHash\",\"Scrypt\",\"CryptoNight\",\"Equihash\",\"Skein\",\"Scrypt\",\"Dagger\",\"Lyra2REv2\",\"X13\",\"Proof-of-BibleHash\",\"SHA-256 + Hive\",\"Scrypt\",\"Scrypt\",\"Scrypt\",\"NeoScrypt\",\"Equihash\",\"X11\",\"C11\",\"Proof-of-Authority\",\"X11\",\"XEVAN\",\"Scrypt\",\"VBFT\",\"Ethash\",\"X11\",\"CryptoNight\",\"NeoScrypt\",\"Scrypt\",\"IMesh\",\"NIST5\",\"Equihash\",\"Scrypt\",\"Scrypt\",\"Equihash\",\"Equihash\",\"Scrypt\",\"Lyra2Z\",\"Equihash\",\"Green Protocol\",\"PoS\",\"Scrypt\",\"Scrypt\",\"Semux BFT consensus\",\"Scrypt\",\"X11\",\"Quark\",\"PoS\",\"CryptoNight\",\"X16R\",\"Scrypt\",\"NIST5\",\"Lyra2RE\",\"XEVAN\",\"Tribus\",\"Scrypt\",\"Lyra2Z\",\"CryptoNight\",\"CryptoNight Heavy\",\"CryptoNight\",\"Scrypt\",\"Scrypt\",\"Jump Consistent Hash\",\"SHA-256D\",\"CryptoNight\",\"Scrypt\",\"X15\",\"Scrypt\",\"Quark\",\"SHA-256\",\"DPoS\",\"X16R\",\"HMQ1725\",\"X11\",\"X16R\",\"Quark\",\"Quark\",\"Scrypt\",\"Zhash\",\"Lyra2REv2\",\"Quark\",\"Scrypt\",\"Scrypt\",\"CryptoNight-V7\",\"Cryptonight-GPU\",\"Scrypt\",\"XEVAN\",\"CryptoNight Heavy\",\"X11\",\"X11\",\"Scrypt\",\"PoS\",\"Lyra2REv2\",\"Scrypt\",\"SHA-256\",\"Scrypt\",\"Keccak\",\"X11\",\"X11\",\"Quark\",\"Scrypt\",\"SHA-512\",\"X16R\",\"ECC 256K1\",\"NeoScrypt\",\"Equihash\",\"XEVAN\",\"Quark\",\"CryptoNight Heavy X\",\"Lyra2Z\",\"Ethash\",\"SHA-256\",\"XEVAN\",\"Ethash\",\"X11\",\"CryptoNight\",\"Quark\",\"SkunkHash\",\"Quark\",\"Argon2\",\"Blake\",\"Blake\",\"SHA-256\",\"Equihash\",\"Exosis\",\"Scrypt\",\"Scrypt\",\"Equihash\",\"Quark\",\"Equihash\",\"Quark\",\"Scrypt\",\"QuBit\",\"X11\",\"Scrypt\",\"Equihash1927\",\"XEVAN\",\"SHA-256D\",\"X11\",\"SHA-256\",\"SHA-256\",\"X13\",\"SHA-256\",\"X11\",\"DPoS\",\"X11\",\"Scrypt\",\"X11\",\"Scrypt\",\"X11\",\"NeoScrypt\",\"QuBit\",\"Scrypt\",\"Blake\",\"Scrypt\",\"SHA-256\",\"Scrypt\",\"X11\",\"CryptoNight\",\"Scrypt\",\"Scrypt\",\"SHA-256\",\"X11\",\"SHA-256\",\"Scrypt\",\"CryptoNight\",\"Scrypt\",\"SHA-256\",\"Scrypt\",\"Groestl\",\"X11\",\"Scrypt\",\"PoS\",\"Scrypt\",\"Scrypt\",\"X11\",\"SHA-256\",\"DPoS\",\"Scrypt\",\"Scrypt\",\"Scrypt\",\"NeoScrypt\",\"Scrypt\",\"SHA3-256\",\"Multiple\",\"X13\",\"Equihash+Scrypt\",\"DPoS\",\"Ethash\",\"DPoS\",\"Ethash\",\"SHA-256\",\"Leased POS\",\"PoS\",\"TRC10\",\"PoS\",\"SHA-256\",\"Scrypt\",\"CryptoNight\",\"Equihash\",\"Scrypt\"],\"Class\":{\"__ndarray__\":\"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\",\"dtype\":\"float64\",\"shape\":[685]},\"CoinName\":[\"42 Coin\",\"404Coin\",\"808\",\"EliteCoin\",\"Bitcoin\",\"Ethereum\",\"Litecoin\",\"Dash\",\"Monero\",\"Ethereum Classic\",\"ZCash\",\"Bitshares\",\"DigiByte\",\"BitcoinDark\",\"Bitstake\",\"PayCoin\",\"ProsperCoin\",\"KoboCoin\",\"Spreadcoin\",\"ACoin\",\"Aero Coin\",\"ApexCoin\",\"ArchCoin\",\"Argentum\",\"Aurora Coin\",\"BetaCoin\",\"BlueCoin\",\"MyriadCoin\",\"MoonCoin\",\"ZetaCoin\",\"SexCoin\",\"Quatloo\",\"EnergyCoin\",\"QuarkCoin\",\"Riecoin\",\"Digitalcoin \",\"LimeCoinX\",\"BitBar\",\"BitMark\",\"CashCoin\",\"Catcoin\",\"CryptoBullion\",\"CannaCoin\",\"CinderCoin\",\"CoolCoin\",\"CryptCoin\",\"CasinoCoin\",\"eMark\",\"Diamond\",\"Verge\",\"DarkCash\",\"DarkShibe\",\"DevCoin\",\"EarthCoin\",\"E-Gulden\",\"Elacoin\",\"Einsteinium\",\"Emerald\",\"Exclusive Coin\",\"Flappy Coin\",\"Fuel2Coin\",\"FIBRE\",\"FireRoosterCoin\",\"FlutterCoin\",\"Franko\",\"FeatherCoin\",\"GrandCoin\",\"GlobalCoin\",\"GoldCoin\",\"GlyphCoin\",\"Halcyon\",\"HoboNickels\",\"HunterCoin\",\"HyperStake\",\"Infinite Coin\",\"IOCoin\",\"IXcoin\",\"JumBucks Coin\",\"JudgeCoin\",\"KrugerCoin\",\"LuckyCoin\",\"Litebar \",\"LitecoinDark\",\"LibrexCoin\",\"MaxCoin\",\"MegaCoin\",\"MediterraneanCoin\",\"MintCoin\",\"MinCoin\",\"MazaCoin\",\"Nautilus Coin\",\"NavCoin\",\"NoirBits\",\"NobleCoin\",\"Namecoin\",\"NyanCoin\",\"OpalCoin\",\"Orbitcoin\",\"PotCoin\",\"PhoenixCoin\",\"Reddcoin\",\"RipOffCoin\",\"RonPaulCoin\",\"StableCoin\",\"ShieldCoin\",\"SilkCoin\",\"SmartCoin\",\"SpainCoin\",\"SecureCoin\",\"SuperCoin\",\"SyncCoin\",\"SysCoin\",\"TeslaCoin\",\"TigerCoin\",\"TittieCoin\",\"TorCoin\",\"TerraCoin\",\"Umbrella\",\"UnbreakableCoin\",\"Unobtanium\",\"UroCoin\",\"UnitaryStatus Dollar\",\"UltraCoin\",\"Utility Coin\",\"ViaCoin\",\"VootCoin\",\"VeriCoin\",\"Vertcoin\",\"WorldCoin\",\"SocialXbotCoin\",\"X11 Coin\",\"Crypti\",\"JouleCoin\",\"StealthCoin\",\"XXXCoin\",\"ZCC Coin\",\"ByteCoin\",\"DigitalNote \",\"BurstCoin\",\"StorjCoin\",\"MonaCoin\",\"Neutron\",\"Sling Coin\",\"KryptCoin\",\"FairCoin\",\"Gulden\",\"RubyCoin\",\"PesetaCoin\",\"Kore\",\"Wild Beast Coin\",\"Dnotes\",\"Flo\",\"MaieutiCoin\",\"8BIT Coin\",\"Sativa Coin\",\"AeroMe\",\"ArtByte\",\"MasterTraderCoin\",\"BitCredit\",\"Folding Coin\",\"Ucoin\",\"Unitus\",\"CypherPunkCoin\",\"MaryJane Coin\",\"OmniCron\",\"CyberCoin\",\"Vtorrent\",\"GreenCoin\",\"Unattanium\",\"Cryptonite\",\"Gridmaster\",\"ConSpiracy Coin \",\"MasterCoin\",\"SoonCoin\",\"1Credit\",\"ViorCoin\",\"IslaCoin\",\"Quicksilver coin\",\"Nexus\",\"MarsCoin \",\"Singular\",\"Crypto\",\"Anarchists Prime\",\"Droidz\",\"BowsCoin\",\"CryptoCircuits\",\"Squall Coin\",\"Milllionaire Coin\",\"Song Coin\",\"BitZeny\",\"Diggits\",\"Expanse\",\"MapCoin\",\"Paycon\",\"Siacoin\",\"Emercoin\",\"BlitzCoin\",\"EverGreenCoin\",\"MindCoin\",\"I0coin\",\"Decred\",\"DogeCoinDark\",\"Revolution VR\",\"HOdlcoin\",\"EDRCoin\",\"Hitcoin\",\"Gamecredits\",\"Dashcoin\",\"DubaiCoin\",\"BiosCrypto\",\"CarpeDiemCoin\",\"PWR Coin\",\"TrumpCoin\",\"BillaryCoin\",\"EthereumScrypt\",\"Phalanx\",\"SunShotCoin\",\"GPU Coin\",\"HempCoin\",\"Adzcoin\",\"VirtaCoin\",\"SoilCoin\",\"YoCoin\",\"Universal Currency\",\"AEON\",\"SibCoin\",\"EuropeCoin\",\"Anti Bitcoin\",\"ZeitCoin\",\"SwingCoin\",\"SafeExchangeCoin\",\"Nebuchadnezzar\",\"Francs\",\"BolivarCoin\",\"GIZMOcoin\",\"SecretCoin\",\"Ratecoin\",\"Digital Bullion Gold\",\"Revenu\",\"Clinton\",\"Clockcoin\",\"VIP Tokens\",\"OrlyCoin\",\"BitSend\",\"16BitCoin\",\"ChessCoin\",\"ReeCoin\",\"Omni\",\"Let it Ride\",\"PutinCoin\",\"iBankCoin\",\"Frankywillcoin\",\"MudraCoin\",\"PizzaCoin\",\"Lutetium Coin\",\"Komodo\",\"GoldBlocks\",\"WayCoin\",\"CarterCoin\",\"Karbo\",\"BitTokens\",\"ZayedCoin\",\"MustangCoin\",\"ZoneCoin\",\"Circuits of Value\",\"RootCoin\",\"DopeCoin\",\"PROUD Money\",\"BitCurrency\",\"DollarCoin\",\"Swiscoin\",\"Shilling\",\"BuzzCoin\",\"Opair\",\"PesoBit\",\"GBR Coin\",\"Halloween Coin\",\"FujiCoin\",\"ZCoin\",\"LeaCoin\",\"CoffeeCoin\",\"RoyalCoin\",\"Zurcoin\",\"GanjaCoin V2\",\"TeamUP\",\"LanaCoin\",\"Elementrem\",\"CashOut\",\"ZClassic\",\"ARK\",\"InsaneCoin\",\"LuckChain\",\"KiloCoin\",\"Hush\",\"ArtexCoin\",\"EmberCoin\",\"XenixCoin\",\"FreeCoin\",\"NPCcoin\",\"PLNCoin\",\"Icobid\",\"AquariusCoin\",\"Kurrent\",\"Creatio\",\"Eternity\",\"Eurocoin\",\"BitcoinFast\",\"Stakenet\",\"BitConnect Coin\",\"MoneyCoin\",\"Enigma\",\"Cannabis Industry Coin\",\"Russiacoin\",\"PandaCoin\",\"GameUnits\",\"GAKHcoin\",\"Allsafe\",\"LiteCreed\",\"OsmiumCoin\",\"Bikercoins\",\"NeptuneClassic\",\"HexxCoin\",\"GoldenBird\",\"Ride My Car\",\"Klingon Empire Darsek\",\"Internet of People\",\"KushCoin\",\"Eryllium\",\"MarxCoin\",\"Printerium\",\"PacCoin\",\"Impeach\",\"Solarflarecoin\",\"Citadel\",\"Zilbercoin\",\"FirstCoin\",\"CreativeChain\",\"BeaverCoin\",\"FindCoin\",\"VaultCoin\",\"Zero\",\"OpenChat\",\"Canada eCoin\",\"Zoin\",\"Musicoin\",\"BnrtxCoin\",\"RenosCoin\",\"DubaiCoin\",\"VirtacoinPlus\",\"TajCoin\",\"Impact\",\"EB3coin\",\"Universe\",\"Atmos\",\"HappyCoin\",\"Coinonat\",\"MacronCoin\",\"Condensate\",\"Independent Money System\",\"ArgusCoin\",\"LomoCoin\",\"Bitcoin Scrypt\",\"ProCurrency\",\"GoldReserve\",\"BenjiRolls\",\"ParallelCoin\",\"GrowthCoin\",\"ILCoin\",\"Phreak\",\"Degas Coin\",\"ZSEcoin\",\"HTML5 Coin\",\"Ultimate Secure Cash\",\"EquiTrader\",\"QTUM\",\"Quantum Resistant Ledger\",\"Espers\",\"Dynamic\",\"Nano\",\"ChanCoin\",\"Dinastycoin\",\"Denarius\",\"DigitalPrice\",\"Virta Unique Coin\",\"Bitcoin Planet\",\"Unify\",\"BritCoin\",\"SocialCoin\",\"Octanox\",\"ArcticCoin\",\"DAS\",\"Linda\",\"LeviarCoin\",\"DeepOnion\",\"Bitcore\",\"gCn Coin\",\"SmartCash\",\"Signatum\",\"Onix\",\"Cream\",\"Bitcoin Cash\",\"Monoeci\",\"CampusCoin\",\"Draftcoin\",\"Vechain\",\"Sojourn Coin\",\"Stakecoin\",\"NewYorkCoin\",\"LiteBitcoin\",\"FrazCoin\",\"Kronecoin\",\"AdCoin\",\"Linx\",\"CoinonatX\",\"Ethereum Dark\",\"Sumokoin\",\"Obsidian\",\"Cardano\",\"Regalcoin\",\"BitcoinZ\",\"TrezarCoin\",\"Elements\",\"TerraNovaCoin\",\"VIVO Coin\",\"Rupee\",\"Bitcoin Gold\",\"WomenCoin\",\"Theresa May Coin\",\"NamoCoin\",\"LUXCoin\",\"Pirl\",\"Xios\",\"Bitcloud 2.0\",\"eBoost\",\"KekCoin\",\"BlackholeCoin\",\"AltCommunity Coin\",\"Pure\",\"Rupaya\",\"Infinity Economics\",\"Pura\",\"Innova\",\"Bitdeal\",\"Ellaism\",\"Sakuracoin\",\"GoByte\",\"Castle\",\"Magnet\",\"Lamden Tau\",\"Electra\",\"Bitcoin Diamond\",\"SHIELD\",\"Cash & Back Coin\",\"UltraNote\",\"BitCoal\",\"DaxxCoin\",\"Bulwark\",\"Kalkulus\",\"AC3\",\"CHIPS\",\"Lethean\",\"GermanCoin\",\"LiteCoin Ultra\",\"PopularCoin\",\"PhantomX\",\"HTML Coin\",\"Photon\",\"Sucre\",\"Fantasy Cash\",\"SparksPay\",\"Digiwage\",\"GunCoin\",\"IrishCoin\",\"Trollcoin\",\"Litecoin Plus\",\"Monkey Project\",\"Pioneer Coin\",\"UnitedBitcoin\",\"Interzone\",\"OP Coin\",\"Valorbit\",\"TokenPay\",\"1717 Masonic Commemorative Token\",\"My Big Coin\",\"TurtleCoin\",\"MUNcoin\",\"Unified Society USDEX\",\"Niobio Cash\",\"Bitcoin Private\",\"Skeincoin\",\"ShareChain\",\"Travelflex\",\"KREDS\",\"Tokyo Coin\",\"BiblePay\",\"LitecoinCash\",\"BitFlip\",\"LottoCoin\",\"LeafCoin\",\"Cerberus\",\"Bitcoin Hush\",\"Crypto Improvement Fund\",\"Stipend\",\"Poa Network\",\"Pushi\",\"Ellerium\",\"Velox\",\"Ontology\",\"Callisto Network\",\"Curium\",\"BitTube\",\"Dinero\",\"Poseidon\",\"Aidos Kuneen\",\"Bitspace\",\"Snowgem\",\"Briacoin\",\"Ignition\",\"Bitrolium\",\"Bitcoin Interest\",\"MedicCoin\",\"Alpenschillling\",\"Zelcash\",\"Bitcoin Green\",\"Deviant Coin\",\"Abjcoin\",\"Profit Hunters Coin\",\"Semux\",\"BitBlocks\",\"FuturoCoin\",\"Carebit\",\"Zealium\",\"Monero Classic\",\"Proton\",\"iDealCash\",\"Jumpcoin\",\"Infinex\",\"Bitcoin Incognito\",\"KEYCO\",\"HollyWoodCoin\",\"GINcoin\",\"PlatinCoin\",\"Loki\",\"Newton Coin\",\"Swisscoin\",\"Xt3ch\",\"MassGrid\",\"TheVig\",\"PluraCoin\",\"EmaratCoin\",\"Dekado\",\"Lynx\",\"Poseidon Quark\",\"BitcoinWSpectrum\",\"Muse\",\"Motion\",\"PlusOneCoin\",\"Axe\",\"Trivechain\",\"Dystem\",\"Giant\",\"Peony Coin\",\"SafeCoin\",\"Absolute Coin\",\"Vitae\",\"HexCoin\",\"TPCash\",\"Webchain\",\"Ryo\",\"MUSDcoin\",\"Urals Coin\",\"Qwertycoin\",\"ARENON\",\"EUNO\",\"MMOCoin\",\"Ketan\",\"NIX\",\"Safe Trade Coin\",\"Project Pai\",\"Mont Blanc\",\"XDNA\",\"PAXEX\",\"Azart\",\"Apollon\",\"ThunderStake\",\"Kcash\",\"Xchange\",\"Acute Angle Cloud\",\"Traid\",\"CrypticCoin\",\"Bettex coin\",\"ZestCoin\",\"X-CASH\",\"Actinium\",\"ETHER-1\",\"Bitcoin SV\",\"BitMoney\",\"Bitcoiin2Gen\",\"Junson Ming Chan Coin\",\"FREDEnergy\",\"Zenad\",\"C25 Coin\",\"HerbCoin\",\"Aquachain\",\"Universal Molecule\",\"Lithium\",\"Smart Bitcoin\",\"PirateCash\",\"Exosis\",\"Block-Logic\",\"Oduwa\",\"Beam\",\"Galilel\",\"Bithereum\",\"Crypto Sports\",\"Credit\",\"SLICE\",\"Dash Platinum\",\"Nasdacoin\",\"Vidulum\",\"Beetle Coin\",\"Titan Coin\",\"Award\",\"BlockStamp\",\"BLAST\",\"Bitcoin Rhodium\",\"GlobalToken\",\"Insane Coin\",\"ALAX\",\"The Freedom Coin\",\"LiteDoge\",\"Boolberry\",\"SolarCoin\",\"TruckCoin\",\"UFO Coin\",\"Ascension Coin\",\"OrangeCoin\",\"BlakeCoin\",\"BitstarCoin\",\"NeosCoin\",\"HyperCoin\",\"PinkCoin\",\"FantomCoin \",\"Crypto Escudo\",\"AudioCoin\",\"IncaKoin\",\"Piggy Coin\",\"Crown Coin\",\"Genstake\",\"Quazar Coin\",\"SmileyCoin\",\"ParkByte\",\"XiaoMiCoin\",\"Groestlcoin\",\"CapriCoin\",\" ClubCoin\",\"Radium\",\"Bata\",\"Pakcoin\",\"Creditbit \",\"OKCash\",\"Lisk\",\"HiCoin\",\"WhiteCoin\",\"Dotcoin\",\"FriendshipCoin\",\"The Hempcoin\",\"Fiii\",\"JoinCoin\",\"Triangles Coin\",\"Vollar\",\"EOS\",\"Reality Clash\",\"Oxycoin\",\"iOlite\",\"TigerCash\",\"Waves\",\"Particl\",\"BitTorrent\",\"Nxt\",\"ZEPHYR\",\"Gapcoin\",\"Beldex\",\"Horizen\",\"BitcoinPlus\"],\"ProofType\":[\"PoW/PoS\",\"PoW/PoS\",\"PoW/PoS\",\"PoW/PoS\",\"PoW\",\"PoW\",\"PoW\",\"PoW/PoS\",\"PoW\",\"PoW\",\"PoW\",\"PoS\",\"PoW\",\"PoW/PoS\",\"PoW/PoS\",\"PoS\",\"PoW\",\"PoW/PoS\",\"PoW\",\"PoW\",\"PoS\",\"PoW/PoS\",\"PoS\",\"PoW\",\"PoW/PoS\",\"PoW\",\"PoW/PoS\",\"PoW\",\"PoW\",\"PoW\",\"PoW\",\"PoW\",\"PoW/PoS\",\"PoW\",\"PoW\",\"PoW\",\"PoW\",\"PoW/PoS\",\"PoW\",\"PoW/PoS\",\"PoW\",\"PoW/PoS\",\"PoW\",\"PoW/PoS\",\"PoS\",\"PoW\",\"PoC\",\"PoW/PoS\",\"PoW/PoS\",\"PoW\",\"PoW/PoS\",\"PoW\",\"PoW\",\"PoW\",\"PoW\",\"PoW\",\"PoW\",\"PoW\",\"PoS\",\"PoW\",\"PoS\",\"PoW/PoS\",\"PoW\",\"PoS/PoW/PoT\",\"PoW\",\"PoW\",\"PoW\",\"PoW\",\"PoW\",\"PoW/PoS\",\"PoW/PoS\",\"PoW/PoS\",\"PoW\",\"PoS\",\"PoW\",\"PoW/PoS\",\"PoW\",\"PoW/PoS\",\"PoW/PoS\",\"PoW\",\"PoW\",\"PoW\",\"PoW\",\"PoW/PoS\",\"PoW/PoS\",\"PoW\",\"PoW\",\"PoS\",\"PoW\",\"PoW/PoS\",\"PoS\",\"PoW/PoS\",\"PoW\",\"PoW\",\"PoW\",\"PoW\",\"PoW/PoS\",\"PoW/PoS\",\"PoW/PoS\",\"PoW/PoS\",\"PoW/PoS\",\"PoW\",\"PoW\",\"PoW\",\"PoW/PoS\",\"PoW/PoS\",\"PoW\",\"PoW\",\"PoW\",\"PoS\",\"PoW/PoS\",\"PoW\",\"PoS\",\"PoW\",\"PoS\",\"PoW/PoS\",\"PoW\",\"PoW\",\"PoW\",\"PoW\",\"PoW\",\"PoW/PoS\",\"PoW/PoS\",\"PoW/PoS\",\"PoW\",\"PoW\",\"PoST\",\"PoW\",\"PoW\",\"PoW/PoS\",\"PoW/PoS\",\"PoS\",\"PoW\",\"PoW/PoS\",\"PoW/PoS\",\"PoW/PoS\",\"PoW\",\"PoW\",\"PoC\",\"PoS\",\"PoW\",\"PoW/PoS\",\"PoW\",\"PoS\",\"PoW/PoS\",\"PoW\",\"PoS\",\"PoW\",\"PoW/PoS\",\"PoW\",\"PoS\",\"PoW\",\"PoS\",\"PoW/PoS\",\"PoW/PoS\",\"PoW/PoS\",\"PoW\",\"PoW/PoS\",\"PoW\",\"PoW\",\"PoS\",\"PoW\",\"PoW\",\"PoW/PoS\",\"PoW\",\"PoW/PoS\",\"PoW/PoS\",\"PoW\",\"PoW\",\"PoW\",\"PoW\",\"PoW\",\"PoW\",\"PoW\",\"PoW\",\"PoW/PoS\",\"PoW/PoS\",\"PoW\",\"PoW/nPoS\",\"PoW\",\"PoW/PoS\",\"PoW\",\"PoW\",\"PoW/PoS\",\"PoW\",\"PoS\",\"PoS/PoW\",\"PoW/PoS\",\"PoW\",\"PoW\",\"PoS\",\"PoW\",\"PoS\",\"PoW/PoS\",\"PoW\",\"PoW/PoS\",\"PoS\",\"PoW/PoS\",\"PoW\",\"PoW\",\"PoW/PoS\",\"PoW\",\"PoW\",\"PoW\",\"PoW/PoS\",\"PoW/PoS\",\"PoW\",\"PoW\",\"PoW/PoS\",\"PoW/PoS\",\"PoW\",\"PoW/PoS\",\"PoS\",\"PoW/PoS\",\"PoW/PoS\",\"PoW\",\"PoW\",\"PoS\",\"PoW\",\"PoW\",\"PoW\",\"PoW\",\"PoW\",\"PoW/PoS\",\"PoW\",\"PoW\",\"PoW/PoS\",\"PoW\",\"PoS\",\"PoW/PoS\",\"PoC\",\"PoS\",\"PoW\",\"PoW\",\"PoW/PoS\",\"PoW/PoS\",\"PoW/PoS\",\"PoS\",\"PoW/PoS\",\"PoW\",\"PoW/PoS\",\"PoW/PoS\",\"PoW/PoS\",\"PoW/PoS\",\"PoW/PoS\",\"PoW/PoS\",\"PoW/PoS\",\"PoW\",\"PoS\",\"PoW/PoS\",\"PoW/PoS\",\"PoW/PoS\",\"PoS\",\"PoW\",\"PoS\",\"dPoW/PoW\",\"PoW/PoS\",\"PoS\",\"PoW/PoS\",\"PoW\",\"PoW/PoS\",\"PoW\",\"PoW/PoS\",\"PoW/PoS\",\"PoW\",\"PoW/PoS\",\"PoW\",\"PoW/PoS\",\"PoS\",\"PoW\",\"PoW/PoW\",\"PoW\",\"PoW/PoS\",\"PoS\",\"PoW/PoS\",\"PoW\",\"PoW/PoS\",\"PoW\",\"PoW\",\"PoW\",\"PoS\",\"PoS\",\"PoW\",\"PoW/PoS\",\"PoS\",\"PoW/PoS\",\"PoW\",\"PoW\",\"PoW\",\"DPoS\",\"PoW/PoS\",\"PoW/PoS\",\"PoW\",\"PoW\",\"PoW\",\"PoW/PoS\",\"PoW/PoS\",\"PoS\",\"PoW/PoS\",\"PoW/PoS\",\"PoW/PoS\",\"PoW/PoS\",\"PoW\",\"PoS\",\"PoW/PoS\",\"PoW/PoS\",\"PoW/PoS\",\"TPoS\",\"PoW/PoS\",\"PoW/PoS\",\"PoW/PoS\",\"PoW\",\"PoW/PoS\",\"PoS\",\"PoW/PoS\",\"PoW/PoS\",\"PoS\",\"PoW/PoS\",\"PoW\",\"PoW\",\"PoW/PoS\",\"PoW\",\"PoW/PoS\",\"PoS\",\"PoW/PoS\",\"PoW/PoS\",\"PoW/PoS\",\"PoW/PoS\",\"PoW\",\"PoW/PoS\",\"PoW\",\"PoW/PoS\",\"PoW\",\"PoW\",\"PoS\",\"PoW/PoS \",\"PoW\",\"PoW\",\"PoS\",\"PoW\",\"PoW\",\"PoW/PoS\",\"PoW\",\"PoW\",\"PoW\",\"PoW\",\"PoS\",\"PoW\",\"PoW/PoS\",\"PoW/PoS\",\"PoW/PoS\",\"PoW\",\"PoS\",\"PoS\",\"PoW/PoS\",\"PoW\",\"PoS\",\"PoW/PoS\",\"PoW/PoS\",\"PoW/PoS\",\"PoW/PoS\",\"PoW\",\"PoS\",\"PoW/PoS\",\"PoW\",\"PoW\",\"PoS\",\"PoW\",\"PoS\",\"PoW/PoS\",\"PoW/PoS\",\"PoW/PoS\",\"PoS\",\"PoW\",\"PoS\",\"PoW\",\"PoW/PoS\",\"PoW\",\"PoW\",\"PoW\",\"PoW\",\"PoW/PoS\",\"PoW\",\"PoW/PoS\",\"PoW/PoS\",\"PoW\",\"PoW/PoS\",\"PoW\",\"PoW/PoS\",\"PoW\",\"PoW\",\"PoW/PoS\",\"PoW\",\"PoW/PoS\",\"PoW\",\"PoW\",\"PoW\",\"PoS\",\"PoW\",\"PoW/PoS\",\"PoW\",\"PoW/PoS\",\"PoW\",\"PoS\",\"Proof of Authority\",\"PoW\",\"PoS\",\"PoW\",\"PoW\",\"PoW\",\"PoW\",\"PoW\",\"PoW\",\"PoW/PoS\",\"PoW/PoS\",\"PoW\",\"PoS\",\"PoS\",\"PoW/PoS\",\"PoW\",\"PoW/PoS\",\"PoW\",\"PoW/PoS\",\"PoW\",\"PoS\",\"PoW\",\"PoW/PoS\",\"PoW/PoS\",\"PoW/PoS\",\"PoW/PoS\",\"PoW\",\"PoW/PoS\",\"PoW/PoS\",\"PoW\",\"PoS\",\"PoW/PoS\",\"PoW/PoS\",\"PoW/PoS\",\"PoS\",\"PoS\",\"PoW\",\"PoW\",\"PoW\",\"PoW\",\"PoW\",\"PoW\",\"DPoS\",\"PoW/PoS\",\"DPoS\",\"PoW/PoS\",\"PoW/PoS\",\"PoW\",\"PoW/PoS\",\"PoW\",\"PoW\",\"PoW\",\"PoS\",\"PoS\",\"PoW\",\"PoW\",\"PoW\",\"PoW/PoS\",\"PoW/PoS\",\"PoW\",\"PoW/PoS\",\"PoW/PoS\",\"PoW\",\"PoW\",\"PoW/PoS\",\"PoW\",\"PoS\",\"PoW\",\"PoW\",\"PoW/PoS\",\"PoW/PoS\",\"PoS\",\"PoW\",\"PoW\",\"PoW\",\"PoW/PoS\",\"PoW/PoS\",\"PoS\",\"PoS\",\"PoW and PoS\",\"PoW\",\"PoW\",\"PoW/PoS\",\"PoW\",\"PoW\",\"PoW\",\"PoW\",\"PoW\",\"PoW\",\"PoS\",\"POBh\",\"PoW + Hive\",\"PoW\",\"PoW\",\"PoW\",\"PoW\",\"PoW\",\"PoW\",\"PoW/PoS\",\"PoA\",\"PoW/PoS\",\"PoW/PoS\",\"PoS\",\"PoS\",\"PoW\",\"PoW\",\"PoW\",\"PoW\",\"PoW\",\"PoW\",\"PoW/PoS\",\"PoW\",\"PoW/PoS\",\"PoW/PoS\",\"PoW\",\"PoW\",\"PoS\",\"PoW\",\"PoW/PoS\",\"PoS\",\"PoS\",\"PoW/PoS\",\"PoW/PoS\",\"DPoS\",\"PoW/PoS\",\"PoW\",\"PoW/PoS\",\"PoS\",\"PoW\",\"PoS\",\"PoW/PoS\",\"PoW\",\"PoW\",\"PoS/PoW\",\"PoW\",\"PoS\",\"PoW\",\"PoW\",\"PoW\",\"PoW\",\"PoW/PoS\",\"PoS\",\"PoW\",\"PoW/PoS\",\"PoW\",\"PoW/PoS\",\"PoS\",\"HPoW\",\"PoS\",\"PoS\",\"PoS\",\"PoW\",\"PoW\",\"PoW\",\"PoW/PoS\",\"PoS\",\"PoW/PoS\",\"PoS\",\"PoW/PoS\",\"PoW/PoS\",\"PoS\",\"PoW\",\"PoW/PoS\",\"PoW\",\"PoW\",\"PoW/PoS\",\"PoW\",\"PoW\",\"PoS\",\"PoW/PoS\",\"PoS\",\"PoS\",\"PoW\",\"PoS\",\"PoW\",\"PoS\",\"PoW/PoS\",\"PoS\",\"PoW\",\"PoW/PoS\",\"PoW/PoS\",\"Zero-Knowledge Proof\",\"PoW\",\"DPOS\",\"PoW/PoS\",\"PoW\",\"PoS\",\"PoW\",\"PoW\",\"PoW\",\"PoW\",\"PoW\",\"Pos\",\"PoW\",\"PoS\",\"PoW\",\"POS / MN\",\"PoW\",\"PoW/PoS\",\"PoW\",\"PoW\",\"PoW\",\"PoW\",\"PoS\",\"PoW\",\"PoW\",\"PoW/PoS\",\"PoW\",\"PoW/PoS\",\"PoW\",\"PoS\",\"PoW/PoS\",\"PoW\",\"PoS\",\"PoW/PoS\",\"PoW\",\"PoW/PoS\",\"PoW/PoS\",\"PoW/PoS\",\"PoW\",\"PoW\",\"PoW\",\"PoW\",\"PoW/PoS\",\"DPoS\",\"PoS\",\"PoW/PoS\",\"PoW\",\"PoW\",\"PoW/PoS\",\"PoW\",\"PoW/PoS\",\"PoW/PoS\",\"PoW\",\"PoW/PoS\",\"PoS\",\"PoW/PoS\",\"PoW/PoS\",\"PoW\",\"PoW\",\"PoW/PoS\",\"PoW/PoS\",\"PoW/PoS\",\"PoW\",\"PoW/PoS\",\"PoW\",\"PoW\",\"PoW/PoS\",\"PoW/PoS\",\"PoW\",\"PoW/PoS\",\"PoW/PoS\",\"PoS\",\"PoW\",\"PoW\",\"Proof of Trust\",\"PoW/PoS\",\"DPoS\",\"PoS\",\"PoW/PoS\",\"PoW\",\"PoW/PoS\",\"PoW/PoS\",\"DPoC\",\"PoW\",\"PoW/PoS\",\"PoW\",\"DPoS\",\"PoW\",\"DPoS\",\"PoW\",\"PoS\",\"LPoS\",\"PoS\",\"DPoS\",\"PoS/LPoS\",\"DPoS\",\"PoW/PoS\",\"PoW\",\"PoW\",\"PoS\"],\"TotalCoinSupply\":[\"42\",\"532000000\",\"0\",\"314159265359\",\"21000000\",\"0\",\"84000000\",\"22000000\",\"0\",\"210000000\",\"21000000\",\"3600570502\",\"21000000000\",\"22000000\",\"1300000\",\"12500000\",\"21000000\",\"350000000\",\"20000000\",\"1600000\",\"7000000\",\"6000000\",\"16403135\",\"64000000\",\"16768584\",\"32000000\",\"0\",\"2000000000\",\"384000000000\",\"169795588\",\"250000000\",\"100000000\",\"0\",\"247000000\",\"84000000\",\"48166000\",\"21000000 \",\"500000\",\"27580000\",\"47433600\",\"21000000 \",\"1000000\",\"13140000\",\"114000000\",\"100000000\",\"18000000\",\"40000000000\",\"0\",\"4380000\",\"16555000000\",\"3720000\",\"2043962\",\"21000000000\",\"13500000000\",\"21000000 \",\"75000000\",\"299792458\",\"32000000\",\"0\",\"100000000000\",\"100000000\",\"624000\",\"2602410\",\"0\",\"11235813\",\"336000000\",\"1420609614\",\"70000000\",\"72245700\",\"7000000\",\"0\",\"120000000\",\"42000000\",\"0\",\"90600000000\",\"22000000\",\"21000000\",\"3293010\",\"21600000\",\"265420800\",\"20000000\",\"1350000\",\"82003200\",\"1000000\",\"100000000\",\"42000000\",\"200000000\",\"0\",\"10000000\",\"2419200000\",\"16180000\",\"0\",\"50000000\",\"15000000000\",\"21000000\",\"337000000\",\"0\",\"3770000\",\"420000000\",\"98000000\",\"0\",\"12000000\",\"21000000\",\"250000000\",\"1000000\",\"1000000\",\"51200000\",\"50000000\",\"21000000\",\"0\",\"1000\",\"888000000\",\"100000000\",\"47011968\",\"2300000000\",\"10000000\",\"42000000\",\"2625000\",\"80000000\",\"250000\",\"0\",\"1600000000\",\"100000000\",\"0\",\"23000000\",\"0\",\"0\",\"84000000\",\"265420800\",\"2000000\",\"5500000\",\"0\",\"45000000\",\"0\",\"50000000\",\"1000000000\",\"184467440735\",\"10000000000\",\"2158812800\",\"500000000\",\"105120000\",\"68000000\",\"1000000\",\"17000000\",\"0\",\"1680000000\",\"0\",\"166386000\",\"12000000\",\"2628000\",\"500000000\",\"160000000\",\"2014\",\"0\",\"10000000\",\"12000000\",\"1000000000\",\"10110000\",\"210000000\",\"1000000000\",\"20000000\",\"0\",\"0\",\"0\",\"3371337\",\"0\",\"20000000\",\"10000000000\",\"0\",\"1840000000\",\"84000000\",\"33000000\",\"619478\",\"21000000\",\"92000000000\",\"0\",\"0\",\"33000000\",\"78000000\",\"33000000\",\"0\",\"65789100\",\"53760000\",\"5060000\",\"21000000\",\"0\",\"0\",\"0\",\"210240000\",\"250000000\",\"100000000\",\"16906397\",\"2228921.184\",\"50000000\",\"0\",\"1000000000\",\"3852156\",\"26298000\",\"16000000\",\"21000000\",\"21000000\",\"16500000000\",\"210000000\",\"81962100\",\"22000000\",\"26550000000\",\"84000000\",\"18446744\",\"10500000\",\"20190463.54969237\",\"21626280000 \",\"0\",\"12000000\",\"42000000\",\"4200000\",\"15000000\",\"2250000000\",\"221052632\",\"5000000000\",\"84000000\",\"21000000000\",\"30000000\",\"168351300\",\"210000000\",\"18400000\",\"24000000\",\"384000000\",\"42000000\",\" 99000000000\",\"40000000\",\"2147483647\",\"20000000\",\"20000000\",\"25000000\",\"100000\",\"21000000\",\"75000000\",\"15000000\",\"222725000\",\"2421227\",\"525000000\",\"90000000\",\"36000000\",\"139000000\",\"16000000\",\"74666667\",\"350000000\",\"616448\",\"33500000\",\"2000000000\",\"44333333\",\"100000000\",\"200000000\",\"25000000\",\"657000000\",\"200000000\",\"50000000\",\"100000000\",\"90000000\",\"10000000\",\"21000000\",\"9736000\",\"3000000\",\"21000000\",\"1200000000\",\"0\",\"200000000\",\"10000000000\",\"0\",\"10638298\",\"3100000000\",\"30000000\",\"20000000000\",\"74000000\",\"0\",\"87500000\",\"1500000000\",\"10000000\",\"21400000\",\"2000000000\",\"39999898\",\"2500124\",\"126000000\",\"100000000\",\"301000000\",\"7506000000\",\"26205539\",\"100000000\",\"21000000\",\"125000000\",\"30000000\",\"1000000000\",\"10000000000\",\"21000000\",\"500000000\",\"850000000\",\"3853326.77707314\",\"50000000\",\"7000000000\",\"38540000 \",\"200000000 \",\"42000000\",\"228000000\",\"20000000\",\"60000000\",\"20000000\",\"33000000\",\"76500000\",\"28000000\",\"650659833\",\"5000000\",\"21000000\",\"144000000\",\"32514916898\",\"13000000\",\"3315789\",\"15000000\",\"78835200\",\"2714286\",\"25000000\",\"250000000\",\"9999999\",\"450000000\",\"100000000\",\"500000000\",\"21000000\",\"9354000\",\"100000000\",\"100640000\",\"20000000\",\"100000000000\",\"21933333\",\"20000000\",\"185000000\",\"55000000\",\"110000000\",\"115000000\",\"3360000\",\"14524851.4827\",\"1000000000\",\"17000000\",\"1000000000\",\"100000000 \",\"21000000\",\"454898394\",\"210000000\",\"34426423\",\"2232901\",\"100000000\",\"36900000\",\"110000000\",\"4000000000\",\"112000000\",\"110290030\",\"100000000\",\"48252000\",\"400000000\",\"500000000\",\"21212121\",\"28600000\",\"1000000000\",\"21000000\",\"75000000000\",\"40000000\",\"35520400\",\"1000000\",\"2000000000\",\"2500000000\",\"30000000\",\"105000000\",\"2093500000\",\"90000000000\",\"200084200\",\"72000000\",\"100000000\",\"105000000\",\"50000000000\",\"0\",\"340282367\",\"30000000\",\"2000000000\",\"10000000\",\"100000000\",\"120000000\",\"100000000\",\"19276800\",\"30000000\",\" 75000000\",\"7905634\",\"60000000\",\"18900000\",\"50000000000\",\"54000000\",\"18898187.6216583\",\"21000000\",\"200000000000\",\"5000000000\",\"137500000\",\"1100000000\",\"100000000\",\"21000000\",\"9507271\",\"1010000000\",\"17405891.19707116\",\"86712634466\",\"10500000000\",\"61599965\",\"0\",\"1000000000\",\"20000000\",\"84000000\",\"100000000\",\"100000000\",\"48252000\",\"4200000\",\"88888888\",\"91388946\",\"45000000000\",\"27000000\",\"21000000000\",\"400000000\",\"1800000000\",\"15733333\",\"27000000\",\"24000000\",\"21000000\",\"25000000000\",\"100000000\",\"1200000000\",\"60000000\",\"156306732.71\",\"21000000\",\"200000000\",\"100000000\",\"21000000\",\"14788275.991\",\"5000000\",\"3686860\",\"75000000\",\"9000000000\",\"350000000\",\"45000000\",\"300000000\",\"280000000\",\"105100000\",\"31800000\",\"50000000 \",\"144000000\",\"500000000\",\"30000000000\",\"210000000\",\"660000000\",\"210000000\",\"85000000000\",\"12500000\",\"10000000000\",\"27716121\",\"20000000\",\"550000000\",\"21000000\",\"999481516\",\"50000000000\",\"150000000\",\"4999999999\",\"50000000\",\"90000000000\",\" 90000000000\",\"19800000\",\"4600000\",\"21000000\",\"120000000\",\"500000000\",\"64000000\",\"900000000\",\"4000000\",\"21000000\",\"23000000\",\"20166000\",\"23000000\",\"2000000000\",\"92233720000000000\",\"25000000\",\"1618033\",\"30000000\",\"1000000000000\",\"16600000\",\"232000000\",\"336000000\",\"21000000\",\"17000000\",\"10000000000\",\"100000000\",\"1100000000\",\"800000000\",\"5200000000\",\"840000000\",\"40000000\",\"18406979840\",\"21000000000\",\"31500000\",\"21000000\",\"500000000\",\"19340594\",\"252460800\",\"25000000\",\"60000000\",\"124000000\",\"1000000000\",\"6500000000\",\"22000000\",\"1000000000\",\"100000000\",\"21000000\",\"25000000\",\"50000000\",\"84096000\",\"3000000\",\"5000000\",\"70000000\",\"22300000\",\"500000000\",\"300000000\",\"210000000\",\"21000000\",\"88000000\",\"30000000\",\"100000000\",\"100000000\",\"500000000\",\"100000000\",\"200000000\",\"80000000\",\"18400000\",\"45000000\",\"5121951220\",\"21000000\",\"26280000\",\"21000000\",\"18000000\",\"26000000\",\"10500000\",\"600000518\",\"150000000\",\"184000000000\",\"10200000000\",\"44000000\",\"168000000\",\"100000000\",\"1000000000\",\"84000000\",\"90000000\",\"92000000000\",\"650000000 \",\"100262205\",\"18081806 \",\"22075700\",\"21000000\",\"21000000\",\"82546564\",\"21000000\",\"5151000\",\"16880000000\",\"36000000\",\"52500000\",\"100000000\",\"22105263\",\"1000000000\",\"1750000000\",\"88188888\",\"100000000\",\"210000000\",\"184470000000\",\"55000000\",\"50000000\",\"260000000\",\"210000000\",\"175000000\",\"840000000\",\"2100000000\",\"70000000\",\"366000000\",\"100000000\",\"25000000\",\"250000000\",\"18000000000\",\"1000000000\",\"100000000\",\"1000000000\",\"252000000\",\"7600000000\",\"50000000\",\"29300000\",\"100000000000\",\"84000000\",\"13666237\",\"21000000\",\"70000000000\",\"100000000\",\"0\",\"8080000000\",\"46000000\",\"6100000\",\"54000000\",\"42000000\",\"105120001.44\",\"25228800\",\"20999764\",\"105000000\",\"21000000\",\"120000000\",\"21000000\",\"262800000\",\"19035999\",\"30886000\",\"13370000\",\"74800000000\",\"100000000\",\"19700000\",\"84000000\",\"100000000\",\"500000000\",\"5000000000\",\"420000000\",\"105000000\",\"64000000\",\"2100000\",\"168000000\",\"30000000\",\"1000000000\",\"25000000\",\"35000000000\",\"18450000\",\"98100000000\",\"0\",\"4000000000\",\"0\",\"200000000\",\"7000000000\",\"54256119\",\"21000000\",\"0\",\"500000000\",\"18400000\",\"1000000000\",\"10500000000\",\"190000000\",\"1000000000\",\"42000000\",\"15000000\",\"18446744\",\"50000000000\",\"25000000\",\"400000000\",\"105000000\",\"208000000\",\"160000000\",\"9000000\",\"5000000\",\"182000000\",\"16504333\",\"105000000\",\"159918400\",\"10008835635\",\"300000000\",\"890000000\",\"60168145\",\"300000000\",\"5000000000\",\"2800000\",\"120000\",\"2100000000\",\"0\",\"24487944\",\"0\",\"1000000000\",\"1000000000\",\"100000000\",\"8634140\",\"990000000000\",\"1000000000\",\"2000000000\",\"250000000\",\"1400222610\",\"21000000\",\"1000000\"],\"TotalCoinsMined\":{\"__ndarray__\":\"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\",\"dtype\":\"float64\",\"shape\":[685]}},\"selected\":{\"id\":\"2761\"},\"selection_policy\":{\"id\":\"2794\"}},\"id\":\"2760\",\"type\":\"ColumnDataSource\"},{\"attributes\":{\"editor\":{\"id\":\"2783\"},\"field\":\"TotalCoinSupply\",\"formatter\":{\"id\":\"2782\"},\"title\":\"TotalCoinSupply\"},\"id\":\"2784\",\"type\":\"TableColumn\"},{\"attributes\":{\"editor\":{\"id\":\"2788\"},\"field\":\"Class\",\"formatter\":{\"id\":\"2787\"},\"title\":\"Class\"},\"id\":\"2789\",\"type\":\"TableColumn\"},{\"attributes\":{},\"id\":\"2762\",\"type\":\"StringFormatter\"},{\"attributes\":{},\"id\":\"2761\",\"type\":\"Selection\"},{\"attributes\":{\"children\":[{\"id\":\"2759\"},{\"id\":\"2792\"},{\"id\":\"2796\"}],\"margin\":[0,0,0,0],\"name\":\"Row05722\",\"tags\":[\"embedded\"]},\"id\":\"2758\",\"type\":\"Row\"},{\"attributes\":{},\"id\":\"2763\",\"type\":\"StringEditor\"},{\"attributes\":{},\"id\":\"2768\",\"type\":\"StringEditor\"},{\"attributes\":{},\"id\":\"2794\",\"type\":\"UnionRenderers\"},{\"attributes\":{},\"id\":\"2773\",\"type\":\"StringEditor\"},{\"attributes\":{\"editor\":{\"id\":\"2763\"},\"field\":\"CoinName\",\"formatter\":{\"id\":\"2762\"},\"title\":\"CoinName\"},\"id\":\"2764\",\"type\":\"TableColumn\"},{\"attributes\":{},\"id\":\"2767\",\"type\":\"StringFormatter\"},{\"attributes\":{},\"id\":\"2778\",\"type\":\"NumberEditor\"},{\"attributes\":{\"margin\":[5,5,5,5],\"name\":\"HSpacer05727\",\"sizing_mode\":\"stretch_width\"},\"id\":\"2796\",\"type\":\"Spacer\"},{\"attributes\":{},\"id\":\"2782\",\"type\":\"StringFormatter\"},{\"attributes\":{},\"id\":\"2772\",\"type\":\"StringFormatter\"},{\"attributes\":{\"editor\":{\"id\":\"2768\"},\"field\":\"Algorithm\",\"formatter\":{\"id\":\"2767\"},\"title\":\"Algorithm\"},\"id\":\"2769\",\"type\":\"TableColumn\"},{\"attributes\":{},\"id\":\"2783\",\"type\":\"StringEditor\"},{\"attributes\":{\"format\":\"0,0.0[00000]\"},\"id\":\"2777\",\"type\":\"NumberFormatter\"},{\"attributes\":{\"editor\":{\"id\":\"2773\"},\"field\":\"ProofType\",\"formatter\":{\"id\":\"2772\"},\"title\":\"ProofType\"},\"id\":\"2774\",\"type\":\"TableColumn\"},{\"attributes\":{\"editor\":{\"id\":\"2778\"},\"field\":\"TotalCoinsMined\",\"formatter\":{\"id\":\"2777\"},\"title\":\"TotalCoinsMined\"},\"id\":\"2779\",\"type\":\"TableColumn\"},{\"attributes\":{\"margin\":[5,5,5,5],\"name\":\"HSpacer05726\",\"sizing_mode\":\"stretch_width\"},\"id\":\"2759\",\"type\":\"Spacer\"}],\"root_ids\":[\"2758\"]},\"title\":\"Bokeh Application\",\"version\":\"2.0.2\"}};\n",
       "  var render_items = [{\"docid\":\"0f5554dc-7643-45a4-8981-a4c6086d951a\",\"root_ids\":[\"2758\"],\"roots\":{\"2758\":\"2911e08c-3220-4d62-ba63-6e9d874d5fb1\"}}];\n",
       "  root.Bokeh.embed.embed_items_notebook(docs_json, render_items);\n",
       "  }\n",
       "if (root.Bokeh !== undefined) {\n",
       "    embed_document(root);\n",
       "  } else {\n",
       "    var attempts = 0;\n",
       "    var timer = setInterval(function(root) {\n",
       "      if (root.Bokeh !== undefined) {\n",
       "        clearInterval(timer);\n",
       "        embed_document(root);\n",
       "      } else if (document.readyState == \"complete\") {\n",
       "        attempts++;\n",
       "        if (attempts > 100) {\n",
       "          clearInterval(timer);\n",
       "          console.log(\"Bokeh: ERROR: Unable to run BokehJS code because BokehJS library is missing\");\n",
       "        }\n",
       "      }\n",
       "    }, 10, root)\n",
       "  }\n",
       "})(window);</script>"
      ],
      "text/plain": [
       ":Table   [CoinName,Algorithm,ProofType,TotalCoinsMined,TotalCoinSupply,Class]"
      ]
     },
     "execution_count": 213,
     "metadata": {
      "application/vnd.holoviews_exec.v0+json": {
       "id": "2758"
      }
     },
     "output_type": "execute_result"
    }
   ],
   "source": [
    "# Table with tradable cryptos\n",
    "clustered_df[\n",
    "    [\n",
    "    \"CoinName\",\n",
    "    \"Algorithm\",\n",
    "    \"ProofType\",\n",
    "    \"TotalCoinsMined\",\n",
    "    \"TotalCoinSupply\",\n",
    "    \"Class\",\n",
    "    ]\n",
    "].hvplot.table()"
   ]
  },
  {
   "cell_type": "code",
   "execution_count": 229,
   "metadata": {},
   "outputs": [
    {
     "name": "stdout",
     "output_type": "stream",
     "text": [
      "There are 685 tradable cryptocurrencies\n"
     ]
    }
   ],
   "source": [
    "# Print the total number of tradable cryptocurrencies\n",
    "print(f\"There are {clustered_df.shape[0]} tradable cryptocurrencies\")"
   ]
  },
  {
   "cell_type": "markdown",
   "metadata": {},
   "source": [
    "#### Scatter Plot with Tradable Cryptocurrencies"
   ]
  },
  {
   "cell_type": "code",
   "execution_count": 230,
   "metadata": {},
   "outputs": [
    {
     "data": {
      "text/html": [
       "<div>\n",
       "<style scoped>\n",
       "    .dataframe tbody tr th:only-of-type {\n",
       "        vertical-align: middle;\n",
       "    }\n",
       "\n",
       "    .dataframe tbody tr th {\n",
       "        vertical-align: top;\n",
       "    }\n",
       "\n",
       "    .dataframe thead th {\n",
       "        text-align: right;\n",
       "    }\n",
       "</style>\n",
       "<table border=\"1\" class=\"dataframe\">\n",
       "  <thead>\n",
       "    <tr style=\"text-align: right;\">\n",
       "      <th></th>\n",
       "      <th>TotalCoinSupply</th>\n",
       "      <th>TotalCoinsMined</th>\n",
       "      <th>CoinName</th>\n",
       "      <th>Class</th>\n",
       "    </tr>\n",
       "  </thead>\n",
       "  <tbody>\n",
       "    <tr>\n",
       "      <th>0</th>\n",
       "      <td>0.005942</td>\n",
       "      <td>4.553649e-16</td>\n",
       "      <td>42 Coin</td>\n",
       "      <td>1.0</td>\n",
       "    </tr>\n",
       "    <tr>\n",
       "      <th>2</th>\n",
       "      <td>0.007002</td>\n",
       "      <td>5.767956e-09</td>\n",
       "      <td>404Coin</td>\n",
       "      <td>1.0</td>\n",
       "    </tr>\n",
       "    <tr>\n",
       "      <th>4</th>\n",
       "      <td>0.005942</td>\n",
       "      <td>0.000000e+00</td>\n",
       "      <td>808</td>\n",
       "      <td>0.0</td>\n",
       "    </tr>\n",
       "    <tr>\n",
       "      <th>5</th>\n",
       "      <td>0.035342</td>\n",
       "      <td>3.406122e-06</td>\n",
       "      <td>EliteCoin</td>\n",
       "      <td>0.0</td>\n",
       "    </tr>\n",
       "    <tr>\n",
       "      <th>7</th>\n",
       "      <td>0.005960</td>\n",
       "      <td>2.276825e-10</td>\n",
       "      <td>Bitcoin</td>\n",
       "      <td>1.0</td>\n",
       "    </tr>\n",
       "    <tr>\n",
       "      <th>8</th>\n",
       "      <td>0.006050</td>\n",
       "      <td>0.000000e+00</td>\n",
       "      <td>Ethereum</td>\n",
       "      <td>0.0</td>\n",
       "    </tr>\n",
       "    <tr>\n",
       "      <th>9</th>\n",
       "      <td>0.006006</td>\n",
       "      <td>9.107298e-10</td>\n",
       "      <td>Litecoin</td>\n",
       "      <td>0.0</td>\n",
       "    </tr>\n",
       "    <tr>\n",
       "      <th>10</th>\n",
       "      <td>0.005951</td>\n",
       "      <td>2.385245e-10</td>\n",
       "      <td>Dash</td>\n",
       "      <td>0.0</td>\n",
       "    </tr>\n",
       "    <tr>\n",
       "      <th>11</th>\n",
       "      <td>0.005960</td>\n",
       "      <td>0.000000e+00</td>\n",
       "      <td>Monero</td>\n",
       "      <td>1.0</td>\n",
       "    </tr>\n",
       "    <tr>\n",
       "      <th>12</th>\n",
       "      <td>0.006056</td>\n",
       "      <td>2.276825e-09</td>\n",
       "      <td>Ethereum Classic</td>\n",
       "      <td>0.0</td>\n",
       "    </tr>\n",
       "  </tbody>\n",
       "</table>\n",
       "</div>"
      ],
      "text/plain": [
       "    TotalCoinSupply  TotalCoinsMined          CoinName  Class\n",
       "0          0.005942     4.553649e-16           42 Coin    1.0\n",
       "2          0.007002     5.767956e-09           404Coin    1.0\n",
       "4          0.005942     0.000000e+00               808    0.0\n",
       "5          0.035342     3.406122e-06         EliteCoin    0.0\n",
       "7          0.005960     2.276825e-10           Bitcoin    1.0\n",
       "8          0.006050     0.000000e+00          Ethereum    0.0\n",
       "9          0.006006     9.107298e-10          Litecoin    0.0\n",
       "10         0.005951     2.385245e-10              Dash    0.0\n",
       "11         0.005960     0.000000e+00            Monero    1.0\n",
       "12         0.006056     2.276825e-09  Ethereum Classic    0.0"
      ]
     },
     "execution_count": 230,
     "metadata": {},
     "output_type": "execute_result"
    }
   ],
   "source": [
    "# Scale data to create the scatter plot\n",
    "mm_scaler = MinMaxScaler()\n",
    "data_plotting = mm_scaler.fit_transform( clustered_df[['TotalCoinsMined', 'TotalCoinSupply']])\n",
    "\n",
    "plot_df = pd.DataFrame(data_plotting, columns=[\"TotalCoinSupply\", \"TotalCoinsMined\"], index=clustered_df.index)\n",
    "\n",
    "plot_df[\"CoinName\"] = clustered_df[\"CoinName\"]\n",
    "plot_df[\"Class\"] = clustered_df[\"Class\"]\n",
    "plot_df.head(10)"
   ]
  },
  {
   "cell_type": "code",
   "execution_count": null,
   "metadata": {},
   "outputs": [],
   "source": []
  },
  {
   "cell_type": "code",
   "execution_count": 234,
   "metadata": {},
   "outputs": [
    {
     "data": {},
     "metadata": {},
     "output_type": "display_data"
    },
    {
     "data": {
      "application/vnd.holoviews_exec.v0+json": "",
      "text/html": [
       "<div id='3725'>\n",
       "\n",
       "\n",
       "\n",
       "\n",
       "\n",
       "  <div class=\"bk-root\" id=\"0870c6a1-37e5-4ceb-8c2c-037ef4fab16b\" data-root-id=\"3725\"></div>\n",
       "</div>\n",
       "<script type=\"application/javascript\">(function(root) {\n",
       "  function embed_document(root) {\n",
       "  var docs_json = {\"f4aa84f8-1941-49a4-8f53-7354ecb198cb\":{\"roots\":{\"references\":[{\"attributes\":{\"children\":[{\"id\":\"3726\"},{\"id\":\"3731\"},{\"id\":\"3878\"}],\"margin\":[0,0,0,0],\"name\":\"Row08161\",\"tags\":[\"embedded\"]},\"id\":\"3725\",\"type\":\"Row\"},{\"attributes\":{\"fill_color\":{\"value\":\"#1f77b3\"},\"line_color\":{\"value\":\"#1f77b3\"},\"size\":{\"units\":\"screen\",\"value\":5.477225575051661},\"x\":{\"field\":\"TotalCoinsMined\"},\"y\":{\"field\":\"TotalCoinSupply\"}},\"id\":\"3768\",\"type\":\"Scatter\"},{\"attributes\":{},\"id\":\"3750\",\"type\":\"WheelZoomTool\"},{\"attributes\":{\"fill_alpha\":{\"value\":0.2},\"fill_color\":{\"value\":\"#ff7e0e\"},\"line_alpha\":{\"value\":0.2},\"line_color\":{\"value\":\"#ff7e0e\"},\"size\":{\"units\":\"screen\",\"value\":5.477225575051661},\"x\":{\"field\":\"TotalCoinsMined\"},\"y\":{\"field\":\"TotalCoinSupply\"}},\"id\":\"3786\",\"type\":\"Scatter\"},{\"attributes\":{},\"id\":\"3806\",\"type\":\"UnionRenderers\"},{\"attributes\":{\"label\":{\"value\":\"0\"},\"renderers\":[{\"id\":\"3771\"}]},\"id\":\"3780\",\"type\":\"LegendItem\"},{\"attributes\":{\"below\":[{\"id\":\"3740\"}],\"center\":[{\"id\":\"3743\"},{\"id\":\"3747\"}],\"left\":[{\"id\":\"3744\"}],\"margin\":null,\"min_border_bottom\":10,\"min_border_left\":10,\"min_border_right\":10,\"min_border_top\":10,\"plot_height\":300,\"plot_width\":700,\"renderers\":[{\"id\":\"3771\"},{\"id\":\"3787\"}],\"right\":[{\"id\":\"3779\"}],\"sizing_mode\":\"fixed\",\"title\":{\"id\":\"3732\"},\"toolbar\":{\"id\":\"3754\"},\"x_range\":{\"id\":\"3727\"},\"x_scale\":{\"id\":\"3736\"},\"y_range\":{\"id\":\"3728\"},\"y_scale\":{\"id\":\"3738\"}},\"id\":\"3731\",\"subtype\":\"Figure\",\"type\":\"Plot\"},{\"attributes\":{\"bottom_units\":\"screen\",\"fill_alpha\":0.5,\"fill_color\":\"lightgrey\",\"left_units\":\"screen\",\"level\":\"overlay\",\"line_alpha\":1.0,\"line_color\":\"black\",\"line_dash\":[4,4],\"line_width\":2,\"render_mode\":\"css\",\"right_units\":\"screen\",\"top_units\":\"screen\"},\"id\":\"3753\",\"type\":\"BoxAnnotation\"},{\"attributes\":{\"fill_alpha\":{\"value\":0.1},\"fill_color\":{\"value\":\"#1f77b3\"},\"line_alpha\":{\"value\":0.1},\"line_color\":{\"value\":\"#1f77b3\"},\"size\":{\"units\":\"screen\",\"value\":5.477225575051661},\"x\":{\"field\":\"TotalCoinsMined\"},\"y\":{\"field\":\"TotalCoinSupply\"}},\"id\":\"3769\",\"type\":\"Scatter\"},{\"attributes\":{\"data_source\":{\"id\":\"3781\"},\"glyph\":{\"id\":\"3784\"},\"hover_glyph\":null,\"muted_glyph\":{\"id\":\"3786\"},\"nonselection_glyph\":{\"id\":\"3785\"},\"selection_glyph\":null,\"view\":{\"id\":\"3788\"}},\"id\":\"3787\",\"type\":\"GlyphRenderer\"},{\"attributes\":{\"label\":{\"value\":\"1\"},\"renderers\":[{\"id\":\"3787\"}]},\"id\":\"3797\",\"type\":\"LegendItem\"},{\"attributes\":{\"fill_alpha\":{\"value\":0.2},\"fill_color\":{\"value\":\"#1f77b3\"},\"line_alpha\":{\"value\":0.2},\"line_color\":{\"value\":\"#1f77b3\"},\"size\":{\"units\":\"screen\",\"value\":5.477225575051661},\"x\":{\"field\":\"TotalCoinsMined\"},\"y\":{\"field\":\"TotalCoinSupply\"}},\"id\":\"3770\",\"type\":\"Scatter\"},{\"attributes\":{},\"id\":\"3738\",\"type\":\"LinearScale\"},{\"attributes\":{\"source\":{\"id\":\"3765\"}},\"id\":\"3772\",\"type\":\"CDSView\"},{\"attributes\":{},\"id\":\"3745\",\"type\":\"BasicTicker\"},{\"attributes\":{\"text\":\"\",\"text_color\":{\"value\":\"black\"},\"text_font_size\":{\"value\":\"12pt\"}},\"id\":\"3732\",\"type\":\"Title\"},{\"attributes\":{\"fill_alpha\":{\"value\":0.1},\"fill_color\":{\"value\":\"#ff7e0e\"},\"line_alpha\":{\"value\":0.1},\"line_color\":{\"value\":\"#ff7e0e\"},\"size\":{\"units\":\"screen\",\"value\":5.477225575051661},\"x\":{\"field\":\"TotalCoinsMined\"},\"y\":{\"field\":\"TotalCoinSupply\"}},\"id\":\"3785\",\"type\":\"Scatter\"},{\"attributes\":{\"fill_color\":{\"value\":\"#ff7e0e\"},\"line_color\":{\"value\":\"#ff7e0e\"},\"size\":{\"units\":\"screen\",\"value\":5.477225575051661},\"x\":{\"field\":\"TotalCoinsMined\"},\"y\":{\"field\":\"TotalCoinSupply\"}},\"id\":\"3784\",\"type\":\"Scatter\"},{\"attributes\":{\"axis\":{\"id\":\"3744\"},\"dimension\":1,\"grid_line_color\":null,\"ticker\":null},\"id\":\"3747\",\"type\":\"Grid\"},{\"attributes\":{},\"id\":\"3766\",\"type\":\"Selection\"},{\"attributes\":{\"source\":{\"id\":\"3781\"}},\"id\":\"3788\",\"type\":\"CDSView\"},{\"attributes\":{\"axis_label\":\"TotalCoinSupply\",\"bounds\":\"auto\",\"formatter\":{\"id\":\"3763\"},\"major_label_orientation\":\"horizontal\",\"ticker\":{\"id\":\"3745\"}},\"id\":\"3744\",\"type\":\"LinearAxis\"},{\"attributes\":{},\"id\":\"3782\",\"type\":\"Selection\"},{\"attributes\":{},\"id\":\"3736\",\"type\":\"LinearScale\"},{\"attributes\":{\"data\":{\"Class\":[1.0,1.0,1.0,1.0,1.0,1.0,1.0,1.0,1.0,1.0,1.0,1.0,1.0,1.0,1.0,1.0,1.0,1.0,1.0,1.0,1.0,1.0,1.0,1.0,1.0,1.0,1.0,1.0,1.0,1.0,1.0,1.0,1.0,1.0,1.0,1.0,1.0,1.0,1.0,1.0,1.0,1.0,1.0,1.0,1.0,1.0,1.0,1.0,1.0,1.0,1.0,1.0,1.0,1.0,1.0,1.0,1.0,1.0,1.0,1.0,1.0,1.0,1.0,1.0,1.0,1.0,1.0,1.0,1.0,1.0,1.0,1.0,1.0,1.0,1.0,1.0,1.0,1.0,1.0,1.0,1.0,1.0,1.0,1.0,1.0,1.0,1.0,1.0,1.0,1.0,1.0,1.0,1.0,1.0,1.0,1.0,1.0,1.0,1.0,1.0,1.0,1.0,1.0,1.0,1.0,1.0,1.0,1.0,1.0,1.0,1.0,1.0,1.0,1.0,1.0,1.0,1.0,1.0,1.0,1.0,1.0,1.0,1.0,1.0,1.0,1.0,1.0,1.0,1.0,1.0,1.0,1.0,1.0,1.0,1.0,1.0,1.0,1.0,1.0,1.0,1.0,1.0,1.0,1.0,1.0,1.0,1.0,1.0,1.0,1.0,1.0,1.0,1.0,1.0,1.0,1.0,1.0,1.0,1.0,1.0,1.0,1.0,1.0,1.0,1.0,1.0,1.0,1.0,1.0,1.0,1.0,1.0,1.0,1.0,1.0,1.0,1.0,1.0,1.0,1.0,1.0,1.0,1.0,1.0],\"CoinName\":[\"42 Coin\",\"404Coin\",\"Bitcoin\",\"Monero\",\"ZCash\",\"Bitshares\",\"DigiByte\",\"ProsperCoin\",\"KoboCoin\",\"Argentum\",\"Aurora Coin\",\"MyriadCoin\",\"ZetaCoin\",\"SexCoin\",\"Quatloo\",\"QuarkCoin\",\"CashCoin\",\"Catcoin\",\"CannaCoin\",\"CoolCoin\",\"CryptCoin\",\"eMark\",\"Verge\",\"DarkCash\",\"Elacoin\",\"Einsteinium\",\"Flappy Coin\",\"Fuel2Coin\",\"FeatherCoin\",\"GrandCoin\",\"GlobalCoin\",\"HyperStake\",\"Infinite Coin\",\"IXcoin\",\"JumBucks Coin\",\"LuckyCoin\",\"MaxCoin\",\"MegaCoin\",\"MediterraneanCoin\",\"MintCoin\",\"MinCoin\",\"Nautilus Coin\",\"NoirBits\",\"NobleCoin\",\"Namecoin\",\"OpalCoin\",\"PhoenixCoin\",\"Reddcoin\",\"RonPaulCoin\",\"ShieldCoin\",\"SilkCoin\",\"SyncCoin\",\"SysCoin\",\"TigerCoin\",\"TerraCoin\",\"Umbrella\",\"UnbreakableCoin\",\"Unobtanium\",\"UltraCoin\",\"ViaCoin\",\"VeriCoin\",\"Vertcoin\",\"WorldCoin\",\"X11 Coin\",\"StealthCoin\",\"ZCC Coin\",\"DigitalNote \",\"BurstCoin\",\"KryptCoin\",\"RubyCoin\",\"Kore\",\"Wild Beast Coin\",\"Dnotes\",\"8BIT Coin\",\"Sativa Coin\",\"AeroMe\",\"MasterTraderCoin\",\"BitCredit\",\"Folding Coin\",\"Ucoin\",\"CypherPunkCoin\",\"MaryJane Coin\",\"OmniCron\",\"Vtorrent\",\"GreenCoin\",\"Cryptonite\",\"MasterCoin\",\"SoonCoin\",\"1Credit\",\"IslaCoin\",\"MarsCoin \",\"Singular\",\"Anarchists Prime\",\"BowsCoin\",\"CryptoCircuits\",\"Squall Coin\",\"Milllionaire Coin\",\"Song Coin\",\"BitZeny\",\"Expanse\",\"MapCoin\",\"Paycon\",\"Siacoin\",\"Emercoin\",\"MindCoin\",\"DogeCoinDark\",\"Revolution VR\",\"Hitcoin\",\"DubaiCoin\",\"TrumpCoin\",\"EthereumScrypt\",\"Phalanx\",\"GPU Coin\",\"HempCoin\",\"VirtaCoin\",\"SoilCoin\",\"YoCoin\",\"Universal Currency\",\"SibCoin\",\"EuropeCoin\",\"Anti Bitcoin\",\"ZeitCoin\",\"SwingCoin\",\"SafeExchangeCoin\",\"GIZMOcoin\",\"Ratecoin\",\"Digital Bullion Gold\",\"Revenu\",\"Clockcoin\",\"VIP Tokens\",\"BitSend\",\"ChessCoin\",\"ReeCoin\",\"Omni\",\"Let it Ride\",\"PutinCoin\",\"iBankCoin\",\"Frankywillcoin\",\"MudraCoin\",\"PizzaCoin\",\"Lutetium Coin\",\"CarterCoin\",\"Karbo\",\"MustangCoin\",\"RootCoin\",\"DollarCoin\",\"BuzzCoin\",\"PesoBit\",\"FujiCoin\",\"ZCoin\",\"LeaCoin\",\"RoyalCoin\",\"GanjaCoin V2\",\"TeamUP\",\"LanaCoin\",\"Elementrem\",\"CashOut\",\"ZClassic\",\"ARK\",\"LuckChain\",\"Hush\",\"EmberCoin\",\"XenixCoin\",\"NPCcoin\",\"Icobid\",\"Creatio\",\"Eternity\",\"Stakenet\",\"BitConnect Coin\",\"MoneyCoin\",\"PandaCoin\",\"OsmiumCoin\",\"Ride My Car\",\"Klingon Empire Darsek\",\"Internet of People\",\"Printerium\",\"Impeach\",\"Citadel\",\"Zilbercoin\",\"CreativeChain\",\"FindCoin\",\"VaultCoin\",\"Zero\",\"Zoin\"],\"TotalCoinSupply\":{\"__ndarray__\":\"qPiOWfRWeD8cYvKR8a18P09FNWjUaXg/zS2dthBpeD+IHr1bul54PxOfQNzBzoE/vkovoRnQkT/pdyQfB114PzuDuwrZcXg/EVkERs5jeD+Zs25zDGp4P0ivTUx+SH8/kC3YBCkKeT8CgDzstt54P2xMpoyzXng/FEcmDj1oeT8/EKlW9FZ4PwhujWWOXng/oXNkN+hbeD8/EKlW9FZ4P3REUTg3XHg/PxCpVvRWeD8F6ouTu3aWPz8QqVb0Vng/PxCpVvRWeD+H3mTMZj15Pz8QqVb0Vng/PxCpVvRWeD8Vc1W/qDJ5PzILHIPW+Xs/1CiorhmceD9xPJmQPj5/P+VXYvYez7g/kW5LvChteD8/EKlW9FZ4P7Au2IdNa3g/wH9cXaaXeD8WBQbIH394P2W6iEqGgXg/Gc9GqMH6mz9pcPXLEF14Pzz9xXn9Z3g/PxCpVvRWeD9UkcR1EwmBP9DymF54Zng/9p7xkOlmeD9h9dM606R4P1SdIsAcHaI/wU2l8x1YeD8/EKlW9FZ4Pz8QqVb0Vng/vivgp/RWeD9qKkRfFah6P8YdlDHLhHg/KmkWURpveD8/EKlW9FZ4P8IgZGNaWXg/B9r1fSpXeD8E9NOs2It4P9fNvGZUb3g/nxu3RKt4eD8p1wGk1Yx4P3HGlQvj1Hg/ED9f20VeeD8iyllhzHl4P0vXp3HF8ng/yMNTtGZfij+v1HlB38t/Pz8QqVb0Vng/+HLFnJNzeD/mbKB4FVl4P78icF8lV3g/6Z1aPNYOeT+xD4P6f1h4P41l2jVtXng/PxCpVvRWeD8/EKlW9FZ4Pz8QqVb0Vng/rrJbGmtMez9BWNxYyVl4P769kAeoXXg/PxCpVvRWeD82vjl5oWF4Pzwgy0IsY3g/jage7I6mhT8LufJO7kB7P+Jn1U+bV3g/GLdnfxNkeD+J64YdDFd4P5arJVeMWHg/FWlITeF4eD8/EKlW9FZ4P/J30Ud7Zng/s/PzQahneD8/EKlW9FZ4P001GBJNV3g/PxCpVvRWeD+NLfvyPXl4P87Mj2CRpng/AyoGOQFieD8/EKlW9FZ4P05MpTY3b3g/HPIcxvUOpD9biE2fSoR4Pxu7IEypZ3g/PxCpVvRWeD/yuXl6DzR5P3NXKJM0ZJE/4Td9zlpceD8/EKlW9FZ4Pz8QqVb0Vng/PxCpVvRWeD/pk2R4koF4Pz8QqVb0Vng/PxCpVvRWeD+y4e9C9Vx4PxwIzeOfV3g/PxCpVvRWeD8eA1p7IWl4P2/JSYDpYXg/PxCpVvRWeD9ydl4wrgymP89RtSGQW3g/jIjhNQGWgD8/EKlW9FZ4PyrlVhyg5Hg/PxCpVvRWeD8xLy+UNlh4P5wlSJ1/aHg/RsXvdNGueD/O/YvGoXB4Pz8QqVb0Vng/PxCpVvRWeD+F/sF+mld4P0PvqcmVf3g/ZXyKPQyvez9HX7hbuFt4P7kL9DY+wHg/n2lGCDhceD8oQpW9Z1h4P1tWBk6zCns/8yIqHWeEeD9tdI/JMF94P3I01ZilV3g/6067Nv9YeD+1HnDzimB4P256jjcIN5o/AdonE0B6eD8/EKlW9FZ4PzKxnkjsXng/PxCpVvRWeD+TIgY4lll4P7kL9DY+wHg/v27+KbdpeD8CMm8dWcp8P9AnPr+Lcng/PxCpVvRWeD8NpWdo3Vx4P9F1hf7gyHg/PxCpVvRWeD8/EKlW9FZ4P+fKbHk3OLk/UyGe9QJbeD8/EKlW9FZ4Pz8QqVb0Vng/vnUeHQNseD9ZTJhMWF14P+Lved+Kpng/1tXPBZ9ieD8/dH0ycmJ4P4aI1KcKbaQ/820sUOVXeD8/EKlW9FZ4PzuAae8vcHg/N8PuNp1ZeD9375/AZmN4P26gmmdHV3g/QlG7/oBieD+216QYCFp4Pz8QqVb0Vng/ycxXWT9meD8Egllr8nZ4P/zeFv49Xng/aw+XI3tqeD8=\",\"dtype\":\"float64\",\"shape\":[184]},\"TotalCoinsMined\":{\"__ndarray__\":\"vY8ZAQBowDxHJ6kp78U4PjEJGULdSu89AAAAAAAAAAAxCRlC3UrvPeOtfaZE9WQ++nKMEhyPjj4xCRlC3UrvPcq0Fz1TTDA+kyuZAYTXBz5I06wJtfzoPY6Uj+l2SFc+mMaeDnygHz6OlI/pdkgnPguqPyFfoBI+C8mKXfAAJz6qQS/hnqsBPjEJGULdSu898gdQIYOU4z0Lqj8hX6ASPgZRzIF00uo9AAAAAAAAAADUcE3WNxeIPj+HfAFFLMY9EH/fsY7wCz4lKn/1m+srPg8seOacMLI+C6o/IV+gEj4xCRlC3UovPuTSVyC/iVA+qYe/YbgTCj4AAAAAAAAAAPPT6irkerA+MQkZQt1K7z202VAJvKDDPXh2/wFlze09C6o/IV+gEj4xCRlC3Ur/PQuqPyFfoCI+AAAAAAAAAAB4dv8BZc3dPfzFnSEuHOg9C6o/IV+gAj5Fm/Z679OFPjEJGULdSu89AAAAAAAAAABdRTkRAUESPgAAAAAAAAAAMQkZQt1K7z2TK5kBhNenPZMrmQGE16c9hP2iAQBqCD3K02J55KxEPpePLCFpgwE+MQkZQt1K/z0xCRlC3Uq/PXh2/wFlzQ0+kyuZAYTXhz0Lqj8hX6ASPlIXJuHmIvE9AAAAAAAAAAAxCRlC3UoPPkk6qAEguCg+9U0ZwSpk0D0AAAAAAAAAAI6Uj+l2SEc+sXnzo5QafT49T692wyFZPky+skH8VOk9AAAAAAAAAACu4DIBo+HhPVCmGQIFVL89jpSP6XZINz4AAAAAAAAAAHh2/wFlzd09ruAyAaPh4T2/FgViUSHePb+lT0nKjiM+jpSP6XZIRz54dv8BZc3tPQAAAAAAAAAAAAAAAAAAAADY3FiFQBjEPXh2/wFlze09sXnzo5QafT4mnW+ZoGtVPqPx+sH8iZ09MQkZQt1K7z3GMt93FbywPgAAAAAAAAAA8PSlIUCW+D0AAAAAAAAAAPazVwH0BgQ+MQkZQt1K7z0AAAAAAAAAAAAAAAAAAAAAAAAAAAAAAADyB1Ahg5QjPo6Uj+l2SCc+gVmwVkcx6T3YzZSuIJK6PQuqPyFfoAI+AAAAAAAAAACOlI/pdkhHPpMrmQGE1+c9MhHcoLoCiD6/pU9Jyo4jPtqG+6hSUZM+MQkZQt1K3z2u4DIBo+HhPfSgrQGxCMk92ph/wQta5j0nUOEyTpYkPrF586OUGm0++nKMEhyPjj7amH/BC1r2Pa0ompadWx8+v6VPScqOIz6u4DIBo+HxPa7gMgGj4TE+MQkZQt1K/z3mDKX4CwKyPnh2/wFlzf09ywt7AQAAWT4PVkcB0BJzPRB/37GO8As+2ph/wQta5j1w/OOFLb4kPi6Po9t8cjg+o7If0YjDED5SVbxZCeQZPoFdna7E0As+yrQXPVNMMD7edvgBAGWdPZ5ZrDGe9fg9jpSP6XZIVz6Eb1vE9IMAPguqPyFfoBI+C6o/IV+gIj4Lqj8hX6DyPWoMDeQMmD4+o7If0YjDED54dv8BZc3dPa7gMgGj4cE9AAAAAAAAAAD9GyCWYLTfPbF586OUGo0+AAAAAAAAAAB4dv8BZc3dPeJDI8Jz4+89jpSP6XZIVz72fP/hxc29PQuqPyFfoBI+PBjhNWYILD7957bjZ9h1PjUUz1ZPhvM9C6o/IV+gEj4xCRlC3UrvPY6Uj+l2SBc+jpSP6XZIRz4xCRlC3UrvPaykUxNlykM+MD0/x7X3xj38oV0MaF90PguqPyFfoCI+eHb/AWXN7T3amH/BC1oGPhYW6cmbfww+IQZmgZPc9D1Q+488eEw+Po9CQBBgqJc+uKYV+astwD0Lqj8hX6ASPo6Uj+l2SDc+MQkZQt1K7z14dv8BZc3tPbxzmIdzV/A9fbAnZb46IT5yoV9xNX0EPiadb5mgaxU+3bmEiMqk5T2OlI/pdkhHPky+skH8VOk9MQkZQt1K7z0=\",\"dtype\":\"float64\",\"shape\":[184]}},\"selected\":{\"id\":\"3782\"},\"selection_policy\":{\"id\":\"3806\"}},\"id\":\"3781\",\"type\":\"ColumnDataSource\"},{\"attributes\":{\"axis_label\":\"TotalCoinsMined\",\"bounds\":\"auto\",\"formatter\":{\"id\":\"3761\"},\"major_label_orientation\":\"horizontal\",\"ticker\":{\"id\":\"3741\"}},\"id\":\"3740\",\"type\":\"LinearAxis\"},{\"attributes\":{\"end\":0.20924800599211849,\"reset_end\":0.20924800599211849,\"reset_start\":-0.012540035574063187,\"start\":-0.012540035574063187,\"tags\":[[[\"TotalCoinSupply\",\"TotalCoinSupply\",null]]]},\"id\":\"3728\",\"type\":\"Range1d\"},{\"attributes\":{},\"id\":\"3749\",\"type\":\"PanTool\"},{\"attributes\":{\"axis\":{\"id\":\"3740\"},\"grid_line_color\":null,\"ticker\":null},\"id\":\"3743\",\"type\":\"Grid\"},{\"attributes\":{\"end\":4.34176506007936e-06,\"reset_end\":4.34176506007936e-06,\"reset_start\":-1.784287010991518e-07,\"start\":-1.784287010991518e-07,\"tags\":[[[\"TotalCoinsMined\",\"TotalCoinsMined\",null]]]},\"id\":\"3727\",\"type\":\"Range1d\"},{\"attributes\":{\"margin\":[5,5,5,5],\"name\":\"HSpacer08165\",\"sizing_mode\":\"stretch_width\"},\"id\":\"3726\",\"type\":\"Spacer\"},{\"attributes\":{},\"id\":\"3748\",\"type\":\"SaveTool\"},{\"attributes\":{},\"id\":\"3795\",\"type\":\"UnionRenderers\"},{\"attributes\":{\"data\":{\"Class\":[0.0,0.0,0.0,0.0,0.0,0.0,0.0,0.0,0.0,0.0,0.0,0.0,0.0,0.0,0.0,0.0,0.0,0.0,0.0,0.0,0.0,0.0,0.0,0.0,0.0,0.0,0.0,0.0,0.0,0.0,0.0,0.0,0.0,0.0,0.0,0.0,0.0,0.0,0.0,0.0,0.0,0.0,0.0,0.0,0.0,0.0,0.0,0.0,0.0,0.0,0.0,0.0,0.0,0.0,0.0,0.0,0.0,0.0,0.0,0.0,0.0,0.0,0.0,0.0,0.0,0.0,0.0,0.0,0.0,0.0,0.0,0.0,0.0,0.0,0.0,0.0,0.0,0.0,0.0,0.0,0.0,0.0,0.0,0.0,0.0,0.0,0.0,0.0,0.0,0.0,0.0,0.0,0.0,0.0,0.0,0.0,0.0,0.0,0.0,0.0,0.0,0.0,0.0,0.0,0.0,0.0,0.0,0.0,0.0,0.0,0.0,0.0,0.0,0.0,0.0,0.0,0.0,0.0,0.0,0.0,0.0,0.0,0.0,0.0,0.0,0.0,0.0,0.0,0.0,0.0,0.0,0.0,0.0,0.0,0.0,0.0,0.0,0.0,0.0,0.0,0.0,0.0,0.0,0.0,0.0,0.0,0.0,0.0,0.0,0.0,0.0,0.0,0.0,0.0,0.0,0.0,0.0,0.0,0.0,0.0],\"CoinName\":[\"808\",\"EliteCoin\",\"Ethereum\",\"Litecoin\",\"Dash\",\"Ethereum Classic\",\"BitcoinDark\",\"Bitstake\",\"PayCoin\",\"Spreadcoin\",\"ACoin\",\"Aero Coin\",\"ApexCoin\",\"ArchCoin\",\"BetaCoin\",\"BlueCoin\",\"MoonCoin\",\"EnergyCoin\",\"Riecoin\",\"Digitalcoin \",\"LimeCoinX\",\"BitBar\",\"BitMark\",\"CryptoBullion\",\"CinderCoin\",\"CasinoCoin\",\"Diamond\",\"DarkShibe\",\"DevCoin\",\"EarthCoin\",\"E-Gulden\",\"Emerald\",\"Exclusive Coin\",\"FIBRE\",\"FireRoosterCoin\",\"FlutterCoin\",\"Franko\",\"GoldCoin\",\"GlyphCoin\",\"Halcyon\",\"HoboNickels\",\"HunterCoin\",\"IOCoin\",\"JudgeCoin\",\"KrugerCoin\",\"Litebar \",\"LitecoinDark\",\"LibrexCoin\",\"MazaCoin\",\"NavCoin\",\"NyanCoin\",\"Orbitcoin\",\"PotCoin\",\"RipOffCoin\",\"StableCoin\",\"SmartCoin\",\"SpainCoin\",\"SecureCoin\",\"SuperCoin\",\"TeslaCoin\",\"TittieCoin\",\"TorCoin\",\"UroCoin\",\"UnitaryStatus Dollar\",\"Utility Coin\",\"VootCoin\",\"SocialXbotCoin\",\"Crypti\",\"JouleCoin\",\"XXXCoin\",\"ByteCoin\",\"StorjCoin\",\"MonaCoin\",\"Neutron\",\"Sling Coin\",\"FairCoin\",\"Gulden\",\"PesetaCoin\",\"Flo\",\"MaieutiCoin\",\"ArtByte\",\"Unitus\",\"CyberCoin\",\"Unattanium\",\"Gridmaster\",\"ConSpiracy Coin \",\"ViorCoin\",\"Quicksilver coin\",\"Nexus\",\"Crypto\",\"Droidz\",\"Diggits\",\"BlitzCoin\",\"EverGreenCoin\",\"I0coin\",\"Decred\",\"HOdlcoin\",\"EDRCoin\",\"Gamecredits\",\"Dashcoin\",\"BiosCrypto\",\"CarpeDiemCoin\",\"PWR Coin\",\"BillaryCoin\",\"SunShotCoin\",\"Adzcoin\",\"AEON\",\"Nebuchadnezzar\",\"Francs\",\"BolivarCoin\",\"SecretCoin\",\"Clinton\",\"OrlyCoin\",\"16BitCoin\",\"Komodo\",\"GoldBlocks\",\"WayCoin\",\"BitTokens\",\"ZayedCoin\",\"ZoneCoin\",\"Circuits of Value\",\"DopeCoin\",\"PROUD Money\",\"BitCurrency\",\"Swiscoin\",\"Shilling\",\"Opair\",\"GBR Coin\",\"Halloween Coin\",\"CoffeeCoin\",\"Zurcoin\",\"InsaneCoin\",\"KiloCoin\",\"ArtexCoin\",\"FreeCoin\",\"PLNCoin\",\"AquariusCoin\",\"Kurrent\",\"Eurocoin\",\"BitcoinFast\",\"Enigma\",\"Cannabis Industry Coin\",\"Russiacoin\",\"GameUnits\",\"GAKHcoin\",\"Allsafe\",\"LiteCreed\",\"Bikercoins\",\"NeptuneClassic\",\"HexxCoin\",\"GoldenBird\",\"KushCoin\",\"Eryllium\",\"MarxCoin\",\"PacCoin\",\"Solarflarecoin\",\"FirstCoin\",\"BeaverCoin\",\"OpenChat\",\"Canada eCoin\"],\"TotalCoinSupply\":{\"__ndarray__\":\"PxCpVvRWeD9PxPsFWxiiP4NKGGlVyHg/Kwir21OZeD+Uv1afdmB4P5pqJixPzng/O+advE9YeD8/EKlW9FZ4P6Vo1YuVY3g/NBO/n7FieD8/EKlW9FZ4Pz8QqVb0Vng/PxCpVvRWeD8/EKlW9FZ4Pz8QqVb0Vng/payitfvzej/uibtc9FZ4PzNOlIiG2Hg/wkVQmh+LeD+AJSqFKnp4Pz8QqVb0Vng/b+e50P9WeD8/EKlW9FZ4P9AetWsMWHg/PxCpVvRWeD+zKjBCTJunPxZVqwZvWng/PxCpVvRWeD/nJL2oa2OZPx/4i71G+pI/dkvohfhseD+VIGh6e2t4P38hOj3vXHg/PxCpVvRWeD8/EKlW9FZ4PzS4MWY1PXo/OUdgWShYeD9YoXr10IJ4Pz8QqVb0Vng/PxCpVvRWeD92Fr088bR4Pz8QqVb0Vng/w4Sq8YlpeD8/EKlW9FZ4Pww9uFlp9ng/pSqJAB5YeD8/EKlW9FZ4Pz8QqVb0Vng/ZUbauCP6fj/eKGFfiZx4P37rs3Jdt3k/kW5ga1haeD83qHJ7aEF5Pz8QqVb0Vng/BHXDRHNweD932bzX5nF4Pz8QqVb0Vng/PxCpVvRWeD9CDtQEWIx4P/w//qR1q3g/o/seNhQDfz8l/CFHdlh4P8o5X8E5WHg/yPLBqAbcfD8/EKlW9FZ4Pz8QqVb0Vng/PxCpVvRWeD+5C/Q2PsB4P/oIDBw5gHg/PxCpVvRWeD/BJjJrAmvIP4ys/3vVjHg/FytccsGeeD8RT8YmJYB4Pz8QqVb0Vng/tJBJI/aOeD8n4bep7wt6P1tsQK2+53g/TGpXL0f3eD8/EKlW9FZ4P0U859hnmXs/tue05YKbeD8/EKlW9FZ4Pz8QqVb0Vng/PxCpVvRWeD8/EKlW9FZ4Pz8QqVb0Vng/PxCpVvRWeD8CrD9t+pl4Pw07AopsZXg/BW7IwflfeD+5C/Q2PsB4Pz8QqVb0Vng/JFESWTNleD/a1PD4D214PwRn1B7eYXg/6ysoRgJjeD+JSnR20Vp4Pwar2d97oHg/PxCpVvRWeD8/EKlW9FZ4P7rDi1wqcJw/qLgsyjtwkD9RfD/ZbWB4Pz8QqVb0Vng/k6bCUXOGeD8/EKlW9FZ4P751Hh0DbHg/gh8Gbd9deD+m0JukVGV4Pz8QqVb0Vng/PxCpVvRWeD8/EKlW9FZ4Pz8QqVb0Vng/LjOQYPvQeD9IXNNnV2d4Pz8QqVb0Vng//Ado1JRXeD88eqBLh114P1wrjkesWXg//+KWGddzfD/P1ROo+tF4Pz8QqVb0Vng/QV5KvYUJeT9x07mJVRN7P5WC12SpYng/FuawUeekeD8/EKlW9FZ4P9N9PXGhbXk/LbDvSInzeD8/EKlW9FZ4Pz+CB3BEang//V8gQKIleT/XZSdHiLp7P/yNzkaZi3g/aCjspfJoeD+EYTaYiFl4P+3wwYiQl3g/3TbDFAdkeD/bLDjjRGx4PzqlhuzPV3g/z9qL/PtXeD/W6AGAxl94P5FrKnGcWng/6jh6EnJaeD9rTzRJB2J4P8pFiePHdng/ILW5b85geD8/EKlW9FZ4P9ZpXwjuWHg/PxCpVvRWeD8IhTuv6Vx4Pz8QqVb0Vng/PxCpVvRWeD8mRVjSVYx6Pz8QqVb0Vng/eL4umsXKeD9I7HMFPFp4P//ilhnXc3w/mnPTARTAeD8=\",\"dtype\":\"float64\",\"shape\":[160]},\"TotalCoinsMined\":{\"__ndarray__\":\"AAAAAAAAAADZNyEml5LMPgAAAAAAAAAAMQkZQt1KDz71TRnBKmTwPb+lT0nKjiM+9U0ZwSpk8D3Z6xMCkv6uPQuqPyFfoOI9eHb/AWXN7T0PVkcB0BKzPSEGZoGT3NQ9ruAyAaPh0T3KeqOoTHHoPZMrmQGE1/c9AAAAAAAAAABqrysvWXbRPgAAAAAAAAAAMQkZQt1KDz5f8DO9d/EBPjEJGULdSu89kyuZAYTXlz1Rp2Cxd4z0PZMrmQGE16c9z2pskfE7FT6xefOjlBqdPpgKwIFZG8o9CCqiUa1duD36cowSHI+OPlglEVUkpYM+MQkZQt1K7z2TK5kBhNf3PQAAAAAAAAAA+aT+ATDBnT0RahTS7AW/PQAAAAAAAAAAw1UfXh++4D0n480K4+kKPiEGZoGT3NQ9AAAAAAAAAADamH/BC1oWPjEJGULdSv899U0ZwSpk8D2dMBSB3xfwPUk6qAEguCg+nTAUgd8XsD0RRQxCb4wOPpMrmQGE16c9E1XjIccpXD4AAAAAAAAAAF2iGsa0Yi8+l6SBQZB4xj2/pU9Jyo4zPq7gMgGj4eE9jpSP6XZIJz4PVkcB0BIDPguqPyFfoAI+MQkZQt1K7z0AAAAAAAAAAAuqPyFfoBI+cITLv4jGWj54dv8BZc3dPQAAAAAAAAAAC6o/IV+gUj4AAAAAAAAAAAAAAAAAAAAAkyuZAYTXtz0AAAAAAAAAAKOyH9GIwwA+C6o/IV+gAj6OCdWh98bAPo6Uj+l2SDc+8gdQIYOUEz5MvrJB/FQJPpMrmQGE16c9AAAAAAAAAAC/pU9Jyo5TPmTgExzn/R4+eHb/AWXNHT5Z7KUBwJUYPY6Uj+l2SEc+AAAAAAAAAAAAAAAAAAAAAAAAAAAAAAAAMQkZQt1KDz7w9KUhQJb4PQAAAAAAAAAA8PSlIUCW+D0brfLhqA4NPsObpDQjggg+r5kFgvIozj0Lqj8hX6ASPgAMinHs9cY93kJQCfKX8z0xCRlC3UrvPTEJGULdSu89zQEM14OIDj71TRnBKmTwPTEJGULdSg8+u73X2d986z1cXcL2DBbuPfYWrMlqeI8+AAAAAAAAAAAxCRlC3Ur/PR+HwcaFMVo+MQkZQt1KDz62i9YBC2vrPXh2/wFlze09eHb/AWXN7T0Lqj8hX6DyPTEJGULdSu891Fjvmf/cvD0GUcyBdNL6PZMrmQGE1+c9C6o/IV+gIj4Lqj8hX6ACPguqPyFfoBI+MQkZQt1K7z3M9fGB+gPdPTEJGULdSu89EH/fsY7wSz4Lqj8hX6AiPrF586OUGn0+AAAAAAAAAAC7rDUoXAtiPtqYf8ELWvY9YhrZoTCRCz7KtBc9U0wQPmqvKy9ZdlE+Inb/BmDN/T3lxpLxJXgXPtqYf8ELWvY9sXnzo5QafT6OlI/pdkg3PguqPyFfoAI+XMvs8eu2/D0xCRlC3Ur/Pc9qbJHxOyU+eHb/AWXN7T3w9KUhQJb4PXh2/wFlzc09MQkZQt1K7z0GUcyBdNIaPmhzTEEbX+M9Ny5TFX7Dwz3amH/BC1rmPRAE+IFPXg0+C6o/IV+g8j2OlI/pdkgnPnV2/89kzd09TJ9nBWv0ND4abN4hieDbPQuqPyFfoBI+yLVBoeO+Ej4PLHjmnDCyPnh2/wFlze09cqFfcTV9FD72s1cB9AbEPY6Uj+l2SEc+C6o/IV+gEj4=\",\"dtype\":\"float64\",\"shape\":[160]}},\"selected\":{\"id\":\"3766\"},\"selection_policy\":{\"id\":\"3795\"}},\"id\":\"3765\",\"type\":\"ColumnDataSource\"},{\"attributes\":{\"margin\":[5,5,5,5],\"name\":\"HSpacer08166\",\"sizing_mode\":\"stretch_width\"},\"id\":\"3878\",\"type\":\"Spacer\"},{\"attributes\":{\"overlay\":{\"id\":\"3753\"}},\"id\":\"3751\",\"type\":\"BoxZoomTool\"},{\"attributes\":{},\"id\":\"3752\",\"type\":\"ResetTool\"},{\"attributes\":{\"active_drag\":\"auto\",\"active_inspect\":\"auto\",\"active_multi\":null,\"active_scroll\":\"auto\",\"active_tap\":\"auto\",\"tools\":[{\"id\":\"3729\"},{\"id\":\"3748\"},{\"id\":\"3749\"},{\"id\":\"3750\"},{\"id\":\"3751\"},{\"id\":\"3752\"}]},\"id\":\"3754\",\"type\":\"Toolbar\"},{\"attributes\":{},\"id\":\"3761\",\"type\":\"BasicTickFormatter\"},{\"attributes\":{\"callback\":null,\"renderers\":[{\"id\":\"3771\"},{\"id\":\"3787\"}],\"tags\":[\"hv_created\"],\"tooltips\":[[\"Class\",\"@{Class}\"],[\"TotalCoinsMined\",\"@{TotalCoinsMined}\"],[\"TotalCoinSupply\",\"@{TotalCoinSupply}\"],[\"CoinName\",\"@{CoinName}\"]]},\"id\":\"3729\",\"type\":\"HoverTool\"},{\"attributes\":{},\"id\":\"3763\",\"type\":\"BasicTickFormatter\"},{\"attributes\":{\"data_source\":{\"id\":\"3765\"},\"glyph\":{\"id\":\"3768\"},\"hover_glyph\":null,\"muted_glyph\":{\"id\":\"3770\"},\"nonselection_glyph\":{\"id\":\"3769\"},\"selection_glyph\":null,\"view\":{\"id\":\"3772\"}},\"id\":\"3771\",\"type\":\"GlyphRenderer\"},{\"attributes\":{\"click_policy\":\"mute\",\"items\":[{\"id\":\"3780\"},{\"id\":\"3797\"}],\"location\":[0,0],\"title\":\"Class\"},\"id\":\"3779\",\"type\":\"Legend\"},{\"attributes\":{},\"id\":\"3741\",\"type\":\"BasicTicker\"}],\"root_ids\":[\"3725\"]},\"title\":\"Bokeh Application\",\"version\":\"2.0.2\"}};\n",
       "  var render_items = [{\"docid\":\"f4aa84f8-1941-49a4-8f53-7354ecb198cb\",\"root_ids\":[\"3725\"],\"roots\":{\"3725\":\"0870c6a1-37e5-4ceb-8c2c-037ef4fab16b\"}}];\n",
       "  root.Bokeh.embed.embed_items_notebook(docs_json, render_items);\n",
       "  }\n",
       "if (root.Bokeh !== undefined) {\n",
       "    embed_document(root);\n",
       "  } else {\n",
       "    var attempts = 0;\n",
       "    var timer = setInterval(function(root) {\n",
       "      if (root.Bokeh !== undefined) {\n",
       "        clearInterval(timer);\n",
       "        embed_document(root);\n",
       "      } else if (document.readyState == \"complete\") {\n",
       "        attempts++;\n",
       "        if (attempts > 100) {\n",
       "          clearInterval(timer);\n",
       "          console.log(\"Bokeh: ERROR: Unable to run BokehJS code because BokehJS library is missing\");\n",
       "        }\n",
       "      }\n",
       "    }, 10, root)\n",
       "  }\n",
       "})(window);</script>"
      ],
      "text/plain": [
       ":NdOverlay   [Class]\n",
       "   :Scatter   [TotalCoinsMined]   (TotalCoinSupply,CoinName)"
      ]
     },
     "execution_count": 234,
     "metadata": {
      "application/vnd.holoviews_exec.v0+json": {
       "id": "3725"
      }
     },
     "output_type": "execute_result"
    }
   ],
   "source": [
    "# Plot the scatter with x=\"TotalCoinsMined\" and y=\"TotalCoinSupply\"\n",
    "#this one will also be scaled\n",
    "plot_df.hvplot.scatter(x=\"TotalCoinsMined\", y=\"TotalCoinSupply\", hover_cols=[\"CoinName\"], by=\"Class\")\n"
   ]
  },
  {
   "cell_type": "code",
   "execution_count": 238,
   "metadata": {},
   "outputs": [
    {
     "name": "stdout",
     "output_type": "stream",
     "text": [
      " \n"
     ]
    }
   ],
   "source": []
  },
  {
   "cell_type": "code",
   "execution_count": null,
   "metadata": {},
   "outputs": [],
   "source": []
  }
 ],
 "metadata": {
  "file_extension": ".py",
  "kernelspec": {
   "display_name": "Python 3",
   "language": "python",
   "name": "python3"
  },
  "language_info": {
   "codemirror_mode": {
    "name": "ipython",
    "version": 3
   },
   "file_extension": ".py",
   "mimetype": "text/x-python",
   "name": "python",
   "nbconvert_exporter": "python",
   "pygments_lexer": "ipython3",
   "version": "3.8.5"
  },
  "mimetype": "text/x-python",
  "name": "python",
  "npconvert_exporter": "python",
  "pygments_lexer": "ipython3",
  "version": 3
 },
 "nbformat": 4,
 "nbformat_minor": 4
}
